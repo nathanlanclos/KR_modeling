{
 "cells": [
  {
   "cell_type": "markdown",
   "id": "2e28bfab",
   "metadata": {},
   "source": [
    "MLP Trained on Clustercad dataset w/ modified annotations based on mal/mmal presence. \n",
    "MAL -> remove configuration (1/2)\n",
    "MMAL -> no change\n",
    "\n",
    "see annotation_relable.ipynb for implmenetation."
   ]
  },
  {
   "cell_type": "code",
   "execution_count": 211,
   "id": "034f7b7e-3ca9-4f41-adba-3a0d79b0dd18",
   "metadata": {},
   "outputs": [],
   "source": [
    "import pandas as pd\n",
    "import numpy as np \n",
    "from torch.utils.data import TensorDataset, DataLoader\n",
    "from tqdm import tqdm\n",
    "import torch\n",
    "import torch.nn as nn\n",
    "import torch.optim as optim"
   ]
  },
  {
   "cell_type": "code",
   "execution_count": 212,
   "id": "e4c458a6-006f-4360-b751-59d1561a5f35",
   "metadata": {},
   "outputs": [],
   "source": [
    "import torch\n",
    "import random\n",
    "import numpy as np\n",
    "\n",
    "# Set a fixed seed\n",
    "seed = 1\n",
    "random.seed(seed)\n",
    "np.random.seed(seed)\n",
    "torch.manual_seed(seed)\n",
    "torch.cuda.manual_seed(seed)\n",
    "torch.cuda.manual_seed_all(seed)\n",
    "\n",
    "# Ensure deterministic behavior\n",
    "torch.backends.cudnn.deterministic = True\n",
    "torch.backends.cudnn.benchmark = False\n"
   ]
  },
  {
   "cell_type": "code",
   "execution_count": null,
   "id": "430895ae-07d6-42b5-b0fc-6f8a75f8f1e0",
   "metadata": {},
   "outputs": [],
   "source": []
  },
  {
   "cell_type": "code",
   "execution_count": 213,
   "id": "9a49e4cc-60aa-4dd0-adc7-1317a53c3f87",
   "metadata": {},
   "outputs": [],
   "source": [
    "ccad_filtered = pd.read_csv(\"relabled_ccad.csv\")\n",
    "ccad_filtered_embeddings = torch.load(\"relabled_ccad.pt\")\n",
    "ccad_filtered_embeddings = ccad_filtered_embeddings[\"embeddings\"]"
   ]
  },
  {
   "cell_type": "code",
   "execution_count": 214,
   "id": "adb6a63b-6d87-443f-a34f-9ecd46c39a33",
   "metadata": {},
   "outputs": [],
   "source": [
    "ccad_filtered = ccad_filtered.dropna()"
   ]
  },
  {
   "cell_type": "code",
   "execution_count": 215,
   "id": "1ff60077-3104-42b8-88b9-317006ff20d1",
   "metadata": {},
   "outputs": [
    {
     "name": "stdout",
     "output_type": "stream",
     "text": [
      "1157\n",
      "1167\n"
     ]
    }
   ],
   "source": [
    "print(len(ccad_filtered))\n",
    "print(len(ccad_filtered_embeddings))"
   ]
  },
  {
   "cell_type": "code",
   "execution_count": 216,
   "id": "d803bdcb-4284-4eef-b53c-158ed490d1d1",
   "metadata": {},
   "outputs": [],
   "source": [
    "'''\n",
    "to_add = [\"C\",\"C1\", \"C2\", \"B1\", \"B2\", \"A2\"]\n",
    "ccad_filtered = ccad_filtered[ccad_filtered[\"kr_type_annotation\"].isin(to_add)]\n",
    "'''\n",
    "\n",
    "to_add = [\"C\",\"C2\",\"C1\",\"B\", \"B2\",\"A\",\"A1\", \"A2\",\"B1\"]\n",
    "ccad_filtered = ccad_filtered[ccad_filtered[\"kr_type_annotation\"].isin(to_add)]"
   ]
  },
  {
   "cell_type": "code",
   "execution_count": 217,
   "id": "004c8800-a3cf-4dbe-9cb7-3d82e379c203",
   "metadata": {},
   "outputs": [
    {
     "data": {
      "text/plain": [
       "array(['B1', 'C1', 'B', 'A', 'A2', 'A1', 'C', 'B2', 'C2'], dtype=object)"
      ]
     },
     "execution_count": 217,
     "metadata": {},
     "output_type": "execute_result"
    }
   ],
   "source": [
    "ccad_filtered[\"new_kr\"].unique()"
   ]
  },
  {
   "cell_type": "code",
   "execution_count": 218,
   "id": "007dde3e-38f6-4695-b261-5f2f83e481d8",
   "metadata": {},
   "outputs": [
    {
     "data": {
      "text/html": [
       "<div>\n",
       "<style scoped>\n",
       "    .dataframe tbody tr th:only-of-type {\n",
       "        vertical-align: middle;\n",
       "    }\n",
       "\n",
       "    .dataframe tbody tr th {\n",
       "        vertical-align: top;\n",
       "    }\n",
       "\n",
       "    .dataframe thead th {\n",
       "        text-align: right;\n",
       "    }\n",
       "</style>\n",
       "<table border=\"1\" class=\"dataframe\">\n",
       "  <thead>\n",
       "    <tr style=\"text-align: right;\">\n",
       "      <th></th>\n",
       "      <th>Unnamed: 0</th>\n",
       "      <th>index</th>\n",
       "      <th>genbank_accession</th>\n",
       "      <th>mibig_accession</th>\n",
       "      <th>kr_type_annotation</th>\n",
       "      <th>kr_sequence</th>\n",
       "      <th>subunit_name</th>\n",
       "      <th>module_number</th>\n",
       "      <th>length_aa_residues</th>\n",
       "      <th>substrate_annotation</th>\n",
       "      <th>intermediate_smiles</th>\n",
       "      <th>name_in_fasta</th>\n",
       "      <th>protein_sequence</th>\n",
       "      <th>dna_sequence</th>\n",
       "      <th>substrate_type</th>\n",
       "      <th>new_kr</th>\n",
       "      <th>new_st</th>\n",
       "    </tr>\n",
       "  </thead>\n",
       "  <tbody>\n",
       "    <tr>\n",
       "      <th>3</th>\n",
       "      <td>3</td>\n",
       "      <td>3</td>\n",
       "      <td>KX458106.1</td>\n",
       "      <td>BGC0001690.1</td>\n",
       "      <td>A1</td>\n",
       "      <td>GTVLITGGTGALGAEAARWLARSGAEHLLLTSRRGPEAPGAAELAA...</td>\n",
       "      <td>SgnS2</td>\n",
       "      <td>7</td>\n",
       "      <td>1522</td>\n",
       "      <td>substrate mal, non-loading</td>\n",
       "      <td>CC(=O)C[C@@H](O)CC=[C]C=[C]C=[C]C=[C][C@H](O)C...</td>\n",
       "      <td>BGC0001690.1_SgnS2_mod7</td>\n",
       "      <td>IVIVGMSCRYPGGVASPEDLWRLVSEGTDAISGLPTDRGWDLDALY...</td>\n",
       "      <td>ATCGTCATCGTCGGCATGAGCTGCCGCTACCCGGGCGGCGTCGCCT...</td>\n",
       "      <td>mal</td>\n",
       "      <td>A</td>\n",
       "      <td>mal</td>\n",
       "    </tr>\n",
       "    <tr>\n",
       "      <th>7</th>\n",
       "      <td>7</td>\n",
       "      <td>7</td>\n",
       "      <td>KX263301.1</td>\n",
       "      <td>BGC0001670.1</td>\n",
       "      <td>A1</td>\n",
       "      <td>GTTLITGGTGGIGAVLARWLARAGAPHLLLTSRRGPDAPGAQELAA...</td>\n",
       "      <td>monAVIII</td>\n",
       "      <td>11</td>\n",
       "      <td>1525</td>\n",
       "      <td>substrate mal, non-loading</td>\n",
       "      <td>CCC([CH][CH]C=C(C)[CH][CH]C(=O)C[C@H](O)[C@@H]...</td>\n",
       "      <td>BGC0001670.1_monAVIII_mod11</td>\n",
       "      <td>VAIVGMACRYPGGARSAEDLWELVRDGGDAVAGFPDDRGWDLESLY...</td>\n",
       "      <td>CTGTCCGCTCGCGCCGTCCCTGCCGAGGTCCCGGTCGATGAACGCG...</td>\n",
       "      <td>mal</td>\n",
       "      <td>A</td>\n",
       "      <td>mal</td>\n",
       "    </tr>\n",
       "    <tr>\n",
       "      <th>34</th>\n",
       "      <td>34</td>\n",
       "      <td>35</td>\n",
       "      <td>FM173265.1</td>\n",
       "      <td>BGC0000087.1</td>\n",
       "      <td>A2</td>\n",
       "      <td>GTVLVTGGTGGVGGRVARWLATSGAEHLLLVSRSGPEAPGAAELEA...</td>\n",
       "      <td>lasAII</td>\n",
       "      <td>5</td>\n",
       "      <td>1515</td>\n",
       "      <td>substrate emal, non-loading</td>\n",
       "      <td>CC=C([CH][CH]C=C([CH][C@H](C)[C@H](O)[C@H](CC)...</td>\n",
       "      <td>BGC0000087.1_lasAII_mod5</td>\n",
       "      <td>AIVSMACRFPGGIESPDDLWQYVVQGRDAVSDFPVDRGWDLERLYD...</td>\n",
       "      <td>GCCATCGTCAGCATGGCCTGCCGCTTCCCCGGCGGCATCGAGTCGC...</td>\n",
       "      <td>mal</td>\n",
       "      <td>A</td>\n",
       "      <td>mal</td>\n",
       "    </tr>\n",
       "    <tr>\n",
       "      <th>39</th>\n",
       "      <td>39</td>\n",
       "      <td>41</td>\n",
       "      <td>AB818354.1</td>\n",
       "      <td>BGC0000042.1</td>\n",
       "      <td>A1</td>\n",
       "      <td>GTVLITGGTGALGGHVARRLARNGAGHLVLTGRRGLGAPGAADLRD...</td>\n",
       "      <td>cmiP5</td>\n",
       "      <td>3</td>\n",
       "      <td>1537</td>\n",
       "      <td>substrate mal, non-loading</td>\n",
       "      <td>CCCCCCC(N)CC(=O)C[CH][CH][C@H](O)CC(=O)[S]</td>\n",
       "      <td>BGC0000042.1_cmiP5_mod3</td>\n",
       "      <td>IAIVGMACRFPGGVTSPEDLWQLVADGVDAVSSFPADRGWDVERLY...</td>\n",
       "      <td>CACCAGGACGTCGAGGCGTGCGCCGATCCTGGCCGTCCCGCCGGGT...</td>\n",
       "      <td>mal</td>\n",
       "      <td>A</td>\n",
       "      <td>mal</td>\n",
       "    </tr>\n",
       "    <tr>\n",
       "      <th>42</th>\n",
       "      <td>42</td>\n",
       "      <td>44</td>\n",
       "      <td>AB818354.1</td>\n",
       "      <td>BGC0000042.1</td>\n",
       "      <td>A1</td>\n",
       "      <td>GTTLVTGGTGGVGAETARLLARAGADHLLLTGRRGRAAPGMAELDD...</td>\n",
       "      <td>cmiP8</td>\n",
       "      <td>5</td>\n",
       "      <td>1503</td>\n",
       "      <td>substrate mal, non-loading</td>\n",
       "      <td>CCCCCCC(N)CC(=O)C[CH][CH][C@H](O)CC(=O)CC(=O)C...</td>\n",
       "      <td>BGC0000042.1_cmiP8_mod5</td>\n",
       "      <td>IAIVAVGCRFPGGVRTPEDLWELVASGKDATTGFPENRGWDIGGIY...</td>\n",
       "      <td>CCGGGCGACCAGGGTCCGGAGGCGATCGACGATGCGGTGCTCCCGC...</td>\n",
       "      <td>mal</td>\n",
       "      <td>A</td>\n",
       "      <td>mal</td>\n",
       "    </tr>\n",
       "    <tr>\n",
       "      <th>...</th>\n",
       "      <td>...</td>\n",
       "      <td>...</td>\n",
       "      <td>...</td>\n",
       "      <td>...</td>\n",
       "      <td>...</td>\n",
       "      <td>...</td>\n",
       "      <td>...</td>\n",
       "      <td>...</td>\n",
       "      <td>...</td>\n",
       "      <td>...</td>\n",
       "      <td>...</td>\n",
       "      <td>...</td>\n",
       "      <td>...</td>\n",
       "      <td>...</td>\n",
       "      <td>...</td>\n",
       "      <td>...</td>\n",
       "      <td>...</td>\n",
       "    </tr>\n",
       "    <tr>\n",
       "      <th>1090</th>\n",
       "      <td>1091</td>\n",
       "      <td>1106</td>\n",
       "      <td>DQ983361.1</td>\n",
       "      <td>BGC0000158.1</td>\n",
       "      <td>A1</td>\n",
       "      <td>GTALITGGTGGLGAHVARWITERGAEHVVLVSRRGPDADGADLLRL...</td>\n",
       "      <td>ttnB</td>\n",
       "      <td>9</td>\n",
       "      <td>1771</td>\n",
       "      <td>substrate mal, non-loading</td>\n",
       "      <td>CCC(=C[CH][CH][C@@H](C)[CH][C@@H](C)[CH]C[C@H]...</td>\n",
       "      <td>BGC0000158.1_ttnB_mod9</td>\n",
       "      <td>VVIVGMACRFPGGVMNPDDLWQLVADEADGVAPFPTDRGWDLGRLL...</td>\n",
       "      <td>CGAGCCGAGCAGGCCGTCCTCGATGATGCCCGCGGTGTGCACGACG...</td>\n",
       "      <td>mal</td>\n",
       "      <td>A</td>\n",
       "      <td>mal</td>\n",
       "    </tr>\n",
       "    <tr>\n",
       "      <th>1114</th>\n",
       "      <td>1115</td>\n",
       "      <td>1130</td>\n",
       "      <td>AY652953.1</td>\n",
       "      <td>BGC0000976.1</td>\n",
       "      <td>A1</td>\n",
       "      <td>GSYLITGGLGYLGLKVADWLVKQGVRHLILLSRSGLTKETQPAVEA...</td>\n",
       "      <td>CurG</td>\n",
       "      <td>4</td>\n",
       "      <td>1519</td>\n",
       "      <td>substrate mal, non-loading</td>\n",
       "      <td>CC(=O)CC1=N[C@H]([C@H](O)CC(=O)[S])CS1</td>\n",
       "      <td>BGC0000976.1_CurG_mod4</td>\n",
       "      <td>IAIIGISGRYSGADDIEQFWQNVRDGVESICLFSEQELLNSGIEQE...</td>\n",
       "      <td>TTCAAGCTCTTGATTGGATGATTGCTTAATCTCGTCTAGAAGTTTA...</td>\n",
       "      <td>mal</td>\n",
       "      <td>A</td>\n",
       "      <td>mal</td>\n",
       "    </tr>\n",
       "    <tr>\n",
       "      <th>1140</th>\n",
       "      <td>1141</td>\n",
       "      <td>1156</td>\n",
       "      <td>AY310323.2</td>\n",
       "      <td>BGC0000034.1</td>\n",
       "      <td>A1</td>\n",
       "      <td>GTVLVTGGTGGLGAEAARWLARSGAAHLVLTGRRGPDAPGAAELRA...</td>\n",
       "      <td>fscD</td>\n",
       "      <td>12</td>\n",
       "      <td>1538</td>\n",
       "      <td>substrate mal, non-loading</td>\n",
       "      <td>C[C@@H]([CH][C@H](C)[C@@H](O)[C@@H](C)C=[C]C=[...</td>\n",
       "      <td>BGC0000034.1_fscD_mod12</td>\n",
       "      <td>IVIVGMSCRYPGGVGSPDDLWRLVTEGTDAIGGLPVNRGWDLDSLY...</td>\n",
       "      <td>GTTGGCGGCGGCCTCGCCGATCGCGGGGGCGAGGGCGTCGAGCGCG...</td>\n",
       "      <td>mal</td>\n",
       "      <td>A</td>\n",
       "      <td>mal</td>\n",
       "    </tr>\n",
       "    <tr>\n",
       "      <th>1153</th>\n",
       "      <td>1154</td>\n",
       "      <td>1169</td>\n",
       "      <td>AY310323.2</td>\n",
       "      <td>BGC0000034.1</td>\n",
       "      <td>A2</td>\n",
       "      <td>GTVLVTGGTGTLGPHLARWLADQGARDLVLTSRRGADAPGAAELAA...</td>\n",
       "      <td>fscD</td>\n",
       "      <td>13</td>\n",
       "      <td>1507</td>\n",
       "      <td>substrate mal, non-loading</td>\n",
       "      <td>C[C@@H]([CH][C@H](C)[C@@H](O)[C@@H](C)C=[C]C=[...</td>\n",
       "      <td>BGC0000034.1_fscD_mod13</td>\n",
       "      <td>IAIIGMSCRFPGGARSADAFWQLVADNTDAISEFPVNRGWDGDALY...</td>\n",
       "      <td>GGCGAGGGCGTCGAGGTAGGCGTTGGCGGCGGCGTAGTTGGCCTGG...</td>\n",
       "      <td>mal</td>\n",
       "      <td>A</td>\n",
       "      <td>mal</td>\n",
       "    </tr>\n",
       "    <tr>\n",
       "      <th>1157</th>\n",
       "      <td>1158</td>\n",
       "      <td>1173</td>\n",
       "      <td>LC326402.1</td>\n",
       "      <td>BGC0001495.1</td>\n",
       "      <td>A1</td>\n",
       "      <td>GTVLVTGGSGGIGRHVATWLAASGAERLVLLSRRAQDAGWHRELGV...</td>\n",
       "      <td>aalA2</td>\n",
       "      <td>6</td>\n",
       "      <td>1383</td>\n",
       "      <td>substrate mal, non-loading</td>\n",
       "      <td>CCC(=O)[C@@H](C)[C@H](O)[C@@H](C)C=C(C)[CH][C@...</td>\n",
       "      <td>BGC0001495.1_aalA2_mod6</td>\n",
       "      <td>IAIVSMACRFPGGVRTPEQLWDLVASGTDAITEFPRDRGWDVDGIH...</td>\n",
       "      <td>ATCGCGATCGTGTCGATGGCCTGCCGGTTCCCCGGCGGCGTCCGCA...</td>\n",
       "      <td>mal</td>\n",
       "      <td>A</td>\n",
       "      <td>mal</td>\n",
       "    </tr>\n",
       "  </tbody>\n",
       "</table>\n",
       "<p>131 rows × 17 columns</p>\n",
       "</div>"
      ],
      "text/plain": [
       "      Unnamed: 0  index genbank_accession mibig_accession kr_type_annotation  \\\n",
       "3              3      3        KX458106.1    BGC0001690.1                 A1   \n",
       "7              7      7        KX263301.1    BGC0001670.1                 A1   \n",
       "34            34     35        FM173265.1    BGC0000087.1                 A2   \n",
       "39            39     41        AB818354.1    BGC0000042.1                 A1   \n",
       "42            42     44        AB818354.1    BGC0000042.1                 A1   \n",
       "...          ...    ...               ...             ...                ...   \n",
       "1090        1091   1106        DQ983361.1    BGC0000158.1                 A1   \n",
       "1114        1115   1130        AY652953.1    BGC0000976.1                 A1   \n",
       "1140        1141   1156        AY310323.2    BGC0000034.1                 A1   \n",
       "1153        1154   1169        AY310323.2    BGC0000034.1                 A2   \n",
       "1157        1158   1173        LC326402.1    BGC0001495.1                 A1   \n",
       "\n",
       "                                            kr_sequence subunit_name  \\\n",
       "3     GTVLITGGTGALGAEAARWLARSGAEHLLLTSRRGPEAPGAAELAA...        SgnS2   \n",
       "7     GTTLITGGTGGIGAVLARWLARAGAPHLLLTSRRGPDAPGAQELAA...     monAVIII   \n",
       "34    GTVLVTGGTGGVGGRVARWLATSGAEHLLLVSRSGPEAPGAAELEA...       lasAII   \n",
       "39    GTVLITGGTGALGGHVARRLARNGAGHLVLTGRRGLGAPGAADLRD...        cmiP5   \n",
       "42    GTTLVTGGTGGVGAETARLLARAGADHLLLTGRRGRAAPGMAELDD...        cmiP8   \n",
       "...                                                 ...          ...   \n",
       "1090  GTALITGGTGGLGAHVARWITERGAEHVVLVSRRGPDADGADLLRL...         ttnB   \n",
       "1114  GSYLITGGLGYLGLKVADWLVKQGVRHLILLSRSGLTKETQPAVEA...         CurG   \n",
       "1140  GTVLVTGGTGGLGAEAARWLARSGAAHLVLTGRRGPDAPGAAELRA...         fscD   \n",
       "1153  GTVLVTGGTGTLGPHLARWLADQGARDLVLTSRRGADAPGAAELAA...         fscD   \n",
       "1157  GTVLVTGGSGGIGRHVATWLAASGAERLVLLSRRAQDAGWHRELGV...        aalA2   \n",
       "\n",
       "      module_number  length_aa_residues         substrate_annotation  \\\n",
       "3                 7                1522   substrate mal, non-loading   \n",
       "7                11                1525   substrate mal, non-loading   \n",
       "34                5                1515  substrate emal, non-loading   \n",
       "39                3                1537   substrate mal, non-loading   \n",
       "42                5                1503   substrate mal, non-loading   \n",
       "...             ...                 ...                          ...   \n",
       "1090              9                1771   substrate mal, non-loading   \n",
       "1114              4                1519   substrate mal, non-loading   \n",
       "1140             12                1538   substrate mal, non-loading   \n",
       "1153             13                1507   substrate mal, non-loading   \n",
       "1157              6                1383   substrate mal, non-loading   \n",
       "\n",
       "                                    intermediate_smiles  \\\n",
       "3     CC(=O)C[C@@H](O)CC=[C]C=[C]C=[C]C=[C][C@H](O)C...   \n",
       "7     CCC([CH][CH]C=C(C)[CH][CH]C(=O)C[C@H](O)[C@@H]...   \n",
       "34    CC=C([CH][CH]C=C([CH][C@H](C)[C@H](O)[C@H](CC)...   \n",
       "39           CCCCCCC(N)CC(=O)C[CH][CH][C@H](O)CC(=O)[S]   \n",
       "42    CCCCCCC(N)CC(=O)C[CH][CH][C@H](O)CC(=O)CC(=O)C...   \n",
       "...                                                 ...   \n",
       "1090  CCC(=C[CH][CH][C@@H](C)[CH][C@@H](C)[CH]C[C@H]...   \n",
       "1114             CC(=O)CC1=N[C@H]([C@H](O)CC(=O)[S])CS1   \n",
       "1140  C[C@@H]([CH][C@H](C)[C@@H](O)[C@@H](C)C=[C]C=[...   \n",
       "1153  C[C@@H]([CH][C@H](C)[C@@H](O)[C@@H](C)C=[C]C=[...   \n",
       "1157  CCC(=O)[C@@H](C)[C@H](O)[C@@H](C)C=C(C)[CH][C@...   \n",
       "\n",
       "                    name_in_fasta  \\\n",
       "3         BGC0001690.1_SgnS2_mod7   \n",
       "7     BGC0001670.1_monAVIII_mod11   \n",
       "34       BGC0000087.1_lasAII_mod5   \n",
       "39        BGC0000042.1_cmiP5_mod3   \n",
       "42        BGC0000042.1_cmiP8_mod5   \n",
       "...                           ...   \n",
       "1090       BGC0000158.1_ttnB_mod9   \n",
       "1114       BGC0000976.1_CurG_mod4   \n",
       "1140      BGC0000034.1_fscD_mod12   \n",
       "1153      BGC0000034.1_fscD_mod13   \n",
       "1157      BGC0001495.1_aalA2_mod6   \n",
       "\n",
       "                                       protein_sequence  \\\n",
       "3     IVIVGMSCRYPGGVASPEDLWRLVSEGTDAISGLPTDRGWDLDALY...   \n",
       "7     VAIVGMACRYPGGARSAEDLWELVRDGGDAVAGFPDDRGWDLESLY...   \n",
       "34    AIVSMACRFPGGIESPDDLWQYVVQGRDAVSDFPVDRGWDLERLYD...   \n",
       "39    IAIVGMACRFPGGVTSPEDLWQLVADGVDAVSSFPADRGWDVERLY...   \n",
       "42    IAIVAVGCRFPGGVRTPEDLWELVASGKDATTGFPENRGWDIGGIY...   \n",
       "...                                                 ...   \n",
       "1090  VVIVGMACRFPGGVMNPDDLWQLVADEADGVAPFPTDRGWDLGRLL...   \n",
       "1114  IAIIGISGRYSGADDIEQFWQNVRDGVESICLFSEQELLNSGIEQE...   \n",
       "1140  IVIVGMSCRYPGGVGSPDDLWRLVTEGTDAIGGLPVNRGWDLDSLY...   \n",
       "1153  IAIIGMSCRFPGGARSADAFWQLVADNTDAISEFPVNRGWDGDALY...   \n",
       "1157  IAIVSMACRFPGGVRTPEQLWDLVASGTDAITEFPRDRGWDVDGIH...   \n",
       "\n",
       "                                           dna_sequence substrate_type new_kr  \\\n",
       "3     ATCGTCATCGTCGGCATGAGCTGCCGCTACCCGGGCGGCGTCGCCT...            mal      A   \n",
       "7     CTGTCCGCTCGCGCCGTCCCTGCCGAGGTCCCGGTCGATGAACGCG...            mal      A   \n",
       "34    GCCATCGTCAGCATGGCCTGCCGCTTCCCCGGCGGCATCGAGTCGC...            mal      A   \n",
       "39    CACCAGGACGTCGAGGCGTGCGCCGATCCTGGCCGTCCCGCCGGGT...            mal      A   \n",
       "42    CCGGGCGACCAGGGTCCGGAGGCGATCGACGATGCGGTGCTCCCGC...            mal      A   \n",
       "...                                                 ...            ...    ...   \n",
       "1090  CGAGCCGAGCAGGCCGTCCTCGATGATGCCCGCGGTGTGCACGACG...            mal      A   \n",
       "1114  TTCAAGCTCTTGATTGGATGATTGCTTAATCTCGTCTAGAAGTTTA...            mal      A   \n",
       "1140  GTTGGCGGCGGCCTCGCCGATCGCGGGGGCGAGGGCGTCGAGCGCG...            mal      A   \n",
       "1153  GGCGAGGGCGTCGAGGTAGGCGTTGGCGGCGGCGTAGTTGGCCTGG...            mal      A   \n",
       "1157  ATCGCGATCGTGTCGATGGCCTGCCGGTTCCCCGGCGGCGTCCGCA...            mal      A   \n",
       "\n",
       "     new_st  \n",
       "3       mal  \n",
       "7       mal  \n",
       "34      mal  \n",
       "39      mal  \n",
       "42      mal  \n",
       "...     ...  \n",
       "1090    mal  \n",
       "1114    mal  \n",
       "1140    mal  \n",
       "1153    mal  \n",
       "1157    mal  \n",
       "\n",
       "[131 rows x 17 columns]"
      ]
     },
     "execution_count": 218,
     "metadata": {},
     "output_type": "execute_result"
    }
   ],
   "source": [
    "ccad_filtered[ccad_filtered[\"new_kr\"] == \"A\"]"
   ]
  },
  {
   "cell_type": "code",
   "execution_count": 219,
   "id": "1ae9158d-889c-4b50-b28b-615d4827ad5b",
   "metadata": {},
   "outputs": [
    {
     "data": {
      "text/html": [
       "<div>\n",
       "<style scoped>\n",
       "    .dataframe tbody tr th:only-of-type {\n",
       "        vertical-align: middle;\n",
       "    }\n",
       "\n",
       "    .dataframe tbody tr th {\n",
       "        vertical-align: top;\n",
       "    }\n",
       "\n",
       "    .dataframe thead th {\n",
       "        text-align: right;\n",
       "    }\n",
       "</style>\n",
       "<table border=\"1\" class=\"dataframe\">\n",
       "  <thead>\n",
       "    <tr style=\"text-align: right;\">\n",
       "      <th></th>\n",
       "      <th>Unnamed: 0</th>\n",
       "      <th>index</th>\n",
       "      <th>genbank_accession</th>\n",
       "      <th>mibig_accession</th>\n",
       "      <th>kr_type_annotation</th>\n",
       "      <th>kr_sequence</th>\n",
       "      <th>subunit_name</th>\n",
       "      <th>module_number</th>\n",
       "      <th>length_aa_residues</th>\n",
       "      <th>substrate_annotation</th>\n",
       "      <th>intermediate_smiles</th>\n",
       "      <th>name_in_fasta</th>\n",
       "      <th>protein_sequence</th>\n",
       "      <th>dna_sequence</th>\n",
       "      <th>substrate_type</th>\n",
       "      <th>new_kr</th>\n",
       "      <th>new_st</th>\n",
       "    </tr>\n",
       "  </thead>\n",
       "  <tbody>\n",
       "    <tr>\n",
       "      <th>0</th>\n",
       "      <td>0</td>\n",
       "      <td>0</td>\n",
       "      <td>KX263301.1</td>\n",
       "      <td>BGC0001670.1</td>\n",
       "      <td>B1</td>\n",
       "      <td>GTVLIAGGTGMMGGLVAEHLVRAWSVRHLLLVSRQGPDAPDARDLA...</td>\n",
       "      <td>monAV</td>\n",
       "      <td>7</td>\n",
       "      <td>1801</td>\n",
       "      <td>substrate mmal, non-loading</td>\n",
       "      <td>CCC([CH][CH]C=C(C)C(=O)[S])=C[C@@H](C)[CH][C]=...</td>\n",
       "      <td>BGC0001670.1_monAV_mod7</td>\n",
       "      <td>VAVVGMACRFPGGIETPEGLWELVAAGDDAIEPFPTDRGWDLEGIY...</td>\n",
       "      <td>GTGGCCGTCGTCGGCATGGCCTGCCGTTTCCCCGGCGGCATCGAGA...</td>\n",
       "      <td>mmal</td>\n",
       "      <td>B1</td>\n",
       "      <td>mmal</td>\n",
       "    </tr>\n",
       "    <tr>\n",
       "      <th>1</th>\n",
       "      <td>1</td>\n",
       "      <td>1</td>\n",
       "      <td>KX263301.1</td>\n",
       "      <td>BGC0001670.1</td>\n",
       "      <td>C1</td>\n",
       "      <td>GTVLITGPAGAPVADLAEHLVRTGQCRHLLLLPGDGELEEMAEELR...</td>\n",
       "      <td>monAI</td>\n",
       "      <td>1</td>\n",
       "      <td>1811</td>\n",
       "      <td>substrate mmal, non-loading</td>\n",
       "      <td>CC(=O)[C@@H](C)C(=O)[S]</td>\n",
       "      <td>BGC0001670.1_monAI_mod1</td>\n",
       "      <td>VAIVAMSCRYPGGAGTPEDLWRLVADGADAIGDFPTDRGWDLARLF...</td>\n",
       "      <td>GTCGCCATCGTGGCCATGAGCTGCCGCTATCCCGGCGGCGCAGGCA...</td>\n",
       "      <td>mmal</td>\n",
       "      <td>C1</td>\n",
       "      <td>mmal</td>\n",
       "    </tr>\n",
       "    <tr>\n",
       "      <th>2</th>\n",
       "      <td>2</td>\n",
       "      <td>2</td>\n",
       "      <td>KX458106.1</td>\n",
       "      <td>BGC0001690.1</td>\n",
       "      <td>B1</td>\n",
       "      <td>GTVLVTGGTGGLGRVMARHLVVEHGVRNLLLVSRRGPAAEGAEELV...</td>\n",
       "      <td>SgnS1</td>\n",
       "      <td>3</td>\n",
       "      <td>1720</td>\n",
       "      <td>substrate mal, non-loading</td>\n",
       "      <td>CC(=O)C[C@@H](O)CC=[C]C(=O)[S]</td>\n",
       "      <td>BGC0001690.1_SgnS1_mod3</td>\n",
       "      <td>VAIIGMACRFPGGVHSPEALWRLLAEGGDAITPMPADRGWDLDRLY...</td>\n",
       "      <td>GTGGCGATCATCGGCATGGCCTGCCGCTTCCCCGGCGGCGTGCACT...</td>\n",
       "      <td>mal</td>\n",
       "      <td>B</td>\n",
       "      <td>mal</td>\n",
       "    </tr>\n",
       "    <tr>\n",
       "      <th>3</th>\n",
       "      <td>3</td>\n",
       "      <td>3</td>\n",
       "      <td>KX458106.1</td>\n",
       "      <td>BGC0001690.1</td>\n",
       "      <td>A1</td>\n",
       "      <td>GTVLITGGTGALGAEAARWLARSGAEHLLLTSRRGPEAPGAAELAA...</td>\n",
       "      <td>SgnS2</td>\n",
       "      <td>7</td>\n",
       "      <td>1522</td>\n",
       "      <td>substrate mal, non-loading</td>\n",
       "      <td>CC(=O)C[C@@H](O)CC=[C]C=[C]C=[C]C=[C][C@H](O)C...</td>\n",
       "      <td>BGC0001690.1_SgnS2_mod7</td>\n",
       "      <td>IVIVGMSCRYPGGVASPEDLWRLVSEGTDAISGLPTDRGWDLDALY...</td>\n",
       "      <td>ATCGTCATCGTCGGCATGAGCTGCCGCTACCCGGGCGGCGTCGCCT...</td>\n",
       "      <td>mal</td>\n",
       "      <td>A</td>\n",
       "      <td>mal</td>\n",
       "    </tr>\n",
       "    <tr>\n",
       "      <th>4</th>\n",
       "      <td>4</td>\n",
       "      <td>4</td>\n",
       "      <td>KX263301.1</td>\n",
       "      <td>BGC0001670.1</td>\n",
       "      <td>B1</td>\n",
       "      <td>GTVLITGGTGVLAAAVAEHLVREWGVRHLLLAGRRGSEAPGSSELA...</td>\n",
       "      <td>monAIII</td>\n",
       "      <td>4</td>\n",
       "      <td>2068</td>\n",
       "      <td>substrate mmal, non-loading</td>\n",
       "      <td>CC(=O)[C@@H](C)[CH][C@H](C)C=[C][CH][C@H](C)C(...</td>\n",
       "      <td>BGC0001670.1_monAIII_mod4</td>\n",
       "      <td>IAIVGMACRYPGGVTSPEQLWQLVATGTDAIGPFPEDRGWDTAGLF...</td>\n",
       "      <td>ATCGCCATCGTCGGCATGGCGTGCCGCTACCCGGGCGGCGTGACCT...</td>\n",
       "      <td>mmal</td>\n",
       "      <td>B1</td>\n",
       "      <td>mmal</td>\n",
       "    </tr>\n",
       "    <tr>\n",
       "      <th>...</th>\n",
       "      <td>...</td>\n",
       "      <td>...</td>\n",
       "      <td>...</td>\n",
       "      <td>...</td>\n",
       "      <td>...</td>\n",
       "      <td>...</td>\n",
       "      <td>...</td>\n",
       "      <td>...</td>\n",
       "      <td>...</td>\n",
       "      <td>...</td>\n",
       "      <td>...</td>\n",
       "      <td>...</td>\n",
       "      <td>...</td>\n",
       "      <td>...</td>\n",
       "      <td>...</td>\n",
       "      <td>...</td>\n",
       "      <td>...</td>\n",
       "    </tr>\n",
       "    <tr>\n",
       "      <th>1162</th>\n",
       "      <td>1163</td>\n",
       "      <td>1179</td>\n",
       "      <td>CP004025.1</td>\n",
       "      <td>BGC0001394.1</td>\n",
       "      <td>A1</td>\n",
       "      <td>ATYLVTGGLGGLGLKVARWLVEQGARHLVLVGRRALTAGGEESKRR...</td>\n",
       "      <td>polyketidesynthase_3</td>\n",
       "      <td>3</td>\n",
       "      <td>1763</td>\n",
       "      <td>substrate mmal, non-loading</td>\n",
       "      <td>CC(=C[C@@H](C)[CH]Cc1ccccc1)C=C(C)C(=O)[S]</td>\n",
       "      <td>BGC0001394.1_polyketidesynthase_3_mod3</td>\n",
       "      <td>VALIGMACRFPGGASDPESFWHVLRDGVDAVTEVPSSRWTQEEAAR...</td>\n",
       "      <td>TGCCTGCGCGCGCGGCGGCGGTGCTGCGTCGCCCGGCAGCGGTATC...</td>\n",
       "      <td>mmal</td>\n",
       "      <td>A1</td>\n",
       "      <td>mmal</td>\n",
       "    </tr>\n",
       "    <tr>\n",
       "      <th>1163</th>\n",
       "      <td>1164</td>\n",
       "      <td>1180</td>\n",
       "      <td>CP000667.1</td>\n",
       "      <td>BGC0000142.1</td>\n",
       "      <td>B1</td>\n",
       "      <td>GTVLVTGGTGVLGALVARHLVVGHGVRELVLASRRGLAAPGAVELR...</td>\n",
       "      <td>beta-ketoacylsynthase</td>\n",
       "      <td>2</td>\n",
       "      <td>1711</td>\n",
       "      <td>substrate mal, non-loading</td>\n",
       "      <td>CC(N)CC=[C]C=[C]C(=O)[S]</td>\n",
       "      <td>BGC0000142.1_beta-ketoacylsynthase_mod2</td>\n",
       "      <td>IAIVAMGCRFPGGVRSPEDLWELLEGGVDAVSGFPTDRGWDLVGMY...</td>\n",
       "      <td>CGCGACAGCAGCCCGGACCAGATCAAGCAGCATCCGATGCTGCTCC...</td>\n",
       "      <td>mal</td>\n",
       "      <td>B</td>\n",
       "      <td>mal</td>\n",
       "    </tr>\n",
       "    <tr>\n",
       "      <th>1164</th>\n",
       "      <td>1165</td>\n",
       "      <td>1181</td>\n",
       "      <td>CP000667.1</td>\n",
       "      <td>BGC0000142.1</td>\n",
       "      <td>B1</td>\n",
       "      <td>GTVLVTGGTGVLGALVARHLVVGHGVRELVLASRRGLAAPGAVELR...</td>\n",
       "      <td>beta-ketoacylsynthase</td>\n",
       "      <td>2</td>\n",
       "      <td>1711</td>\n",
       "      <td>substrate mal, non-loading</td>\n",
       "      <td>CC(N)CC=[C]C=[C]C(=O)[S]</td>\n",
       "      <td>BGC0000142.1_beta-ketoacylsynthase_mod2</td>\n",
       "      <td>IAIVAMGCRFPGGVRSPEDLWELLEGGVDAVSGFPTDRGWDLVGMY...</td>\n",
       "      <td>CGCGACAGCAGCCCGGACCAGATCAAGCAGCATCCGATGCTGCTCC...</td>\n",
       "      <td>mal</td>\n",
       "      <td>B</td>\n",
       "      <td>mal</td>\n",
       "    </tr>\n",
       "    <tr>\n",
       "      <th>1165</th>\n",
       "      <td>1166</td>\n",
       "      <td>1182</td>\n",
       "      <td>CP000667.1</td>\n",
       "      <td>BGC0000142.1</td>\n",
       "      <td>B1</td>\n",
       "      <td>GTVLVTGGTGGLGRLVAEHLITRHGVRRLLLASRRGPAAPGVDELV...</td>\n",
       "      <td>beta-ketoacylsynthase</td>\n",
       "      <td>4</td>\n",
       "      <td>1746</td>\n",
       "      <td>substrate mal, non-loading</td>\n",
       "      <td>CC(C=[C]C(=O)[S])=C[C]=C[C]=CCC(C)N</td>\n",
       "      <td>BGC0000142.1_beta-ketoacylsynthase_mod4</td>\n",
       "      <td>VAIVAMGCRFPGGVRSPEDLWELLEGGVDAVSGFPTDRGWDLVGMY...</td>\n",
       "      <td>GGCAGCGACGTGGACGCGGATCAGGTCGACGGTGACCCGGTCCCGC...</td>\n",
       "      <td>mal</td>\n",
       "      <td>B</td>\n",
       "      <td>mal</td>\n",
       "    </tr>\n",
       "    <tr>\n",
       "      <th>1166</th>\n",
       "      <td>1167</td>\n",
       "      <td>1183</td>\n",
       "      <td>CP000667.1</td>\n",
       "      <td>BGC0000142.1</td>\n",
       "      <td>B1</td>\n",
       "      <td>GVVLVTGATGALGSVVARHLVAAHGVRRLLLLSRSGMAASGAADLV...</td>\n",
       "      <td>beta-ketoacylsynthase_6</td>\n",
       "      <td>10</td>\n",
       "      <td>1685</td>\n",
       "      <td>substrate mal, non-loading</td>\n",
       "      <td>CC(C=[C]C=[C]C=[C]C(O)CC(O)CC(O)C(C)C=[C]C(=O)...</td>\n",
       "      <td>BGC0000142.1_beta-ketoacylsynthase_6_mod10</td>\n",
       "      <td>IAIIGMACRYPGGVSSPEDLWRLVADGVDAIGDFPTDRGWDTAALY...</td>\n",
       "      <td>CCAGGTGGCCCGCCACCCGTCGTCGTCGCCGGCCACGATGGACTCC...</td>\n",
       "      <td>mal</td>\n",
       "      <td>B</td>\n",
       "      <td>mal</td>\n",
       "    </tr>\n",
       "  </tbody>\n",
       "</table>\n",
       "<p>1157 rows × 17 columns</p>\n",
       "</div>"
      ],
      "text/plain": [
       "      Unnamed: 0  index genbank_accession mibig_accession kr_type_annotation  \\\n",
       "0              0      0        KX263301.1    BGC0001670.1                 B1   \n",
       "1              1      1        KX263301.1    BGC0001670.1                 C1   \n",
       "2              2      2        KX458106.1    BGC0001690.1                 B1   \n",
       "3              3      3        KX458106.1    BGC0001690.1                 A1   \n",
       "4              4      4        KX263301.1    BGC0001670.1                 B1   \n",
       "...          ...    ...               ...             ...                ...   \n",
       "1162        1163   1179        CP004025.1    BGC0001394.1                 A1   \n",
       "1163        1164   1180        CP000667.1    BGC0000142.1                 B1   \n",
       "1164        1165   1181        CP000667.1    BGC0000142.1                 B1   \n",
       "1165        1166   1182        CP000667.1    BGC0000142.1                 B1   \n",
       "1166        1167   1183        CP000667.1    BGC0000142.1                 B1   \n",
       "\n",
       "                                            kr_sequence  \\\n",
       "0     GTVLIAGGTGMMGGLVAEHLVRAWSVRHLLLVSRQGPDAPDARDLA...   \n",
       "1     GTVLITGPAGAPVADLAEHLVRTGQCRHLLLLPGDGELEEMAEELR...   \n",
       "2     GTVLVTGGTGGLGRVMARHLVVEHGVRNLLLVSRRGPAAEGAEELV...   \n",
       "3     GTVLITGGTGALGAEAARWLARSGAEHLLLTSRRGPEAPGAAELAA...   \n",
       "4     GTVLITGGTGVLAAAVAEHLVREWGVRHLLLAGRRGSEAPGSSELA...   \n",
       "...                                                 ...   \n",
       "1162  ATYLVTGGLGGLGLKVARWLVEQGARHLVLVGRRALTAGGEESKRR...   \n",
       "1163  GTVLVTGGTGVLGALVARHLVVGHGVRELVLASRRGLAAPGAVELR...   \n",
       "1164  GTVLVTGGTGVLGALVARHLVVGHGVRELVLASRRGLAAPGAVELR...   \n",
       "1165  GTVLVTGGTGGLGRLVAEHLITRHGVRRLLLASRRGPAAPGVDELV...   \n",
       "1166  GVVLVTGATGALGSVVARHLVAAHGVRRLLLLSRSGMAASGAADLV...   \n",
       "\n",
       "                 subunit_name  module_number  length_aa_residues  \\\n",
       "0                       monAV              7                1801   \n",
       "1                       monAI              1                1811   \n",
       "2                       SgnS1              3                1720   \n",
       "3                       SgnS2              7                1522   \n",
       "4                     monAIII              4                2068   \n",
       "...                       ...            ...                 ...   \n",
       "1162     polyketidesynthase_3              3                1763   \n",
       "1163    beta-ketoacylsynthase              2                1711   \n",
       "1164    beta-ketoacylsynthase              2                1711   \n",
       "1165    beta-ketoacylsynthase              4                1746   \n",
       "1166  beta-ketoacylsynthase_6             10                1685   \n",
       "\n",
       "             substrate_annotation  \\\n",
       "0     substrate mmal, non-loading   \n",
       "1     substrate mmal, non-loading   \n",
       "2      substrate mal, non-loading   \n",
       "3      substrate mal, non-loading   \n",
       "4     substrate mmal, non-loading   \n",
       "...                           ...   \n",
       "1162  substrate mmal, non-loading   \n",
       "1163   substrate mal, non-loading   \n",
       "1164   substrate mal, non-loading   \n",
       "1165   substrate mal, non-loading   \n",
       "1166   substrate mal, non-loading   \n",
       "\n",
       "                                    intermediate_smiles  \\\n",
       "0     CCC([CH][CH]C=C(C)C(=O)[S])=C[C@@H](C)[CH][C]=...   \n",
       "1                               CC(=O)[C@@H](C)C(=O)[S]   \n",
       "2                        CC(=O)C[C@@H](O)CC=[C]C(=O)[S]   \n",
       "3     CC(=O)C[C@@H](O)CC=[C]C=[C]C=[C]C=[C][C@H](O)C...   \n",
       "4     CC(=O)[C@@H](C)[CH][C@H](C)C=[C][CH][C@H](C)C(...   \n",
       "...                                                 ...   \n",
       "1162         CC(=C[C@@H](C)[CH]Cc1ccccc1)C=C(C)C(=O)[S]   \n",
       "1163                           CC(N)CC=[C]C=[C]C(=O)[S]   \n",
       "1164                           CC(N)CC=[C]C=[C]C(=O)[S]   \n",
       "1165                CC(C=[C]C(=O)[S])=C[C]=C[C]=CCC(C)N   \n",
       "1166  CC(C=[C]C=[C]C=[C]C(O)CC(O)CC(O)C(C)C=[C]C(=O)...   \n",
       "\n",
       "                                   name_in_fasta  \\\n",
       "0                        BGC0001670.1_monAV_mod7   \n",
       "1                        BGC0001670.1_monAI_mod1   \n",
       "2                        BGC0001690.1_SgnS1_mod3   \n",
       "3                        BGC0001690.1_SgnS2_mod7   \n",
       "4                      BGC0001670.1_monAIII_mod4   \n",
       "...                                          ...   \n",
       "1162      BGC0001394.1_polyketidesynthase_3_mod3   \n",
       "1163     BGC0000142.1_beta-ketoacylsynthase_mod2   \n",
       "1164     BGC0000142.1_beta-ketoacylsynthase_mod2   \n",
       "1165     BGC0000142.1_beta-ketoacylsynthase_mod4   \n",
       "1166  BGC0000142.1_beta-ketoacylsynthase_6_mod10   \n",
       "\n",
       "                                       protein_sequence  \\\n",
       "0     VAVVGMACRFPGGIETPEGLWELVAAGDDAIEPFPTDRGWDLEGIY...   \n",
       "1     VAIVAMSCRYPGGAGTPEDLWRLVADGADAIGDFPTDRGWDLARLF...   \n",
       "2     VAIIGMACRFPGGVHSPEALWRLLAEGGDAITPMPADRGWDLDRLY...   \n",
       "3     IVIVGMSCRYPGGVASPEDLWRLVSEGTDAISGLPTDRGWDLDALY...   \n",
       "4     IAIVGMACRYPGGVTSPEQLWQLVATGTDAIGPFPEDRGWDTAGLF...   \n",
       "...                                                 ...   \n",
       "1162  VALIGMACRFPGGASDPESFWHVLRDGVDAVTEVPSSRWTQEEAAR...   \n",
       "1163  IAIVAMGCRFPGGVRSPEDLWELLEGGVDAVSGFPTDRGWDLVGMY...   \n",
       "1164  IAIVAMGCRFPGGVRSPEDLWELLEGGVDAVSGFPTDRGWDLVGMY...   \n",
       "1165  VAIVAMGCRFPGGVRSPEDLWELLEGGVDAVSGFPTDRGWDLVGMY...   \n",
       "1166  IAIIGMACRYPGGVSSPEDLWRLVADGVDAIGDFPTDRGWDTAALY...   \n",
       "\n",
       "                                           dna_sequence substrate_type new_kr  \\\n",
       "0     GTGGCCGTCGTCGGCATGGCCTGCCGTTTCCCCGGCGGCATCGAGA...           mmal     B1   \n",
       "1     GTCGCCATCGTGGCCATGAGCTGCCGCTATCCCGGCGGCGCAGGCA...           mmal     C1   \n",
       "2     GTGGCGATCATCGGCATGGCCTGCCGCTTCCCCGGCGGCGTGCACT...            mal      B   \n",
       "3     ATCGTCATCGTCGGCATGAGCTGCCGCTACCCGGGCGGCGTCGCCT...            mal      A   \n",
       "4     ATCGCCATCGTCGGCATGGCGTGCCGCTACCCGGGCGGCGTGACCT...           mmal     B1   \n",
       "...                                                 ...            ...    ...   \n",
       "1162  TGCCTGCGCGCGCGGCGGCGGTGCTGCGTCGCCCGGCAGCGGTATC...           mmal     A1   \n",
       "1163  CGCGACAGCAGCCCGGACCAGATCAAGCAGCATCCGATGCTGCTCC...            mal      B   \n",
       "1164  CGCGACAGCAGCCCGGACCAGATCAAGCAGCATCCGATGCTGCTCC...            mal      B   \n",
       "1165  GGCAGCGACGTGGACGCGGATCAGGTCGACGGTGACCCGGTCCCGC...            mal      B   \n",
       "1166  CCAGGTGGCCCGCCACCCGTCGTCGTCGCCGGCCACGATGGACTCC...            mal      B   \n",
       "\n",
       "     new_st  \n",
       "0      mmal  \n",
       "1      mmal  \n",
       "2       mal  \n",
       "3       mal  \n",
       "4      mmal  \n",
       "...     ...  \n",
       "1162   mmal  \n",
       "1163    mal  \n",
       "1164    mal  \n",
       "1165    mal  \n",
       "1166    mal  \n",
       "\n",
       "[1157 rows x 17 columns]"
      ]
     },
     "execution_count": 219,
     "metadata": {},
     "output_type": "execute_result"
    }
   ],
   "source": [
    "ccad_filtered"
   ]
  },
  {
   "cell_type": "code",
   "execution_count": 220,
   "id": "7cc87953-538f-4974-af8f-b9a969bdaf0e",
   "metadata": {},
   "outputs": [
    {
     "data": {
      "text/html": [
       "<div>\n",
       "<style scoped>\n",
       "    .dataframe tbody tr th:only-of-type {\n",
       "        vertical-align: middle;\n",
       "    }\n",
       "\n",
       "    .dataframe tbody tr th {\n",
       "        vertical-align: top;\n",
       "    }\n",
       "\n",
       "    .dataframe thead th {\n",
       "        text-align: right;\n",
       "    }\n",
       "</style>\n",
       "<table border=\"1\" class=\"dataframe\">\n",
       "  <thead>\n",
       "    <tr style=\"text-align: right;\">\n",
       "      <th></th>\n",
       "      <th>Unnamed: 0</th>\n",
       "      <th>index</th>\n",
       "      <th>genbank_accession</th>\n",
       "      <th>mibig_accession</th>\n",
       "      <th>kr_type_annotation</th>\n",
       "      <th>kr_sequence</th>\n",
       "      <th>subunit_name</th>\n",
       "      <th>module_number</th>\n",
       "      <th>length_aa_residues</th>\n",
       "      <th>substrate_annotation</th>\n",
       "      <th>intermediate_smiles</th>\n",
       "      <th>name_in_fasta</th>\n",
       "      <th>protein_sequence</th>\n",
       "      <th>dna_sequence</th>\n",
       "      <th>substrate_type</th>\n",
       "      <th>new_kr</th>\n",
       "      <th>new_st</th>\n",
       "    </tr>\n",
       "  </thead>\n",
       "  <tbody>\n",
       "    <tr>\n",
       "      <th>0</th>\n",
       "      <td>0</td>\n",
       "      <td>0</td>\n",
       "      <td>KX263301.1</td>\n",
       "      <td>BGC0001670.1</td>\n",
       "      <td>B1</td>\n",
       "      <td>GTVLIAGGTGMMGGLVAEHLVRAWSVRHLLLVSRQGPDAPDARDLA...</td>\n",
       "      <td>monAV</td>\n",
       "      <td>7</td>\n",
       "      <td>1801</td>\n",
       "      <td>substrate mmal, non-loading</td>\n",
       "      <td>CCC([CH][CH]C=C(C)C(=O)[S])=C[C@@H](C)[CH][C]=...</td>\n",
       "      <td>BGC0001670.1_monAV_mod7</td>\n",
       "      <td>VAVVGMACRFPGGIETPEGLWELVAAGDDAIEPFPTDRGWDLEGIY...</td>\n",
       "      <td>GTGGCCGTCGTCGGCATGGCCTGCCGTTTCCCCGGCGGCATCGAGA...</td>\n",
       "      <td>mmal</td>\n",
       "      <td>B1</td>\n",
       "      <td>mmal</td>\n",
       "    </tr>\n",
       "    <tr>\n",
       "      <th>1</th>\n",
       "      <td>1</td>\n",
       "      <td>1</td>\n",
       "      <td>KX263301.1</td>\n",
       "      <td>BGC0001670.1</td>\n",
       "      <td>C1</td>\n",
       "      <td>GTVLITGPAGAPVADLAEHLVRTGQCRHLLLLPGDGELEEMAEELR...</td>\n",
       "      <td>monAI</td>\n",
       "      <td>1</td>\n",
       "      <td>1811</td>\n",
       "      <td>substrate mmal, non-loading</td>\n",
       "      <td>CC(=O)[C@@H](C)C(=O)[S]</td>\n",
       "      <td>BGC0001670.1_monAI_mod1</td>\n",
       "      <td>VAIVAMSCRYPGGAGTPEDLWRLVADGADAIGDFPTDRGWDLARLF...</td>\n",
       "      <td>GTCGCCATCGTGGCCATGAGCTGCCGCTATCCCGGCGGCGCAGGCA...</td>\n",
       "      <td>mmal</td>\n",
       "      <td>C1</td>\n",
       "      <td>mmal</td>\n",
       "    </tr>\n",
       "    <tr>\n",
       "      <th>2</th>\n",
       "      <td>2</td>\n",
       "      <td>2</td>\n",
       "      <td>KX458106.1</td>\n",
       "      <td>BGC0001690.1</td>\n",
       "      <td>B1</td>\n",
       "      <td>GTVLVTGGTGGLGRVMARHLVVEHGVRNLLLVSRRGPAAEGAEELV...</td>\n",
       "      <td>SgnS1</td>\n",
       "      <td>3</td>\n",
       "      <td>1720</td>\n",
       "      <td>substrate mal, non-loading</td>\n",
       "      <td>CC(=O)C[C@@H](O)CC=[C]C(=O)[S]</td>\n",
       "      <td>BGC0001690.1_SgnS1_mod3</td>\n",
       "      <td>VAIIGMACRFPGGVHSPEALWRLLAEGGDAITPMPADRGWDLDRLY...</td>\n",
       "      <td>GTGGCGATCATCGGCATGGCCTGCCGCTTCCCCGGCGGCGTGCACT...</td>\n",
       "      <td>mal</td>\n",
       "      <td>B</td>\n",
       "      <td>mal</td>\n",
       "    </tr>\n",
       "    <tr>\n",
       "      <th>3</th>\n",
       "      <td>3</td>\n",
       "      <td>3</td>\n",
       "      <td>KX458106.1</td>\n",
       "      <td>BGC0001690.1</td>\n",
       "      <td>A1</td>\n",
       "      <td>GTVLITGGTGALGAEAARWLARSGAEHLLLTSRRGPEAPGAAELAA...</td>\n",
       "      <td>SgnS2</td>\n",
       "      <td>7</td>\n",
       "      <td>1522</td>\n",
       "      <td>substrate mal, non-loading</td>\n",
       "      <td>CC(=O)C[C@@H](O)CC=[C]C=[C]C=[C]C=[C][C@H](O)C...</td>\n",
       "      <td>BGC0001690.1_SgnS2_mod7</td>\n",
       "      <td>IVIVGMSCRYPGGVASPEDLWRLVSEGTDAISGLPTDRGWDLDALY...</td>\n",
       "      <td>ATCGTCATCGTCGGCATGAGCTGCCGCTACCCGGGCGGCGTCGCCT...</td>\n",
       "      <td>mal</td>\n",
       "      <td>A</td>\n",
       "      <td>mal</td>\n",
       "    </tr>\n",
       "    <tr>\n",
       "      <th>4</th>\n",
       "      <td>4</td>\n",
       "      <td>4</td>\n",
       "      <td>KX263301.1</td>\n",
       "      <td>BGC0001670.1</td>\n",
       "      <td>B1</td>\n",
       "      <td>GTVLITGGTGVLAAAVAEHLVREWGVRHLLLAGRRGSEAPGSSELA...</td>\n",
       "      <td>monAIII</td>\n",
       "      <td>4</td>\n",
       "      <td>2068</td>\n",
       "      <td>substrate mmal, non-loading</td>\n",
       "      <td>CC(=O)[C@@H](C)[CH][C@H](C)C=[C][CH][C@H](C)C(...</td>\n",
       "      <td>BGC0001670.1_monAIII_mod4</td>\n",
       "      <td>IAIVGMACRYPGGVTSPEQLWQLVATGTDAIGPFPEDRGWDTAGLF...</td>\n",
       "      <td>ATCGCCATCGTCGGCATGGCGTGCCGCTACCCGGGCGGCGTGACCT...</td>\n",
       "      <td>mmal</td>\n",
       "      <td>B1</td>\n",
       "      <td>mmal</td>\n",
       "    </tr>\n",
       "    <tr>\n",
       "      <th>...</th>\n",
       "      <td>...</td>\n",
       "      <td>...</td>\n",
       "      <td>...</td>\n",
       "      <td>...</td>\n",
       "      <td>...</td>\n",
       "      <td>...</td>\n",
       "      <td>...</td>\n",
       "      <td>...</td>\n",
       "      <td>...</td>\n",
       "      <td>...</td>\n",
       "      <td>...</td>\n",
       "      <td>...</td>\n",
       "      <td>...</td>\n",
       "      <td>...</td>\n",
       "      <td>...</td>\n",
       "      <td>...</td>\n",
       "      <td>...</td>\n",
       "    </tr>\n",
       "    <tr>\n",
       "      <th>1162</th>\n",
       "      <td>1163</td>\n",
       "      <td>1179</td>\n",
       "      <td>CP004025.1</td>\n",
       "      <td>BGC0001394.1</td>\n",
       "      <td>A1</td>\n",
       "      <td>ATYLVTGGLGGLGLKVARWLVEQGARHLVLVGRRALTAGGEESKRR...</td>\n",
       "      <td>polyketidesynthase_3</td>\n",
       "      <td>3</td>\n",
       "      <td>1763</td>\n",
       "      <td>substrate mmal, non-loading</td>\n",
       "      <td>CC(=C[C@@H](C)[CH]Cc1ccccc1)C=C(C)C(=O)[S]</td>\n",
       "      <td>BGC0001394.1_polyketidesynthase_3_mod3</td>\n",
       "      <td>VALIGMACRFPGGASDPESFWHVLRDGVDAVTEVPSSRWTQEEAAR...</td>\n",
       "      <td>TGCCTGCGCGCGCGGCGGCGGTGCTGCGTCGCCCGGCAGCGGTATC...</td>\n",
       "      <td>mmal</td>\n",
       "      <td>A1</td>\n",
       "      <td>mmal</td>\n",
       "    </tr>\n",
       "    <tr>\n",
       "      <th>1163</th>\n",
       "      <td>1164</td>\n",
       "      <td>1180</td>\n",
       "      <td>CP000667.1</td>\n",
       "      <td>BGC0000142.1</td>\n",
       "      <td>B1</td>\n",
       "      <td>GTVLVTGGTGVLGALVARHLVVGHGVRELVLASRRGLAAPGAVELR...</td>\n",
       "      <td>beta-ketoacylsynthase</td>\n",
       "      <td>2</td>\n",
       "      <td>1711</td>\n",
       "      <td>substrate mal, non-loading</td>\n",
       "      <td>CC(N)CC=[C]C=[C]C(=O)[S]</td>\n",
       "      <td>BGC0000142.1_beta-ketoacylsynthase_mod2</td>\n",
       "      <td>IAIVAMGCRFPGGVRSPEDLWELLEGGVDAVSGFPTDRGWDLVGMY...</td>\n",
       "      <td>CGCGACAGCAGCCCGGACCAGATCAAGCAGCATCCGATGCTGCTCC...</td>\n",
       "      <td>mal</td>\n",
       "      <td>B</td>\n",
       "      <td>mal</td>\n",
       "    </tr>\n",
       "    <tr>\n",
       "      <th>1164</th>\n",
       "      <td>1165</td>\n",
       "      <td>1181</td>\n",
       "      <td>CP000667.1</td>\n",
       "      <td>BGC0000142.1</td>\n",
       "      <td>B1</td>\n",
       "      <td>GTVLVTGGTGVLGALVARHLVVGHGVRELVLASRRGLAAPGAVELR...</td>\n",
       "      <td>beta-ketoacylsynthase</td>\n",
       "      <td>2</td>\n",
       "      <td>1711</td>\n",
       "      <td>substrate mal, non-loading</td>\n",
       "      <td>CC(N)CC=[C]C=[C]C(=O)[S]</td>\n",
       "      <td>BGC0000142.1_beta-ketoacylsynthase_mod2</td>\n",
       "      <td>IAIVAMGCRFPGGVRSPEDLWELLEGGVDAVSGFPTDRGWDLVGMY...</td>\n",
       "      <td>CGCGACAGCAGCCCGGACCAGATCAAGCAGCATCCGATGCTGCTCC...</td>\n",
       "      <td>mal</td>\n",
       "      <td>B</td>\n",
       "      <td>mal</td>\n",
       "    </tr>\n",
       "    <tr>\n",
       "      <th>1165</th>\n",
       "      <td>1166</td>\n",
       "      <td>1182</td>\n",
       "      <td>CP000667.1</td>\n",
       "      <td>BGC0000142.1</td>\n",
       "      <td>B1</td>\n",
       "      <td>GTVLVTGGTGGLGRLVAEHLITRHGVRRLLLASRRGPAAPGVDELV...</td>\n",
       "      <td>beta-ketoacylsynthase</td>\n",
       "      <td>4</td>\n",
       "      <td>1746</td>\n",
       "      <td>substrate mal, non-loading</td>\n",
       "      <td>CC(C=[C]C(=O)[S])=C[C]=C[C]=CCC(C)N</td>\n",
       "      <td>BGC0000142.1_beta-ketoacylsynthase_mod4</td>\n",
       "      <td>VAIVAMGCRFPGGVRSPEDLWELLEGGVDAVSGFPTDRGWDLVGMY...</td>\n",
       "      <td>GGCAGCGACGTGGACGCGGATCAGGTCGACGGTGACCCGGTCCCGC...</td>\n",
       "      <td>mal</td>\n",
       "      <td>B</td>\n",
       "      <td>mal</td>\n",
       "    </tr>\n",
       "    <tr>\n",
       "      <th>1166</th>\n",
       "      <td>1167</td>\n",
       "      <td>1183</td>\n",
       "      <td>CP000667.1</td>\n",
       "      <td>BGC0000142.1</td>\n",
       "      <td>B1</td>\n",
       "      <td>GVVLVTGATGALGSVVARHLVAAHGVRRLLLLSRSGMAASGAADLV...</td>\n",
       "      <td>beta-ketoacylsynthase_6</td>\n",
       "      <td>10</td>\n",
       "      <td>1685</td>\n",
       "      <td>substrate mal, non-loading</td>\n",
       "      <td>CC(C=[C]C=[C]C=[C]C(O)CC(O)CC(O)C(C)C=[C]C(=O)...</td>\n",
       "      <td>BGC0000142.1_beta-ketoacylsynthase_6_mod10</td>\n",
       "      <td>IAIIGMACRYPGGVSSPEDLWRLVADGVDAIGDFPTDRGWDTAALY...</td>\n",
       "      <td>CCAGGTGGCCCGCCACCCGTCGTCGTCGCCGGCCACGATGGACTCC...</td>\n",
       "      <td>mal</td>\n",
       "      <td>B</td>\n",
       "      <td>mal</td>\n",
       "    </tr>\n",
       "  </tbody>\n",
       "</table>\n",
       "<p>1157 rows × 17 columns</p>\n",
       "</div>"
      ],
      "text/plain": [
       "      Unnamed: 0  index genbank_accession mibig_accession kr_type_annotation  \\\n",
       "0              0      0        KX263301.1    BGC0001670.1                 B1   \n",
       "1              1      1        KX263301.1    BGC0001670.1                 C1   \n",
       "2              2      2        KX458106.1    BGC0001690.1                 B1   \n",
       "3              3      3        KX458106.1    BGC0001690.1                 A1   \n",
       "4              4      4        KX263301.1    BGC0001670.1                 B1   \n",
       "...          ...    ...               ...             ...                ...   \n",
       "1162        1163   1179        CP004025.1    BGC0001394.1                 A1   \n",
       "1163        1164   1180        CP000667.1    BGC0000142.1                 B1   \n",
       "1164        1165   1181        CP000667.1    BGC0000142.1                 B1   \n",
       "1165        1166   1182        CP000667.1    BGC0000142.1                 B1   \n",
       "1166        1167   1183        CP000667.1    BGC0000142.1                 B1   \n",
       "\n",
       "                                            kr_sequence  \\\n",
       "0     GTVLIAGGTGMMGGLVAEHLVRAWSVRHLLLVSRQGPDAPDARDLA...   \n",
       "1     GTVLITGPAGAPVADLAEHLVRTGQCRHLLLLPGDGELEEMAEELR...   \n",
       "2     GTVLVTGGTGGLGRVMARHLVVEHGVRNLLLVSRRGPAAEGAEELV...   \n",
       "3     GTVLITGGTGALGAEAARWLARSGAEHLLLTSRRGPEAPGAAELAA...   \n",
       "4     GTVLITGGTGVLAAAVAEHLVREWGVRHLLLAGRRGSEAPGSSELA...   \n",
       "...                                                 ...   \n",
       "1162  ATYLVTGGLGGLGLKVARWLVEQGARHLVLVGRRALTAGGEESKRR...   \n",
       "1163  GTVLVTGGTGVLGALVARHLVVGHGVRELVLASRRGLAAPGAVELR...   \n",
       "1164  GTVLVTGGTGVLGALVARHLVVGHGVRELVLASRRGLAAPGAVELR...   \n",
       "1165  GTVLVTGGTGGLGRLVAEHLITRHGVRRLLLASRRGPAAPGVDELV...   \n",
       "1166  GVVLVTGATGALGSVVARHLVAAHGVRRLLLLSRSGMAASGAADLV...   \n",
       "\n",
       "                 subunit_name  module_number  length_aa_residues  \\\n",
       "0                       monAV              7                1801   \n",
       "1                       monAI              1                1811   \n",
       "2                       SgnS1              3                1720   \n",
       "3                       SgnS2              7                1522   \n",
       "4                     monAIII              4                2068   \n",
       "...                       ...            ...                 ...   \n",
       "1162     polyketidesynthase_3              3                1763   \n",
       "1163    beta-ketoacylsynthase              2                1711   \n",
       "1164    beta-ketoacylsynthase              2                1711   \n",
       "1165    beta-ketoacylsynthase              4                1746   \n",
       "1166  beta-ketoacylsynthase_6             10                1685   \n",
       "\n",
       "             substrate_annotation  \\\n",
       "0     substrate mmal, non-loading   \n",
       "1     substrate mmal, non-loading   \n",
       "2      substrate mal, non-loading   \n",
       "3      substrate mal, non-loading   \n",
       "4     substrate mmal, non-loading   \n",
       "...                           ...   \n",
       "1162  substrate mmal, non-loading   \n",
       "1163   substrate mal, non-loading   \n",
       "1164   substrate mal, non-loading   \n",
       "1165   substrate mal, non-loading   \n",
       "1166   substrate mal, non-loading   \n",
       "\n",
       "                                    intermediate_smiles  \\\n",
       "0     CCC([CH][CH]C=C(C)C(=O)[S])=C[C@@H](C)[CH][C]=...   \n",
       "1                               CC(=O)[C@@H](C)C(=O)[S]   \n",
       "2                        CC(=O)C[C@@H](O)CC=[C]C(=O)[S]   \n",
       "3     CC(=O)C[C@@H](O)CC=[C]C=[C]C=[C]C=[C][C@H](O)C...   \n",
       "4     CC(=O)[C@@H](C)[CH][C@H](C)C=[C][CH][C@H](C)C(...   \n",
       "...                                                 ...   \n",
       "1162         CC(=C[C@@H](C)[CH]Cc1ccccc1)C=C(C)C(=O)[S]   \n",
       "1163                           CC(N)CC=[C]C=[C]C(=O)[S]   \n",
       "1164                           CC(N)CC=[C]C=[C]C(=O)[S]   \n",
       "1165                CC(C=[C]C(=O)[S])=C[C]=C[C]=CCC(C)N   \n",
       "1166  CC(C=[C]C=[C]C=[C]C(O)CC(O)CC(O)C(C)C=[C]C(=O)...   \n",
       "\n",
       "                                   name_in_fasta  \\\n",
       "0                        BGC0001670.1_monAV_mod7   \n",
       "1                        BGC0001670.1_monAI_mod1   \n",
       "2                        BGC0001690.1_SgnS1_mod3   \n",
       "3                        BGC0001690.1_SgnS2_mod7   \n",
       "4                      BGC0001670.1_monAIII_mod4   \n",
       "...                                          ...   \n",
       "1162      BGC0001394.1_polyketidesynthase_3_mod3   \n",
       "1163     BGC0000142.1_beta-ketoacylsynthase_mod2   \n",
       "1164     BGC0000142.1_beta-ketoacylsynthase_mod2   \n",
       "1165     BGC0000142.1_beta-ketoacylsynthase_mod4   \n",
       "1166  BGC0000142.1_beta-ketoacylsynthase_6_mod10   \n",
       "\n",
       "                                       protein_sequence  \\\n",
       "0     VAVVGMACRFPGGIETPEGLWELVAAGDDAIEPFPTDRGWDLEGIY...   \n",
       "1     VAIVAMSCRYPGGAGTPEDLWRLVADGADAIGDFPTDRGWDLARLF...   \n",
       "2     VAIIGMACRFPGGVHSPEALWRLLAEGGDAITPMPADRGWDLDRLY...   \n",
       "3     IVIVGMSCRYPGGVASPEDLWRLVSEGTDAISGLPTDRGWDLDALY...   \n",
       "4     IAIVGMACRYPGGVTSPEQLWQLVATGTDAIGPFPEDRGWDTAGLF...   \n",
       "...                                                 ...   \n",
       "1162  VALIGMACRFPGGASDPESFWHVLRDGVDAVTEVPSSRWTQEEAAR...   \n",
       "1163  IAIVAMGCRFPGGVRSPEDLWELLEGGVDAVSGFPTDRGWDLVGMY...   \n",
       "1164  IAIVAMGCRFPGGVRSPEDLWELLEGGVDAVSGFPTDRGWDLVGMY...   \n",
       "1165  VAIVAMGCRFPGGVRSPEDLWELLEGGVDAVSGFPTDRGWDLVGMY...   \n",
       "1166  IAIIGMACRYPGGVSSPEDLWRLVADGVDAIGDFPTDRGWDTAALY...   \n",
       "\n",
       "                                           dna_sequence substrate_type new_kr  \\\n",
       "0     GTGGCCGTCGTCGGCATGGCCTGCCGTTTCCCCGGCGGCATCGAGA...           mmal     B1   \n",
       "1     GTCGCCATCGTGGCCATGAGCTGCCGCTATCCCGGCGGCGCAGGCA...           mmal     C1   \n",
       "2     GTGGCGATCATCGGCATGGCCTGCCGCTTCCCCGGCGGCGTGCACT...            mal      B   \n",
       "3     ATCGTCATCGTCGGCATGAGCTGCCGCTACCCGGGCGGCGTCGCCT...            mal      A   \n",
       "4     ATCGCCATCGTCGGCATGGCGTGCCGCTACCCGGGCGGCGTGACCT...           mmal     B1   \n",
       "...                                                 ...            ...    ...   \n",
       "1162  TGCCTGCGCGCGCGGCGGCGGTGCTGCGTCGCCCGGCAGCGGTATC...           mmal     A1   \n",
       "1163  CGCGACAGCAGCCCGGACCAGATCAAGCAGCATCCGATGCTGCTCC...            mal      B   \n",
       "1164  CGCGACAGCAGCCCGGACCAGATCAAGCAGCATCCGATGCTGCTCC...            mal      B   \n",
       "1165  GGCAGCGACGTGGACGCGGATCAGGTCGACGGTGACCCGGTCCCGC...            mal      B   \n",
       "1166  CCAGGTGGCCCGCCACCCGTCGTCGTCGCCGGCCACGATGGACTCC...            mal      B   \n",
       "\n",
       "     new_st  \n",
       "0      mmal  \n",
       "1      mmal  \n",
       "2       mal  \n",
       "3       mal  \n",
       "4      mmal  \n",
       "...     ...  \n",
       "1162   mmal  \n",
       "1163    mal  \n",
       "1164    mal  \n",
       "1165    mal  \n",
       "1166    mal  \n",
       "\n",
       "[1157 rows x 17 columns]"
      ]
     },
     "execution_count": 220,
     "metadata": {},
     "output_type": "execute_result"
    }
   ],
   "source": [
    "ccad_filtered"
   ]
  },
  {
   "cell_type": "code",
   "execution_count": 221,
   "id": "4fbbab89-79df-4d50-827c-d2e63aa08b96",
   "metadata": {},
   "outputs": [
    {
     "data": {
      "text/plain": [
       "'\\n#cut 600 b1\\n\\n# Identify all B1 rows\\na_mask = xiang_filtered[\"Annotation\"] == \"A\"\\na_indices = xiang_filtered[a_mask].index\\n\\n# Randomly sample 600 B1 indices to drop\\n#b1_to_remove = np.random.choice(b1_indices, size=100, replace=False)\\n\\n# Drop those rows from the DataFrame\\nxiang_filtered = xiang_filtered.drop(index=a_indices)\\n'"
      ]
     },
     "execution_count": 221,
     "metadata": {},
     "output_type": "execute_result"
    }
   ],
   "source": [
    "'''\n",
    "#cut 600 b1\n",
    "\n",
    "# Identify all B1 rows\n",
    "a_mask = xiang_filtered[\"Annotation\"] == \"A\"\n",
    "a_indices = xiang_filtered[a_mask].index\n",
    "\n",
    "# Randomly sample 600 B1 indices to drop\n",
    "#b1_to_remove = np.random.choice(b1_indices, size=100, replace=False)\n",
    "\n",
    "# Drop those rows from the DataFrame\n",
    "xiang_filtered = xiang_filtered.drop(index=a_indices)\n",
    "'''"
   ]
  },
  {
   "cell_type": "code",
   "execution_count": 222,
   "id": "17a069ac-7ab4-4a44-90e8-d1cca7e3ad76",
   "metadata": {},
   "outputs": [
    {
     "data": {
      "text/html": [
       "<div>\n",
       "<style scoped>\n",
       "    .dataframe tbody tr th:only-of-type {\n",
       "        vertical-align: middle;\n",
       "    }\n",
       "\n",
       "    .dataframe tbody tr th {\n",
       "        vertical-align: top;\n",
       "    }\n",
       "\n",
       "    .dataframe thead th {\n",
       "        text-align: right;\n",
       "    }\n",
       "</style>\n",
       "<table border=\"1\" class=\"dataframe\">\n",
       "  <thead>\n",
       "    <tr style=\"text-align: right;\">\n",
       "      <th></th>\n",
       "      <th>Unnamed: 0</th>\n",
       "      <th>index</th>\n",
       "      <th>genbank_accession</th>\n",
       "      <th>mibig_accession</th>\n",
       "      <th>kr_type_annotation</th>\n",
       "      <th>kr_sequence</th>\n",
       "      <th>subunit_name</th>\n",
       "      <th>module_number</th>\n",
       "      <th>length_aa_residues</th>\n",
       "      <th>substrate_annotation</th>\n",
       "      <th>intermediate_smiles</th>\n",
       "      <th>name_in_fasta</th>\n",
       "      <th>protein_sequence</th>\n",
       "      <th>dna_sequence</th>\n",
       "      <th>substrate_type</th>\n",
       "      <th>new_kr</th>\n",
       "      <th>new_st</th>\n",
       "    </tr>\n",
       "  </thead>\n",
       "  <tbody>\n",
       "    <tr>\n",
       "      <th>0</th>\n",
       "      <td>0</td>\n",
       "      <td>0</td>\n",
       "      <td>KX263301.1</td>\n",
       "      <td>BGC0001670.1</td>\n",
       "      <td>B1</td>\n",
       "      <td>GTVLIAGGTGMMGGLVAEHLVRAWSVRHLLLVSRQGPDAPDARDLA...</td>\n",
       "      <td>monAV</td>\n",
       "      <td>7</td>\n",
       "      <td>1801</td>\n",
       "      <td>substrate mmal, non-loading</td>\n",
       "      <td>CCC([CH][CH]C=C(C)C(=O)[S])=C[C@@H](C)[CH][C]=...</td>\n",
       "      <td>BGC0001670.1_monAV_mod7</td>\n",
       "      <td>VAVVGMACRFPGGIETPEGLWELVAAGDDAIEPFPTDRGWDLEGIY...</td>\n",
       "      <td>GTGGCCGTCGTCGGCATGGCCTGCCGTTTCCCCGGCGGCATCGAGA...</td>\n",
       "      <td>mmal</td>\n",
       "      <td>B1</td>\n",
       "      <td>mmal</td>\n",
       "    </tr>\n",
       "    <tr>\n",
       "      <th>1</th>\n",
       "      <td>1</td>\n",
       "      <td>1</td>\n",
       "      <td>KX263301.1</td>\n",
       "      <td>BGC0001670.1</td>\n",
       "      <td>C1</td>\n",
       "      <td>GTVLITGPAGAPVADLAEHLVRTGQCRHLLLLPGDGELEEMAEELR...</td>\n",
       "      <td>monAI</td>\n",
       "      <td>1</td>\n",
       "      <td>1811</td>\n",
       "      <td>substrate mmal, non-loading</td>\n",
       "      <td>CC(=O)[C@@H](C)C(=O)[S]</td>\n",
       "      <td>BGC0001670.1_monAI_mod1</td>\n",
       "      <td>VAIVAMSCRYPGGAGTPEDLWRLVADGADAIGDFPTDRGWDLARLF...</td>\n",
       "      <td>GTCGCCATCGTGGCCATGAGCTGCCGCTATCCCGGCGGCGCAGGCA...</td>\n",
       "      <td>mmal</td>\n",
       "      <td>C1</td>\n",
       "      <td>mmal</td>\n",
       "    </tr>\n",
       "    <tr>\n",
       "      <th>2</th>\n",
       "      <td>2</td>\n",
       "      <td>2</td>\n",
       "      <td>KX458106.1</td>\n",
       "      <td>BGC0001690.1</td>\n",
       "      <td>B1</td>\n",
       "      <td>GTVLVTGGTGGLGRVMARHLVVEHGVRNLLLVSRRGPAAEGAEELV...</td>\n",
       "      <td>SgnS1</td>\n",
       "      <td>3</td>\n",
       "      <td>1720</td>\n",
       "      <td>substrate mal, non-loading</td>\n",
       "      <td>CC(=O)C[C@@H](O)CC=[C]C(=O)[S]</td>\n",
       "      <td>BGC0001690.1_SgnS1_mod3</td>\n",
       "      <td>VAIIGMACRFPGGVHSPEALWRLLAEGGDAITPMPADRGWDLDRLY...</td>\n",
       "      <td>GTGGCGATCATCGGCATGGCCTGCCGCTTCCCCGGCGGCGTGCACT...</td>\n",
       "      <td>mal</td>\n",
       "      <td>B</td>\n",
       "      <td>mal</td>\n",
       "    </tr>\n",
       "    <tr>\n",
       "      <th>3</th>\n",
       "      <td>3</td>\n",
       "      <td>3</td>\n",
       "      <td>KX458106.1</td>\n",
       "      <td>BGC0001690.1</td>\n",
       "      <td>A1</td>\n",
       "      <td>GTVLITGGTGALGAEAARWLARSGAEHLLLTSRRGPEAPGAAELAA...</td>\n",
       "      <td>SgnS2</td>\n",
       "      <td>7</td>\n",
       "      <td>1522</td>\n",
       "      <td>substrate mal, non-loading</td>\n",
       "      <td>CC(=O)C[C@@H](O)CC=[C]C=[C]C=[C]C=[C][C@H](O)C...</td>\n",
       "      <td>BGC0001690.1_SgnS2_mod7</td>\n",
       "      <td>IVIVGMSCRYPGGVASPEDLWRLVSEGTDAISGLPTDRGWDLDALY...</td>\n",
       "      <td>ATCGTCATCGTCGGCATGAGCTGCCGCTACCCGGGCGGCGTCGCCT...</td>\n",
       "      <td>mal</td>\n",
       "      <td>A</td>\n",
       "      <td>mal</td>\n",
       "    </tr>\n",
       "    <tr>\n",
       "      <th>4</th>\n",
       "      <td>4</td>\n",
       "      <td>4</td>\n",
       "      <td>KX263301.1</td>\n",
       "      <td>BGC0001670.1</td>\n",
       "      <td>B1</td>\n",
       "      <td>GTVLITGGTGVLAAAVAEHLVREWGVRHLLLAGRRGSEAPGSSELA...</td>\n",
       "      <td>monAIII</td>\n",
       "      <td>4</td>\n",
       "      <td>2068</td>\n",
       "      <td>substrate mmal, non-loading</td>\n",
       "      <td>CC(=O)[C@@H](C)[CH][C@H](C)C=[C][CH][C@H](C)C(...</td>\n",
       "      <td>BGC0001670.1_monAIII_mod4</td>\n",
       "      <td>IAIVGMACRYPGGVTSPEQLWQLVATGTDAIGPFPEDRGWDTAGLF...</td>\n",
       "      <td>ATCGCCATCGTCGGCATGGCGTGCCGCTACCCGGGCGGCGTGACCT...</td>\n",
       "      <td>mmal</td>\n",
       "      <td>B1</td>\n",
       "      <td>mmal</td>\n",
       "    </tr>\n",
       "    <tr>\n",
       "      <th>...</th>\n",
       "      <td>...</td>\n",
       "      <td>...</td>\n",
       "      <td>...</td>\n",
       "      <td>...</td>\n",
       "      <td>...</td>\n",
       "      <td>...</td>\n",
       "      <td>...</td>\n",
       "      <td>...</td>\n",
       "      <td>...</td>\n",
       "      <td>...</td>\n",
       "      <td>...</td>\n",
       "      <td>...</td>\n",
       "      <td>...</td>\n",
       "      <td>...</td>\n",
       "      <td>...</td>\n",
       "      <td>...</td>\n",
       "      <td>...</td>\n",
       "    </tr>\n",
       "    <tr>\n",
       "      <th>1162</th>\n",
       "      <td>1163</td>\n",
       "      <td>1179</td>\n",
       "      <td>CP004025.1</td>\n",
       "      <td>BGC0001394.1</td>\n",
       "      <td>A1</td>\n",
       "      <td>ATYLVTGGLGGLGLKVARWLVEQGARHLVLVGRRALTAGGEESKRR...</td>\n",
       "      <td>polyketidesynthase_3</td>\n",
       "      <td>3</td>\n",
       "      <td>1763</td>\n",
       "      <td>substrate mmal, non-loading</td>\n",
       "      <td>CC(=C[C@@H](C)[CH]Cc1ccccc1)C=C(C)C(=O)[S]</td>\n",
       "      <td>BGC0001394.1_polyketidesynthase_3_mod3</td>\n",
       "      <td>VALIGMACRFPGGASDPESFWHVLRDGVDAVTEVPSSRWTQEEAAR...</td>\n",
       "      <td>TGCCTGCGCGCGCGGCGGCGGTGCTGCGTCGCCCGGCAGCGGTATC...</td>\n",
       "      <td>mmal</td>\n",
       "      <td>A1</td>\n",
       "      <td>mmal</td>\n",
       "    </tr>\n",
       "    <tr>\n",
       "      <th>1163</th>\n",
       "      <td>1164</td>\n",
       "      <td>1180</td>\n",
       "      <td>CP000667.1</td>\n",
       "      <td>BGC0000142.1</td>\n",
       "      <td>B1</td>\n",
       "      <td>GTVLVTGGTGVLGALVARHLVVGHGVRELVLASRRGLAAPGAVELR...</td>\n",
       "      <td>beta-ketoacylsynthase</td>\n",
       "      <td>2</td>\n",
       "      <td>1711</td>\n",
       "      <td>substrate mal, non-loading</td>\n",
       "      <td>CC(N)CC=[C]C=[C]C(=O)[S]</td>\n",
       "      <td>BGC0000142.1_beta-ketoacylsynthase_mod2</td>\n",
       "      <td>IAIVAMGCRFPGGVRSPEDLWELLEGGVDAVSGFPTDRGWDLVGMY...</td>\n",
       "      <td>CGCGACAGCAGCCCGGACCAGATCAAGCAGCATCCGATGCTGCTCC...</td>\n",
       "      <td>mal</td>\n",
       "      <td>B</td>\n",
       "      <td>mal</td>\n",
       "    </tr>\n",
       "    <tr>\n",
       "      <th>1164</th>\n",
       "      <td>1165</td>\n",
       "      <td>1181</td>\n",
       "      <td>CP000667.1</td>\n",
       "      <td>BGC0000142.1</td>\n",
       "      <td>B1</td>\n",
       "      <td>GTVLVTGGTGVLGALVARHLVVGHGVRELVLASRRGLAAPGAVELR...</td>\n",
       "      <td>beta-ketoacylsynthase</td>\n",
       "      <td>2</td>\n",
       "      <td>1711</td>\n",
       "      <td>substrate mal, non-loading</td>\n",
       "      <td>CC(N)CC=[C]C=[C]C(=O)[S]</td>\n",
       "      <td>BGC0000142.1_beta-ketoacylsynthase_mod2</td>\n",
       "      <td>IAIVAMGCRFPGGVRSPEDLWELLEGGVDAVSGFPTDRGWDLVGMY...</td>\n",
       "      <td>CGCGACAGCAGCCCGGACCAGATCAAGCAGCATCCGATGCTGCTCC...</td>\n",
       "      <td>mal</td>\n",
       "      <td>B</td>\n",
       "      <td>mal</td>\n",
       "    </tr>\n",
       "    <tr>\n",
       "      <th>1165</th>\n",
       "      <td>1166</td>\n",
       "      <td>1182</td>\n",
       "      <td>CP000667.1</td>\n",
       "      <td>BGC0000142.1</td>\n",
       "      <td>B1</td>\n",
       "      <td>GTVLVTGGTGGLGRLVAEHLITRHGVRRLLLASRRGPAAPGVDELV...</td>\n",
       "      <td>beta-ketoacylsynthase</td>\n",
       "      <td>4</td>\n",
       "      <td>1746</td>\n",
       "      <td>substrate mal, non-loading</td>\n",
       "      <td>CC(C=[C]C(=O)[S])=C[C]=C[C]=CCC(C)N</td>\n",
       "      <td>BGC0000142.1_beta-ketoacylsynthase_mod4</td>\n",
       "      <td>VAIVAMGCRFPGGVRSPEDLWELLEGGVDAVSGFPTDRGWDLVGMY...</td>\n",
       "      <td>GGCAGCGACGTGGACGCGGATCAGGTCGACGGTGACCCGGTCCCGC...</td>\n",
       "      <td>mal</td>\n",
       "      <td>B</td>\n",
       "      <td>mal</td>\n",
       "    </tr>\n",
       "    <tr>\n",
       "      <th>1166</th>\n",
       "      <td>1167</td>\n",
       "      <td>1183</td>\n",
       "      <td>CP000667.1</td>\n",
       "      <td>BGC0000142.1</td>\n",
       "      <td>B1</td>\n",
       "      <td>GVVLVTGATGALGSVVARHLVAAHGVRRLLLLSRSGMAASGAADLV...</td>\n",
       "      <td>beta-ketoacylsynthase_6</td>\n",
       "      <td>10</td>\n",
       "      <td>1685</td>\n",
       "      <td>substrate mal, non-loading</td>\n",
       "      <td>CC(C=[C]C=[C]C=[C]C(O)CC(O)CC(O)C(C)C=[C]C(=O)...</td>\n",
       "      <td>BGC0000142.1_beta-ketoacylsynthase_6_mod10</td>\n",
       "      <td>IAIIGMACRYPGGVSSPEDLWRLVADGVDAIGDFPTDRGWDTAALY...</td>\n",
       "      <td>CCAGGTGGCCCGCCACCCGTCGTCGTCGCCGGCCACGATGGACTCC...</td>\n",
       "      <td>mal</td>\n",
       "      <td>B</td>\n",
       "      <td>mal</td>\n",
       "    </tr>\n",
       "  </tbody>\n",
       "</table>\n",
       "<p>1157 rows × 17 columns</p>\n",
       "</div>"
      ],
      "text/plain": [
       "      Unnamed: 0  index genbank_accession mibig_accession kr_type_annotation  \\\n",
       "0              0      0        KX263301.1    BGC0001670.1                 B1   \n",
       "1              1      1        KX263301.1    BGC0001670.1                 C1   \n",
       "2              2      2        KX458106.1    BGC0001690.1                 B1   \n",
       "3              3      3        KX458106.1    BGC0001690.1                 A1   \n",
       "4              4      4        KX263301.1    BGC0001670.1                 B1   \n",
       "...          ...    ...               ...             ...                ...   \n",
       "1162        1163   1179        CP004025.1    BGC0001394.1                 A1   \n",
       "1163        1164   1180        CP000667.1    BGC0000142.1                 B1   \n",
       "1164        1165   1181        CP000667.1    BGC0000142.1                 B1   \n",
       "1165        1166   1182        CP000667.1    BGC0000142.1                 B1   \n",
       "1166        1167   1183        CP000667.1    BGC0000142.1                 B1   \n",
       "\n",
       "                                            kr_sequence  \\\n",
       "0     GTVLIAGGTGMMGGLVAEHLVRAWSVRHLLLVSRQGPDAPDARDLA...   \n",
       "1     GTVLITGPAGAPVADLAEHLVRTGQCRHLLLLPGDGELEEMAEELR...   \n",
       "2     GTVLVTGGTGGLGRVMARHLVVEHGVRNLLLVSRRGPAAEGAEELV...   \n",
       "3     GTVLITGGTGALGAEAARWLARSGAEHLLLTSRRGPEAPGAAELAA...   \n",
       "4     GTVLITGGTGVLAAAVAEHLVREWGVRHLLLAGRRGSEAPGSSELA...   \n",
       "...                                                 ...   \n",
       "1162  ATYLVTGGLGGLGLKVARWLVEQGARHLVLVGRRALTAGGEESKRR...   \n",
       "1163  GTVLVTGGTGVLGALVARHLVVGHGVRELVLASRRGLAAPGAVELR...   \n",
       "1164  GTVLVTGGTGVLGALVARHLVVGHGVRELVLASRRGLAAPGAVELR...   \n",
       "1165  GTVLVTGGTGGLGRLVAEHLITRHGVRRLLLASRRGPAAPGVDELV...   \n",
       "1166  GVVLVTGATGALGSVVARHLVAAHGVRRLLLLSRSGMAASGAADLV...   \n",
       "\n",
       "                 subunit_name  module_number  length_aa_residues  \\\n",
       "0                       monAV              7                1801   \n",
       "1                       monAI              1                1811   \n",
       "2                       SgnS1              3                1720   \n",
       "3                       SgnS2              7                1522   \n",
       "4                     monAIII              4                2068   \n",
       "...                       ...            ...                 ...   \n",
       "1162     polyketidesynthase_3              3                1763   \n",
       "1163    beta-ketoacylsynthase              2                1711   \n",
       "1164    beta-ketoacylsynthase              2                1711   \n",
       "1165    beta-ketoacylsynthase              4                1746   \n",
       "1166  beta-ketoacylsynthase_6             10                1685   \n",
       "\n",
       "             substrate_annotation  \\\n",
       "0     substrate mmal, non-loading   \n",
       "1     substrate mmal, non-loading   \n",
       "2      substrate mal, non-loading   \n",
       "3      substrate mal, non-loading   \n",
       "4     substrate mmal, non-loading   \n",
       "...                           ...   \n",
       "1162  substrate mmal, non-loading   \n",
       "1163   substrate mal, non-loading   \n",
       "1164   substrate mal, non-loading   \n",
       "1165   substrate mal, non-loading   \n",
       "1166   substrate mal, non-loading   \n",
       "\n",
       "                                    intermediate_smiles  \\\n",
       "0     CCC([CH][CH]C=C(C)C(=O)[S])=C[C@@H](C)[CH][C]=...   \n",
       "1                               CC(=O)[C@@H](C)C(=O)[S]   \n",
       "2                        CC(=O)C[C@@H](O)CC=[C]C(=O)[S]   \n",
       "3     CC(=O)C[C@@H](O)CC=[C]C=[C]C=[C]C=[C][C@H](O)C...   \n",
       "4     CC(=O)[C@@H](C)[CH][C@H](C)C=[C][CH][C@H](C)C(...   \n",
       "...                                                 ...   \n",
       "1162         CC(=C[C@@H](C)[CH]Cc1ccccc1)C=C(C)C(=O)[S]   \n",
       "1163                           CC(N)CC=[C]C=[C]C(=O)[S]   \n",
       "1164                           CC(N)CC=[C]C=[C]C(=O)[S]   \n",
       "1165                CC(C=[C]C(=O)[S])=C[C]=C[C]=CCC(C)N   \n",
       "1166  CC(C=[C]C=[C]C=[C]C(O)CC(O)CC(O)C(C)C=[C]C(=O)...   \n",
       "\n",
       "                                   name_in_fasta  \\\n",
       "0                        BGC0001670.1_monAV_mod7   \n",
       "1                        BGC0001670.1_monAI_mod1   \n",
       "2                        BGC0001690.1_SgnS1_mod3   \n",
       "3                        BGC0001690.1_SgnS2_mod7   \n",
       "4                      BGC0001670.1_monAIII_mod4   \n",
       "...                                          ...   \n",
       "1162      BGC0001394.1_polyketidesynthase_3_mod3   \n",
       "1163     BGC0000142.1_beta-ketoacylsynthase_mod2   \n",
       "1164     BGC0000142.1_beta-ketoacylsynthase_mod2   \n",
       "1165     BGC0000142.1_beta-ketoacylsynthase_mod4   \n",
       "1166  BGC0000142.1_beta-ketoacylsynthase_6_mod10   \n",
       "\n",
       "                                       protein_sequence  \\\n",
       "0     VAVVGMACRFPGGIETPEGLWELVAAGDDAIEPFPTDRGWDLEGIY...   \n",
       "1     VAIVAMSCRYPGGAGTPEDLWRLVADGADAIGDFPTDRGWDLARLF...   \n",
       "2     VAIIGMACRFPGGVHSPEALWRLLAEGGDAITPMPADRGWDLDRLY...   \n",
       "3     IVIVGMSCRYPGGVASPEDLWRLVSEGTDAISGLPTDRGWDLDALY...   \n",
       "4     IAIVGMACRYPGGVTSPEQLWQLVATGTDAIGPFPEDRGWDTAGLF...   \n",
       "...                                                 ...   \n",
       "1162  VALIGMACRFPGGASDPESFWHVLRDGVDAVTEVPSSRWTQEEAAR...   \n",
       "1163  IAIVAMGCRFPGGVRSPEDLWELLEGGVDAVSGFPTDRGWDLVGMY...   \n",
       "1164  IAIVAMGCRFPGGVRSPEDLWELLEGGVDAVSGFPTDRGWDLVGMY...   \n",
       "1165  VAIVAMGCRFPGGVRSPEDLWELLEGGVDAVSGFPTDRGWDLVGMY...   \n",
       "1166  IAIIGMACRYPGGVSSPEDLWRLVADGVDAIGDFPTDRGWDTAALY...   \n",
       "\n",
       "                                           dna_sequence substrate_type new_kr  \\\n",
       "0     GTGGCCGTCGTCGGCATGGCCTGCCGTTTCCCCGGCGGCATCGAGA...           mmal     B1   \n",
       "1     GTCGCCATCGTGGCCATGAGCTGCCGCTATCCCGGCGGCGCAGGCA...           mmal     C1   \n",
       "2     GTGGCGATCATCGGCATGGCCTGCCGCTTCCCCGGCGGCGTGCACT...            mal      B   \n",
       "3     ATCGTCATCGTCGGCATGAGCTGCCGCTACCCGGGCGGCGTCGCCT...            mal      A   \n",
       "4     ATCGCCATCGTCGGCATGGCGTGCCGCTACCCGGGCGGCGTGACCT...           mmal     B1   \n",
       "...                                                 ...            ...    ...   \n",
       "1162  TGCCTGCGCGCGCGGCGGCGGTGCTGCGTCGCCCGGCAGCGGTATC...           mmal     A1   \n",
       "1163  CGCGACAGCAGCCCGGACCAGATCAAGCAGCATCCGATGCTGCTCC...            mal      B   \n",
       "1164  CGCGACAGCAGCCCGGACCAGATCAAGCAGCATCCGATGCTGCTCC...            mal      B   \n",
       "1165  GGCAGCGACGTGGACGCGGATCAGGTCGACGGTGACCCGGTCCCGC...            mal      B   \n",
       "1166  CCAGGTGGCCCGCCACCCGTCGTCGTCGCCGGCCACGATGGACTCC...            mal      B   \n",
       "\n",
       "     new_st  \n",
       "0      mmal  \n",
       "1      mmal  \n",
       "2       mal  \n",
       "3       mal  \n",
       "4      mmal  \n",
       "...     ...  \n",
       "1162   mmal  \n",
       "1163    mal  \n",
       "1164    mal  \n",
       "1165    mal  \n",
       "1166    mal  \n",
       "\n",
       "[1157 rows x 17 columns]"
      ]
     },
     "execution_count": 222,
     "metadata": {},
     "output_type": "execute_result"
    }
   ],
   "source": [
    "ccad_filtered"
   ]
  },
  {
   "cell_type": "code",
   "execution_count": 223,
   "id": "66a7d71f-5a33-4ca2-8cae-f6c5da49dfd6",
   "metadata": {},
   "outputs": [
    {
     "data": {
      "text/html": [
       "<div>\n",
       "<style scoped>\n",
       "    .dataframe tbody tr th:only-of-type {\n",
       "        vertical-align: middle;\n",
       "    }\n",
       "\n",
       "    .dataframe tbody tr th {\n",
       "        vertical-align: top;\n",
       "    }\n",
       "\n",
       "    .dataframe thead th {\n",
       "        text-align: right;\n",
       "    }\n",
       "</style>\n",
       "<table border=\"1\" class=\"dataframe\">\n",
       "  <thead>\n",
       "    <tr style=\"text-align: right;\">\n",
       "      <th></th>\n",
       "      <th>Unnamed: 0</th>\n",
       "      <th>index</th>\n",
       "      <th>genbank_accession</th>\n",
       "      <th>mibig_accession</th>\n",
       "      <th>kr_type_annotation</th>\n",
       "      <th>kr_sequence</th>\n",
       "      <th>subunit_name</th>\n",
       "      <th>module_number</th>\n",
       "      <th>length_aa_residues</th>\n",
       "      <th>substrate_annotation</th>\n",
       "      <th>intermediate_smiles</th>\n",
       "      <th>name_in_fasta</th>\n",
       "      <th>protein_sequence</th>\n",
       "      <th>dna_sequence</th>\n",
       "      <th>substrate_type</th>\n",
       "      <th>new_kr</th>\n",
       "      <th>new_st</th>\n",
       "    </tr>\n",
       "  </thead>\n",
       "  <tbody>\n",
       "    <tr>\n",
       "      <th>0</th>\n",
       "      <td>0</td>\n",
       "      <td>0</td>\n",
       "      <td>KX263301.1</td>\n",
       "      <td>BGC0001670.1</td>\n",
       "      <td>B1</td>\n",
       "      <td>GTVLIAGGTGMMGGLVAEHLVRAWSVRHLLLVSRQGPDAPDARDLA...</td>\n",
       "      <td>monAV</td>\n",
       "      <td>7</td>\n",
       "      <td>1801</td>\n",
       "      <td>substrate mmal, non-loading</td>\n",
       "      <td>CCC([CH][CH]C=C(C)C(=O)[S])=C[C@@H](C)[CH][C]=...</td>\n",
       "      <td>BGC0001670.1_monAV_mod7</td>\n",
       "      <td>VAVVGMACRFPGGIETPEGLWELVAAGDDAIEPFPTDRGWDLEGIY...</td>\n",
       "      <td>GTGGCCGTCGTCGGCATGGCCTGCCGTTTCCCCGGCGGCATCGAGA...</td>\n",
       "      <td>mmal</td>\n",
       "      <td>B1</td>\n",
       "      <td>mmal</td>\n",
       "    </tr>\n",
       "    <tr>\n",
       "      <th>1</th>\n",
       "      <td>1</td>\n",
       "      <td>1</td>\n",
       "      <td>KX263301.1</td>\n",
       "      <td>BGC0001670.1</td>\n",
       "      <td>C1</td>\n",
       "      <td>GTVLITGPAGAPVADLAEHLVRTGQCRHLLLLPGDGELEEMAEELR...</td>\n",
       "      <td>monAI</td>\n",
       "      <td>1</td>\n",
       "      <td>1811</td>\n",
       "      <td>substrate mmal, non-loading</td>\n",
       "      <td>CC(=O)[C@@H](C)C(=O)[S]</td>\n",
       "      <td>BGC0001670.1_monAI_mod1</td>\n",
       "      <td>VAIVAMSCRYPGGAGTPEDLWRLVADGADAIGDFPTDRGWDLARLF...</td>\n",
       "      <td>GTCGCCATCGTGGCCATGAGCTGCCGCTATCCCGGCGGCGCAGGCA...</td>\n",
       "      <td>mmal</td>\n",
       "      <td>C1</td>\n",
       "      <td>mmal</td>\n",
       "    </tr>\n",
       "    <tr>\n",
       "      <th>2</th>\n",
       "      <td>2</td>\n",
       "      <td>2</td>\n",
       "      <td>KX458106.1</td>\n",
       "      <td>BGC0001690.1</td>\n",
       "      <td>B1</td>\n",
       "      <td>GTVLVTGGTGGLGRVMARHLVVEHGVRNLLLVSRRGPAAEGAEELV...</td>\n",
       "      <td>SgnS1</td>\n",
       "      <td>3</td>\n",
       "      <td>1720</td>\n",
       "      <td>substrate mal, non-loading</td>\n",
       "      <td>CC(=O)C[C@@H](O)CC=[C]C(=O)[S]</td>\n",
       "      <td>BGC0001690.1_SgnS1_mod3</td>\n",
       "      <td>VAIIGMACRFPGGVHSPEALWRLLAEGGDAITPMPADRGWDLDRLY...</td>\n",
       "      <td>GTGGCGATCATCGGCATGGCCTGCCGCTTCCCCGGCGGCGTGCACT...</td>\n",
       "      <td>mal</td>\n",
       "      <td>B</td>\n",
       "      <td>mal</td>\n",
       "    </tr>\n",
       "    <tr>\n",
       "      <th>3</th>\n",
       "      <td>3</td>\n",
       "      <td>3</td>\n",
       "      <td>KX458106.1</td>\n",
       "      <td>BGC0001690.1</td>\n",
       "      <td>A1</td>\n",
       "      <td>GTVLITGGTGALGAEAARWLARSGAEHLLLTSRRGPEAPGAAELAA...</td>\n",
       "      <td>SgnS2</td>\n",
       "      <td>7</td>\n",
       "      <td>1522</td>\n",
       "      <td>substrate mal, non-loading</td>\n",
       "      <td>CC(=O)C[C@@H](O)CC=[C]C=[C]C=[C]C=[C][C@H](O)C...</td>\n",
       "      <td>BGC0001690.1_SgnS2_mod7</td>\n",
       "      <td>IVIVGMSCRYPGGVASPEDLWRLVSEGTDAISGLPTDRGWDLDALY...</td>\n",
       "      <td>ATCGTCATCGTCGGCATGAGCTGCCGCTACCCGGGCGGCGTCGCCT...</td>\n",
       "      <td>mal</td>\n",
       "      <td>A</td>\n",
       "      <td>mal</td>\n",
       "    </tr>\n",
       "    <tr>\n",
       "      <th>4</th>\n",
       "      <td>4</td>\n",
       "      <td>4</td>\n",
       "      <td>KX263301.1</td>\n",
       "      <td>BGC0001670.1</td>\n",
       "      <td>B1</td>\n",
       "      <td>GTVLITGGTGVLAAAVAEHLVREWGVRHLLLAGRRGSEAPGSSELA...</td>\n",
       "      <td>monAIII</td>\n",
       "      <td>4</td>\n",
       "      <td>2068</td>\n",
       "      <td>substrate mmal, non-loading</td>\n",
       "      <td>CC(=O)[C@@H](C)[CH][C@H](C)C=[C][CH][C@H](C)C(...</td>\n",
       "      <td>BGC0001670.1_monAIII_mod4</td>\n",
       "      <td>IAIVGMACRYPGGVTSPEQLWQLVATGTDAIGPFPEDRGWDTAGLF...</td>\n",
       "      <td>ATCGCCATCGTCGGCATGGCGTGCCGCTACCCGGGCGGCGTGACCT...</td>\n",
       "      <td>mmal</td>\n",
       "      <td>B1</td>\n",
       "      <td>mmal</td>\n",
       "    </tr>\n",
       "    <tr>\n",
       "      <th>...</th>\n",
       "      <td>...</td>\n",
       "      <td>...</td>\n",
       "      <td>...</td>\n",
       "      <td>...</td>\n",
       "      <td>...</td>\n",
       "      <td>...</td>\n",
       "      <td>...</td>\n",
       "      <td>...</td>\n",
       "      <td>...</td>\n",
       "      <td>...</td>\n",
       "      <td>...</td>\n",
       "      <td>...</td>\n",
       "      <td>...</td>\n",
       "      <td>...</td>\n",
       "      <td>...</td>\n",
       "      <td>...</td>\n",
       "      <td>...</td>\n",
       "    </tr>\n",
       "    <tr>\n",
       "      <th>1162</th>\n",
       "      <td>1163</td>\n",
       "      <td>1179</td>\n",
       "      <td>CP004025.1</td>\n",
       "      <td>BGC0001394.1</td>\n",
       "      <td>A1</td>\n",
       "      <td>ATYLVTGGLGGLGLKVARWLVEQGARHLVLVGRRALTAGGEESKRR...</td>\n",
       "      <td>polyketidesynthase_3</td>\n",
       "      <td>3</td>\n",
       "      <td>1763</td>\n",
       "      <td>substrate mmal, non-loading</td>\n",
       "      <td>CC(=C[C@@H](C)[CH]Cc1ccccc1)C=C(C)C(=O)[S]</td>\n",
       "      <td>BGC0001394.1_polyketidesynthase_3_mod3</td>\n",
       "      <td>VALIGMACRFPGGASDPESFWHVLRDGVDAVTEVPSSRWTQEEAAR...</td>\n",
       "      <td>TGCCTGCGCGCGCGGCGGCGGTGCTGCGTCGCCCGGCAGCGGTATC...</td>\n",
       "      <td>mmal</td>\n",
       "      <td>A1</td>\n",
       "      <td>mmal</td>\n",
       "    </tr>\n",
       "    <tr>\n",
       "      <th>1163</th>\n",
       "      <td>1164</td>\n",
       "      <td>1180</td>\n",
       "      <td>CP000667.1</td>\n",
       "      <td>BGC0000142.1</td>\n",
       "      <td>B1</td>\n",
       "      <td>GTVLVTGGTGVLGALVARHLVVGHGVRELVLASRRGLAAPGAVELR...</td>\n",
       "      <td>beta-ketoacylsynthase</td>\n",
       "      <td>2</td>\n",
       "      <td>1711</td>\n",
       "      <td>substrate mal, non-loading</td>\n",
       "      <td>CC(N)CC=[C]C=[C]C(=O)[S]</td>\n",
       "      <td>BGC0000142.1_beta-ketoacylsynthase_mod2</td>\n",
       "      <td>IAIVAMGCRFPGGVRSPEDLWELLEGGVDAVSGFPTDRGWDLVGMY...</td>\n",
       "      <td>CGCGACAGCAGCCCGGACCAGATCAAGCAGCATCCGATGCTGCTCC...</td>\n",
       "      <td>mal</td>\n",
       "      <td>B</td>\n",
       "      <td>mal</td>\n",
       "    </tr>\n",
       "    <tr>\n",
       "      <th>1164</th>\n",
       "      <td>1165</td>\n",
       "      <td>1181</td>\n",
       "      <td>CP000667.1</td>\n",
       "      <td>BGC0000142.1</td>\n",
       "      <td>B1</td>\n",
       "      <td>GTVLVTGGTGVLGALVARHLVVGHGVRELVLASRRGLAAPGAVELR...</td>\n",
       "      <td>beta-ketoacylsynthase</td>\n",
       "      <td>2</td>\n",
       "      <td>1711</td>\n",
       "      <td>substrate mal, non-loading</td>\n",
       "      <td>CC(N)CC=[C]C=[C]C(=O)[S]</td>\n",
       "      <td>BGC0000142.1_beta-ketoacylsynthase_mod2</td>\n",
       "      <td>IAIVAMGCRFPGGVRSPEDLWELLEGGVDAVSGFPTDRGWDLVGMY...</td>\n",
       "      <td>CGCGACAGCAGCCCGGACCAGATCAAGCAGCATCCGATGCTGCTCC...</td>\n",
       "      <td>mal</td>\n",
       "      <td>B</td>\n",
       "      <td>mal</td>\n",
       "    </tr>\n",
       "    <tr>\n",
       "      <th>1165</th>\n",
       "      <td>1166</td>\n",
       "      <td>1182</td>\n",
       "      <td>CP000667.1</td>\n",
       "      <td>BGC0000142.1</td>\n",
       "      <td>B1</td>\n",
       "      <td>GTVLVTGGTGGLGRLVAEHLITRHGVRRLLLASRRGPAAPGVDELV...</td>\n",
       "      <td>beta-ketoacylsynthase</td>\n",
       "      <td>4</td>\n",
       "      <td>1746</td>\n",
       "      <td>substrate mal, non-loading</td>\n",
       "      <td>CC(C=[C]C(=O)[S])=C[C]=C[C]=CCC(C)N</td>\n",
       "      <td>BGC0000142.1_beta-ketoacylsynthase_mod4</td>\n",
       "      <td>VAIVAMGCRFPGGVRSPEDLWELLEGGVDAVSGFPTDRGWDLVGMY...</td>\n",
       "      <td>GGCAGCGACGTGGACGCGGATCAGGTCGACGGTGACCCGGTCCCGC...</td>\n",
       "      <td>mal</td>\n",
       "      <td>B</td>\n",
       "      <td>mal</td>\n",
       "    </tr>\n",
       "    <tr>\n",
       "      <th>1166</th>\n",
       "      <td>1167</td>\n",
       "      <td>1183</td>\n",
       "      <td>CP000667.1</td>\n",
       "      <td>BGC0000142.1</td>\n",
       "      <td>B1</td>\n",
       "      <td>GVVLVTGATGALGSVVARHLVAAHGVRRLLLLSRSGMAASGAADLV...</td>\n",
       "      <td>beta-ketoacylsynthase_6</td>\n",
       "      <td>10</td>\n",
       "      <td>1685</td>\n",
       "      <td>substrate mal, non-loading</td>\n",
       "      <td>CC(C=[C]C=[C]C=[C]C(O)CC(O)CC(O)C(C)C=[C]C(=O)...</td>\n",
       "      <td>BGC0000142.1_beta-ketoacylsynthase_6_mod10</td>\n",
       "      <td>IAIIGMACRYPGGVSSPEDLWRLVADGVDAIGDFPTDRGWDTAALY...</td>\n",
       "      <td>CCAGGTGGCCCGCCACCCGTCGTCGTCGCCGGCCACGATGGACTCC...</td>\n",
       "      <td>mal</td>\n",
       "      <td>B</td>\n",
       "      <td>mal</td>\n",
       "    </tr>\n",
       "  </tbody>\n",
       "</table>\n",
       "<p>1157 rows × 17 columns</p>\n",
       "</div>"
      ],
      "text/plain": [
       "      Unnamed: 0  index genbank_accession mibig_accession kr_type_annotation  \\\n",
       "0              0      0        KX263301.1    BGC0001670.1                 B1   \n",
       "1              1      1        KX263301.1    BGC0001670.1                 C1   \n",
       "2              2      2        KX458106.1    BGC0001690.1                 B1   \n",
       "3              3      3        KX458106.1    BGC0001690.1                 A1   \n",
       "4              4      4        KX263301.1    BGC0001670.1                 B1   \n",
       "...          ...    ...               ...             ...                ...   \n",
       "1162        1163   1179        CP004025.1    BGC0001394.1                 A1   \n",
       "1163        1164   1180        CP000667.1    BGC0000142.1                 B1   \n",
       "1164        1165   1181        CP000667.1    BGC0000142.1                 B1   \n",
       "1165        1166   1182        CP000667.1    BGC0000142.1                 B1   \n",
       "1166        1167   1183        CP000667.1    BGC0000142.1                 B1   \n",
       "\n",
       "                                            kr_sequence  \\\n",
       "0     GTVLIAGGTGMMGGLVAEHLVRAWSVRHLLLVSRQGPDAPDARDLA...   \n",
       "1     GTVLITGPAGAPVADLAEHLVRTGQCRHLLLLPGDGELEEMAEELR...   \n",
       "2     GTVLVTGGTGGLGRVMARHLVVEHGVRNLLLVSRRGPAAEGAEELV...   \n",
       "3     GTVLITGGTGALGAEAARWLARSGAEHLLLTSRRGPEAPGAAELAA...   \n",
       "4     GTVLITGGTGVLAAAVAEHLVREWGVRHLLLAGRRGSEAPGSSELA...   \n",
       "...                                                 ...   \n",
       "1162  ATYLVTGGLGGLGLKVARWLVEQGARHLVLVGRRALTAGGEESKRR...   \n",
       "1163  GTVLVTGGTGVLGALVARHLVVGHGVRELVLASRRGLAAPGAVELR...   \n",
       "1164  GTVLVTGGTGVLGALVARHLVVGHGVRELVLASRRGLAAPGAVELR...   \n",
       "1165  GTVLVTGGTGGLGRLVAEHLITRHGVRRLLLASRRGPAAPGVDELV...   \n",
       "1166  GVVLVTGATGALGSVVARHLVAAHGVRRLLLLSRSGMAASGAADLV...   \n",
       "\n",
       "                 subunit_name  module_number  length_aa_residues  \\\n",
       "0                       monAV              7                1801   \n",
       "1                       monAI              1                1811   \n",
       "2                       SgnS1              3                1720   \n",
       "3                       SgnS2              7                1522   \n",
       "4                     monAIII              4                2068   \n",
       "...                       ...            ...                 ...   \n",
       "1162     polyketidesynthase_3              3                1763   \n",
       "1163    beta-ketoacylsynthase              2                1711   \n",
       "1164    beta-ketoacylsynthase              2                1711   \n",
       "1165    beta-ketoacylsynthase              4                1746   \n",
       "1166  beta-ketoacylsynthase_6             10                1685   \n",
       "\n",
       "             substrate_annotation  \\\n",
       "0     substrate mmal, non-loading   \n",
       "1     substrate mmal, non-loading   \n",
       "2      substrate mal, non-loading   \n",
       "3      substrate mal, non-loading   \n",
       "4     substrate mmal, non-loading   \n",
       "...                           ...   \n",
       "1162  substrate mmal, non-loading   \n",
       "1163   substrate mal, non-loading   \n",
       "1164   substrate mal, non-loading   \n",
       "1165   substrate mal, non-loading   \n",
       "1166   substrate mal, non-loading   \n",
       "\n",
       "                                    intermediate_smiles  \\\n",
       "0     CCC([CH][CH]C=C(C)C(=O)[S])=C[C@@H](C)[CH][C]=...   \n",
       "1                               CC(=O)[C@@H](C)C(=O)[S]   \n",
       "2                        CC(=O)C[C@@H](O)CC=[C]C(=O)[S]   \n",
       "3     CC(=O)C[C@@H](O)CC=[C]C=[C]C=[C]C=[C][C@H](O)C...   \n",
       "4     CC(=O)[C@@H](C)[CH][C@H](C)C=[C][CH][C@H](C)C(...   \n",
       "...                                                 ...   \n",
       "1162         CC(=C[C@@H](C)[CH]Cc1ccccc1)C=C(C)C(=O)[S]   \n",
       "1163                           CC(N)CC=[C]C=[C]C(=O)[S]   \n",
       "1164                           CC(N)CC=[C]C=[C]C(=O)[S]   \n",
       "1165                CC(C=[C]C(=O)[S])=C[C]=C[C]=CCC(C)N   \n",
       "1166  CC(C=[C]C=[C]C=[C]C(O)CC(O)CC(O)C(C)C=[C]C(=O)...   \n",
       "\n",
       "                                   name_in_fasta  \\\n",
       "0                        BGC0001670.1_monAV_mod7   \n",
       "1                        BGC0001670.1_monAI_mod1   \n",
       "2                        BGC0001690.1_SgnS1_mod3   \n",
       "3                        BGC0001690.1_SgnS2_mod7   \n",
       "4                      BGC0001670.1_monAIII_mod4   \n",
       "...                                          ...   \n",
       "1162      BGC0001394.1_polyketidesynthase_3_mod3   \n",
       "1163     BGC0000142.1_beta-ketoacylsynthase_mod2   \n",
       "1164     BGC0000142.1_beta-ketoacylsynthase_mod2   \n",
       "1165     BGC0000142.1_beta-ketoacylsynthase_mod4   \n",
       "1166  BGC0000142.1_beta-ketoacylsynthase_6_mod10   \n",
       "\n",
       "                                       protein_sequence  \\\n",
       "0     VAVVGMACRFPGGIETPEGLWELVAAGDDAIEPFPTDRGWDLEGIY...   \n",
       "1     VAIVAMSCRYPGGAGTPEDLWRLVADGADAIGDFPTDRGWDLARLF...   \n",
       "2     VAIIGMACRFPGGVHSPEALWRLLAEGGDAITPMPADRGWDLDRLY...   \n",
       "3     IVIVGMSCRYPGGVASPEDLWRLVSEGTDAISGLPTDRGWDLDALY...   \n",
       "4     IAIVGMACRYPGGVTSPEQLWQLVATGTDAIGPFPEDRGWDTAGLF...   \n",
       "...                                                 ...   \n",
       "1162  VALIGMACRFPGGASDPESFWHVLRDGVDAVTEVPSSRWTQEEAAR...   \n",
       "1163  IAIVAMGCRFPGGVRSPEDLWELLEGGVDAVSGFPTDRGWDLVGMY...   \n",
       "1164  IAIVAMGCRFPGGVRSPEDLWELLEGGVDAVSGFPTDRGWDLVGMY...   \n",
       "1165  VAIVAMGCRFPGGVRSPEDLWELLEGGVDAVSGFPTDRGWDLVGMY...   \n",
       "1166  IAIIGMACRYPGGVSSPEDLWRLVADGVDAIGDFPTDRGWDTAALY...   \n",
       "\n",
       "                                           dna_sequence substrate_type new_kr  \\\n",
       "0     GTGGCCGTCGTCGGCATGGCCTGCCGTTTCCCCGGCGGCATCGAGA...           mmal     B1   \n",
       "1     GTCGCCATCGTGGCCATGAGCTGCCGCTATCCCGGCGGCGCAGGCA...           mmal     C1   \n",
       "2     GTGGCGATCATCGGCATGGCCTGCCGCTTCCCCGGCGGCGTGCACT...            mal      B   \n",
       "3     ATCGTCATCGTCGGCATGAGCTGCCGCTACCCGGGCGGCGTCGCCT...            mal      A   \n",
       "4     ATCGCCATCGTCGGCATGGCGTGCCGCTACCCGGGCGGCGTGACCT...           mmal     B1   \n",
       "...                                                 ...            ...    ...   \n",
       "1162  TGCCTGCGCGCGCGGCGGCGGTGCTGCGTCGCCCGGCAGCGGTATC...           mmal     A1   \n",
       "1163  CGCGACAGCAGCCCGGACCAGATCAAGCAGCATCCGATGCTGCTCC...            mal      B   \n",
       "1164  CGCGACAGCAGCCCGGACCAGATCAAGCAGCATCCGATGCTGCTCC...            mal      B   \n",
       "1165  GGCAGCGACGTGGACGCGGATCAGGTCGACGGTGACCCGGTCCCGC...            mal      B   \n",
       "1166  CCAGGTGGCCCGCCACCCGTCGTCGTCGCCGGCCACGATGGACTCC...            mal      B   \n",
       "\n",
       "     new_st  \n",
       "0      mmal  \n",
       "1      mmal  \n",
       "2       mal  \n",
       "3       mal  \n",
       "4      mmal  \n",
       "...     ...  \n",
       "1162   mmal  \n",
       "1163    mal  \n",
       "1164    mal  \n",
       "1165    mal  \n",
       "1166    mal  \n",
       "\n",
       "[1157 rows x 17 columns]"
      ]
     },
     "execution_count": 223,
     "metadata": {},
     "output_type": "execute_result"
    }
   ],
   "source": [
    "ccad_filtered"
   ]
  },
  {
   "cell_type": "code",
   "execution_count": 224,
   "id": "06024cdd-fa0d-40fa-a9d5-2aa2383cbb4a",
   "metadata": {},
   "outputs": [
    {
     "name": "stdout",
     "output_type": "stream",
     "text": [
      "1157\n"
     ]
    }
   ],
   "source": [
    "clustercad_idx = ccad_filtered.index.to_numpy().tolist()\n",
    "ccad_filtered_embeddings = [ccad_filtered_embeddings[i] for i in clustercad_idx]\n",
    "print(len(ccad_filtered_embeddings))"
   ]
  },
  {
   "cell_type": "code",
   "execution_count": 225,
   "id": "88a317a3-074a-4a40-96c5-161a6aacb20f",
   "metadata": {},
   "outputs": [
    {
     "data": {
      "text/html": [
       "<div>\n",
       "<style scoped>\n",
       "    .dataframe tbody tr th:only-of-type {\n",
       "        vertical-align: middle;\n",
       "    }\n",
       "\n",
       "    .dataframe tbody tr th {\n",
       "        vertical-align: top;\n",
       "    }\n",
       "\n",
       "    .dataframe thead th {\n",
       "        text-align: right;\n",
       "    }\n",
       "</style>\n",
       "<table border=\"1\" class=\"dataframe\">\n",
       "  <thead>\n",
       "    <tr style=\"text-align: right;\">\n",
       "      <th></th>\n",
       "      <th>Unnamed: 0</th>\n",
       "      <th>index</th>\n",
       "      <th>genbank_accession</th>\n",
       "      <th>mibig_accession</th>\n",
       "      <th>kr_type_annotation</th>\n",
       "      <th>kr_sequence</th>\n",
       "      <th>subunit_name</th>\n",
       "      <th>module_number</th>\n",
       "      <th>length_aa_residues</th>\n",
       "      <th>substrate_annotation</th>\n",
       "      <th>intermediate_smiles</th>\n",
       "      <th>name_in_fasta</th>\n",
       "      <th>protein_sequence</th>\n",
       "      <th>dna_sequence</th>\n",
       "      <th>substrate_type</th>\n",
       "      <th>new_kr</th>\n",
       "      <th>new_st</th>\n",
       "    </tr>\n",
       "  </thead>\n",
       "  <tbody>\n",
       "    <tr>\n",
       "      <th>0</th>\n",
       "      <td>0</td>\n",
       "      <td>0</td>\n",
       "      <td>KX263301.1</td>\n",
       "      <td>BGC0001670.1</td>\n",
       "      <td>B1</td>\n",
       "      <td>GTVLIAGGTGMMGGLVAEHLVRAWSVRHLLLVSRQGPDAPDARDLA...</td>\n",
       "      <td>monAV</td>\n",
       "      <td>7</td>\n",
       "      <td>1801</td>\n",
       "      <td>substrate mmal, non-loading</td>\n",
       "      <td>CCC([CH][CH]C=C(C)C(=O)[S])=C[C@@H](C)[CH][C]=...</td>\n",
       "      <td>BGC0001670.1_monAV_mod7</td>\n",
       "      <td>VAVVGMACRFPGGIETPEGLWELVAAGDDAIEPFPTDRGWDLEGIY...</td>\n",
       "      <td>GTGGCCGTCGTCGGCATGGCCTGCCGTTTCCCCGGCGGCATCGAGA...</td>\n",
       "      <td>mmal</td>\n",
       "      <td>B1</td>\n",
       "      <td>mmal</td>\n",
       "    </tr>\n",
       "    <tr>\n",
       "      <th>1</th>\n",
       "      <td>1</td>\n",
       "      <td>1</td>\n",
       "      <td>KX263301.1</td>\n",
       "      <td>BGC0001670.1</td>\n",
       "      <td>C1</td>\n",
       "      <td>GTVLITGPAGAPVADLAEHLVRTGQCRHLLLLPGDGELEEMAEELR...</td>\n",
       "      <td>monAI</td>\n",
       "      <td>1</td>\n",
       "      <td>1811</td>\n",
       "      <td>substrate mmal, non-loading</td>\n",
       "      <td>CC(=O)[C@@H](C)C(=O)[S]</td>\n",
       "      <td>BGC0001670.1_monAI_mod1</td>\n",
       "      <td>VAIVAMSCRYPGGAGTPEDLWRLVADGADAIGDFPTDRGWDLARLF...</td>\n",
       "      <td>GTCGCCATCGTGGCCATGAGCTGCCGCTATCCCGGCGGCGCAGGCA...</td>\n",
       "      <td>mmal</td>\n",
       "      <td>C1</td>\n",
       "      <td>mmal</td>\n",
       "    </tr>\n",
       "    <tr>\n",
       "      <th>2</th>\n",
       "      <td>2</td>\n",
       "      <td>2</td>\n",
       "      <td>KX458106.1</td>\n",
       "      <td>BGC0001690.1</td>\n",
       "      <td>B1</td>\n",
       "      <td>GTVLVTGGTGGLGRVMARHLVVEHGVRNLLLVSRRGPAAEGAEELV...</td>\n",
       "      <td>SgnS1</td>\n",
       "      <td>3</td>\n",
       "      <td>1720</td>\n",
       "      <td>substrate mal, non-loading</td>\n",
       "      <td>CC(=O)C[C@@H](O)CC=[C]C(=O)[S]</td>\n",
       "      <td>BGC0001690.1_SgnS1_mod3</td>\n",
       "      <td>VAIIGMACRFPGGVHSPEALWRLLAEGGDAITPMPADRGWDLDRLY...</td>\n",
       "      <td>GTGGCGATCATCGGCATGGCCTGCCGCTTCCCCGGCGGCGTGCACT...</td>\n",
       "      <td>mal</td>\n",
       "      <td>B</td>\n",
       "      <td>mal</td>\n",
       "    </tr>\n",
       "    <tr>\n",
       "      <th>3</th>\n",
       "      <td>3</td>\n",
       "      <td>3</td>\n",
       "      <td>KX458106.1</td>\n",
       "      <td>BGC0001690.1</td>\n",
       "      <td>A1</td>\n",
       "      <td>GTVLITGGTGALGAEAARWLARSGAEHLLLTSRRGPEAPGAAELAA...</td>\n",
       "      <td>SgnS2</td>\n",
       "      <td>7</td>\n",
       "      <td>1522</td>\n",
       "      <td>substrate mal, non-loading</td>\n",
       "      <td>CC(=O)C[C@@H](O)CC=[C]C=[C]C=[C]C=[C][C@H](O)C...</td>\n",
       "      <td>BGC0001690.1_SgnS2_mod7</td>\n",
       "      <td>IVIVGMSCRYPGGVASPEDLWRLVSEGTDAISGLPTDRGWDLDALY...</td>\n",
       "      <td>ATCGTCATCGTCGGCATGAGCTGCCGCTACCCGGGCGGCGTCGCCT...</td>\n",
       "      <td>mal</td>\n",
       "      <td>A</td>\n",
       "      <td>mal</td>\n",
       "    </tr>\n",
       "    <tr>\n",
       "      <th>4</th>\n",
       "      <td>4</td>\n",
       "      <td>4</td>\n",
       "      <td>KX263301.1</td>\n",
       "      <td>BGC0001670.1</td>\n",
       "      <td>B1</td>\n",
       "      <td>GTVLITGGTGVLAAAVAEHLVREWGVRHLLLAGRRGSEAPGSSELA...</td>\n",
       "      <td>monAIII</td>\n",
       "      <td>4</td>\n",
       "      <td>2068</td>\n",
       "      <td>substrate mmal, non-loading</td>\n",
       "      <td>CC(=O)[C@@H](C)[CH][C@H](C)C=[C][CH][C@H](C)C(...</td>\n",
       "      <td>BGC0001670.1_monAIII_mod4</td>\n",
       "      <td>IAIVGMACRYPGGVTSPEQLWQLVATGTDAIGPFPEDRGWDTAGLF...</td>\n",
       "      <td>ATCGCCATCGTCGGCATGGCGTGCCGCTACCCGGGCGGCGTGACCT...</td>\n",
       "      <td>mmal</td>\n",
       "      <td>B1</td>\n",
       "      <td>mmal</td>\n",
       "    </tr>\n",
       "    <tr>\n",
       "      <th>...</th>\n",
       "      <td>...</td>\n",
       "      <td>...</td>\n",
       "      <td>...</td>\n",
       "      <td>...</td>\n",
       "      <td>...</td>\n",
       "      <td>...</td>\n",
       "      <td>...</td>\n",
       "      <td>...</td>\n",
       "      <td>...</td>\n",
       "      <td>...</td>\n",
       "      <td>...</td>\n",
       "      <td>...</td>\n",
       "      <td>...</td>\n",
       "      <td>...</td>\n",
       "      <td>...</td>\n",
       "      <td>...</td>\n",
       "      <td>...</td>\n",
       "    </tr>\n",
       "    <tr>\n",
       "      <th>1162</th>\n",
       "      <td>1163</td>\n",
       "      <td>1179</td>\n",
       "      <td>CP004025.1</td>\n",
       "      <td>BGC0001394.1</td>\n",
       "      <td>A1</td>\n",
       "      <td>ATYLVTGGLGGLGLKVARWLVEQGARHLVLVGRRALTAGGEESKRR...</td>\n",
       "      <td>polyketidesynthase_3</td>\n",
       "      <td>3</td>\n",
       "      <td>1763</td>\n",
       "      <td>substrate mmal, non-loading</td>\n",
       "      <td>CC(=C[C@@H](C)[CH]Cc1ccccc1)C=C(C)C(=O)[S]</td>\n",
       "      <td>BGC0001394.1_polyketidesynthase_3_mod3</td>\n",
       "      <td>VALIGMACRFPGGASDPESFWHVLRDGVDAVTEVPSSRWTQEEAAR...</td>\n",
       "      <td>TGCCTGCGCGCGCGGCGGCGGTGCTGCGTCGCCCGGCAGCGGTATC...</td>\n",
       "      <td>mmal</td>\n",
       "      <td>A1</td>\n",
       "      <td>mmal</td>\n",
       "    </tr>\n",
       "    <tr>\n",
       "      <th>1163</th>\n",
       "      <td>1164</td>\n",
       "      <td>1180</td>\n",
       "      <td>CP000667.1</td>\n",
       "      <td>BGC0000142.1</td>\n",
       "      <td>B1</td>\n",
       "      <td>GTVLVTGGTGVLGALVARHLVVGHGVRELVLASRRGLAAPGAVELR...</td>\n",
       "      <td>beta-ketoacylsynthase</td>\n",
       "      <td>2</td>\n",
       "      <td>1711</td>\n",
       "      <td>substrate mal, non-loading</td>\n",
       "      <td>CC(N)CC=[C]C=[C]C(=O)[S]</td>\n",
       "      <td>BGC0000142.1_beta-ketoacylsynthase_mod2</td>\n",
       "      <td>IAIVAMGCRFPGGVRSPEDLWELLEGGVDAVSGFPTDRGWDLVGMY...</td>\n",
       "      <td>CGCGACAGCAGCCCGGACCAGATCAAGCAGCATCCGATGCTGCTCC...</td>\n",
       "      <td>mal</td>\n",
       "      <td>B</td>\n",
       "      <td>mal</td>\n",
       "    </tr>\n",
       "    <tr>\n",
       "      <th>1164</th>\n",
       "      <td>1165</td>\n",
       "      <td>1181</td>\n",
       "      <td>CP000667.1</td>\n",
       "      <td>BGC0000142.1</td>\n",
       "      <td>B1</td>\n",
       "      <td>GTVLVTGGTGVLGALVARHLVVGHGVRELVLASRRGLAAPGAVELR...</td>\n",
       "      <td>beta-ketoacylsynthase</td>\n",
       "      <td>2</td>\n",
       "      <td>1711</td>\n",
       "      <td>substrate mal, non-loading</td>\n",
       "      <td>CC(N)CC=[C]C=[C]C(=O)[S]</td>\n",
       "      <td>BGC0000142.1_beta-ketoacylsynthase_mod2</td>\n",
       "      <td>IAIVAMGCRFPGGVRSPEDLWELLEGGVDAVSGFPTDRGWDLVGMY...</td>\n",
       "      <td>CGCGACAGCAGCCCGGACCAGATCAAGCAGCATCCGATGCTGCTCC...</td>\n",
       "      <td>mal</td>\n",
       "      <td>B</td>\n",
       "      <td>mal</td>\n",
       "    </tr>\n",
       "    <tr>\n",
       "      <th>1165</th>\n",
       "      <td>1166</td>\n",
       "      <td>1182</td>\n",
       "      <td>CP000667.1</td>\n",
       "      <td>BGC0000142.1</td>\n",
       "      <td>B1</td>\n",
       "      <td>GTVLVTGGTGGLGRLVAEHLITRHGVRRLLLASRRGPAAPGVDELV...</td>\n",
       "      <td>beta-ketoacylsynthase</td>\n",
       "      <td>4</td>\n",
       "      <td>1746</td>\n",
       "      <td>substrate mal, non-loading</td>\n",
       "      <td>CC(C=[C]C(=O)[S])=C[C]=C[C]=CCC(C)N</td>\n",
       "      <td>BGC0000142.1_beta-ketoacylsynthase_mod4</td>\n",
       "      <td>VAIVAMGCRFPGGVRSPEDLWELLEGGVDAVSGFPTDRGWDLVGMY...</td>\n",
       "      <td>GGCAGCGACGTGGACGCGGATCAGGTCGACGGTGACCCGGTCCCGC...</td>\n",
       "      <td>mal</td>\n",
       "      <td>B</td>\n",
       "      <td>mal</td>\n",
       "    </tr>\n",
       "    <tr>\n",
       "      <th>1166</th>\n",
       "      <td>1167</td>\n",
       "      <td>1183</td>\n",
       "      <td>CP000667.1</td>\n",
       "      <td>BGC0000142.1</td>\n",
       "      <td>B1</td>\n",
       "      <td>GVVLVTGATGALGSVVARHLVAAHGVRRLLLLSRSGMAASGAADLV...</td>\n",
       "      <td>beta-ketoacylsynthase_6</td>\n",
       "      <td>10</td>\n",
       "      <td>1685</td>\n",
       "      <td>substrate mal, non-loading</td>\n",
       "      <td>CC(C=[C]C=[C]C=[C]C(O)CC(O)CC(O)C(C)C=[C]C(=O)...</td>\n",
       "      <td>BGC0000142.1_beta-ketoacylsynthase_6_mod10</td>\n",
       "      <td>IAIIGMACRYPGGVSSPEDLWRLVADGVDAIGDFPTDRGWDTAALY...</td>\n",
       "      <td>CCAGGTGGCCCGCCACCCGTCGTCGTCGCCGGCCACGATGGACTCC...</td>\n",
       "      <td>mal</td>\n",
       "      <td>B</td>\n",
       "      <td>mal</td>\n",
       "    </tr>\n",
       "  </tbody>\n",
       "</table>\n",
       "<p>1157 rows × 17 columns</p>\n",
       "</div>"
      ],
      "text/plain": [
       "      Unnamed: 0  index genbank_accession mibig_accession kr_type_annotation  \\\n",
       "0              0      0        KX263301.1    BGC0001670.1                 B1   \n",
       "1              1      1        KX263301.1    BGC0001670.1                 C1   \n",
       "2              2      2        KX458106.1    BGC0001690.1                 B1   \n",
       "3              3      3        KX458106.1    BGC0001690.1                 A1   \n",
       "4              4      4        KX263301.1    BGC0001670.1                 B1   \n",
       "...          ...    ...               ...             ...                ...   \n",
       "1162        1163   1179        CP004025.1    BGC0001394.1                 A1   \n",
       "1163        1164   1180        CP000667.1    BGC0000142.1                 B1   \n",
       "1164        1165   1181        CP000667.1    BGC0000142.1                 B1   \n",
       "1165        1166   1182        CP000667.1    BGC0000142.1                 B1   \n",
       "1166        1167   1183        CP000667.1    BGC0000142.1                 B1   \n",
       "\n",
       "                                            kr_sequence  \\\n",
       "0     GTVLIAGGTGMMGGLVAEHLVRAWSVRHLLLVSRQGPDAPDARDLA...   \n",
       "1     GTVLITGPAGAPVADLAEHLVRTGQCRHLLLLPGDGELEEMAEELR...   \n",
       "2     GTVLVTGGTGGLGRVMARHLVVEHGVRNLLLVSRRGPAAEGAEELV...   \n",
       "3     GTVLITGGTGALGAEAARWLARSGAEHLLLTSRRGPEAPGAAELAA...   \n",
       "4     GTVLITGGTGVLAAAVAEHLVREWGVRHLLLAGRRGSEAPGSSELA...   \n",
       "...                                                 ...   \n",
       "1162  ATYLVTGGLGGLGLKVARWLVEQGARHLVLVGRRALTAGGEESKRR...   \n",
       "1163  GTVLVTGGTGVLGALVARHLVVGHGVRELVLASRRGLAAPGAVELR...   \n",
       "1164  GTVLVTGGTGVLGALVARHLVVGHGVRELVLASRRGLAAPGAVELR...   \n",
       "1165  GTVLVTGGTGGLGRLVAEHLITRHGVRRLLLASRRGPAAPGVDELV...   \n",
       "1166  GVVLVTGATGALGSVVARHLVAAHGVRRLLLLSRSGMAASGAADLV...   \n",
       "\n",
       "                 subunit_name  module_number  length_aa_residues  \\\n",
       "0                       monAV              7                1801   \n",
       "1                       monAI              1                1811   \n",
       "2                       SgnS1              3                1720   \n",
       "3                       SgnS2              7                1522   \n",
       "4                     monAIII              4                2068   \n",
       "...                       ...            ...                 ...   \n",
       "1162     polyketidesynthase_3              3                1763   \n",
       "1163    beta-ketoacylsynthase              2                1711   \n",
       "1164    beta-ketoacylsynthase              2                1711   \n",
       "1165    beta-ketoacylsynthase              4                1746   \n",
       "1166  beta-ketoacylsynthase_6             10                1685   \n",
       "\n",
       "             substrate_annotation  \\\n",
       "0     substrate mmal, non-loading   \n",
       "1     substrate mmal, non-loading   \n",
       "2      substrate mal, non-loading   \n",
       "3      substrate mal, non-loading   \n",
       "4     substrate mmal, non-loading   \n",
       "...                           ...   \n",
       "1162  substrate mmal, non-loading   \n",
       "1163   substrate mal, non-loading   \n",
       "1164   substrate mal, non-loading   \n",
       "1165   substrate mal, non-loading   \n",
       "1166   substrate mal, non-loading   \n",
       "\n",
       "                                    intermediate_smiles  \\\n",
       "0     CCC([CH][CH]C=C(C)C(=O)[S])=C[C@@H](C)[CH][C]=...   \n",
       "1                               CC(=O)[C@@H](C)C(=O)[S]   \n",
       "2                        CC(=O)C[C@@H](O)CC=[C]C(=O)[S]   \n",
       "3     CC(=O)C[C@@H](O)CC=[C]C=[C]C=[C]C=[C][C@H](O)C...   \n",
       "4     CC(=O)[C@@H](C)[CH][C@H](C)C=[C][CH][C@H](C)C(...   \n",
       "...                                                 ...   \n",
       "1162         CC(=C[C@@H](C)[CH]Cc1ccccc1)C=C(C)C(=O)[S]   \n",
       "1163                           CC(N)CC=[C]C=[C]C(=O)[S]   \n",
       "1164                           CC(N)CC=[C]C=[C]C(=O)[S]   \n",
       "1165                CC(C=[C]C(=O)[S])=C[C]=C[C]=CCC(C)N   \n",
       "1166  CC(C=[C]C=[C]C=[C]C(O)CC(O)CC(O)C(C)C=[C]C(=O)...   \n",
       "\n",
       "                                   name_in_fasta  \\\n",
       "0                        BGC0001670.1_monAV_mod7   \n",
       "1                        BGC0001670.1_monAI_mod1   \n",
       "2                        BGC0001690.1_SgnS1_mod3   \n",
       "3                        BGC0001690.1_SgnS2_mod7   \n",
       "4                      BGC0001670.1_monAIII_mod4   \n",
       "...                                          ...   \n",
       "1162      BGC0001394.1_polyketidesynthase_3_mod3   \n",
       "1163     BGC0000142.1_beta-ketoacylsynthase_mod2   \n",
       "1164     BGC0000142.1_beta-ketoacylsynthase_mod2   \n",
       "1165     BGC0000142.1_beta-ketoacylsynthase_mod4   \n",
       "1166  BGC0000142.1_beta-ketoacylsynthase_6_mod10   \n",
       "\n",
       "                                       protein_sequence  \\\n",
       "0     VAVVGMACRFPGGIETPEGLWELVAAGDDAIEPFPTDRGWDLEGIY...   \n",
       "1     VAIVAMSCRYPGGAGTPEDLWRLVADGADAIGDFPTDRGWDLARLF...   \n",
       "2     VAIIGMACRFPGGVHSPEALWRLLAEGGDAITPMPADRGWDLDRLY...   \n",
       "3     IVIVGMSCRYPGGVASPEDLWRLVSEGTDAISGLPTDRGWDLDALY...   \n",
       "4     IAIVGMACRYPGGVTSPEQLWQLVATGTDAIGPFPEDRGWDTAGLF...   \n",
       "...                                                 ...   \n",
       "1162  VALIGMACRFPGGASDPESFWHVLRDGVDAVTEVPSSRWTQEEAAR...   \n",
       "1163  IAIVAMGCRFPGGVRSPEDLWELLEGGVDAVSGFPTDRGWDLVGMY...   \n",
       "1164  IAIVAMGCRFPGGVRSPEDLWELLEGGVDAVSGFPTDRGWDLVGMY...   \n",
       "1165  VAIVAMGCRFPGGVRSPEDLWELLEGGVDAVSGFPTDRGWDLVGMY...   \n",
       "1166  IAIIGMACRYPGGVSSPEDLWRLVADGVDAIGDFPTDRGWDTAALY...   \n",
       "\n",
       "                                           dna_sequence substrate_type new_kr  \\\n",
       "0     GTGGCCGTCGTCGGCATGGCCTGCCGTTTCCCCGGCGGCATCGAGA...           mmal     B1   \n",
       "1     GTCGCCATCGTGGCCATGAGCTGCCGCTATCCCGGCGGCGCAGGCA...           mmal     C1   \n",
       "2     GTGGCGATCATCGGCATGGCCTGCCGCTTCCCCGGCGGCGTGCACT...            mal      B   \n",
       "3     ATCGTCATCGTCGGCATGAGCTGCCGCTACCCGGGCGGCGTCGCCT...            mal      A   \n",
       "4     ATCGCCATCGTCGGCATGGCGTGCCGCTACCCGGGCGGCGTGACCT...           mmal     B1   \n",
       "...                                                 ...            ...    ...   \n",
       "1162  TGCCTGCGCGCGCGGCGGCGGTGCTGCGTCGCCCGGCAGCGGTATC...           mmal     A1   \n",
       "1163  CGCGACAGCAGCCCGGACCAGATCAAGCAGCATCCGATGCTGCTCC...            mal      B   \n",
       "1164  CGCGACAGCAGCCCGGACCAGATCAAGCAGCATCCGATGCTGCTCC...            mal      B   \n",
       "1165  GGCAGCGACGTGGACGCGGATCAGGTCGACGGTGACCCGGTCCCGC...            mal      B   \n",
       "1166  CCAGGTGGCCCGCCACCCGTCGTCGTCGCCGGCCACGATGGACTCC...            mal      B   \n",
       "\n",
       "     new_st  \n",
       "0      mmal  \n",
       "1      mmal  \n",
       "2       mal  \n",
       "3       mal  \n",
       "4      mmal  \n",
       "...     ...  \n",
       "1162   mmal  \n",
       "1163    mal  \n",
       "1164    mal  \n",
       "1165    mal  \n",
       "1166    mal  \n",
       "\n",
       "[1157 rows x 17 columns]"
      ]
     },
     "execution_count": 225,
     "metadata": {},
     "output_type": "execute_result"
    }
   ],
   "source": [
    "ccad_filtered"
   ]
  },
  {
   "cell_type": "code",
   "execution_count": 226,
   "id": "c741d8f3-0b59-4d5f-a5a4-d35a316e5d69",
   "metadata": {},
   "outputs": [],
   "source": [
    "ccad_filtered = ccad_filtered.reset_index()\n"
   ]
  },
  {
   "cell_type": "code",
   "execution_count": 227,
   "id": "ce979587-0481-4c58-9ab9-3592d481c2b1",
   "metadata": {},
   "outputs": [
    {
     "name": "stdout",
     "output_type": "stream",
     "text": [
      "1157\n",
      "1157\n"
     ]
    }
   ],
   "source": [
    "print(len(ccad_filtered))\n",
    "print(len(ccad_filtered_embeddings))"
   ]
  },
  {
   "cell_type": "code",
   "execution_count": null,
   "id": "e224dd7f-77ee-4118-ac44-44d3a40adeaf",
   "metadata": {},
   "outputs": [],
   "source": []
  },
  {
   "cell_type": "code",
   "execution_count": null,
   "id": "5f40080e-d23d-46f1-9787-1d50a244bdb8",
   "metadata": {},
   "outputs": [],
   "source": []
  },
  {
   "cell_type": "code",
   "execution_count": 228,
   "id": "4d1e1c6f-f6ef-48c8-96d1-7449c360dbef",
   "metadata": {},
   "outputs": [
    {
     "data": {
      "text/plain": [
       "492"
      ]
     },
     "execution_count": 228,
     "metadata": {},
     "output_type": "execute_result"
    }
   ],
   "source": [
    "sum(ccad_filtered[\"new_kr\"] == \"B\")"
   ]
  },
  {
   "cell_type": "code",
   "execution_count": 229,
   "id": "10347cc1-41a7-4744-bef7-add48c1db392",
   "metadata": {},
   "outputs": [],
   "source": [
    "#xiang_idx"
   ]
  },
  {
   "cell_type": "code",
   "execution_count": 230,
   "id": "41c53ba9-89ed-44d0-adc1-717efd94b725",
   "metadata": {},
   "outputs": [
    {
     "data": {
      "text/plain": [
       "2"
      ]
     },
     "execution_count": 230,
     "metadata": {},
     "output_type": "execute_result"
    }
   ],
   "source": [
    "len(xiang_filtered_embeddings)"
   ]
  },
  {
   "cell_type": "code",
   "execution_count": 231,
   "id": "613e6aa5-7343-40a9-834e-67dcd737ce39",
   "metadata": {},
   "outputs": [
    {
     "name": "stdout",
     "output_type": "stream",
     "text": [
      "280\n"
     ]
    }
   ],
   "source": [
    "\n",
    "print(len(ccad_filtered[ccad_filtered[\"new_kr\"] == \"B1\"]))\n"
   ]
  },
  {
   "cell_type": "code",
   "execution_count": 232,
   "id": "59ca78df-9268-4c9e-992d-312247246e40",
   "metadata": {},
   "outputs": [],
   "source": [
    "#average pooling. \n",
    "ccad_filtered_embeddings = [x.mean(dim=1).squeeze(0) for x in ccad_filtered_embeddings]"
   ]
  },
  {
   "cell_type": "code",
   "execution_count": 233,
   "id": "bdc98b9c-00dd-4d5d-b0a0-03f3fe6b736b",
   "metadata": {},
   "outputs": [
    {
     "name": "stdout",
     "output_type": "stream",
     "text": [
      "torch.Size([1536])\n"
     ]
    }
   ],
   "source": [
    "\n",
    "print(ccad_filtered_embeddings[0].shape)\n"
   ]
  },
  {
   "cell_type": "code",
   "execution_count": 234,
   "id": "3aa8a7b0-7bc7-4157-9989-ff7a4780a054",
   "metadata": {},
   "outputs": [
    {
     "data": {
      "text/plain": [
       "2"
      ]
     },
     "execution_count": 234,
     "metadata": {},
     "output_type": "execute_result"
    }
   ],
   "source": [
    "len(xiang_filtered_embeddings)"
   ]
  },
  {
   "cell_type": "code",
   "execution_count": 235,
   "id": "548cd0f9-2550-4cd6-8602-2592fe506d3f",
   "metadata": {},
   "outputs": [],
   "source": [
    "#stacking\n",
    "\n",
    "ccad_embeddings = torch.stack(ccad_filtered_embeddings)"
   ]
  },
  {
   "cell_type": "code",
   "execution_count": null,
   "id": "94b7af21-76f3-43b5-9fba-9ff5ea9cf5a9",
   "metadata": {},
   "outputs": [],
   "source": []
  },
  {
   "cell_type": "code",
   "execution_count": 236,
   "id": "8cffae8e-da65-4e5d-8db7-dedd5d15249b",
   "metadata": {},
   "outputs": [
    {
     "data": {
      "text/plain": [
       "'\\n# After stacking embeddings\\nprint(f\"Before normalization - mean: {xiang_embeddings.mean():.3f}, std: {xiang_embeddings.std():.3f}\")\\n\\n# Standardize features\\nmu = xiang_embeddings.mean(0)\\nsigma = xiang_embeddings.std(0) + 1e-9\\nxiang_embeddings = (xiang_embeddings - mu) / sigma\\n\\nprint(f\"After normalization - mean: {xiang_embeddings.mean():.3f}, std: {xiang_embeddings.std():.3f}\")\\n'"
      ]
     },
     "execution_count": 236,
     "metadata": {},
     "output_type": "execute_result"
    }
   ],
   "source": [
    "\n",
    "#this is standarization but we should do it AFTER -- on training only. \n",
    "'''\n",
    "# After stacking embeddings\n",
    "print(f\"Before normalization - mean: {xiang_embeddings.mean():.3f}, std: {xiang_embeddings.std():.3f}\")\n",
    "\n",
    "# Standardize features\n",
    "mu = xiang_embeddings.mean(0)\n",
    "sigma = xiang_embeddings.std(0) + 1e-9\n",
    "xiang_embeddings = (xiang_embeddings - mu) / sigma\n",
    "\n",
    "print(f\"After normalization - mean: {xiang_embeddings.mean():.3f}, std: {xiang_embeddings.std():.3f}\")\n",
    "'''"
   ]
  },
  {
   "cell_type": "code",
   "execution_count": 237,
   "id": "b1e82ca3-5209-4ce0-b2ee-6043e21ed411",
   "metadata": {},
   "outputs": [],
   "source": [
    "annotations_unique = ccad_filtered[\"new_kr\"].unique()"
   ]
  },
  {
   "cell_type": "code",
   "execution_count": 238,
   "id": "bec0c582-1616-44a2-b453-267fe1b9cc91",
   "metadata": {},
   "outputs": [
    {
     "data": {
      "text/plain": [
       "array(['B1', 'C1', 'B', 'A', 'A2', 'A1', 'C', 'B2', 'C2'], dtype=object)"
      ]
     },
     "execution_count": 238,
     "metadata": {},
     "output_type": "execute_result"
    }
   ],
   "source": [
    "annotations_unique"
   ]
  },
  {
   "cell_type": "code",
   "execution_count": 239,
   "id": "af3913ec-fe52-4bd8-9895-c21a364f0c99",
   "metadata": {},
   "outputs": [
    {
     "name": "stdout",
     "output_type": "stream",
     "text": [
      "{'A': 0, 'A1': 1, 'A2': 2, 'B': 3, 'B1': 4, 'B2': 5, 'C': 6, 'C1': 7, 'C2': 8}\n"
     ]
    },
    {
     "data": {
      "text/plain": [
       "'\\nannotations_unique_cc = ccad_filtered[\"kr_type_annotation\"].unique()\\nannotations_unique_cc.sort() #sort alphabetically \\n\\nannotation_enumerated_cc = {x: i for i, x in enumerate(annotations_unique_cc)}\\nprint(annotation_enumerated_cc)\\n'"
      ]
     },
     "execution_count": 239,
     "metadata": {},
     "output_type": "execute_result"
    }
   ],
   "source": [
    "#outputs need to be converted to numerical values.\n",
    "\n",
    "annotations_unique = ccad_filtered[\"new_kr\"].unique()\n",
    "annotations_unique.sort() #sort alphabetically \n",
    "\n",
    "annotation_enumerated = {x: i for i, x in enumerate(annotations_unique)}\n",
    "print(annotation_enumerated)\n",
    "\n",
    "'''\n",
    "annotations_unique_cc = ccad_filtered[\"kr_type_annotation\"].unique()\n",
    "annotations_unique_cc.sort() #sort alphabetically \n",
    "\n",
    "annotation_enumerated_cc = {x: i for i, x in enumerate(annotations_unique_cc)}\n",
    "print(annotation_enumerated_cc)\n",
    "'''"
   ]
  },
  {
   "cell_type": "code",
   "execution_count": 240,
   "id": "37fc6f2b-842b-403b-be58-ddbfbfa76a5b",
   "metadata": {},
   "outputs": [
    {
     "data": {
      "text/html": [
       "<div>\n",
       "<style scoped>\n",
       "    .dataframe tbody tr th:only-of-type {\n",
       "        vertical-align: middle;\n",
       "    }\n",
       "\n",
       "    .dataframe tbody tr th {\n",
       "        vertical-align: top;\n",
       "    }\n",
       "\n",
       "    .dataframe thead th {\n",
       "        text-align: right;\n",
       "    }\n",
       "</style>\n",
       "<table border=\"1\" class=\"dataframe\">\n",
       "  <thead>\n",
       "    <tr style=\"text-align: right;\">\n",
       "      <th></th>\n",
       "      <th>level_0</th>\n",
       "      <th>Unnamed: 0</th>\n",
       "      <th>index</th>\n",
       "      <th>genbank_accession</th>\n",
       "      <th>mibig_accession</th>\n",
       "      <th>kr_type_annotation</th>\n",
       "      <th>kr_sequence</th>\n",
       "      <th>subunit_name</th>\n",
       "      <th>module_number</th>\n",
       "      <th>length_aa_residues</th>\n",
       "      <th>substrate_annotation</th>\n",
       "      <th>intermediate_smiles</th>\n",
       "      <th>name_in_fasta</th>\n",
       "      <th>protein_sequence</th>\n",
       "      <th>dna_sequence</th>\n",
       "      <th>substrate_type</th>\n",
       "      <th>new_kr</th>\n",
       "      <th>new_st</th>\n",
       "    </tr>\n",
       "  </thead>\n",
       "  <tbody>\n",
       "    <tr>\n",
       "      <th>0</th>\n",
       "      <td>0</td>\n",
       "      <td>0</td>\n",
       "      <td>0</td>\n",
       "      <td>KX263301.1</td>\n",
       "      <td>BGC0001670.1</td>\n",
       "      <td>B1</td>\n",
       "      <td>GTVLIAGGTGMMGGLVAEHLVRAWSVRHLLLVSRQGPDAPDARDLA...</td>\n",
       "      <td>monAV</td>\n",
       "      <td>7</td>\n",
       "      <td>1801</td>\n",
       "      <td>substrate mmal, non-loading</td>\n",
       "      <td>CCC([CH][CH]C=C(C)C(=O)[S])=C[C@@H](C)[CH][C]=...</td>\n",
       "      <td>BGC0001670.1_monAV_mod7</td>\n",
       "      <td>VAVVGMACRFPGGIETPEGLWELVAAGDDAIEPFPTDRGWDLEGIY...</td>\n",
       "      <td>GTGGCCGTCGTCGGCATGGCCTGCCGTTTCCCCGGCGGCATCGAGA...</td>\n",
       "      <td>mmal</td>\n",
       "      <td>B1</td>\n",
       "      <td>mmal</td>\n",
       "    </tr>\n",
       "    <tr>\n",
       "      <th>1</th>\n",
       "      <td>1</td>\n",
       "      <td>1</td>\n",
       "      <td>1</td>\n",
       "      <td>KX263301.1</td>\n",
       "      <td>BGC0001670.1</td>\n",
       "      <td>C1</td>\n",
       "      <td>GTVLITGPAGAPVADLAEHLVRTGQCRHLLLLPGDGELEEMAEELR...</td>\n",
       "      <td>monAI</td>\n",
       "      <td>1</td>\n",
       "      <td>1811</td>\n",
       "      <td>substrate mmal, non-loading</td>\n",
       "      <td>CC(=O)[C@@H](C)C(=O)[S]</td>\n",
       "      <td>BGC0001670.1_monAI_mod1</td>\n",
       "      <td>VAIVAMSCRYPGGAGTPEDLWRLVADGADAIGDFPTDRGWDLARLF...</td>\n",
       "      <td>GTCGCCATCGTGGCCATGAGCTGCCGCTATCCCGGCGGCGCAGGCA...</td>\n",
       "      <td>mmal</td>\n",
       "      <td>C1</td>\n",
       "      <td>mmal</td>\n",
       "    </tr>\n",
       "    <tr>\n",
       "      <th>2</th>\n",
       "      <td>2</td>\n",
       "      <td>2</td>\n",
       "      <td>2</td>\n",
       "      <td>KX458106.1</td>\n",
       "      <td>BGC0001690.1</td>\n",
       "      <td>B1</td>\n",
       "      <td>GTVLVTGGTGGLGRVMARHLVVEHGVRNLLLVSRRGPAAEGAEELV...</td>\n",
       "      <td>SgnS1</td>\n",
       "      <td>3</td>\n",
       "      <td>1720</td>\n",
       "      <td>substrate mal, non-loading</td>\n",
       "      <td>CC(=O)C[C@@H](O)CC=[C]C(=O)[S]</td>\n",
       "      <td>BGC0001690.1_SgnS1_mod3</td>\n",
       "      <td>VAIIGMACRFPGGVHSPEALWRLLAEGGDAITPMPADRGWDLDRLY...</td>\n",
       "      <td>GTGGCGATCATCGGCATGGCCTGCCGCTTCCCCGGCGGCGTGCACT...</td>\n",
       "      <td>mal</td>\n",
       "      <td>B</td>\n",
       "      <td>mal</td>\n",
       "    </tr>\n",
       "    <tr>\n",
       "      <th>3</th>\n",
       "      <td>3</td>\n",
       "      <td>3</td>\n",
       "      <td>3</td>\n",
       "      <td>KX458106.1</td>\n",
       "      <td>BGC0001690.1</td>\n",
       "      <td>A1</td>\n",
       "      <td>GTVLITGGTGALGAEAARWLARSGAEHLLLTSRRGPEAPGAAELAA...</td>\n",
       "      <td>SgnS2</td>\n",
       "      <td>7</td>\n",
       "      <td>1522</td>\n",
       "      <td>substrate mal, non-loading</td>\n",
       "      <td>CC(=O)C[C@@H](O)CC=[C]C=[C]C=[C]C=[C][C@H](O)C...</td>\n",
       "      <td>BGC0001690.1_SgnS2_mod7</td>\n",
       "      <td>IVIVGMSCRYPGGVASPEDLWRLVSEGTDAISGLPTDRGWDLDALY...</td>\n",
       "      <td>ATCGTCATCGTCGGCATGAGCTGCCGCTACCCGGGCGGCGTCGCCT...</td>\n",
       "      <td>mal</td>\n",
       "      <td>A</td>\n",
       "      <td>mal</td>\n",
       "    </tr>\n",
       "    <tr>\n",
       "      <th>4</th>\n",
       "      <td>4</td>\n",
       "      <td>4</td>\n",
       "      <td>4</td>\n",
       "      <td>KX263301.1</td>\n",
       "      <td>BGC0001670.1</td>\n",
       "      <td>B1</td>\n",
       "      <td>GTVLITGGTGVLAAAVAEHLVREWGVRHLLLAGRRGSEAPGSSELA...</td>\n",
       "      <td>monAIII</td>\n",
       "      <td>4</td>\n",
       "      <td>2068</td>\n",
       "      <td>substrate mmal, non-loading</td>\n",
       "      <td>CC(=O)[C@@H](C)[CH][C@H](C)C=[C][CH][C@H](C)C(...</td>\n",
       "      <td>BGC0001670.1_monAIII_mod4</td>\n",
       "      <td>IAIVGMACRYPGGVTSPEQLWQLVATGTDAIGPFPEDRGWDTAGLF...</td>\n",
       "      <td>ATCGCCATCGTCGGCATGGCGTGCCGCTACCCGGGCGGCGTGACCT...</td>\n",
       "      <td>mmal</td>\n",
       "      <td>B1</td>\n",
       "      <td>mmal</td>\n",
       "    </tr>\n",
       "    <tr>\n",
       "      <th>...</th>\n",
       "      <td>...</td>\n",
       "      <td>...</td>\n",
       "      <td>...</td>\n",
       "      <td>...</td>\n",
       "      <td>...</td>\n",
       "      <td>...</td>\n",
       "      <td>...</td>\n",
       "      <td>...</td>\n",
       "      <td>...</td>\n",
       "      <td>...</td>\n",
       "      <td>...</td>\n",
       "      <td>...</td>\n",
       "      <td>...</td>\n",
       "      <td>...</td>\n",
       "      <td>...</td>\n",
       "      <td>...</td>\n",
       "      <td>...</td>\n",
       "      <td>...</td>\n",
       "    </tr>\n",
       "    <tr>\n",
       "      <th>1152</th>\n",
       "      <td>1162</td>\n",
       "      <td>1163</td>\n",
       "      <td>1179</td>\n",
       "      <td>CP004025.1</td>\n",
       "      <td>BGC0001394.1</td>\n",
       "      <td>A1</td>\n",
       "      <td>ATYLVTGGLGGLGLKVARWLVEQGARHLVLVGRRALTAGGEESKRR...</td>\n",
       "      <td>polyketidesynthase_3</td>\n",
       "      <td>3</td>\n",
       "      <td>1763</td>\n",
       "      <td>substrate mmal, non-loading</td>\n",
       "      <td>CC(=C[C@@H](C)[CH]Cc1ccccc1)C=C(C)C(=O)[S]</td>\n",
       "      <td>BGC0001394.1_polyketidesynthase_3_mod3</td>\n",
       "      <td>VALIGMACRFPGGASDPESFWHVLRDGVDAVTEVPSSRWTQEEAAR...</td>\n",
       "      <td>TGCCTGCGCGCGCGGCGGCGGTGCTGCGTCGCCCGGCAGCGGTATC...</td>\n",
       "      <td>mmal</td>\n",
       "      <td>A1</td>\n",
       "      <td>mmal</td>\n",
       "    </tr>\n",
       "    <tr>\n",
       "      <th>1153</th>\n",
       "      <td>1163</td>\n",
       "      <td>1164</td>\n",
       "      <td>1180</td>\n",
       "      <td>CP000667.1</td>\n",
       "      <td>BGC0000142.1</td>\n",
       "      <td>B1</td>\n",
       "      <td>GTVLVTGGTGVLGALVARHLVVGHGVRELVLASRRGLAAPGAVELR...</td>\n",
       "      <td>beta-ketoacylsynthase</td>\n",
       "      <td>2</td>\n",
       "      <td>1711</td>\n",
       "      <td>substrate mal, non-loading</td>\n",
       "      <td>CC(N)CC=[C]C=[C]C(=O)[S]</td>\n",
       "      <td>BGC0000142.1_beta-ketoacylsynthase_mod2</td>\n",
       "      <td>IAIVAMGCRFPGGVRSPEDLWELLEGGVDAVSGFPTDRGWDLVGMY...</td>\n",
       "      <td>CGCGACAGCAGCCCGGACCAGATCAAGCAGCATCCGATGCTGCTCC...</td>\n",
       "      <td>mal</td>\n",
       "      <td>B</td>\n",
       "      <td>mal</td>\n",
       "    </tr>\n",
       "    <tr>\n",
       "      <th>1154</th>\n",
       "      <td>1164</td>\n",
       "      <td>1165</td>\n",
       "      <td>1181</td>\n",
       "      <td>CP000667.1</td>\n",
       "      <td>BGC0000142.1</td>\n",
       "      <td>B1</td>\n",
       "      <td>GTVLVTGGTGVLGALVARHLVVGHGVRELVLASRRGLAAPGAVELR...</td>\n",
       "      <td>beta-ketoacylsynthase</td>\n",
       "      <td>2</td>\n",
       "      <td>1711</td>\n",
       "      <td>substrate mal, non-loading</td>\n",
       "      <td>CC(N)CC=[C]C=[C]C(=O)[S]</td>\n",
       "      <td>BGC0000142.1_beta-ketoacylsynthase_mod2</td>\n",
       "      <td>IAIVAMGCRFPGGVRSPEDLWELLEGGVDAVSGFPTDRGWDLVGMY...</td>\n",
       "      <td>CGCGACAGCAGCCCGGACCAGATCAAGCAGCATCCGATGCTGCTCC...</td>\n",
       "      <td>mal</td>\n",
       "      <td>B</td>\n",
       "      <td>mal</td>\n",
       "    </tr>\n",
       "    <tr>\n",
       "      <th>1155</th>\n",
       "      <td>1165</td>\n",
       "      <td>1166</td>\n",
       "      <td>1182</td>\n",
       "      <td>CP000667.1</td>\n",
       "      <td>BGC0000142.1</td>\n",
       "      <td>B1</td>\n",
       "      <td>GTVLVTGGTGGLGRLVAEHLITRHGVRRLLLASRRGPAAPGVDELV...</td>\n",
       "      <td>beta-ketoacylsynthase</td>\n",
       "      <td>4</td>\n",
       "      <td>1746</td>\n",
       "      <td>substrate mal, non-loading</td>\n",
       "      <td>CC(C=[C]C(=O)[S])=C[C]=C[C]=CCC(C)N</td>\n",
       "      <td>BGC0000142.1_beta-ketoacylsynthase_mod4</td>\n",
       "      <td>VAIVAMGCRFPGGVRSPEDLWELLEGGVDAVSGFPTDRGWDLVGMY...</td>\n",
       "      <td>GGCAGCGACGTGGACGCGGATCAGGTCGACGGTGACCCGGTCCCGC...</td>\n",
       "      <td>mal</td>\n",
       "      <td>B</td>\n",
       "      <td>mal</td>\n",
       "    </tr>\n",
       "    <tr>\n",
       "      <th>1156</th>\n",
       "      <td>1166</td>\n",
       "      <td>1167</td>\n",
       "      <td>1183</td>\n",
       "      <td>CP000667.1</td>\n",
       "      <td>BGC0000142.1</td>\n",
       "      <td>B1</td>\n",
       "      <td>GVVLVTGATGALGSVVARHLVAAHGVRRLLLLSRSGMAASGAADLV...</td>\n",
       "      <td>beta-ketoacylsynthase_6</td>\n",
       "      <td>10</td>\n",
       "      <td>1685</td>\n",
       "      <td>substrate mal, non-loading</td>\n",
       "      <td>CC(C=[C]C=[C]C=[C]C(O)CC(O)CC(O)C(C)C=[C]C(=O)...</td>\n",
       "      <td>BGC0000142.1_beta-ketoacylsynthase_6_mod10</td>\n",
       "      <td>IAIIGMACRYPGGVSSPEDLWRLVADGVDAIGDFPTDRGWDTAALY...</td>\n",
       "      <td>CCAGGTGGCCCGCCACCCGTCGTCGTCGCCGGCCACGATGGACTCC...</td>\n",
       "      <td>mal</td>\n",
       "      <td>B</td>\n",
       "      <td>mal</td>\n",
       "    </tr>\n",
       "  </tbody>\n",
       "</table>\n",
       "<p>1157 rows × 18 columns</p>\n",
       "</div>"
      ],
      "text/plain": [
       "      level_0  Unnamed: 0  index genbank_accession mibig_accession  \\\n",
       "0           0           0      0        KX263301.1    BGC0001670.1   \n",
       "1           1           1      1        KX263301.1    BGC0001670.1   \n",
       "2           2           2      2        KX458106.1    BGC0001690.1   \n",
       "3           3           3      3        KX458106.1    BGC0001690.1   \n",
       "4           4           4      4        KX263301.1    BGC0001670.1   \n",
       "...       ...         ...    ...               ...             ...   \n",
       "1152     1162        1163   1179        CP004025.1    BGC0001394.1   \n",
       "1153     1163        1164   1180        CP000667.1    BGC0000142.1   \n",
       "1154     1164        1165   1181        CP000667.1    BGC0000142.1   \n",
       "1155     1165        1166   1182        CP000667.1    BGC0000142.1   \n",
       "1156     1166        1167   1183        CP000667.1    BGC0000142.1   \n",
       "\n",
       "     kr_type_annotation                                        kr_sequence  \\\n",
       "0                    B1  GTVLIAGGTGMMGGLVAEHLVRAWSVRHLLLVSRQGPDAPDARDLA...   \n",
       "1                    C1  GTVLITGPAGAPVADLAEHLVRTGQCRHLLLLPGDGELEEMAEELR...   \n",
       "2                    B1  GTVLVTGGTGGLGRVMARHLVVEHGVRNLLLVSRRGPAAEGAEELV...   \n",
       "3                    A1  GTVLITGGTGALGAEAARWLARSGAEHLLLTSRRGPEAPGAAELAA...   \n",
       "4                    B1  GTVLITGGTGVLAAAVAEHLVREWGVRHLLLAGRRGSEAPGSSELA...   \n",
       "...                 ...                                                ...   \n",
       "1152                 A1  ATYLVTGGLGGLGLKVARWLVEQGARHLVLVGRRALTAGGEESKRR...   \n",
       "1153                 B1  GTVLVTGGTGVLGALVARHLVVGHGVRELVLASRRGLAAPGAVELR...   \n",
       "1154                 B1  GTVLVTGGTGVLGALVARHLVVGHGVRELVLASRRGLAAPGAVELR...   \n",
       "1155                 B1  GTVLVTGGTGGLGRLVAEHLITRHGVRRLLLASRRGPAAPGVDELV...   \n",
       "1156                 B1  GVVLVTGATGALGSVVARHLVAAHGVRRLLLLSRSGMAASGAADLV...   \n",
       "\n",
       "                 subunit_name  module_number  length_aa_residues  \\\n",
       "0                       monAV              7                1801   \n",
       "1                       monAI              1                1811   \n",
       "2                       SgnS1              3                1720   \n",
       "3                       SgnS2              7                1522   \n",
       "4                     monAIII              4                2068   \n",
       "...                       ...            ...                 ...   \n",
       "1152     polyketidesynthase_3              3                1763   \n",
       "1153    beta-ketoacylsynthase              2                1711   \n",
       "1154    beta-ketoacylsynthase              2                1711   \n",
       "1155    beta-ketoacylsynthase              4                1746   \n",
       "1156  beta-ketoacylsynthase_6             10                1685   \n",
       "\n",
       "             substrate_annotation  \\\n",
       "0     substrate mmal, non-loading   \n",
       "1     substrate mmal, non-loading   \n",
       "2      substrate mal, non-loading   \n",
       "3      substrate mal, non-loading   \n",
       "4     substrate mmal, non-loading   \n",
       "...                           ...   \n",
       "1152  substrate mmal, non-loading   \n",
       "1153   substrate mal, non-loading   \n",
       "1154   substrate mal, non-loading   \n",
       "1155   substrate mal, non-loading   \n",
       "1156   substrate mal, non-loading   \n",
       "\n",
       "                                    intermediate_smiles  \\\n",
       "0     CCC([CH][CH]C=C(C)C(=O)[S])=C[C@@H](C)[CH][C]=...   \n",
       "1                               CC(=O)[C@@H](C)C(=O)[S]   \n",
       "2                        CC(=O)C[C@@H](O)CC=[C]C(=O)[S]   \n",
       "3     CC(=O)C[C@@H](O)CC=[C]C=[C]C=[C]C=[C][C@H](O)C...   \n",
       "4     CC(=O)[C@@H](C)[CH][C@H](C)C=[C][CH][C@H](C)C(...   \n",
       "...                                                 ...   \n",
       "1152         CC(=C[C@@H](C)[CH]Cc1ccccc1)C=C(C)C(=O)[S]   \n",
       "1153                           CC(N)CC=[C]C=[C]C(=O)[S]   \n",
       "1154                           CC(N)CC=[C]C=[C]C(=O)[S]   \n",
       "1155                CC(C=[C]C(=O)[S])=C[C]=C[C]=CCC(C)N   \n",
       "1156  CC(C=[C]C=[C]C=[C]C(O)CC(O)CC(O)C(C)C=[C]C(=O)...   \n",
       "\n",
       "                                   name_in_fasta  \\\n",
       "0                        BGC0001670.1_monAV_mod7   \n",
       "1                        BGC0001670.1_monAI_mod1   \n",
       "2                        BGC0001690.1_SgnS1_mod3   \n",
       "3                        BGC0001690.1_SgnS2_mod7   \n",
       "4                      BGC0001670.1_monAIII_mod4   \n",
       "...                                          ...   \n",
       "1152      BGC0001394.1_polyketidesynthase_3_mod3   \n",
       "1153     BGC0000142.1_beta-ketoacylsynthase_mod2   \n",
       "1154     BGC0000142.1_beta-ketoacylsynthase_mod2   \n",
       "1155     BGC0000142.1_beta-ketoacylsynthase_mod4   \n",
       "1156  BGC0000142.1_beta-ketoacylsynthase_6_mod10   \n",
       "\n",
       "                                       protein_sequence  \\\n",
       "0     VAVVGMACRFPGGIETPEGLWELVAAGDDAIEPFPTDRGWDLEGIY...   \n",
       "1     VAIVAMSCRYPGGAGTPEDLWRLVADGADAIGDFPTDRGWDLARLF...   \n",
       "2     VAIIGMACRFPGGVHSPEALWRLLAEGGDAITPMPADRGWDLDRLY...   \n",
       "3     IVIVGMSCRYPGGVASPEDLWRLVSEGTDAISGLPTDRGWDLDALY...   \n",
       "4     IAIVGMACRYPGGVTSPEQLWQLVATGTDAIGPFPEDRGWDTAGLF...   \n",
       "...                                                 ...   \n",
       "1152  VALIGMACRFPGGASDPESFWHVLRDGVDAVTEVPSSRWTQEEAAR...   \n",
       "1153  IAIVAMGCRFPGGVRSPEDLWELLEGGVDAVSGFPTDRGWDLVGMY...   \n",
       "1154  IAIVAMGCRFPGGVRSPEDLWELLEGGVDAVSGFPTDRGWDLVGMY...   \n",
       "1155  VAIVAMGCRFPGGVRSPEDLWELLEGGVDAVSGFPTDRGWDLVGMY...   \n",
       "1156  IAIIGMACRYPGGVSSPEDLWRLVADGVDAIGDFPTDRGWDTAALY...   \n",
       "\n",
       "                                           dna_sequence substrate_type new_kr  \\\n",
       "0     GTGGCCGTCGTCGGCATGGCCTGCCGTTTCCCCGGCGGCATCGAGA...           mmal     B1   \n",
       "1     GTCGCCATCGTGGCCATGAGCTGCCGCTATCCCGGCGGCGCAGGCA...           mmal     C1   \n",
       "2     GTGGCGATCATCGGCATGGCCTGCCGCTTCCCCGGCGGCGTGCACT...            mal      B   \n",
       "3     ATCGTCATCGTCGGCATGAGCTGCCGCTACCCGGGCGGCGTCGCCT...            mal      A   \n",
       "4     ATCGCCATCGTCGGCATGGCGTGCCGCTACCCGGGCGGCGTGACCT...           mmal     B1   \n",
       "...                                                 ...            ...    ...   \n",
       "1152  TGCCTGCGCGCGCGGCGGCGGTGCTGCGTCGCCCGGCAGCGGTATC...           mmal     A1   \n",
       "1153  CGCGACAGCAGCCCGGACCAGATCAAGCAGCATCCGATGCTGCTCC...            mal      B   \n",
       "1154  CGCGACAGCAGCCCGGACCAGATCAAGCAGCATCCGATGCTGCTCC...            mal      B   \n",
       "1155  GGCAGCGACGTGGACGCGGATCAGGTCGACGGTGACCCGGTCCCGC...            mal      B   \n",
       "1156  CCAGGTGGCCCGCCACCCGTCGTCGTCGCCGGCCACGATGGACTCC...            mal      B   \n",
       "\n",
       "     new_st  \n",
       "0      mmal  \n",
       "1      mmal  \n",
       "2       mal  \n",
       "3       mal  \n",
       "4      mmal  \n",
       "...     ...  \n",
       "1152   mmal  \n",
       "1153    mal  \n",
       "1154    mal  \n",
       "1155    mal  \n",
       "1156    mal  \n",
       "\n",
       "[1157 rows x 18 columns]"
      ]
     },
     "execution_count": 240,
     "metadata": {},
     "output_type": "execute_result"
    }
   ],
   "source": [
    "ccad_filtered"
   ]
  },
  {
   "cell_type": "code",
   "execution_count": 241,
   "id": "4df0a9e8-0f64-4ffc-8231-6de6f859f355",
   "metadata": {},
   "outputs": [],
   "source": [
    "#xiang_filtered[\"AnnotationEnumerated\"] = xiang_filtered[\"Annotation\"].map(annotation_enumerated)\n",
    "ccad_filtered[\"AnnotationEnumerated\"] = ccad_filtered[\"new_kr\"].map(annotation_enumerated)\n",
    "#ccad_filtered['AnnotationEnumerated'] = ccad_filtered['AnnotationEnumerated'].astype(np.int64)"
   ]
  },
  {
   "cell_type": "code",
   "execution_count": 242,
   "id": "21c4ec0e-977c-4e3e-ace6-7b9434817da8",
   "metadata": {},
   "outputs": [
    {
     "data": {
      "text/plain": [
       "{'A': 0, 'A1': 1, 'A2': 2, 'B': 3, 'B1': 4, 'B2': 5, 'C': 6, 'C1': 7, 'C2': 8}"
      ]
     },
     "execution_count": 242,
     "metadata": {},
     "output_type": "execute_result"
    }
   ],
   "source": [
    "annotation_enumerated"
   ]
  },
  {
   "cell_type": "code",
   "execution_count": 243,
   "id": "f1143ba3-7fcf-4328-b30b-7c154711191b",
   "metadata": {},
   "outputs": [
    {
     "name": "stdout",
     "output_type": "stream",
     "text": [
      "0       4\n",
      "1       7\n",
      "2       3\n",
      "3       0\n",
      "4       4\n",
      "       ..\n",
      "1152    1\n",
      "1153    3\n",
      "1154    3\n",
      "1155    3\n",
      "1156    3\n",
      "Name: AnnotationEnumerated, Length: 1157, dtype: int64\n"
     ]
    }
   ],
   "source": [
    "#print(xiang_filtered[\"AnnotationEnumerated\"])\n",
    "print(ccad_filtered[\"AnnotationEnumerated\"])"
   ]
  },
  {
   "cell_type": "code",
   "execution_count": 244,
   "id": "f22e208d-155e-4318-a5b0-b2509e2c45a8",
   "metadata": {},
   "outputs": [],
   "source": [
    "#xiang_filtered_np = xiang_filtered[\"AnnotationEnumerated\"].to_list()\n",
    "ccad_filtered_np = ccad_filtered[\"AnnotationEnumerated\"].to_list()"
   ]
  },
  {
   "cell_type": "code",
   "execution_count": 245,
   "id": "cd1deea2-cb5a-4e93-87c2-7695b36ec265",
   "metadata": {},
   "outputs": [],
   "source": [
    "#ccad_filtered_np"
   ]
  },
  {
   "cell_type": "code",
   "execution_count": 246,
   "id": "4b3ed369-152a-4ad9-a893-7d620ca7e152",
   "metadata": {},
   "outputs": [],
   "source": [
    "#xiang_filtered[\"Annotation\"].to_numpy()[5]"
   ]
  },
  {
   "cell_type": "code",
   "execution_count": null,
   "id": "88d2e55e-7491-481f-aea7-bc13fd0f1b19",
   "metadata": {},
   "outputs": [],
   "source": []
  },
  {
   "cell_type": "code",
   "execution_count": 247,
   "id": "9e94078c-22ae-4a9d-961f-d75507a3541a",
   "metadata": {},
   "outputs": [],
   "source": [
    "#ccad_filtered[\"kr_type_annotation\"].to_numpy()[929]"
   ]
  },
  {
   "cell_type": "code",
   "execution_count": 248,
   "id": "1c13eb5b-8f2c-44cf-b8c1-2e3c816a0c8e",
   "metadata": {},
   "outputs": [],
   "source": [
    "#ccad_filtered_np[929]"
   ]
  },
  {
   "cell_type": "code",
   "execution_count": 249,
   "id": "d3840192-5618-4f6b-b0a7-a2896080db76",
   "metadata": {},
   "outputs": [],
   "source": [
    "#xiang_filtered_tensor = torch.tensor(xiang_filtered_np)\n",
    "#xiang_filtered_tensor = [torch.tensor(x, dtype=torch.long) for x in xiang_filtered_np]\n",
    "\n",
    "#xiang_filtered_tensor = torch.tensor(xiang_filtered_np, dtype=torch.long)\n",
    "ccad_filtered_tensor = torch.tensor(ccad_filtered_np, dtype=torch.long)\n",
    "#merged_tensor = torch.cat([xiang_filtered_tensor, ccad_filtered_tensor], dim=0)"
   ]
  },
  {
   "cell_type": "code",
   "execution_count": 250,
   "id": "feda839d-a5e9-4d5b-879a-c0ffeab40ffc",
   "metadata": {},
   "outputs": [],
   "source": [
    "#merged_embeddings = torch.cat([xiang_embeddings, ccad_embeddings], dim=0)"
   ]
  },
  {
   "cell_type": "code",
   "execution_count": 251,
   "id": "745fc6c6-839d-4ce0-9e9f-8d0c4e93e4ce",
   "metadata": {},
   "outputs": [
    {
     "data": {
      "text/plain": [
       "'\\nfrom sklearn.model_selection import train_test_split\\n\\nx_train_tensor_merged, x_test_tensor_merged, y_train_tensor_merged, y_test_tensor_merged = train_test_split(\\n    merged_embeddings,\\n    merged_tensor,\\n    test_size=0.2,\\n    random_state=1,\\n    stratify=merged_tensor\\n)\\n\\nmu_merged, sigma_merged = x_train_tensor_merged.mean(0), x_train_tensor_merged.std(0) + 1e-9\\n\\nx_train_tensor_merged = (x_train_tensor_merged - mu_merged) / sigma_merged\\nx_test_tensor_merged = (x_test_tensor_merged - mu_merged) / sigma_merged\\n\\nprint(\"x train len\")\\nprint(len(x_train_tensor_merged))\\nprint(\"y train len\")\\nprint(len(y_train_tensor_merged))\\n'"
      ]
     },
     "execution_count": 251,
     "metadata": {},
     "output_type": "execute_result"
    }
   ],
   "source": [
    "'''\n",
    "from sklearn.model_selection import train_test_split\n",
    "\n",
    "x_train_tensor_merged, x_test_tensor_merged, y_train_tensor_merged, y_test_tensor_merged = train_test_split(\n",
    "    merged_embeddings,\n",
    "    merged_tensor,\n",
    "    test_size=0.2,\n",
    "    random_state=1,\n",
    "    stratify=merged_tensor\n",
    ")\n",
    "\n",
    "mu_merged, sigma_merged = x_train_tensor_merged.mean(0), x_train_tensor_merged.std(0) + 1e-9\n",
    "\n",
    "x_train_tensor_merged = (x_train_tensor_merged - mu_merged) / sigma_merged\n",
    "x_test_tensor_merged = (x_test_tensor_merged - mu_merged) / sigma_merged\n",
    "\n",
    "print(\"x train len\")\n",
    "print(len(x_train_tensor_merged))\n",
    "print(\"y train len\")\n",
    "print(len(y_train_tensor_merged))\n",
    "'''"
   ]
  },
  {
   "cell_type": "code",
   "execution_count": 252,
   "id": "3381c3ea-cfff-45fb-a76b-750e6a03c41f",
   "metadata": {},
   "outputs": [
    {
     "name": "stdout",
     "output_type": "stream",
     "text": [
      "x train len\n",
      "809\n",
      "y train len\n",
      "809\n"
     ]
    }
   ],
   "source": [
    "from sklearn.model_selection import train_test_split\n",
    "\n",
    "x_train_tensor, x_test_tensor, y_train_tensor, y_test_tensor = train_test_split(\n",
    "    ccad_embeddings,\n",
    "    ccad_filtered_tensor,\n",
    "    test_size = 0.3,\n",
    "    random_state=1,\n",
    "    stratify=ccad_filtered_tensor\n",
    ")\n",
    "\n",
    "mu, sigma = x_train_tensor.mean(0), x_train_tensor.std(0) + 1e-9\n",
    "x_train_tensor = (x_train_tensor - mu) / sigma\n",
    "x_test_tensor = (x_test_tensor - mu) / sigma\n",
    "\n",
    "print(\"x train len\")\n",
    "print(len(x_train_tensor))\n",
    "print(\"y train len\")\n",
    "print(len(y_train_tensor))"
   ]
  },
  {
   "cell_type": "code",
   "execution_count": 253,
   "id": "7816dd75-6751-4157-b18e-1ae878b0b67e",
   "metadata": {},
   "outputs": [
    {
     "data": {
      "text/plain": [
       "'\\n            nn.BatchNorm1d(1024),\\n            nn.ReLU(),\\n            nn.Dropout(0.20),\\n            nn.Linear(1024, 512),\\n            nn.BatchNorm1d(512),\\n            nn.ReLU(),\\n            nn.Dropout(0.20),\\n            nn.Linear(512, 256),\\n            nn.BatchNorm1d(256),\\n            nn.ReLU(),\\n            nn.Dropout(0.20),\\n            nn.Linear(256,128),\\n            nn.BatchNorm1d(128),\\n            nn.ReLU(),\\n            nn.Dropout(0.20),\\n'"
      ]
     },
     "execution_count": 253,
     "metadata": {},
     "output_type": "execute_result"
    }
   ],
   "source": [
    "'''\n",
    "            nn.BatchNorm1d(1024),\n",
    "            nn.ReLU(),\n",
    "            nn.Dropout(0.20),\n",
    "            nn.Linear(1024, 512),\n",
    "            nn.BatchNorm1d(512),\n",
    "            nn.ReLU(),\n",
    "            nn.Dropout(0.20),\n",
    "            nn.Linear(512, 256),\n",
    "            nn.BatchNorm1d(256),\n",
    "            nn.ReLU(),\n",
    "            nn.Dropout(0.20),\n",
    "            nn.Linear(256,128),\n",
    "            nn.BatchNorm1d(128),\n",
    "            nn.ReLU(),\n",
    "            nn.Dropout(0.20),\n",
    "'''"
   ]
  },
  {
   "cell_type": "code",
   "execution_count": 254,
   "id": "b328f76c-0a94-4c6d-a64f-83ccc7e1cef3",
   "metadata": {},
   "outputs": [],
   "source": [
    "'''\n",
    "#add dropout_rate. ==\n",
    "class kr_predict(nn.Module):\n",
    "    def __init__(self):\n",
    "        super(kr_predict, self).__init__()\n",
    "        self.hidden = nn.Sequential(\n",
    "            nn.Linear(xiang_embeddings[0].shape[1], 256),\n",
    "            nn.ReLU(),\n",
    "            nn.Dropout(0.3),\n",
    "            nn.Linear(256,128),\n",
    "            nn.ReLU(),\n",
    "            nn.Dropout(0.3),\n",
    "        )\n",
    "        self.out = nn.Linear(128, 9)\n",
    "    def forward(self, x):\n",
    "        x = x.view(x.size(0), -1) # flatten so we're removing \n",
    "        x = self.hidden(x)\n",
    "        x = self.out(x)\n",
    "        return x      \n",
    "'''\n",
    "\n",
    "\n",
    "class kr_predict(nn.Module):\n",
    "    def __init__(self):\n",
    "        super(kr_predict, self).__init__()\n",
    "        self.hidden = nn.Sequential(\n",
    "            nn.Linear(1536, 512),\n",
    "            nn.ReLU(),\n",
    "            nn.Dropout(0.4),\n",
    "            nn.Linear(512, 256),\n",
    "            nn.ReLU(), \n",
    "            nn.Dropout(0.4),\n",
    "            #nn.Linear(256, 128),\n",
    "            #nn.BatchNorm1d(128),\n",
    "            #nn.ReLU(),\n",
    "            #nn.Dropout(0.3)\n",
    "        )\n",
    "        self.out = nn.Linear(256, 9)\n",
    "    def forward(self, x):\n",
    "        #x = x.view(x.size(0), -1) # flatten so we're removing - modified so its done w/ squeeze\n",
    "        x = self.hidden(x)\n",
    "        x = self.out(x)\n",
    "        return x "
   ]
  },
  {
   "cell_type": "code",
   "execution_count": 255,
   "id": "5a00eb36-0622-48c1-8dbb-b56e7af922ae",
   "metadata": {},
   "outputs": [],
   "source": [
    "#xiang_embeddings[0].shape[1]"
   ]
  },
  {
   "cell_type": "code",
   "execution_count": 256,
   "id": "f739fd18-85c3-4fbf-9c4b-5c9f2c9ea679",
   "metadata": {},
   "outputs": [],
   "source": [
    "model = kr_predict()"
   ]
  },
  {
   "cell_type": "code",
   "execution_count": 257,
   "id": "8445ce44-1803-4d4d-9532-688a86bb9be3",
   "metadata": {},
   "outputs": [
    {
     "name": "stdout",
     "output_type": "stream",
     "text": [
      "MPS is available! Using Apple Silicon GPU.\n"
     ]
    }
   ],
   "source": [
    "#apple silicon\n",
    "\n",
    "device = torch.device(\"mps\" if torch.backends.mps.is_available() else \"cpu\")\n",
    "model.to(device)\n",
    "\n",
    "if torch.backends.mps.is_available():\n",
    "    print(\"MPS is available! Using Apple Silicon GPU.\")\n",
    "else:\n",
    "    print(\"MPS is not available. CPU Fallback.\")"
   ]
  },
  {
   "cell_type": "code",
   "execution_count": null,
   "id": "6f7cdb45-15f2-4071-a712-e6c97d4d1e61",
   "metadata": {},
   "outputs": [
    {
     "name": "stdout",
     "output_type": "stream",
     "text": [
      "{'A': 0, 'A1': 1, 'A2': 2, 'B': 3, 'B1': 4, 'B2': 5, 'C': 6, 'C1': 7, 'C2': 8}\n",
      "Class distribution: Counter({3: 344, 4: 196, 0: 91, 1: 56, 6: 44, 2: 26, 7: 21, 5: 16, 8: 15})\n"
     ]
    }
   ],
   "source": [
    "from collections import Counter\n",
    "class_counts = Counter(y_train_tensor.numpy())\n",
    "print(annotation_enumerated)\n",
    "print(\"Class distribution:\", class_counts)\n",
    "\n",
    "total_samples = sum(class_counts.values())  # Sum the actual counts, not keys\n",
    "class_weights = []\n",
    "num_classes = 9\n",
    "\n",
    "class_weights = torch.tensor([\n",
    "    total_samples / (num_classes * class_counts.get(i, 1)) for i in range(num_classes)\n",
    "], dtype=torch.float32).to(device)\n",
    "\n",
    "loss = nn.CrossEntropyLoss(weight=class_weights.to(device))\n",
    "adam = optim.AdamW(model.parameters(), lr=0.001)\n",
    "#scheduler = optim.lr_scheduler.CosineAnnealingLR(adam, T_max=50)\n",
    "scheduler = optim.lr_scheduler.StepLR(adam, step_size=100, gamma=0.5)\n",
    "#every 200 epochs, cut in half 0.5"
   ]
  },
  {
   "cell_type": "code",
   "execution_count": 259,
   "id": "7b757d8f-1ad6-4375-9b9c-776b4e1e4351",
   "metadata": {},
   "outputs": [],
   "source": [
    "x_train_tensor = x_train_tensor\n",
    "y_train_tensor = (y_train_tensor).long()"
   ]
  },
  {
   "cell_type": "code",
   "execution_count": 260,
   "id": "439a3de1-c37b-4c48-8ae6-e990c862bbb4",
   "metadata": {},
   "outputs": [
    {
     "name": "stdout",
     "output_type": "stream",
     "text": [
      "tensor([3, 3, 6, 6, 3, 4, 3, 3, 4, 6, 3, 3, 7, 3, 3, 4, 4, 4, 1, 4, 0, 4, 4, 1,\n",
      "        3, 3, 1, 3, 3, 6, 3, 4, 3, 3, 3, 3, 3, 3, 3, 3, 6, 0, 0, 4, 3, 1, 4, 4,\n",
      "        7, 3, 3, 1, 8, 1, 4, 4, 4, 3, 4, 4, 3, 3, 3, 3, 3, 3, 3, 3, 1, 6, 3, 3,\n",
      "        4, 4, 1, 7, 0, 3, 4, 6, 7, 4, 3, 4, 3, 5, 3, 5, 4, 0, 3, 4, 3, 3, 3, 3,\n",
      "        3, 0, 4, 4, 4, 1, 4, 0, 3, 2, 0, 3, 3, 3, 4, 0, 3, 3, 3, 3, 4, 4, 0, 3,\n",
      "        4, 3, 3, 0, 4, 3, 0, 3, 3, 3, 3, 3, 4, 0, 3, 6, 3, 3, 4, 3, 3, 3, 3, 3,\n",
      "        2, 3, 4, 4, 3, 4, 3, 7, 3, 4, 4, 4, 5, 4, 4, 3, 4, 4, 1, 4, 3, 5, 3, 3,\n",
      "        3, 3, 6, 4, 4, 3, 1, 0, 2, 3, 3, 6, 4, 4, 4, 3, 3, 5, 4, 3, 6, 3, 4, 3,\n",
      "        3, 3, 0, 3, 4, 4, 0, 3, 4, 3, 4, 4, 3, 3, 0, 3, 3, 0, 0, 4, 3, 3, 3, 3,\n",
      "        4, 3, 1, 1, 4, 4, 1, 3, 3, 4, 3, 3, 4, 3, 6, 2, 3, 3, 5, 1, 4, 0, 0, 3,\n",
      "        3, 4, 3, 3, 3, 8, 3, 3, 6, 3, 7, 3, 3, 6, 4, 3, 7, 3, 3, 3, 4, 2, 2, 3,\n",
      "        3, 6, 3, 3, 3, 0, 4, 0, 4, 6, 1, 4, 3, 3, 4, 1, 3, 1, 3, 1, 3, 3, 0, 2,\n",
      "        6, 4, 6, 7, 4, 3, 4, 0, 7, 3, 0, 3, 3, 4, 1, 4, 4, 2, 3, 4, 3, 0, 3, 0,\n",
      "        3, 3, 3, 4, 0, 4, 1, 3, 3, 3, 1, 3, 3, 0, 3, 4, 0, 3, 1, 2, 1, 3, 3, 1,\n",
      "        4, 0, 3, 1, 4, 3, 2, 4, 3, 4, 3, 6, 3, 4, 3, 8, 3, 8, 0, 0, 2, 3, 3, 3,\n",
      "        3, 7, 0, 3, 4, 0, 7, 3, 3, 4, 3, 1, 3, 3, 0, 0, 4, 3, 3, 4, 3, 4, 3, 3,\n",
      "        3, 0, 4, 3, 1, 2, 4, 7, 0, 4, 6, 4, 3, 4, 5, 4, 4, 3, 0, 4, 6, 3, 3, 3,\n",
      "        0, 0, 8, 3, 3, 4, 8, 1, 4, 4, 3, 3, 3, 3, 3, 0, 3, 3, 4, 7, 0, 3, 6, 4,\n",
      "        4, 0, 3, 3, 4, 2, 1, 3, 3, 4, 4, 6, 3, 4, 4, 6, 8, 3, 3, 1, 4, 0, 4, 3,\n",
      "        0, 3, 0, 3, 4, 3, 1, 4, 0, 3, 3, 4, 3, 5, 8, 0, 6, 3, 3, 3, 2, 3, 1, 3,\n",
      "        6, 3, 3, 3, 3, 6, 4, 4, 3, 6, 3, 4, 0, 2, 7, 3, 3, 3, 4, 6, 8, 3, 0, 0,\n",
      "        0, 4, 3, 1, 3, 4, 4, 3, 4, 4, 3, 4, 4, 6, 3, 2, 0, 4, 3, 0, 0, 3, 3, 4,\n",
      "        0, 5, 4, 2, 4, 3, 3, 4, 8, 3, 4, 0, 3, 3, 3, 3, 3, 4, 4, 2, 4, 4, 0, 4,\n",
      "        0, 8, 0, 1, 1, 1, 3, 3, 3, 3, 1, 2, 3, 4, 6, 3, 1, 4, 0, 3, 2, 3, 6, 4,\n",
      "        4, 3, 0, 3, 4, 4, 0, 1, 3, 5, 1, 4, 7, 1, 3, 4, 1, 3, 3, 4, 3, 0, 3, 3,\n",
      "        3, 4, 3, 3, 1, 4, 3, 0, 4, 6, 1, 3, 4, 0, 4, 3, 4, 3, 6, 4, 1, 3, 4, 8,\n",
      "        3, 6, 3, 5, 0, 5, 3, 0, 5, 4, 1, 4, 5, 0, 3, 3, 1, 3, 3, 2, 0, 0, 3, 3,\n",
      "        0, 4, 3, 3, 3, 3, 3, 4, 5, 6, 3, 4, 3, 4, 2, 4, 3, 0, 3, 3, 4, 3, 4, 3,\n",
      "        6, 1, 4, 4, 4, 4, 3, 3, 4, 4, 3, 3, 3, 0, 4, 3, 3, 4, 4, 3, 3, 7, 6, 4,\n",
      "        3, 7, 3, 4, 0, 3, 3, 1, 3, 6, 4, 3, 0, 3, 3, 8, 0, 3, 3, 3, 6, 3, 3, 3,\n",
      "        6, 3, 4, 3, 2, 3, 3, 4, 3, 4, 4, 7, 1, 4, 3, 0, 3, 3, 1, 3, 3, 3, 0, 3,\n",
      "        1, 5, 4, 4, 4, 4, 3, 3, 3, 3, 0, 1, 3, 4, 3, 3, 3, 3, 6, 3, 6, 1, 7, 2,\n",
      "        4, 3, 0, 4, 4, 0, 6, 4, 4, 7, 3, 0, 3, 4, 3, 4, 8, 3, 3, 1, 3, 0, 3, 4,\n",
      "        8, 0, 0, 0, 7, 3, 4, 3, 2, 2, 3, 3, 4, 0, 3, 3, 3])\n"
     ]
    }
   ],
   "source": [
    "print(y_train_tensor)"
   ]
  },
  {
   "cell_type": "code",
   "execution_count": null,
   "id": "77d12c22-8333-41b5-8084-3d35cf1f9ea5",
   "metadata": {},
   "outputs": [
    {
     "name": "stderr",
     "output_type": "stream",
     "text": [
      "Epoch 1: 100%|█████████████████████████████████| 50/50 [00:00<00:00, 171.62it/s]\n"
     ]
    },
    {
     "name": "stdout",
     "output_type": "stream",
     "text": [
      "Epoch 1: Loss: 1.8359\n"
     ]
    },
    {
     "name": "stderr",
     "output_type": "stream",
     "text": [
      "Epoch 2: 100%|█████████████████████████████████| 50/50 [00:00<00:00, 333.36it/s]\n"
     ]
    },
    {
     "name": "stdout",
     "output_type": "stream",
     "text": [
      "Epoch 2: Loss: 1.2341\n"
     ]
    },
    {
     "name": "stderr",
     "output_type": "stream",
     "text": [
      "Epoch 3: 100%|█████████████████████████████████| 50/50 [00:00<00:00, 371.44it/s]\n"
     ]
    },
    {
     "name": "stdout",
     "output_type": "stream",
     "text": [
      "Epoch 3: Loss: 1.1393\n"
     ]
    },
    {
     "name": "stderr",
     "output_type": "stream",
     "text": [
      "Epoch 4: 100%|█████████████████████████████████| 50/50 [00:00<00:00, 343.48it/s]\n"
     ]
    },
    {
     "name": "stdout",
     "output_type": "stream",
     "text": [
      "Epoch 4: Loss: 0.9653\n"
     ]
    },
    {
     "name": "stderr",
     "output_type": "stream",
     "text": [
      "Epoch 5: 100%|█████████████████████████████████| 50/50 [00:00<00:00, 335.76it/s]\n"
     ]
    },
    {
     "name": "stdout",
     "output_type": "stream",
     "text": [
      "Epoch 5: Loss: 0.7749\n"
     ]
    },
    {
     "name": "stderr",
     "output_type": "stream",
     "text": [
      "Epoch 6: 100%|█████████████████████████████████| 50/50 [00:00<00:00, 333.09it/s]\n"
     ]
    },
    {
     "name": "stdout",
     "output_type": "stream",
     "text": [
      "Epoch 6: Loss: 0.7450\n"
     ]
    },
    {
     "name": "stderr",
     "output_type": "stream",
     "text": [
      "Epoch 7: 100%|█████████████████████████████████| 50/50 [00:00<00:00, 320.76it/s]\n"
     ]
    },
    {
     "name": "stdout",
     "output_type": "stream",
     "text": [
      "Epoch 7: Loss: 0.5725\n"
     ]
    },
    {
     "name": "stderr",
     "output_type": "stream",
     "text": [
      "Epoch 8: 100%|█████████████████████████████████| 50/50 [00:00<00:00, 346.33it/s]\n"
     ]
    },
    {
     "name": "stdout",
     "output_type": "stream",
     "text": [
      "Epoch 8: Loss: 0.5832\n"
     ]
    },
    {
     "name": "stderr",
     "output_type": "stream",
     "text": [
      "Epoch 9: 100%|█████████████████████████████████| 50/50 [00:00<00:00, 345.06it/s]\n"
     ]
    },
    {
     "name": "stdout",
     "output_type": "stream",
     "text": [
      "Epoch 9: Loss: 0.4656\n"
     ]
    },
    {
     "name": "stderr",
     "output_type": "stream",
     "text": [
      "Epoch 10: 100%|████████████████████████████████| 50/50 [00:00<00:00, 328.64it/s]\n"
     ]
    },
    {
     "name": "stdout",
     "output_type": "stream",
     "text": [
      "Epoch 10: Loss: 0.5132\n"
     ]
    },
    {
     "name": "stderr",
     "output_type": "stream",
     "text": [
      "Epoch 11: 100%|████████████████████████████████| 50/50 [00:00<00:00, 340.32it/s]\n"
     ]
    },
    {
     "name": "stdout",
     "output_type": "stream",
     "text": [
      "Epoch 11: Loss: 0.6615\n"
     ]
    },
    {
     "name": "stderr",
     "output_type": "stream",
     "text": [
      "Epoch 12: 100%|████████████████████████████████| 50/50 [00:00<00:00, 341.74it/s]\n"
     ]
    },
    {
     "name": "stdout",
     "output_type": "stream",
     "text": [
      "Epoch 12: Loss: 0.5408\n"
     ]
    },
    {
     "name": "stderr",
     "output_type": "stream",
     "text": [
      "Epoch 13: 100%|████████████████████████████████| 50/50 [00:00<00:00, 323.78it/s]\n"
     ]
    },
    {
     "name": "stdout",
     "output_type": "stream",
     "text": [
      "Epoch 13: Loss: 0.5837\n"
     ]
    },
    {
     "name": "stderr",
     "output_type": "stream",
     "text": [
      "Epoch 14: 100%|████████████████████████████████| 50/50 [00:00<00:00, 345.86it/s]\n"
     ]
    },
    {
     "name": "stdout",
     "output_type": "stream",
     "text": [
      "Epoch 14: Loss: 0.6651\n"
     ]
    },
    {
     "name": "stderr",
     "output_type": "stream",
     "text": [
      "Epoch 15: 100%|████████████████████████████████| 50/50 [00:00<00:00, 361.28it/s]\n"
     ]
    },
    {
     "name": "stdout",
     "output_type": "stream",
     "text": [
      "Epoch 15: Loss: 0.3373\n"
     ]
    },
    {
     "name": "stderr",
     "output_type": "stream",
     "text": [
      "Epoch 16: 100%|████████████████████████████████| 50/50 [00:00<00:00, 262.72it/s]\n"
     ]
    },
    {
     "name": "stdout",
     "output_type": "stream",
     "text": [
      "Epoch 16: Loss: 0.3303\n"
     ]
    },
    {
     "name": "stderr",
     "output_type": "stream",
     "text": [
      "Epoch 17: 100%|████████████████████████████████| 50/50 [00:00<00:00, 217.20it/s]\n"
     ]
    },
    {
     "name": "stdout",
     "output_type": "stream",
     "text": [
      "Epoch 17: Loss: 0.3029\n"
     ]
    },
    {
     "name": "stderr",
     "output_type": "stream",
     "text": [
      "Epoch 18: 100%|████████████████████████████████| 50/50 [00:00<00:00, 216.82it/s]\n"
     ]
    },
    {
     "name": "stdout",
     "output_type": "stream",
     "text": [
      "Epoch 18: Loss: 0.2780\n"
     ]
    },
    {
     "name": "stderr",
     "output_type": "stream",
     "text": [
      "Epoch 19: 100%|████████████████████████████████| 50/50 [00:00<00:00, 249.64it/s]\n"
     ]
    },
    {
     "name": "stdout",
     "output_type": "stream",
     "text": [
      "Epoch 19: Loss: 0.3034\n"
     ]
    },
    {
     "name": "stderr",
     "output_type": "stream",
     "text": [
      "Epoch 20: 100%|████████████████████████████████| 50/50 [00:00<00:00, 244.02it/s]\n"
     ]
    },
    {
     "name": "stdout",
     "output_type": "stream",
     "text": [
      "Epoch 20: Loss: 0.3009\n"
     ]
    },
    {
     "name": "stderr",
     "output_type": "stream",
     "text": [
      "Epoch 21: 100%|████████████████████████████████| 50/50 [00:00<00:00, 312.37it/s]\n"
     ]
    },
    {
     "name": "stdout",
     "output_type": "stream",
     "text": [
      "Epoch 21: Loss: 0.2200\n"
     ]
    },
    {
     "name": "stderr",
     "output_type": "stream",
     "text": [
      "Epoch 22: 100%|████████████████████████████████| 50/50 [00:00<00:00, 350.29it/s]\n"
     ]
    },
    {
     "name": "stdout",
     "output_type": "stream",
     "text": [
      "Epoch 22: Loss: 0.3502\n"
     ]
    },
    {
     "name": "stderr",
     "output_type": "stream",
     "text": [
      "Epoch 23: 100%|████████████████████████████████| 50/50 [00:00<00:00, 341.52it/s]\n"
     ]
    },
    {
     "name": "stdout",
     "output_type": "stream",
     "text": [
      "Epoch 23: Loss: 0.2380\n"
     ]
    },
    {
     "name": "stderr",
     "output_type": "stream",
     "text": [
      "Epoch 24: 100%|████████████████████████████████| 50/50 [00:00<00:00, 360.84it/s]\n"
     ]
    },
    {
     "name": "stdout",
     "output_type": "stream",
     "text": [
      "Epoch 24: Loss: 0.3302\n"
     ]
    },
    {
     "name": "stderr",
     "output_type": "stream",
     "text": [
      "Epoch 25: 100%|████████████████████████████████| 50/50 [00:00<00:00, 347.92it/s]\n"
     ]
    },
    {
     "name": "stdout",
     "output_type": "stream",
     "text": [
      "Epoch 25: Loss: 0.3306\n"
     ]
    },
    {
     "name": "stderr",
     "output_type": "stream",
     "text": [
      "Epoch 26: 100%|████████████████████████████████| 50/50 [00:00<00:00, 359.31it/s]\n"
     ]
    },
    {
     "name": "stdout",
     "output_type": "stream",
     "text": [
      "Epoch 26: Loss: 0.4373\n"
     ]
    },
    {
     "name": "stderr",
     "output_type": "stream",
     "text": [
      "Epoch 27: 100%|████████████████████████████████| 50/50 [00:00<00:00, 361.85it/s]\n"
     ]
    },
    {
     "name": "stdout",
     "output_type": "stream",
     "text": [
      "Epoch 27: Loss: 0.5626\n"
     ]
    },
    {
     "name": "stderr",
     "output_type": "stream",
     "text": [
      "Epoch 28: 100%|████████████████████████████████| 50/50 [00:00<00:00, 361.34it/s]\n"
     ]
    },
    {
     "name": "stdout",
     "output_type": "stream",
     "text": [
      "Epoch 28: Loss: 0.2744\n"
     ]
    },
    {
     "name": "stderr",
     "output_type": "stream",
     "text": [
      "Epoch 29: 100%|████████████████████████████████| 50/50 [00:00<00:00, 361.07it/s]\n"
     ]
    },
    {
     "name": "stdout",
     "output_type": "stream",
     "text": [
      "Epoch 29: Loss: 0.2924\n"
     ]
    },
    {
     "name": "stderr",
     "output_type": "stream",
     "text": [
      "Epoch 30: 100%|████████████████████████████████| 50/50 [00:00<00:00, 361.76it/s]\n"
     ]
    },
    {
     "name": "stdout",
     "output_type": "stream",
     "text": [
      "Epoch 30: Loss: 0.2513\n"
     ]
    },
    {
     "name": "stderr",
     "output_type": "stream",
     "text": [
      "Epoch 31: 100%|████████████████████████████████| 50/50 [00:00<00:00, 362.31it/s]\n"
     ]
    },
    {
     "name": "stdout",
     "output_type": "stream",
     "text": [
      "Epoch 31: Loss: 0.2307\n"
     ]
    },
    {
     "name": "stderr",
     "output_type": "stream",
     "text": [
      "Epoch 32: 100%|████████████████████████████████| 50/50 [00:00<00:00, 353.64it/s]\n"
     ]
    },
    {
     "name": "stdout",
     "output_type": "stream",
     "text": [
      "Epoch 32: Loss: 0.1929\n"
     ]
    },
    {
     "name": "stderr",
     "output_type": "stream",
     "text": [
      "Epoch 33: 100%|████████████████████████████████| 50/50 [00:00<00:00, 338.93it/s]\n"
     ]
    },
    {
     "name": "stdout",
     "output_type": "stream",
     "text": [
      "Epoch 33: Loss: 0.2525\n"
     ]
    },
    {
     "name": "stderr",
     "output_type": "stream",
     "text": [
      "Epoch 34: 100%|████████████████████████████████| 50/50 [00:00<00:00, 349.64it/s]\n"
     ]
    },
    {
     "name": "stdout",
     "output_type": "stream",
     "text": [
      "Epoch 34: Loss: 0.2319\n"
     ]
    },
    {
     "name": "stderr",
     "output_type": "stream",
     "text": [
      "Epoch 35: 100%|████████████████████████████████| 50/50 [00:00<00:00, 354.13it/s]\n"
     ]
    },
    {
     "name": "stdout",
     "output_type": "stream",
     "text": [
      "Epoch 35: Loss: 0.2916\n"
     ]
    },
    {
     "name": "stderr",
     "output_type": "stream",
     "text": [
      "Epoch 36: 100%|████████████████████████████████| 50/50 [00:00<00:00, 302.15it/s]\n"
     ]
    },
    {
     "name": "stdout",
     "output_type": "stream",
     "text": [
      "Epoch 36: Loss: 0.2859\n"
     ]
    },
    {
     "name": "stderr",
     "output_type": "stream",
     "text": [
      "Epoch 37: 100%|████████████████████████████████| 50/50 [00:00<00:00, 350.42it/s]\n"
     ]
    },
    {
     "name": "stdout",
     "output_type": "stream",
     "text": [
      "Epoch 37: Loss: 0.2207\n"
     ]
    },
    {
     "name": "stderr",
     "output_type": "stream",
     "text": [
      "Epoch 38: 100%|████████████████████████████████| 50/50 [00:00<00:00, 343.55it/s]\n"
     ]
    },
    {
     "name": "stdout",
     "output_type": "stream",
     "text": [
      "Epoch 38: Loss: 0.2142\n"
     ]
    },
    {
     "name": "stderr",
     "output_type": "stream",
     "text": [
      "Epoch 39: 100%|████████████████████████████████| 50/50 [00:00<00:00, 223.13it/s]\n"
     ]
    },
    {
     "name": "stdout",
     "output_type": "stream",
     "text": [
      "Epoch 39: Loss: 0.1970\n"
     ]
    },
    {
     "name": "stderr",
     "output_type": "stream",
     "text": [
      "Epoch 40: 100%|████████████████████████████████| 50/50 [00:00<00:00, 231.35it/s]\n"
     ]
    },
    {
     "name": "stdout",
     "output_type": "stream",
     "text": [
      "Epoch 40: Loss: 0.1688\n"
     ]
    },
    {
     "name": "stderr",
     "output_type": "stream",
     "text": [
      "Epoch 41: 100%|████████████████████████████████| 50/50 [00:00<00:00, 226.92it/s]\n"
     ]
    },
    {
     "name": "stdout",
     "output_type": "stream",
     "text": [
      "Epoch 41: Loss: 0.3133\n"
     ]
    },
    {
     "name": "stderr",
     "output_type": "stream",
     "text": [
      "Epoch 42: 100%|████████████████████████████████| 50/50 [00:00<00:00, 237.13it/s]\n"
     ]
    },
    {
     "name": "stdout",
     "output_type": "stream",
     "text": [
      "Epoch 42: Loss: 0.1790\n"
     ]
    },
    {
     "name": "stderr",
     "output_type": "stream",
     "text": [
      "Epoch 43: 100%|████████████████████████████████| 50/50 [00:00<00:00, 235.22it/s]\n"
     ]
    },
    {
     "name": "stdout",
     "output_type": "stream",
     "text": [
      "Epoch 43: Loss: 0.2133\n"
     ]
    },
    {
     "name": "stderr",
     "output_type": "stream",
     "text": [
      "Epoch 44: 100%|████████████████████████████████| 50/50 [00:00<00:00, 212.42it/s]\n"
     ]
    },
    {
     "name": "stdout",
     "output_type": "stream",
     "text": [
      "Epoch 44: Loss: 0.2914\n"
     ]
    },
    {
     "name": "stderr",
     "output_type": "stream",
     "text": [
      "Epoch 45: 100%|████████████████████████████████| 50/50 [00:00<00:00, 205.34it/s]\n"
     ]
    },
    {
     "name": "stdout",
     "output_type": "stream",
     "text": [
      "Epoch 45: Loss: 0.5123\n"
     ]
    },
    {
     "name": "stderr",
     "output_type": "stream",
     "text": [
      "Epoch 46: 100%|████████████████████████████████| 50/50 [00:00<00:00, 278.75it/s]\n"
     ]
    },
    {
     "name": "stdout",
     "output_type": "stream",
     "text": [
      "Epoch 46: Loss: 0.4945\n"
     ]
    },
    {
     "name": "stderr",
     "output_type": "stream",
     "text": [
      "Epoch 47: 100%|████████████████████████████████| 50/50 [00:00<00:00, 339.61it/s]\n"
     ]
    },
    {
     "name": "stdout",
     "output_type": "stream",
     "text": [
      "Epoch 47: Loss: 0.2755\n"
     ]
    },
    {
     "name": "stderr",
     "output_type": "stream",
     "text": [
      "Epoch 48: 100%|████████████████████████████████| 50/50 [00:00<00:00, 316.59it/s]\n"
     ]
    },
    {
     "name": "stdout",
     "output_type": "stream",
     "text": [
      "Epoch 48: Loss: 0.2169\n"
     ]
    },
    {
     "name": "stderr",
     "output_type": "stream",
     "text": [
      "Epoch 49: 100%|████████████████████████████████| 50/50 [00:00<00:00, 334.32it/s]\n"
     ]
    },
    {
     "name": "stdout",
     "output_type": "stream",
     "text": [
      "Epoch 49: Loss: 0.1867\n"
     ]
    },
    {
     "name": "stderr",
     "output_type": "stream",
     "text": [
      "Epoch 50: 100%|████████████████████████████████| 50/50 [00:00<00:00, 354.29it/s]\n"
     ]
    },
    {
     "name": "stdout",
     "output_type": "stream",
     "text": [
      "Epoch 50: Loss: 0.2514\n"
     ]
    },
    {
     "name": "stderr",
     "output_type": "stream",
     "text": [
      "Epoch 51: 100%|████████████████████████████████| 50/50 [00:00<00:00, 338.45it/s]\n"
     ]
    },
    {
     "name": "stdout",
     "output_type": "stream",
     "text": [
      "Epoch 51: Loss: 0.3669\n"
     ]
    },
    {
     "name": "stderr",
     "output_type": "stream",
     "text": [
      "Epoch 52: 100%|████████████████████████████████| 50/50 [00:00<00:00, 302.60it/s]\n"
     ]
    },
    {
     "name": "stdout",
     "output_type": "stream",
     "text": [
      "Epoch 52: Loss: 0.3623\n"
     ]
    },
    {
     "name": "stderr",
     "output_type": "stream",
     "text": [
      "Epoch 53: 100%|████████████████████████████████| 50/50 [00:00<00:00, 377.39it/s]\n"
     ]
    },
    {
     "name": "stdout",
     "output_type": "stream",
     "text": [
      "Epoch 53: Loss: 0.3463\n"
     ]
    },
    {
     "name": "stderr",
     "output_type": "stream",
     "text": [
      "Epoch 54: 100%|████████████████████████████████| 50/50 [00:00<00:00, 360.23it/s]\n"
     ]
    },
    {
     "name": "stdout",
     "output_type": "stream",
     "text": [
      "Epoch 54: Loss: 0.3490\n"
     ]
    },
    {
     "name": "stderr",
     "output_type": "stream",
     "text": [
      "Epoch 55: 100%|████████████████████████████████| 50/50 [00:00<00:00, 330.25it/s]\n"
     ]
    },
    {
     "name": "stdout",
     "output_type": "stream",
     "text": [
      "Epoch 55: Loss: 0.1687\n"
     ]
    },
    {
     "name": "stderr",
     "output_type": "stream",
     "text": [
      "Epoch 56: 100%|████████████████████████████████| 50/50 [00:00<00:00, 247.00it/s]\n"
     ]
    },
    {
     "name": "stdout",
     "output_type": "stream",
     "text": [
      "Epoch 56: Loss: 0.2048\n"
     ]
    },
    {
     "name": "stderr",
     "output_type": "stream",
     "text": [
      "Epoch 57: 100%|████████████████████████████████| 50/50 [00:00<00:00, 378.42it/s]\n"
     ]
    },
    {
     "name": "stdout",
     "output_type": "stream",
     "text": [
      "Epoch 57: Loss: 0.1787\n"
     ]
    },
    {
     "name": "stderr",
     "output_type": "stream",
     "text": [
      "Epoch 58: 100%|████████████████████████████████| 50/50 [00:00<00:00, 353.32it/s]\n"
     ]
    },
    {
     "name": "stdout",
     "output_type": "stream",
     "text": [
      "Epoch 58: Loss: 0.2328\n"
     ]
    },
    {
     "name": "stderr",
     "output_type": "stream",
     "text": [
      "Epoch 59: 100%|████████████████████████████████| 50/50 [00:00<00:00, 362.93it/s]\n"
     ]
    },
    {
     "name": "stdout",
     "output_type": "stream",
     "text": [
      "Epoch 59: Loss: 0.1744\n"
     ]
    },
    {
     "name": "stderr",
     "output_type": "stream",
     "text": [
      "Epoch 60: 100%|████████████████████████████████| 50/50 [00:00<00:00, 366.69it/s]\n"
     ]
    },
    {
     "name": "stdout",
     "output_type": "stream",
     "text": [
      "Epoch 60: Loss: 0.2402\n"
     ]
    },
    {
     "name": "stderr",
     "output_type": "stream",
     "text": [
      "Epoch 61: 100%|████████████████████████████████| 50/50 [00:00<00:00, 222.97it/s]\n"
     ]
    },
    {
     "name": "stdout",
     "output_type": "stream",
     "text": [
      "Epoch 61: Loss: 0.3036\n"
     ]
    },
    {
     "name": "stderr",
     "output_type": "stream",
     "text": [
      "Epoch 62: 100%|████████████████████████████████| 50/50 [00:00<00:00, 387.10it/s]\n"
     ]
    },
    {
     "name": "stdout",
     "output_type": "stream",
     "text": [
      "Epoch 62: Loss: 0.3220\n"
     ]
    },
    {
     "name": "stderr",
     "output_type": "stream",
     "text": [
      "Epoch 63: 100%|████████████████████████████████| 50/50 [00:00<00:00, 367.11it/s]\n"
     ]
    },
    {
     "name": "stdout",
     "output_type": "stream",
     "text": [
      "Epoch 63: Loss: 0.2555\n"
     ]
    },
    {
     "name": "stderr",
     "output_type": "stream",
     "text": [
      "Epoch 64: 100%|████████████████████████████████| 50/50 [00:00<00:00, 346.94it/s]\n"
     ]
    },
    {
     "name": "stdout",
     "output_type": "stream",
     "text": [
      "Epoch 64: Loss: 0.3006\n"
     ]
    },
    {
     "name": "stderr",
     "output_type": "stream",
     "text": [
      "Epoch 65: 100%|████████████████████████████████| 50/50 [00:00<00:00, 350.25it/s]\n"
     ]
    },
    {
     "name": "stdout",
     "output_type": "stream",
     "text": [
      "Epoch 65: Loss: 0.1714\n"
     ]
    },
    {
     "name": "stderr",
     "output_type": "stream",
     "text": [
      "Epoch 66: 100%|████████████████████████████████| 50/50 [00:00<00:00, 343.07it/s]\n"
     ]
    },
    {
     "name": "stdout",
     "output_type": "stream",
     "text": [
      "Epoch 66: Loss: 0.1540\n"
     ]
    },
    {
     "name": "stderr",
     "output_type": "stream",
     "text": [
      "Epoch 67: 100%|████████████████████████████████| 50/50 [00:00<00:00, 336.51it/s]\n"
     ]
    },
    {
     "name": "stdout",
     "output_type": "stream",
     "text": [
      "Epoch 67: Loss: 0.1696\n"
     ]
    },
    {
     "name": "stderr",
     "output_type": "stream",
     "text": [
      "Epoch 68: 100%|████████████████████████████████| 50/50 [00:00<00:00, 353.79it/s]\n"
     ]
    },
    {
     "name": "stdout",
     "output_type": "stream",
     "text": [
      "Epoch 68: Loss: 0.1509\n"
     ]
    },
    {
     "name": "stderr",
     "output_type": "stream",
     "text": [
      "Epoch 69: 100%|████████████████████████████████| 50/50 [00:00<00:00, 350.19it/s]\n"
     ]
    },
    {
     "name": "stdout",
     "output_type": "stream",
     "text": [
      "Epoch 69: Loss: 0.2445\n"
     ]
    },
    {
     "name": "stderr",
     "output_type": "stream",
     "text": [
      "Epoch 70: 100%|████████████████████████████████| 50/50 [00:00<00:00, 338.99it/s]\n"
     ]
    },
    {
     "name": "stdout",
     "output_type": "stream",
     "text": [
      "Epoch 70: Loss: 0.2372\n"
     ]
    },
    {
     "name": "stderr",
     "output_type": "stream",
     "text": [
      "Epoch 71: 100%|████████████████████████████████| 50/50 [00:00<00:00, 350.69it/s]\n"
     ]
    },
    {
     "name": "stdout",
     "output_type": "stream",
     "text": [
      "Epoch 71: Loss: 0.2297\n"
     ]
    },
    {
     "name": "stderr",
     "output_type": "stream",
     "text": [
      "Epoch 72: 100%|████████████████████████████████| 50/50 [00:00<00:00, 312.39it/s]\n"
     ]
    },
    {
     "name": "stdout",
     "output_type": "stream",
     "text": [
      "Epoch 72: Loss: 0.2589\n"
     ]
    },
    {
     "name": "stderr",
     "output_type": "stream",
     "text": [
      "Epoch 73: 100%|████████████████████████████████| 50/50 [00:00<00:00, 350.29it/s]\n"
     ]
    },
    {
     "name": "stdout",
     "output_type": "stream",
     "text": [
      "Epoch 73: Loss: 0.1558\n"
     ]
    },
    {
     "name": "stderr",
     "output_type": "stream",
     "text": [
      "Epoch 74: 100%|████████████████████████████████| 50/50 [00:00<00:00, 353.69it/s]\n"
     ]
    },
    {
     "name": "stdout",
     "output_type": "stream",
     "text": [
      "Epoch 74: Loss: 0.2876\n"
     ]
    },
    {
     "name": "stderr",
     "output_type": "stream",
     "text": [
      "Epoch 75: 100%|████████████████████████████████| 50/50 [00:00<00:00, 356.95it/s]\n"
     ]
    },
    {
     "name": "stdout",
     "output_type": "stream",
     "text": [
      "Epoch 75: Loss: 0.1875\n"
     ]
    },
    {
     "name": "stderr",
     "output_type": "stream",
     "text": [
      "Epoch 76: 100%|████████████████████████████████| 50/50 [00:00<00:00, 253.74it/s]\n"
     ]
    },
    {
     "name": "stdout",
     "output_type": "stream",
     "text": [
      "Epoch 76: Loss: 0.2557\n"
     ]
    },
    {
     "name": "stderr",
     "output_type": "stream",
     "text": [
      "Epoch 77: 100%|████████████████████████████████| 50/50 [00:00<00:00, 318.42it/s]\n"
     ]
    },
    {
     "name": "stdout",
     "output_type": "stream",
     "text": [
      "Epoch 77: Loss: 0.2397\n"
     ]
    },
    {
     "name": "stderr",
     "output_type": "stream",
     "text": [
      "Epoch 78: 100%|████████████████████████████████| 50/50 [00:00<00:00, 380.75it/s]\n"
     ]
    },
    {
     "name": "stdout",
     "output_type": "stream",
     "text": [
      "Epoch 78: Loss: 0.3073\n"
     ]
    },
    {
     "name": "stderr",
     "output_type": "stream",
     "text": [
      "Epoch 79: 100%|████████████████████████████████| 50/50 [00:00<00:00, 296.75it/s]\n"
     ]
    },
    {
     "name": "stdout",
     "output_type": "stream",
     "text": [
      "Epoch 79: Loss: 0.1960\n"
     ]
    },
    {
     "name": "stderr",
     "output_type": "stream",
     "text": [
      "Epoch 80: 100%|████████████████████████████████| 50/50 [00:00<00:00, 256.12it/s]\n"
     ]
    },
    {
     "name": "stdout",
     "output_type": "stream",
     "text": [
      "Epoch 80: Loss: 0.2093\n"
     ]
    },
    {
     "name": "stderr",
     "output_type": "stream",
     "text": [
      "Epoch 81: 100%|████████████████████████████████| 50/50 [00:00<00:00, 271.71it/s]\n"
     ]
    },
    {
     "name": "stdout",
     "output_type": "stream",
     "text": [
      "Epoch 81: Loss: 0.2306\n"
     ]
    },
    {
     "name": "stderr",
     "output_type": "stream",
     "text": [
      "Epoch 82: 100%|████████████████████████████████| 50/50 [00:00<00:00, 283.00it/s]\n"
     ]
    },
    {
     "name": "stdout",
     "output_type": "stream",
     "text": [
      "Epoch 82: Loss: 0.1921\n"
     ]
    },
    {
     "name": "stderr",
     "output_type": "stream",
     "text": [
      "Epoch 83: 100%|████████████████████████████████| 50/50 [00:00<00:00, 296.35it/s]\n"
     ]
    },
    {
     "name": "stdout",
     "output_type": "stream",
     "text": [
      "Epoch 83: Loss: 0.5061\n"
     ]
    },
    {
     "name": "stderr",
     "output_type": "stream",
     "text": [
      "Epoch 84: 100%|████████████████████████████████| 50/50 [00:00<00:00, 269.62it/s]\n"
     ]
    },
    {
     "name": "stdout",
     "output_type": "stream",
     "text": [
      "Epoch 84: Loss: 0.7098\n"
     ]
    },
    {
     "name": "stderr",
     "output_type": "stream",
     "text": [
      "Epoch 85: 100%|████████████████████████████████| 50/50 [00:00<00:00, 259.42it/s]\n"
     ]
    },
    {
     "name": "stdout",
     "output_type": "stream",
     "text": [
      "Epoch 85: Loss: 0.2592\n"
     ]
    },
    {
     "name": "stderr",
     "output_type": "stream",
     "text": [
      "Epoch 86: 100%|████████████████████████████████| 50/50 [00:00<00:00, 317.68it/s]\n"
     ]
    },
    {
     "name": "stdout",
     "output_type": "stream",
     "text": [
      "Epoch 86: Loss: 0.4059\n"
     ]
    },
    {
     "name": "stderr",
     "output_type": "stream",
     "text": [
      "Epoch 87: 100%|████████████████████████████████| 50/50 [00:00<00:00, 320.14it/s]\n"
     ]
    },
    {
     "name": "stdout",
     "output_type": "stream",
     "text": [
      "Epoch 87: Loss: 0.3190\n"
     ]
    },
    {
     "name": "stderr",
     "output_type": "stream",
     "text": [
      "Epoch 88: 100%|████████████████████████████████| 50/50 [00:00<00:00, 281.14it/s]\n"
     ]
    },
    {
     "name": "stdout",
     "output_type": "stream",
     "text": [
      "Epoch 88: Loss: 0.2882\n"
     ]
    },
    {
     "name": "stderr",
     "output_type": "stream",
     "text": [
      "Epoch 89: 100%|████████████████████████████████| 50/50 [00:00<00:00, 291.44it/s]\n"
     ]
    },
    {
     "name": "stdout",
     "output_type": "stream",
     "text": [
      "Epoch 89: Loss: 0.1400\n"
     ]
    },
    {
     "name": "stderr",
     "output_type": "stream",
     "text": [
      "Epoch 90: 100%|████████████████████████████████| 50/50 [00:00<00:00, 263.52it/s]\n"
     ]
    },
    {
     "name": "stdout",
     "output_type": "stream",
     "text": [
      "Epoch 90: Loss: 0.1087\n"
     ]
    },
    {
     "name": "stderr",
     "output_type": "stream",
     "text": [
      "Epoch 91: 100%|████████████████████████████████| 50/50 [00:00<00:00, 305.63it/s]\n"
     ]
    },
    {
     "name": "stdout",
     "output_type": "stream",
     "text": [
      "Epoch 91: Loss: 0.2700\n"
     ]
    },
    {
     "name": "stderr",
     "output_type": "stream",
     "text": [
      "Epoch 92: 100%|████████████████████████████████| 50/50 [00:00<00:00, 329.62it/s]\n"
     ]
    },
    {
     "name": "stdout",
     "output_type": "stream",
     "text": [
      "Epoch 92: Loss: 0.1195\n"
     ]
    },
    {
     "name": "stderr",
     "output_type": "stream",
     "text": [
      "Epoch 93: 100%|████████████████████████████████| 50/50 [00:00<00:00, 324.43it/s]\n"
     ]
    },
    {
     "name": "stdout",
     "output_type": "stream",
     "text": [
      "Epoch 93: Loss: 0.1755\n"
     ]
    },
    {
     "name": "stderr",
     "output_type": "stream",
     "text": [
      "Epoch 94: 100%|████████████████████████████████| 50/50 [00:00<00:00, 298.42it/s]\n"
     ]
    },
    {
     "name": "stdout",
     "output_type": "stream",
     "text": [
      "Epoch 94: Loss: 0.2811\n"
     ]
    },
    {
     "name": "stderr",
     "output_type": "stream",
     "text": [
      "Epoch 95: 100%|████████████████████████████████| 50/50 [00:00<00:00, 295.03it/s]\n"
     ]
    },
    {
     "name": "stdout",
     "output_type": "stream",
     "text": [
      "Epoch 95: Loss: 0.3078\n"
     ]
    },
    {
     "name": "stderr",
     "output_type": "stream",
     "text": [
      "Epoch 96: 100%|████████████████████████████████| 50/50 [00:00<00:00, 261.57it/s]\n"
     ]
    },
    {
     "name": "stdout",
     "output_type": "stream",
     "text": [
      "Epoch 96: Loss: 0.1679\n"
     ]
    },
    {
     "name": "stderr",
     "output_type": "stream",
     "text": [
      "Epoch 97: 100%|████████████████████████████████| 50/50 [00:00<00:00, 356.03it/s]\n"
     ]
    },
    {
     "name": "stdout",
     "output_type": "stream",
     "text": [
      "Epoch 97: Loss: 0.1401\n"
     ]
    },
    {
     "name": "stderr",
     "output_type": "stream",
     "text": [
      "Epoch 98: 100%|████████████████████████████████| 50/50 [00:00<00:00, 335.48it/s]\n"
     ]
    },
    {
     "name": "stdout",
     "output_type": "stream",
     "text": [
      "Epoch 98: Loss: 0.2494\n"
     ]
    },
    {
     "name": "stderr",
     "output_type": "stream",
     "text": [
      "Epoch 99: 100%|████████████████████████████████| 50/50 [00:00<00:00, 306.00it/s]\n"
     ]
    },
    {
     "name": "stdout",
     "output_type": "stream",
     "text": [
      "Epoch 99: Loss: 0.2487\n"
     ]
    },
    {
     "name": "stderr",
     "output_type": "stream",
     "text": [
      "Epoch 100: 100%|███████████████████████████████| 50/50 [00:00<00:00, 297.63it/s]\n"
     ]
    },
    {
     "name": "stdout",
     "output_type": "stream",
     "text": [
      "Epoch 100: Loss: 0.1820\n"
     ]
    },
    {
     "name": "stderr",
     "output_type": "stream",
     "text": [
      "Epoch 101: 100%|███████████████████████████████| 50/50 [00:00<00:00, 247.14it/s]\n"
     ]
    },
    {
     "name": "stdout",
     "output_type": "stream",
     "text": [
      "Epoch 101: Loss: 0.1972\n"
     ]
    },
    {
     "name": "stderr",
     "output_type": "stream",
     "text": [
      "Epoch 102: 100%|███████████████████████████████| 50/50 [00:00<00:00, 216.57it/s]\n"
     ]
    },
    {
     "name": "stdout",
     "output_type": "stream",
     "text": [
      "Epoch 102: Loss: 0.1208\n"
     ]
    },
    {
     "name": "stderr",
     "output_type": "stream",
     "text": [
      "Epoch 103: 100%|███████████████████████████████| 50/50 [00:00<00:00, 215.85it/s]\n"
     ]
    },
    {
     "name": "stdout",
     "output_type": "stream",
     "text": [
      "Epoch 103: Loss: 0.1022\n"
     ]
    },
    {
     "name": "stderr",
     "output_type": "stream",
     "text": [
      "Epoch 104: 100%|███████████████████████████████| 50/50 [00:00<00:00, 193.40it/s]\n"
     ]
    },
    {
     "name": "stdout",
     "output_type": "stream",
     "text": [
      "Epoch 104: Loss: 0.0830\n"
     ]
    },
    {
     "name": "stderr",
     "output_type": "stream",
     "text": [
      "Epoch 105: 100%|███████████████████████████████| 50/50 [00:00<00:00, 211.02it/s]\n"
     ]
    },
    {
     "name": "stdout",
     "output_type": "stream",
     "text": [
      "Epoch 105: Loss: 0.1135\n"
     ]
    },
    {
     "name": "stderr",
     "output_type": "stream",
     "text": [
      "Epoch 106: 100%|███████████████████████████████| 50/50 [00:00<00:00, 243.27it/s]\n"
     ]
    },
    {
     "name": "stdout",
     "output_type": "stream",
     "text": [
      "Epoch 106: Loss: 0.0933\n"
     ]
    },
    {
     "name": "stderr",
     "output_type": "stream",
     "text": [
      "Epoch 107: 100%|███████████████████████████████| 50/50 [00:00<00:00, 221.48it/s]\n"
     ]
    },
    {
     "name": "stdout",
     "output_type": "stream",
     "text": [
      "Epoch 107: Loss: 0.0923\n"
     ]
    },
    {
     "name": "stderr",
     "output_type": "stream",
     "text": [
      "Epoch 108: 100%|███████████████████████████████| 50/50 [00:00<00:00, 293.74it/s]\n"
     ]
    },
    {
     "name": "stdout",
     "output_type": "stream",
     "text": [
      "Epoch 108: Loss: 0.0773\n"
     ]
    },
    {
     "name": "stderr",
     "output_type": "stream",
     "text": [
      "Epoch 109: 100%|███████████████████████████████| 50/50 [00:00<00:00, 350.63it/s]\n"
     ]
    },
    {
     "name": "stdout",
     "output_type": "stream",
     "text": [
      "Epoch 109: Loss: 0.0787\n"
     ]
    },
    {
     "name": "stderr",
     "output_type": "stream",
     "text": [
      "Epoch 110: 100%|███████████████████████████████| 50/50 [00:00<00:00, 281.30it/s]\n"
     ]
    },
    {
     "name": "stdout",
     "output_type": "stream",
     "text": [
      "Epoch 110: Loss: 0.0722\n"
     ]
    },
    {
     "name": "stderr",
     "output_type": "stream",
     "text": [
      "Epoch 111: 100%|███████████████████████████████| 50/50 [00:00<00:00, 302.34it/s]\n"
     ]
    },
    {
     "name": "stdout",
     "output_type": "stream",
     "text": [
      "Epoch 111: Loss: 0.0568\n"
     ]
    },
    {
     "name": "stderr",
     "output_type": "stream",
     "text": [
      "Epoch 112: 100%|███████████████████████████████| 50/50 [00:00<00:00, 302.76it/s]\n"
     ]
    },
    {
     "name": "stdout",
     "output_type": "stream",
     "text": [
      "Epoch 112: Loss: 0.0602\n"
     ]
    },
    {
     "name": "stderr",
     "output_type": "stream",
     "text": [
      "Epoch 113: 100%|███████████████████████████████| 50/50 [00:00<00:00, 297.64it/s]\n"
     ]
    },
    {
     "name": "stdout",
     "output_type": "stream",
     "text": [
      "Epoch 113: Loss: 0.0499\n"
     ]
    },
    {
     "name": "stderr",
     "output_type": "stream",
     "text": [
      "Epoch 114: 100%|███████████████████████████████| 50/50 [00:00<00:00, 258.27it/s]\n"
     ]
    },
    {
     "name": "stdout",
     "output_type": "stream",
     "text": [
      "Epoch 114: Loss: 0.0690\n"
     ]
    },
    {
     "name": "stderr",
     "output_type": "stream",
     "text": [
      "Epoch 115: 100%|███████████████████████████████| 50/50 [00:00<00:00, 278.81it/s]\n"
     ]
    },
    {
     "name": "stdout",
     "output_type": "stream",
     "text": [
      "Epoch 115: Loss: 0.0669\n"
     ]
    },
    {
     "name": "stderr",
     "output_type": "stream",
     "text": [
      "Epoch 116: 100%|███████████████████████████████| 50/50 [00:00<00:00, 291.18it/s]\n"
     ]
    },
    {
     "name": "stdout",
     "output_type": "stream",
     "text": [
      "Epoch 116: Loss: 0.0837\n"
     ]
    },
    {
     "name": "stderr",
     "output_type": "stream",
     "text": [
      "Epoch 117: 100%|███████████████████████████████| 50/50 [00:00<00:00, 317.14it/s]\n"
     ]
    },
    {
     "name": "stdout",
     "output_type": "stream",
     "text": [
      "Epoch 117: Loss: 0.0507\n"
     ]
    },
    {
     "name": "stderr",
     "output_type": "stream",
     "text": [
      "Epoch 118: 100%|███████████████████████████████| 50/50 [00:00<00:00, 387.95it/s]\n"
     ]
    },
    {
     "name": "stdout",
     "output_type": "stream",
     "text": [
      "Epoch 118: Loss: 0.0864\n"
     ]
    },
    {
     "name": "stderr",
     "output_type": "stream",
     "text": [
      "Epoch 119: 100%|███████████████████████████████| 50/50 [00:00<00:00, 369.51it/s]\n"
     ]
    },
    {
     "name": "stdout",
     "output_type": "stream",
     "text": [
      "Epoch 119: Loss: 0.0648\n"
     ]
    },
    {
     "name": "stderr",
     "output_type": "stream",
     "text": [
      "Epoch 120: 100%|███████████████████████████████| 50/50 [00:00<00:00, 355.96it/s]\n"
     ]
    },
    {
     "name": "stdout",
     "output_type": "stream",
     "text": [
      "Epoch 120: Loss: 0.0848\n"
     ]
    },
    {
     "name": "stderr",
     "output_type": "stream",
     "text": [
      "Epoch 121: 100%|███████████████████████████████| 50/50 [00:00<00:00, 346.69it/s]\n"
     ]
    },
    {
     "name": "stdout",
     "output_type": "stream",
     "text": [
      "Epoch 121: Loss: 0.0560\n"
     ]
    },
    {
     "name": "stderr",
     "output_type": "stream",
     "text": [
      "Epoch 122: 100%|███████████████████████████████| 50/50 [00:00<00:00, 355.11it/s]\n"
     ]
    },
    {
     "name": "stdout",
     "output_type": "stream",
     "text": [
      "Epoch 122: Loss: 0.0670\n"
     ]
    },
    {
     "name": "stderr",
     "output_type": "stream",
     "text": [
      "Epoch 123: 100%|███████████████████████████████| 50/50 [00:00<00:00, 355.90it/s]\n"
     ]
    },
    {
     "name": "stdout",
     "output_type": "stream",
     "text": [
      "Epoch 123: Loss: 0.0623\n"
     ]
    },
    {
     "name": "stderr",
     "output_type": "stream",
     "text": [
      "Epoch 124: 100%|███████████████████████████████| 50/50 [00:00<00:00, 353.46it/s]\n"
     ]
    },
    {
     "name": "stdout",
     "output_type": "stream",
     "text": [
      "Epoch 124: Loss: 0.0731\n"
     ]
    },
    {
     "name": "stderr",
     "output_type": "stream",
     "text": [
      "Epoch 125: 100%|███████████████████████████████| 50/50 [00:00<00:00, 355.09it/s]\n"
     ]
    },
    {
     "name": "stdout",
     "output_type": "stream",
     "text": [
      "Epoch 125: Loss: 0.0601\n"
     ]
    },
    {
     "name": "stderr",
     "output_type": "stream",
     "text": [
      "Epoch 126: 100%|███████████████████████████████| 50/50 [00:00<00:00, 355.16it/s]\n"
     ]
    },
    {
     "name": "stdout",
     "output_type": "stream",
     "text": [
      "Epoch 126: Loss: 0.0775\n"
     ]
    },
    {
     "name": "stderr",
     "output_type": "stream",
     "text": [
      "Epoch 127: 100%|███████████████████████████████| 50/50 [00:00<00:00, 350.26it/s]\n"
     ]
    },
    {
     "name": "stdout",
     "output_type": "stream",
     "text": [
      "Epoch 127: Loss: 0.0530\n"
     ]
    },
    {
     "name": "stderr",
     "output_type": "stream",
     "text": [
      "Epoch 128: 100%|███████████████████████████████| 50/50 [00:00<00:00, 356.58it/s]\n"
     ]
    },
    {
     "name": "stdout",
     "output_type": "stream",
     "text": [
      "Epoch 128: Loss: 0.0494\n"
     ]
    },
    {
     "name": "stderr",
     "output_type": "stream",
     "text": [
      "Epoch 129: 100%|███████████████████████████████| 50/50 [00:00<00:00, 332.79it/s]\n"
     ]
    },
    {
     "name": "stdout",
     "output_type": "stream",
     "text": [
      "Epoch 129: Loss: 0.0548\n"
     ]
    },
    {
     "name": "stderr",
     "output_type": "stream",
     "text": [
      "Epoch 130: 100%|███████████████████████████████| 50/50 [00:00<00:00, 356.40it/s]\n"
     ]
    },
    {
     "name": "stdout",
     "output_type": "stream",
     "text": [
      "Epoch 130: Loss: 0.0535\n"
     ]
    },
    {
     "name": "stderr",
     "output_type": "stream",
     "text": [
      "Epoch 131: 100%|███████████████████████████████| 50/50 [00:00<00:00, 309.51it/s]\n"
     ]
    },
    {
     "name": "stdout",
     "output_type": "stream",
     "text": [
      "Epoch 131: Loss: 0.0444\n"
     ]
    },
    {
     "name": "stderr",
     "output_type": "stream",
     "text": [
      "Epoch 132: 100%|███████████████████████████████| 50/50 [00:00<00:00, 309.18it/s]\n"
     ]
    },
    {
     "name": "stdout",
     "output_type": "stream",
     "text": [
      "Epoch 132: Loss: 0.0573\n"
     ]
    },
    {
     "name": "stderr",
     "output_type": "stream",
     "text": [
      "Epoch 133: 100%|███████████████████████████████| 50/50 [00:00<00:00, 344.28it/s]\n"
     ]
    },
    {
     "name": "stdout",
     "output_type": "stream",
     "text": [
      "Epoch 133: Loss: 0.0467\n"
     ]
    },
    {
     "name": "stderr",
     "output_type": "stream",
     "text": [
      "Epoch 134: 100%|███████████████████████████████| 50/50 [00:00<00:00, 306.88it/s]\n"
     ]
    },
    {
     "name": "stdout",
     "output_type": "stream",
     "text": [
      "Epoch 134: Loss: 0.1148\n"
     ]
    },
    {
     "name": "stderr",
     "output_type": "stream",
     "text": [
      "Epoch 135: 100%|███████████████████████████████| 50/50 [00:00<00:00, 288.04it/s]\n"
     ]
    },
    {
     "name": "stdout",
     "output_type": "stream",
     "text": [
      "Epoch 135: Loss: 0.0616\n"
     ]
    },
    {
     "name": "stderr",
     "output_type": "stream",
     "text": [
      "Epoch 136: 100%|███████████████████████████████| 50/50 [00:00<00:00, 269.61it/s]\n"
     ]
    },
    {
     "name": "stdout",
     "output_type": "stream",
     "text": [
      "Epoch 136: Loss: 0.0369\n"
     ]
    },
    {
     "name": "stderr",
     "output_type": "stream",
     "text": [
      "Epoch 137: 100%|███████████████████████████████| 50/50 [00:00<00:00, 277.50it/s]\n"
     ]
    },
    {
     "name": "stdout",
     "output_type": "stream",
     "text": [
      "Epoch 137: Loss: 0.0536\n"
     ]
    },
    {
     "name": "stderr",
     "output_type": "stream",
     "text": [
      "Epoch 138: 100%|███████████████████████████████| 50/50 [00:00<00:00, 295.65it/s]\n"
     ]
    },
    {
     "name": "stdout",
     "output_type": "stream",
     "text": [
      "Epoch 138: Loss: 0.0320\n"
     ]
    },
    {
     "name": "stderr",
     "output_type": "stream",
     "text": [
      "Epoch 139: 100%|███████████████████████████████| 50/50 [00:00<00:00, 277.28it/s]\n"
     ]
    },
    {
     "name": "stdout",
     "output_type": "stream",
     "text": [
      "Epoch 139: Loss: 0.0922\n"
     ]
    },
    {
     "name": "stderr",
     "output_type": "stream",
     "text": [
      "Epoch 140: 100%|███████████████████████████████| 50/50 [00:00<00:00, 291.38it/s]\n"
     ]
    },
    {
     "name": "stdout",
     "output_type": "stream",
     "text": [
      "Epoch 140: Loss: 0.0361\n"
     ]
    },
    {
     "name": "stderr",
     "output_type": "stream",
     "text": [
      "Epoch 141: 100%|███████████████████████████████| 50/50 [00:00<00:00, 302.95it/s]\n"
     ]
    },
    {
     "name": "stdout",
     "output_type": "stream",
     "text": [
      "Epoch 141: Loss: 0.0705\n"
     ]
    },
    {
     "name": "stderr",
     "output_type": "stream",
     "text": [
      "Epoch 142: 100%|███████████████████████████████| 50/50 [00:00<00:00, 326.63it/s]\n"
     ]
    },
    {
     "name": "stdout",
     "output_type": "stream",
     "text": [
      "Epoch 142: Loss: 0.0734\n"
     ]
    },
    {
     "name": "stderr",
     "output_type": "stream",
     "text": [
      "Epoch 143: 100%|███████████████████████████████| 50/50 [00:00<00:00, 286.96it/s]\n"
     ]
    },
    {
     "name": "stdout",
     "output_type": "stream",
     "text": [
      "Epoch 143: Loss: 0.0501\n"
     ]
    },
    {
     "name": "stderr",
     "output_type": "stream",
     "text": [
      "Epoch 144: 100%|███████████████████████████████| 50/50 [00:00<00:00, 279.21it/s]\n"
     ]
    },
    {
     "name": "stdout",
     "output_type": "stream",
     "text": [
      "Epoch 144: Loss: 0.0458\n"
     ]
    },
    {
     "name": "stderr",
     "output_type": "stream",
     "text": [
      "Epoch 145: 100%|███████████████████████████████| 50/50 [00:00<00:00, 255.15it/s]\n"
     ]
    },
    {
     "name": "stdout",
     "output_type": "stream",
     "text": [
      "Epoch 145: Loss: 0.0377\n"
     ]
    },
    {
     "name": "stderr",
     "output_type": "stream",
     "text": [
      "Epoch 146: 100%|███████████████████████████████| 50/50 [00:00<00:00, 287.84it/s]\n"
     ]
    },
    {
     "name": "stdout",
     "output_type": "stream",
     "text": [
      "Epoch 146: Loss: 0.0416\n"
     ]
    },
    {
     "name": "stderr",
     "output_type": "stream",
     "text": [
      "Epoch 147: 100%|███████████████████████████████| 50/50 [00:00<00:00, 295.57it/s]\n"
     ]
    },
    {
     "name": "stdout",
     "output_type": "stream",
     "text": [
      "Epoch 147: Loss: 0.0501\n"
     ]
    },
    {
     "name": "stderr",
     "output_type": "stream",
     "text": [
      "Epoch 148: 100%|███████████████████████████████| 50/50 [00:00<00:00, 322.90it/s]\n"
     ]
    },
    {
     "name": "stdout",
     "output_type": "stream",
     "text": [
      "Epoch 148: Loss: 0.0851\n"
     ]
    },
    {
     "name": "stderr",
     "output_type": "stream",
     "text": [
      "Epoch 149: 100%|███████████████████████████████| 50/50 [00:00<00:00, 325.84it/s]\n"
     ]
    },
    {
     "name": "stdout",
     "output_type": "stream",
     "text": [
      "Epoch 149: Loss: 0.0494\n"
     ]
    },
    {
     "name": "stderr",
     "output_type": "stream",
     "text": [
      "Epoch 150: 100%|███████████████████████████████| 50/50 [00:00<00:00, 346.34it/s]\n"
     ]
    },
    {
     "name": "stdout",
     "output_type": "stream",
     "text": [
      "Epoch 150: Loss: 0.0401\n"
     ]
    },
    {
     "name": "stderr",
     "output_type": "stream",
     "text": [
      "Epoch 151: 100%|███████████████████████████████| 50/50 [00:00<00:00, 356.82it/s]\n"
     ]
    },
    {
     "name": "stdout",
     "output_type": "stream",
     "text": [
      "Epoch 151: Loss: 0.0526\n"
     ]
    },
    {
     "name": "stderr",
     "output_type": "stream",
     "text": [
      "Epoch 152: 100%|███████████████████████████████| 50/50 [00:00<00:00, 354.83it/s]\n"
     ]
    },
    {
     "name": "stdout",
     "output_type": "stream",
     "text": [
      "Epoch 152: Loss: 0.0736\n"
     ]
    },
    {
     "name": "stderr",
     "output_type": "stream",
     "text": [
      "Epoch 153: 100%|███████████████████████████████| 50/50 [00:00<00:00, 330.03it/s]\n"
     ]
    },
    {
     "name": "stdout",
     "output_type": "stream",
     "text": [
      "Epoch 153: Loss: 0.0520\n"
     ]
    },
    {
     "name": "stderr",
     "output_type": "stream",
     "text": [
      "Epoch 154: 100%|███████████████████████████████| 50/50 [00:00<00:00, 352.03it/s]\n"
     ]
    },
    {
     "name": "stdout",
     "output_type": "stream",
     "text": [
      "Epoch 154: Loss: 0.0477\n"
     ]
    },
    {
     "name": "stderr",
     "output_type": "stream",
     "text": [
      "Epoch 155: 100%|███████████████████████████████| 50/50 [00:00<00:00, 356.61it/s]\n"
     ]
    },
    {
     "name": "stdout",
     "output_type": "stream",
     "text": [
      "Epoch 155: Loss: 0.0418\n"
     ]
    },
    {
     "name": "stderr",
     "output_type": "stream",
     "text": [
      "Epoch 156: 100%|███████████████████████████████| 50/50 [00:00<00:00, 253.34it/s]\n"
     ]
    },
    {
     "name": "stdout",
     "output_type": "stream",
     "text": [
      "Epoch 156: Loss: 0.0435\n"
     ]
    },
    {
     "name": "stderr",
     "output_type": "stream",
     "text": [
      "Epoch 157: 100%|███████████████████████████████| 50/50 [00:00<00:00, 316.78it/s]\n"
     ]
    },
    {
     "name": "stdout",
     "output_type": "stream",
     "text": [
      "Epoch 157: Loss: 0.0445\n"
     ]
    },
    {
     "name": "stderr",
     "output_type": "stream",
     "text": [
      "Epoch 158: 100%|███████████████████████████████| 50/50 [00:00<00:00, 270.77it/s]\n"
     ]
    },
    {
     "name": "stdout",
     "output_type": "stream",
     "text": [
      "Epoch 158: Loss: 0.0308\n"
     ]
    },
    {
     "name": "stderr",
     "output_type": "stream",
     "text": [
      "Epoch 159: 100%|███████████████████████████████| 50/50 [00:00<00:00, 262.14it/s]\n"
     ]
    },
    {
     "name": "stdout",
     "output_type": "stream",
     "text": [
      "Epoch 159: Loss: 0.0333\n"
     ]
    },
    {
     "name": "stderr",
     "output_type": "stream",
     "text": [
      "Epoch 160: 100%|███████████████████████████████| 50/50 [00:00<00:00, 277.30it/s]\n"
     ]
    },
    {
     "name": "stdout",
     "output_type": "stream",
     "text": [
      "Epoch 160: Loss: 0.0464\n"
     ]
    },
    {
     "name": "stderr",
     "output_type": "stream",
     "text": [
      "Epoch 161: 100%|███████████████████████████████| 50/50 [00:00<00:00, 295.29it/s]\n"
     ]
    },
    {
     "name": "stdout",
     "output_type": "stream",
     "text": [
      "Epoch 161: Loss: 0.0577\n"
     ]
    },
    {
     "name": "stderr",
     "output_type": "stream",
     "text": [
      "Epoch 162: 100%|███████████████████████████████| 50/50 [00:00<00:00, 295.14it/s]\n"
     ]
    },
    {
     "name": "stdout",
     "output_type": "stream",
     "text": [
      "Epoch 162: Loss: 0.0573\n"
     ]
    },
    {
     "name": "stderr",
     "output_type": "stream",
     "text": [
      "Epoch 163: 100%|███████████████████████████████| 50/50 [00:00<00:00, 311.59it/s]\n"
     ]
    },
    {
     "name": "stdout",
     "output_type": "stream",
     "text": [
      "Epoch 163: Loss: 0.0560\n"
     ]
    },
    {
     "name": "stderr",
     "output_type": "stream",
     "text": [
      "Epoch 164: 100%|███████████████████████████████| 50/50 [00:00<00:00, 317.01it/s]\n"
     ]
    },
    {
     "name": "stdout",
     "output_type": "stream",
     "text": [
      "Epoch 164: Loss: 0.0648\n"
     ]
    },
    {
     "name": "stderr",
     "output_type": "stream",
     "text": [
      "Epoch 165: 100%|███████████████████████████████| 50/50 [00:00<00:00, 280.59it/s]\n"
     ]
    },
    {
     "name": "stdout",
     "output_type": "stream",
     "text": [
      "Epoch 165: Loss: 0.1088\n"
     ]
    },
    {
     "name": "stderr",
     "output_type": "stream",
     "text": [
      "Epoch 166: 100%|███████████████████████████████| 50/50 [00:00<00:00, 264.96it/s]\n"
     ]
    },
    {
     "name": "stdout",
     "output_type": "stream",
     "text": [
      "Epoch 166: Loss: 0.0644\n"
     ]
    },
    {
     "name": "stderr",
     "output_type": "stream",
     "text": [
      "Epoch 167: 100%|███████████████████████████████| 50/50 [00:00<00:00, 266.67it/s]\n"
     ]
    },
    {
     "name": "stdout",
     "output_type": "stream",
     "text": [
      "Epoch 167: Loss: 0.0420\n"
     ]
    },
    {
     "name": "stderr",
     "output_type": "stream",
     "text": [
      "Epoch 168: 100%|███████████████████████████████| 50/50 [00:00<00:00, 307.22it/s]\n"
     ]
    },
    {
     "name": "stdout",
     "output_type": "stream",
     "text": [
      "Epoch 168: Loss: 0.0890\n"
     ]
    },
    {
     "name": "stderr",
     "output_type": "stream",
     "text": [
      "Epoch 169: 100%|███████████████████████████████| 50/50 [00:00<00:00, 308.91it/s]\n"
     ]
    },
    {
     "name": "stdout",
     "output_type": "stream",
     "text": [
      "Epoch 169: Loss: 0.0453\n"
     ]
    },
    {
     "name": "stderr",
     "output_type": "stream",
     "text": [
      "Epoch 170: 100%|███████████████████████████████| 50/50 [00:00<00:00, 297.25it/s]\n"
     ]
    },
    {
     "name": "stdout",
     "output_type": "stream",
     "text": [
      "Epoch 170: Loss: 0.0706\n"
     ]
    },
    {
     "name": "stderr",
     "output_type": "stream",
     "text": [
      "Epoch 171: 100%|███████████████████████████████| 50/50 [00:00<00:00, 287.31it/s]\n"
     ]
    },
    {
     "name": "stdout",
     "output_type": "stream",
     "text": [
      "Epoch 171: Loss: 0.0461\n"
     ]
    },
    {
     "name": "stderr",
     "output_type": "stream",
     "text": [
      "Epoch 172: 100%|███████████████████████████████| 50/50 [00:00<00:00, 247.44it/s]\n"
     ]
    },
    {
     "name": "stdout",
     "output_type": "stream",
     "text": [
      "Epoch 172: Loss: 0.0397\n"
     ]
    },
    {
     "name": "stderr",
     "output_type": "stream",
     "text": [
      "Epoch 173: 100%|███████████████████████████████| 50/50 [00:00<00:00, 303.00it/s]\n"
     ]
    },
    {
     "name": "stdout",
     "output_type": "stream",
     "text": [
      "Epoch 173: Loss: 0.0472\n"
     ]
    },
    {
     "name": "stderr",
     "output_type": "stream",
     "text": [
      "Epoch 174: 100%|███████████████████████████████| 50/50 [00:00<00:00, 312.88it/s]\n"
     ]
    },
    {
     "name": "stdout",
     "output_type": "stream",
     "text": [
      "Epoch 174: Loss: 0.0415\n"
     ]
    },
    {
     "name": "stderr",
     "output_type": "stream",
     "text": [
      "Epoch 175: 100%|███████████████████████████████| 50/50 [00:00<00:00, 311.67it/s]\n"
     ]
    },
    {
     "name": "stdout",
     "output_type": "stream",
     "text": [
      "Epoch 175: Loss: 0.0634\n"
     ]
    },
    {
     "name": "stderr",
     "output_type": "stream",
     "text": [
      "Epoch 176: 100%|███████████████████████████████| 50/50 [00:00<00:00, 276.45it/s]\n"
     ]
    },
    {
     "name": "stdout",
     "output_type": "stream",
     "text": [
      "Epoch 176: Loss: 0.0336\n"
     ]
    },
    {
     "name": "stderr",
     "output_type": "stream",
     "text": [
      "Epoch 177: 100%|███████████████████████████████| 50/50 [00:00<00:00, 242.07it/s]\n"
     ]
    },
    {
     "name": "stdout",
     "output_type": "stream",
     "text": [
      "Epoch 177: Loss: 0.0291\n"
     ]
    },
    {
     "name": "stderr",
     "output_type": "stream",
     "text": [
      "Epoch 178: 100%|███████████████████████████████| 50/50 [00:00<00:00, 277.73it/s]\n"
     ]
    },
    {
     "name": "stdout",
     "output_type": "stream",
     "text": [
      "Epoch 178: Loss: 0.0505\n"
     ]
    },
    {
     "name": "stderr",
     "output_type": "stream",
     "text": [
      "Epoch 179: 100%|███████████████████████████████| 50/50 [00:00<00:00, 320.75it/s]\n"
     ]
    },
    {
     "name": "stdout",
     "output_type": "stream",
     "text": [
      "Epoch 179: Loss: 0.0502\n"
     ]
    },
    {
     "name": "stderr",
     "output_type": "stream",
     "text": [
      "Epoch 180: 100%|███████████████████████████████| 50/50 [00:00<00:00, 325.55it/s]\n"
     ]
    },
    {
     "name": "stdout",
     "output_type": "stream",
     "text": [
      "Epoch 180: Loss: 0.0306\n"
     ]
    },
    {
     "name": "stderr",
     "output_type": "stream",
     "text": [
      "Epoch 181: 100%|███████████████████████████████| 50/50 [00:00<00:00, 336.48it/s]\n"
     ]
    },
    {
     "name": "stdout",
     "output_type": "stream",
     "text": [
      "Epoch 181: Loss: 0.0353\n"
     ]
    },
    {
     "name": "stderr",
     "output_type": "stream",
     "text": [
      "Epoch 182: 100%|███████████████████████████████| 50/50 [00:00<00:00, 355.62it/s]\n"
     ]
    },
    {
     "name": "stdout",
     "output_type": "stream",
     "text": [
      "Epoch 182: Loss: 0.0385\n"
     ]
    },
    {
     "name": "stderr",
     "output_type": "stream",
     "text": [
      "Epoch 183: 100%|███████████████████████████████| 50/50 [00:00<00:00, 357.26it/s]\n"
     ]
    },
    {
     "name": "stdout",
     "output_type": "stream",
     "text": [
      "Epoch 183: Loss: 0.0863\n"
     ]
    },
    {
     "name": "stderr",
     "output_type": "stream",
     "text": [
      "Epoch 184: 100%|███████████████████████████████| 50/50 [00:00<00:00, 356.52it/s]\n"
     ]
    },
    {
     "name": "stdout",
     "output_type": "stream",
     "text": [
      "Epoch 184: Loss: 0.0249\n"
     ]
    },
    {
     "name": "stderr",
     "output_type": "stream",
     "text": [
      "Epoch 185: 100%|███████████████████████████████| 50/50 [00:00<00:00, 355.34it/s]\n"
     ]
    },
    {
     "name": "stdout",
     "output_type": "stream",
     "text": [
      "Epoch 185: Loss: 0.0367\n"
     ]
    },
    {
     "name": "stderr",
     "output_type": "stream",
     "text": [
      "Epoch 186: 100%|███████████████████████████████| 50/50 [00:00<00:00, 354.17it/s]\n"
     ]
    },
    {
     "name": "stdout",
     "output_type": "stream",
     "text": [
      "Epoch 186: Loss: 0.0280\n"
     ]
    },
    {
     "name": "stderr",
     "output_type": "stream",
     "text": [
      "Epoch 187: 100%|███████████████████████████████| 50/50 [00:00<00:00, 355.19it/s]\n"
     ]
    },
    {
     "name": "stdout",
     "output_type": "stream",
     "text": [
      "Epoch 187: Loss: 0.0635\n"
     ]
    },
    {
     "name": "stderr",
     "output_type": "stream",
     "text": [
      "Epoch 188: 100%|███████████████████████████████| 50/50 [00:00<00:00, 351.99it/s]\n"
     ]
    },
    {
     "name": "stdout",
     "output_type": "stream",
     "text": [
      "Epoch 188: Loss: 0.0452\n"
     ]
    },
    {
     "name": "stderr",
     "output_type": "stream",
     "text": [
      "Epoch 189: 100%|███████████████████████████████| 50/50 [00:00<00:00, 352.97it/s]\n"
     ]
    },
    {
     "name": "stdout",
     "output_type": "stream",
     "text": [
      "Epoch 189: Loss: 0.0719\n"
     ]
    },
    {
     "name": "stderr",
     "output_type": "stream",
     "text": [
      "Epoch 190: 100%|███████████████████████████████| 50/50 [00:00<00:00, 328.76it/s]\n"
     ]
    },
    {
     "name": "stdout",
     "output_type": "stream",
     "text": [
      "Epoch 190: Loss: 0.0441\n"
     ]
    },
    {
     "name": "stderr",
     "output_type": "stream",
     "text": [
      "Epoch 191: 100%|███████████████████████████████| 50/50 [00:00<00:00, 353.50it/s]\n"
     ]
    },
    {
     "name": "stdout",
     "output_type": "stream",
     "text": [
      "Epoch 191: Loss: 0.0517\n"
     ]
    },
    {
     "name": "stderr",
     "output_type": "stream",
     "text": [
      "Epoch 192: 100%|███████████████████████████████| 50/50 [00:00<00:00, 331.11it/s]\n"
     ]
    },
    {
     "name": "stdout",
     "output_type": "stream",
     "text": [
      "Epoch 192: Loss: 0.0955\n"
     ]
    },
    {
     "name": "stderr",
     "output_type": "stream",
     "text": [
      "Epoch 193: 100%|███████████████████████████████| 50/50 [00:00<00:00, 349.86it/s]\n"
     ]
    },
    {
     "name": "stdout",
     "output_type": "stream",
     "text": [
      "Epoch 193: Loss: 0.0652\n"
     ]
    },
    {
     "name": "stderr",
     "output_type": "stream",
     "text": [
      "Epoch 194: 100%|███████████████████████████████| 50/50 [00:00<00:00, 356.63it/s]\n"
     ]
    },
    {
     "name": "stdout",
     "output_type": "stream",
     "text": [
      "Epoch 194: Loss: 0.0583\n"
     ]
    },
    {
     "name": "stderr",
     "output_type": "stream",
     "text": [
      "Epoch 195: 100%|███████████████████████████████| 50/50 [00:00<00:00, 352.09it/s]\n"
     ]
    },
    {
     "name": "stdout",
     "output_type": "stream",
     "text": [
      "Epoch 195: Loss: 0.0386\n"
     ]
    },
    {
     "name": "stderr",
     "output_type": "stream",
     "text": [
      "Epoch 196: 100%|███████████████████████████████| 50/50 [00:00<00:00, 353.24it/s]\n"
     ]
    },
    {
     "name": "stdout",
     "output_type": "stream",
     "text": [
      "Epoch 196: Loss: 0.0590\n"
     ]
    },
    {
     "name": "stderr",
     "output_type": "stream",
     "text": [
      "Epoch 197: 100%|███████████████████████████████| 50/50 [00:00<00:00, 357.98it/s]\n"
     ]
    },
    {
     "name": "stdout",
     "output_type": "stream",
     "text": [
      "Epoch 197: Loss: 0.0623\n"
     ]
    },
    {
     "name": "stderr",
     "output_type": "stream",
     "text": [
      "Epoch 198: 100%|███████████████████████████████| 50/50 [00:00<00:00, 356.00it/s]\n"
     ]
    },
    {
     "name": "stdout",
     "output_type": "stream",
     "text": [
      "Epoch 198: Loss: 0.0501\n"
     ]
    },
    {
     "name": "stderr",
     "output_type": "stream",
     "text": [
      "Epoch 199: 100%|███████████████████████████████| 50/50 [00:00<00:00, 357.05it/s]\n"
     ]
    },
    {
     "name": "stdout",
     "output_type": "stream",
     "text": [
      "Epoch 199: Loss: 0.0755\n"
     ]
    },
    {
     "name": "stderr",
     "output_type": "stream",
     "text": [
      "Epoch 200: 100%|███████████████████████████████| 50/50 [00:00<00:00, 354.41it/s]\n"
     ]
    },
    {
     "name": "stdout",
     "output_type": "stream",
     "text": [
      "Epoch 200: Loss: 0.0406\n"
     ]
    },
    {
     "name": "stderr",
     "output_type": "stream",
     "text": [
      "Epoch 201: 100%|███████████████████████████████| 50/50 [00:00<00:00, 359.64it/s]\n"
     ]
    },
    {
     "name": "stdout",
     "output_type": "stream",
     "text": [
      "Epoch 201: Loss: 0.0484\n"
     ]
    },
    {
     "name": "stderr",
     "output_type": "stream",
     "text": [
      "Epoch 202: 100%|███████████████████████████████| 50/50 [00:00<00:00, 354.10it/s]\n"
     ]
    },
    {
     "name": "stdout",
     "output_type": "stream",
     "text": [
      "Epoch 202: Loss: 0.0523\n"
     ]
    },
    {
     "name": "stderr",
     "output_type": "stream",
     "text": [
      "Epoch 203: 100%|███████████████████████████████| 50/50 [00:00<00:00, 359.09it/s]\n"
     ]
    },
    {
     "name": "stdout",
     "output_type": "stream",
     "text": [
      "Epoch 203: Loss: 0.0430\n"
     ]
    },
    {
     "name": "stderr",
     "output_type": "stream",
     "text": [
      "Epoch 204: 100%|███████████████████████████████| 50/50 [00:00<00:00, 334.42it/s]\n"
     ]
    },
    {
     "name": "stdout",
     "output_type": "stream",
     "text": [
      "Epoch 204: Loss: 0.0326\n"
     ]
    },
    {
     "name": "stderr",
     "output_type": "stream",
     "text": [
      "Epoch 205: 100%|███████████████████████████████| 50/50 [00:00<00:00, 352.00it/s]\n"
     ]
    },
    {
     "name": "stdout",
     "output_type": "stream",
     "text": [
      "Epoch 205: Loss: 0.0238\n"
     ]
    },
    {
     "name": "stderr",
     "output_type": "stream",
     "text": [
      "Epoch 206: 100%|███████████████████████████████| 50/50 [00:00<00:00, 332.46it/s]\n"
     ]
    },
    {
     "name": "stdout",
     "output_type": "stream",
     "text": [
      "Epoch 206: Loss: 0.0267\n"
     ]
    },
    {
     "name": "stderr",
     "output_type": "stream",
     "text": [
      "Epoch 207: 100%|███████████████████████████████| 50/50 [00:00<00:00, 374.06it/s]\n"
     ]
    },
    {
     "name": "stdout",
     "output_type": "stream",
     "text": [
      "Epoch 207: Loss: 0.0222\n"
     ]
    },
    {
     "name": "stderr",
     "output_type": "stream",
     "text": [
      "Epoch 208: 100%|███████████████████████████████| 50/50 [00:00<00:00, 358.59it/s]\n"
     ]
    },
    {
     "name": "stdout",
     "output_type": "stream",
     "text": [
      "Epoch 208: Loss: 0.0260\n"
     ]
    },
    {
     "name": "stderr",
     "output_type": "stream",
     "text": [
      "Epoch 209: 100%|███████████████████████████████| 50/50 [00:00<00:00, 346.61it/s]\n"
     ]
    },
    {
     "name": "stdout",
     "output_type": "stream",
     "text": [
      "Epoch 209: Loss: 0.0267\n"
     ]
    },
    {
     "name": "stderr",
     "output_type": "stream",
     "text": [
      "Epoch 210: 100%|███████████████████████████████| 50/50 [00:00<00:00, 356.55it/s]\n"
     ]
    },
    {
     "name": "stdout",
     "output_type": "stream",
     "text": [
      "Epoch 210: Loss: 0.0389\n"
     ]
    },
    {
     "name": "stderr",
     "output_type": "stream",
     "text": [
      "Epoch 211: 100%|███████████████████████████████| 50/50 [00:00<00:00, 356.99it/s]\n"
     ]
    },
    {
     "name": "stdout",
     "output_type": "stream",
     "text": [
      "Epoch 211: Loss: 0.0658\n"
     ]
    },
    {
     "name": "stderr",
     "output_type": "stream",
     "text": [
      "Epoch 212: 100%|███████████████████████████████| 50/50 [00:00<00:00, 356.25it/s]\n"
     ]
    },
    {
     "name": "stdout",
     "output_type": "stream",
     "text": [
      "Epoch 212: Loss: 0.0273\n"
     ]
    },
    {
     "name": "stderr",
     "output_type": "stream",
     "text": [
      "Epoch 213: 100%|███████████████████████████████| 50/50 [00:00<00:00, 342.11it/s]\n"
     ]
    },
    {
     "name": "stdout",
     "output_type": "stream",
     "text": [
      "Epoch 213: Loss: 0.0156\n"
     ]
    },
    {
     "name": "stderr",
     "output_type": "stream",
     "text": [
      "Epoch 214: 100%|███████████████████████████████| 50/50 [00:00<00:00, 340.24it/s]\n"
     ]
    },
    {
     "name": "stdout",
     "output_type": "stream",
     "text": [
      "Epoch 214: Loss: 0.0213\n"
     ]
    },
    {
     "name": "stderr",
     "output_type": "stream",
     "text": [
      "Epoch 215: 100%|███████████████████████████████| 50/50 [00:00<00:00, 353.30it/s]\n"
     ]
    },
    {
     "name": "stdout",
     "output_type": "stream",
     "text": [
      "Epoch 215: Loss: 0.0199\n"
     ]
    },
    {
     "name": "stderr",
     "output_type": "stream",
     "text": [
      "Epoch 216: 100%|███████████████████████████████| 50/50 [00:00<00:00, 301.83it/s]\n"
     ]
    },
    {
     "name": "stdout",
     "output_type": "stream",
     "text": [
      "Epoch 216: Loss: 0.0192\n"
     ]
    },
    {
     "name": "stderr",
     "output_type": "stream",
     "text": [
      "Epoch 217: 100%|███████████████████████████████| 50/50 [00:00<00:00, 231.50it/s]\n"
     ]
    },
    {
     "name": "stdout",
     "output_type": "stream",
     "text": [
      "Epoch 217: Loss: 0.0198\n"
     ]
    },
    {
     "name": "stderr",
     "output_type": "stream",
     "text": [
      "Epoch 218: 100%|███████████████████████████████| 50/50 [00:00<00:00, 297.47it/s]\n"
     ]
    },
    {
     "name": "stdout",
     "output_type": "stream",
     "text": [
      "Epoch 218: Loss: 0.0327\n"
     ]
    },
    {
     "name": "stderr",
     "output_type": "stream",
     "text": [
      "Epoch 219: 100%|███████████████████████████████| 50/50 [00:00<00:00, 270.55it/s]\n"
     ]
    },
    {
     "name": "stdout",
     "output_type": "stream",
     "text": [
      "Epoch 219: Loss: 0.0273\n"
     ]
    },
    {
     "name": "stderr",
     "output_type": "stream",
     "text": [
      "Epoch 220: 100%|███████████████████████████████| 50/50 [00:00<00:00, 275.78it/s]\n"
     ]
    },
    {
     "name": "stdout",
     "output_type": "stream",
     "text": [
      "Epoch 220: Loss: 0.0185\n"
     ]
    },
    {
     "name": "stderr",
     "output_type": "stream",
     "text": [
      "Epoch 221: 100%|███████████████████████████████| 50/50 [00:00<00:00, 291.84it/s]\n"
     ]
    },
    {
     "name": "stdout",
     "output_type": "stream",
     "text": [
      "Epoch 221: Loss: 0.0127\n"
     ]
    },
    {
     "name": "stderr",
     "output_type": "stream",
     "text": [
      "Epoch 222: 100%|███████████████████████████████| 50/50 [00:00<00:00, 295.30it/s]\n"
     ]
    },
    {
     "name": "stdout",
     "output_type": "stream",
     "text": [
      "Epoch 222: Loss: 0.0470\n"
     ]
    },
    {
     "name": "stderr",
     "output_type": "stream",
     "text": [
      "Epoch 223: 100%|███████████████████████████████| 50/50 [00:00<00:00, 324.07it/s]\n"
     ]
    },
    {
     "name": "stdout",
     "output_type": "stream",
     "text": [
      "Epoch 223: Loss: 0.0321\n"
     ]
    },
    {
     "name": "stderr",
     "output_type": "stream",
     "text": [
      "Epoch 224: 100%|███████████████████████████████| 50/50 [00:00<00:00, 306.51it/s]\n"
     ]
    },
    {
     "name": "stdout",
     "output_type": "stream",
     "text": [
      "Epoch 224: Loss: 0.0165\n"
     ]
    },
    {
     "name": "stderr",
     "output_type": "stream",
     "text": [
      "Epoch 225: 100%|███████████████████████████████| 50/50 [00:00<00:00, 315.46it/s]\n"
     ]
    },
    {
     "name": "stdout",
     "output_type": "stream",
     "text": [
      "Epoch 225: Loss: 0.0415\n"
     ]
    },
    {
     "name": "stderr",
     "output_type": "stream",
     "text": [
      "Epoch 226: 100%|███████████████████████████████| 50/50 [00:00<00:00, 295.35it/s]\n"
     ]
    },
    {
     "name": "stdout",
     "output_type": "stream",
     "text": [
      "Epoch 226: Loss: 0.0202\n"
     ]
    },
    {
     "name": "stderr",
     "output_type": "stream",
     "text": [
      "Epoch 227: 100%|███████████████████████████████| 50/50 [00:00<00:00, 282.69it/s]\n"
     ]
    },
    {
     "name": "stdout",
     "output_type": "stream",
     "text": [
      "Epoch 227: Loss: 0.0237\n"
     ]
    },
    {
     "name": "stderr",
     "output_type": "stream",
     "text": [
      "Epoch 228: 100%|███████████████████████████████| 50/50 [00:00<00:00, 309.80it/s]\n"
     ]
    },
    {
     "name": "stdout",
     "output_type": "stream",
     "text": [
      "Epoch 228: Loss: 0.0233\n"
     ]
    },
    {
     "name": "stderr",
     "output_type": "stream",
     "text": [
      "Epoch 229: 100%|███████████████████████████████| 50/50 [00:00<00:00, 300.51it/s]\n"
     ]
    },
    {
     "name": "stdout",
     "output_type": "stream",
     "text": [
      "Epoch 229: Loss: 0.0157\n"
     ]
    },
    {
     "name": "stderr",
     "output_type": "stream",
     "text": [
      "Epoch 230: 100%|███████████████████████████████| 50/50 [00:00<00:00, 303.67it/s]\n"
     ]
    },
    {
     "name": "stdout",
     "output_type": "stream",
     "text": [
      "Epoch 230: Loss: 0.0217\n"
     ]
    },
    {
     "name": "stderr",
     "output_type": "stream",
     "text": [
      "Epoch 231: 100%|███████████████████████████████| 50/50 [00:00<00:00, 276.11it/s]\n"
     ]
    },
    {
     "name": "stdout",
     "output_type": "stream",
     "text": [
      "Epoch 231: Loss: 0.0384\n"
     ]
    },
    {
     "name": "stderr",
     "output_type": "stream",
     "text": [
      "Epoch 232: 100%|███████████████████████████████| 50/50 [00:00<00:00, 260.33it/s]\n"
     ]
    },
    {
     "name": "stdout",
     "output_type": "stream",
     "text": [
      "Epoch 232: Loss: 0.0733\n"
     ]
    },
    {
     "name": "stderr",
     "output_type": "stream",
     "text": [
      "Epoch 233: 100%|███████████████████████████████| 50/50 [00:00<00:00, 322.08it/s]\n"
     ]
    },
    {
     "name": "stdout",
     "output_type": "stream",
     "text": [
      "Epoch 233: Loss: 0.0225\n"
     ]
    },
    {
     "name": "stderr",
     "output_type": "stream",
     "text": [
      "Epoch 234: 100%|███████████████████████████████| 50/50 [00:00<00:00, 327.27it/s]\n"
     ]
    },
    {
     "name": "stdout",
     "output_type": "stream",
     "text": [
      "Epoch 234: Loss: 0.0268\n"
     ]
    },
    {
     "name": "stderr",
     "output_type": "stream",
     "text": [
      "Epoch 235: 100%|███████████████████████████████| 50/50 [00:00<00:00, 323.63it/s]\n"
     ]
    },
    {
     "name": "stdout",
     "output_type": "stream",
     "text": [
      "Epoch 235: Loss: 0.0130\n"
     ]
    },
    {
     "name": "stderr",
     "output_type": "stream",
     "text": [
      "Epoch 236: 100%|███████████████████████████████| 50/50 [00:00<00:00, 307.53it/s]\n"
     ]
    },
    {
     "name": "stdout",
     "output_type": "stream",
     "text": [
      "Epoch 236: Loss: 0.0131\n"
     ]
    },
    {
     "name": "stderr",
     "output_type": "stream",
     "text": [
      "Epoch 237: 100%|███████████████████████████████| 50/50 [00:00<00:00, 275.38it/s]\n"
     ]
    },
    {
     "name": "stdout",
     "output_type": "stream",
     "text": [
      "Epoch 237: Loss: 0.0138\n"
     ]
    },
    {
     "name": "stderr",
     "output_type": "stream",
     "text": [
      "Epoch 238: 100%|███████████████████████████████| 50/50 [00:00<00:00, 224.23it/s]\n"
     ]
    },
    {
     "name": "stdout",
     "output_type": "stream",
     "text": [
      "Epoch 238: Loss: 0.0164\n"
     ]
    },
    {
     "name": "stderr",
     "output_type": "stream",
     "text": [
      "Epoch 239: 100%|███████████████████████████████| 50/50 [00:00<00:00, 279.42it/s]\n"
     ]
    },
    {
     "name": "stdout",
     "output_type": "stream",
     "text": [
      "Epoch 239: Loss: 0.0138\n"
     ]
    },
    {
     "name": "stderr",
     "output_type": "stream",
     "text": [
      "Epoch 240: 100%|███████████████████████████████| 50/50 [00:00<00:00, 282.64it/s]\n"
     ]
    },
    {
     "name": "stdout",
     "output_type": "stream",
     "text": [
      "Epoch 240: Loss: 0.0258\n"
     ]
    },
    {
     "name": "stderr",
     "output_type": "stream",
     "text": [
      "Epoch 241: 100%|███████████████████████████████| 50/50 [00:00<00:00, 320.56it/s]\n"
     ]
    },
    {
     "name": "stdout",
     "output_type": "stream",
     "text": [
      "Epoch 241: Loss: 0.0306\n"
     ]
    },
    {
     "name": "stderr",
     "output_type": "stream",
     "text": [
      "Epoch 242: 100%|███████████████████████████████| 50/50 [00:00<00:00, 305.78it/s]\n"
     ]
    },
    {
     "name": "stdout",
     "output_type": "stream",
     "text": [
      "Epoch 242: Loss: 0.0513\n"
     ]
    },
    {
     "name": "stderr",
     "output_type": "stream",
     "text": [
      "Epoch 243: 100%|███████████████████████████████| 50/50 [00:00<00:00, 306.30it/s]\n"
     ]
    },
    {
     "name": "stdout",
     "output_type": "stream",
     "text": [
      "Epoch 243: Loss: 0.0135\n"
     ]
    },
    {
     "name": "stderr",
     "output_type": "stream",
     "text": [
      "Epoch 244: 100%|███████████████████████████████| 50/50 [00:00<00:00, 280.59it/s]\n"
     ]
    },
    {
     "name": "stdout",
     "output_type": "stream",
     "text": [
      "Epoch 244: Loss: 0.0108\n"
     ]
    },
    {
     "name": "stderr",
     "output_type": "stream",
     "text": [
      "Epoch 245: 100%|███████████████████████████████| 50/50 [00:00<00:00, 262.08it/s]\n"
     ]
    },
    {
     "name": "stdout",
     "output_type": "stream",
     "text": [
      "Epoch 245: Loss: 0.0189\n"
     ]
    },
    {
     "name": "stderr",
     "output_type": "stream",
     "text": [
      "Epoch 246: 100%|███████████████████████████████| 50/50 [00:00<00:00, 333.78it/s]\n"
     ]
    },
    {
     "name": "stdout",
     "output_type": "stream",
     "text": [
      "Epoch 246: Loss: 0.0116\n"
     ]
    },
    {
     "name": "stderr",
     "output_type": "stream",
     "text": [
      "Epoch 247: 100%|███████████████████████████████| 50/50 [00:00<00:00, 320.12it/s]\n"
     ]
    },
    {
     "name": "stdout",
     "output_type": "stream",
     "text": [
      "Epoch 247: Loss: 0.0124\n"
     ]
    },
    {
     "name": "stderr",
     "output_type": "stream",
     "text": [
      "Epoch 248: 100%|███████████████████████████████| 50/50 [00:00<00:00, 305.92it/s]\n"
     ]
    },
    {
     "name": "stdout",
     "output_type": "stream",
     "text": [
      "Epoch 248: Loss: 0.0154\n"
     ]
    },
    {
     "name": "stderr",
     "output_type": "stream",
     "text": [
      "Epoch 249: 100%|███████████████████████████████| 50/50 [00:00<00:00, 287.22it/s]\n"
     ]
    },
    {
     "name": "stdout",
     "output_type": "stream",
     "text": [
      "Epoch 249: Loss: 0.0168\n"
     ]
    },
    {
     "name": "stderr",
     "output_type": "stream",
     "text": [
      "Epoch 250: 100%|███████████████████████████████| 50/50 [00:00<00:00, 267.32it/s]\n"
     ]
    },
    {
     "name": "stdout",
     "output_type": "stream",
     "text": [
      "Epoch 250: Loss: 0.0243\n"
     ]
    },
    {
     "name": "stderr",
     "output_type": "stream",
     "text": [
      "Epoch 251: 100%|███████████████████████████████| 50/50 [00:00<00:00, 281.08it/s]\n"
     ]
    },
    {
     "name": "stdout",
     "output_type": "stream",
     "text": [
      "Epoch 251: Loss: 0.0138\n"
     ]
    },
    {
     "name": "stderr",
     "output_type": "stream",
     "text": [
      "Epoch 252: 100%|███████████████████████████████| 50/50 [00:00<00:00, 261.35it/s]\n"
     ]
    },
    {
     "name": "stdout",
     "output_type": "stream",
     "text": [
      "Epoch 252: Loss: 0.0099\n"
     ]
    },
    {
     "name": "stderr",
     "output_type": "stream",
     "text": [
      "Epoch 253: 100%|███████████████████████████████| 50/50 [00:00<00:00, 294.02it/s]\n"
     ]
    },
    {
     "name": "stdout",
     "output_type": "stream",
     "text": [
      "Epoch 253: Loss: 0.0165\n"
     ]
    },
    {
     "name": "stderr",
     "output_type": "stream",
     "text": [
      "Epoch 254: 100%|███████████████████████████████| 50/50 [00:00<00:00, 293.02it/s]\n"
     ]
    },
    {
     "name": "stdout",
     "output_type": "stream",
     "text": [
      "Epoch 254: Loss: 0.0555\n"
     ]
    },
    {
     "name": "stderr",
     "output_type": "stream",
     "text": [
      "Epoch 255: 100%|███████████████████████████████| 50/50 [00:00<00:00, 304.65it/s]\n"
     ]
    },
    {
     "name": "stdout",
     "output_type": "stream",
     "text": [
      "Epoch 255: Loss: 0.0341\n"
     ]
    },
    {
     "name": "stderr",
     "output_type": "stream",
     "text": [
      "Epoch 256: 100%|███████████████████████████████| 50/50 [00:00<00:00, 287.99it/s]\n"
     ]
    },
    {
     "name": "stdout",
     "output_type": "stream",
     "text": [
      "Epoch 256: Loss: 0.0162\n"
     ]
    },
    {
     "name": "stderr",
     "output_type": "stream",
     "text": [
      "Epoch 257: 100%|███████████████████████████████| 50/50 [00:00<00:00, 262.96it/s]\n"
     ]
    },
    {
     "name": "stdout",
     "output_type": "stream",
     "text": [
      "Epoch 257: Loss: 0.0156\n"
     ]
    },
    {
     "name": "stderr",
     "output_type": "stream",
     "text": [
      "Epoch 258: 100%|███████████████████████████████| 50/50 [00:00<00:00, 279.55it/s]\n"
     ]
    },
    {
     "name": "stdout",
     "output_type": "stream",
     "text": [
      "Epoch 258: Loss: 0.0203\n"
     ]
    },
    {
     "name": "stderr",
     "output_type": "stream",
     "text": [
      "Epoch 259: 100%|███████████████████████████████| 50/50 [00:00<00:00, 300.60it/s]\n"
     ]
    },
    {
     "name": "stdout",
     "output_type": "stream",
     "text": [
      "Epoch 259: Loss: 0.0103\n"
     ]
    },
    {
     "name": "stderr",
     "output_type": "stream",
     "text": [
      "Epoch 260: 100%|███████████████████████████████| 50/50 [00:00<00:00, 307.38it/s]\n"
     ]
    },
    {
     "name": "stdout",
     "output_type": "stream",
     "text": [
      "Epoch 260: Loss: 0.0161\n"
     ]
    },
    {
     "name": "stderr",
     "output_type": "stream",
     "text": [
      "Epoch 261: 100%|███████████████████████████████| 50/50 [00:00<00:00, 321.38it/s]\n"
     ]
    },
    {
     "name": "stdout",
     "output_type": "stream",
     "text": [
      "Epoch 261: Loss: 0.0109\n"
     ]
    },
    {
     "name": "stderr",
     "output_type": "stream",
     "text": [
      "Epoch 262: 100%|███████████████████████████████| 50/50 [00:00<00:00, 311.37it/s]\n"
     ]
    },
    {
     "name": "stdout",
     "output_type": "stream",
     "text": [
      "Epoch 262: Loss: 0.0290\n"
     ]
    },
    {
     "name": "stderr",
     "output_type": "stream",
     "text": [
      "Epoch 263: 100%|███████████████████████████████| 50/50 [00:00<00:00, 294.43it/s]\n"
     ]
    },
    {
     "name": "stdout",
     "output_type": "stream",
     "text": [
      "Epoch 263: Loss: 0.0102\n"
     ]
    },
    {
     "name": "stderr",
     "output_type": "stream",
     "text": [
      "Epoch 264: 100%|███████████████████████████████| 50/50 [00:00<00:00, 274.61it/s]\n"
     ]
    },
    {
     "name": "stdout",
     "output_type": "stream",
     "text": [
      "Epoch 264: Loss: 0.0087\n"
     ]
    },
    {
     "name": "stderr",
     "output_type": "stream",
     "text": [
      "Epoch 265: 100%|███████████████████████████████| 50/50 [00:00<00:00, 318.07it/s]\n"
     ]
    },
    {
     "name": "stdout",
     "output_type": "stream",
     "text": [
      "Epoch 265: Loss: 0.0186\n"
     ]
    },
    {
     "name": "stderr",
     "output_type": "stream",
     "text": [
      "Epoch 266: 100%|███████████████████████████████| 50/50 [00:00<00:00, 297.22it/s]\n"
     ]
    },
    {
     "name": "stdout",
     "output_type": "stream",
     "text": [
      "Epoch 266: Loss: 0.0233\n"
     ]
    },
    {
     "name": "stderr",
     "output_type": "stream",
     "text": [
      "Epoch 267: 100%|███████████████████████████████| 50/50 [00:00<00:00, 340.33it/s]\n"
     ]
    },
    {
     "name": "stdout",
     "output_type": "stream",
     "text": [
      "Epoch 267: Loss: 0.0271\n"
     ]
    },
    {
     "name": "stderr",
     "output_type": "stream",
     "text": [
      "Epoch 268: 100%|███████████████████████████████| 50/50 [00:00<00:00, 326.80it/s]\n"
     ]
    },
    {
     "name": "stdout",
     "output_type": "stream",
     "text": [
      "Epoch 268: Loss: 0.0232\n"
     ]
    },
    {
     "name": "stderr",
     "output_type": "stream",
     "text": [
      "Epoch 269: 100%|███████████████████████████████| 50/50 [00:00<00:00, 310.15it/s]\n"
     ]
    },
    {
     "name": "stdout",
     "output_type": "stream",
     "text": [
      "Epoch 269: Loss: 0.0179\n"
     ]
    },
    {
     "name": "stderr",
     "output_type": "stream",
     "text": [
      "Epoch 270: 100%|███████████████████████████████| 50/50 [00:00<00:00, 302.84it/s]\n"
     ]
    },
    {
     "name": "stdout",
     "output_type": "stream",
     "text": [
      "Epoch 270: Loss: 0.0266\n"
     ]
    },
    {
     "name": "stderr",
     "output_type": "stream",
     "text": [
      "Epoch 271: 100%|███████████████████████████████| 50/50 [00:00<00:00, 296.69it/s]\n"
     ]
    },
    {
     "name": "stdout",
     "output_type": "stream",
     "text": [
      "Epoch 271: Loss: 0.0157\n"
     ]
    },
    {
     "name": "stderr",
     "output_type": "stream",
     "text": [
      "Epoch 272: 100%|███████████████████████████████| 50/50 [00:00<00:00, 264.20it/s]\n"
     ]
    },
    {
     "name": "stdout",
     "output_type": "stream",
     "text": [
      "Epoch 272: Loss: 0.0175\n"
     ]
    },
    {
     "name": "stderr",
     "output_type": "stream",
     "text": [
      "Epoch 273: 100%|███████████████████████████████| 50/50 [00:00<00:00, 328.98it/s]\n"
     ]
    },
    {
     "name": "stdout",
     "output_type": "stream",
     "text": [
      "Epoch 273: Loss: 0.0099\n"
     ]
    },
    {
     "name": "stderr",
     "output_type": "stream",
     "text": [
      "Epoch 274: 100%|███████████████████████████████| 50/50 [00:00<00:00, 322.81it/s]\n"
     ]
    },
    {
     "name": "stdout",
     "output_type": "stream",
     "text": [
      "Epoch 274: Loss: 0.0122\n"
     ]
    },
    {
     "name": "stderr",
     "output_type": "stream",
     "text": [
      "Epoch 275: 100%|███████████████████████████████| 50/50 [00:00<00:00, 310.32it/s]\n"
     ]
    },
    {
     "name": "stdout",
     "output_type": "stream",
     "text": [
      "Epoch 275: Loss: 0.0232\n"
     ]
    },
    {
     "name": "stderr",
     "output_type": "stream",
     "text": [
      "Epoch 276: 100%|███████████████████████████████| 50/50 [00:00<00:00, 288.48it/s]\n"
     ]
    },
    {
     "name": "stdout",
     "output_type": "stream",
     "text": [
      "Epoch 276: Loss: 0.0177\n"
     ]
    },
    {
     "name": "stderr",
     "output_type": "stream",
     "text": [
      "Epoch 277: 100%|███████████████████████████████| 50/50 [00:00<00:00, 249.73it/s]\n"
     ]
    },
    {
     "name": "stdout",
     "output_type": "stream",
     "text": [
      "Epoch 277: Loss: 0.0301\n"
     ]
    },
    {
     "name": "stderr",
     "output_type": "stream",
     "text": [
      "Epoch 278: 100%|███████████████████████████████| 50/50 [00:00<00:00, 292.30it/s]\n"
     ]
    },
    {
     "name": "stdout",
     "output_type": "stream",
     "text": [
      "Epoch 278: Loss: 0.0141\n"
     ]
    },
    {
     "name": "stderr",
     "output_type": "stream",
     "text": [
      "Epoch 279: 100%|███████████████████████████████| 50/50 [00:00<00:00, 358.11it/s]\n"
     ]
    },
    {
     "name": "stdout",
     "output_type": "stream",
     "text": [
      "Epoch 279: Loss: 0.0180\n"
     ]
    },
    {
     "name": "stderr",
     "output_type": "stream",
     "text": [
      "Epoch 280: 100%|███████████████████████████████| 50/50 [00:00<00:00, 344.18it/s]\n"
     ]
    },
    {
     "name": "stdout",
     "output_type": "stream",
     "text": [
      "Epoch 280: Loss: 0.0211\n"
     ]
    },
    {
     "name": "stderr",
     "output_type": "stream",
     "text": [
      "Epoch 281: 100%|███████████████████████████████| 50/50 [00:00<00:00, 294.33it/s]\n"
     ]
    },
    {
     "name": "stdout",
     "output_type": "stream",
     "text": [
      "Epoch 281: Loss: 0.0125\n"
     ]
    },
    {
     "name": "stderr",
     "output_type": "stream",
     "text": [
      "Epoch 282: 100%|███████████████████████████████| 50/50 [00:00<00:00, 332.51it/s]\n"
     ]
    },
    {
     "name": "stdout",
     "output_type": "stream",
     "text": [
      "Epoch 282: Loss: 0.0174\n"
     ]
    },
    {
     "name": "stderr",
     "output_type": "stream",
     "text": [
      "Epoch 283: 100%|███████████████████████████████| 50/50 [00:00<00:00, 311.04it/s]\n"
     ]
    },
    {
     "name": "stdout",
     "output_type": "stream",
     "text": [
      "Epoch 283: Loss: 0.0138\n"
     ]
    },
    {
     "name": "stderr",
     "output_type": "stream",
     "text": [
      "Epoch 284: 100%|███████████████████████████████| 50/50 [00:00<00:00, 306.09it/s]\n"
     ]
    },
    {
     "name": "stdout",
     "output_type": "stream",
     "text": [
      "Epoch 284: Loss: 0.0407\n"
     ]
    },
    {
     "name": "stderr",
     "output_type": "stream",
     "text": [
      "Epoch 285: 100%|███████████████████████████████| 50/50 [00:00<00:00, 270.48it/s]\n"
     ]
    },
    {
     "name": "stdout",
     "output_type": "stream",
     "text": [
      "Epoch 285: Loss: 0.0116\n"
     ]
    },
    {
     "name": "stderr",
     "output_type": "stream",
     "text": [
      "Epoch 286: 100%|███████████████████████████████| 50/50 [00:00<00:00, 248.48it/s]\n"
     ]
    },
    {
     "name": "stdout",
     "output_type": "stream",
     "text": [
      "Epoch 286: Loss: 0.0128\n"
     ]
    },
    {
     "name": "stderr",
     "output_type": "stream",
     "text": [
      "Epoch 287: 100%|███████████████████████████████| 50/50 [00:00<00:00, 309.32it/s]\n"
     ]
    },
    {
     "name": "stdout",
     "output_type": "stream",
     "text": [
      "Epoch 287: Loss: 0.0102\n"
     ]
    },
    {
     "name": "stderr",
     "output_type": "stream",
     "text": [
      "Epoch 288: 100%|███████████████████████████████| 50/50 [00:00<00:00, 326.10it/s]\n"
     ]
    },
    {
     "name": "stdout",
     "output_type": "stream",
     "text": [
      "Epoch 288: Loss: 0.0174\n"
     ]
    },
    {
     "name": "stderr",
     "output_type": "stream",
     "text": [
      "Epoch 289: 100%|███████████████████████████████| 50/50 [00:00<00:00, 310.71it/s]\n"
     ]
    },
    {
     "name": "stdout",
     "output_type": "stream",
     "text": [
      "Epoch 289: Loss: 0.0111\n"
     ]
    },
    {
     "name": "stderr",
     "output_type": "stream",
     "text": [
      "Epoch 290: 100%|███████████████████████████████| 50/50 [00:00<00:00, 292.72it/s]\n"
     ]
    },
    {
     "name": "stdout",
     "output_type": "stream",
     "text": [
      "Epoch 290: Loss: 0.0125\n"
     ]
    },
    {
     "name": "stderr",
     "output_type": "stream",
     "text": [
      "Epoch 291: 100%|███████████████████████████████| 50/50 [00:00<00:00, 280.75it/s]\n"
     ]
    },
    {
     "name": "stdout",
     "output_type": "stream",
     "text": [
      "Epoch 291: Loss: 0.0204\n"
     ]
    },
    {
     "name": "stderr",
     "output_type": "stream",
     "text": [
      "Epoch 292: 100%|███████████████████████████████| 50/50 [00:00<00:00, 248.60it/s]\n"
     ]
    },
    {
     "name": "stdout",
     "output_type": "stream",
     "text": [
      "Epoch 292: Loss: 0.0149\n"
     ]
    },
    {
     "name": "stderr",
     "output_type": "stream",
     "text": [
      "Epoch 293: 100%|███████████████████████████████| 50/50 [00:00<00:00, 315.72it/s]\n"
     ]
    },
    {
     "name": "stdout",
     "output_type": "stream",
     "text": [
      "Epoch 293: Loss: 0.0142\n"
     ]
    },
    {
     "name": "stderr",
     "output_type": "stream",
     "text": [
      "Epoch 294: 100%|███████████████████████████████| 50/50 [00:00<00:00, 322.54it/s]\n"
     ]
    },
    {
     "name": "stdout",
     "output_type": "stream",
     "text": [
      "Epoch 294: Loss: 0.0093\n"
     ]
    },
    {
     "name": "stderr",
     "output_type": "stream",
     "text": [
      "Epoch 295: 100%|███████████████████████████████| 50/50 [00:00<00:00, 323.02it/s]\n"
     ]
    },
    {
     "name": "stdout",
     "output_type": "stream",
     "text": [
      "Epoch 295: Loss: 0.0154\n"
     ]
    },
    {
     "name": "stderr",
     "output_type": "stream",
     "text": [
      "Epoch 296: 100%|███████████████████████████████| 50/50 [00:00<00:00, 303.01it/s]\n"
     ]
    },
    {
     "name": "stdout",
     "output_type": "stream",
     "text": [
      "Epoch 296: Loss: 0.0058\n"
     ]
    },
    {
     "name": "stderr",
     "output_type": "stream",
     "text": [
      "Epoch 297: 100%|███████████████████████████████| 50/50 [00:00<00:00, 272.34it/s]\n"
     ]
    },
    {
     "name": "stdout",
     "output_type": "stream",
     "text": [
      "Epoch 297: Loss: 0.0276\n"
     ]
    },
    {
     "name": "stderr",
     "output_type": "stream",
     "text": [
      "Epoch 298: 100%|███████████████████████████████| 50/50 [00:00<00:00, 260.85it/s]\n"
     ]
    },
    {
     "name": "stdout",
     "output_type": "stream",
     "text": [
      "Epoch 298: Loss: 0.0294\n"
     ]
    },
    {
     "name": "stderr",
     "output_type": "stream",
     "text": [
      "Epoch 299: 100%|███████████████████████████████| 50/50 [00:00<00:00, 297.49it/s]\n"
     ]
    },
    {
     "name": "stdout",
     "output_type": "stream",
     "text": [
      "Epoch 299: Loss: 0.0076\n"
     ]
    },
    {
     "name": "stderr",
     "output_type": "stream",
     "text": [
      "Epoch 300: 100%|███████████████████████████████| 50/50 [00:00<00:00, 312.72it/s]\n"
     ]
    },
    {
     "name": "stdout",
     "output_type": "stream",
     "text": [
      "Epoch 300: Loss: 0.0240\n"
     ]
    },
    {
     "name": "stderr",
     "output_type": "stream",
     "text": [
      "Epoch 301: 100%|███████████████████████████████| 50/50 [00:00<00:00, 319.91it/s]\n"
     ]
    },
    {
     "name": "stdout",
     "output_type": "stream",
     "text": [
      "Epoch 301: Loss: 0.0139\n"
     ]
    },
    {
     "name": "stderr",
     "output_type": "stream",
     "text": [
      "Epoch 302: 100%|███████████████████████████████| 50/50 [00:00<00:00, 301.65it/s]\n"
     ]
    },
    {
     "name": "stdout",
     "output_type": "stream",
     "text": [
      "Epoch 302: Loss: 0.0094\n"
     ]
    },
    {
     "name": "stderr",
     "output_type": "stream",
     "text": [
      "Epoch 303: 100%|███████████████████████████████| 50/50 [00:00<00:00, 267.45it/s]\n"
     ]
    },
    {
     "name": "stdout",
     "output_type": "stream",
     "text": [
      "Epoch 303: Loss: 0.0110\n"
     ]
    },
    {
     "name": "stderr",
     "output_type": "stream",
     "text": [
      "Epoch 304: 100%|███████████████████████████████| 50/50 [00:00<00:00, 261.78it/s]\n"
     ]
    },
    {
     "name": "stdout",
     "output_type": "stream",
     "text": [
      "Epoch 304: Loss: 0.0184\n"
     ]
    },
    {
     "name": "stderr",
     "output_type": "stream",
     "text": [
      "Epoch 305: 100%|███████████████████████████████| 50/50 [00:00<00:00, 289.40it/s]\n"
     ]
    },
    {
     "name": "stdout",
     "output_type": "stream",
     "text": [
      "Epoch 305: Loss: 0.0383\n"
     ]
    },
    {
     "name": "stderr",
     "output_type": "stream",
     "text": [
      "Epoch 306: 100%|███████████████████████████████| 50/50 [00:00<00:00, 324.02it/s]\n"
     ]
    },
    {
     "name": "stdout",
     "output_type": "stream",
     "text": [
      "Epoch 306: Loss: 0.0084\n"
     ]
    },
    {
     "name": "stderr",
     "output_type": "stream",
     "text": [
      "Epoch 307: 100%|███████████████████████████████| 50/50 [00:00<00:00, 320.66it/s]\n"
     ]
    },
    {
     "name": "stdout",
     "output_type": "stream",
     "text": [
      "Epoch 307: Loss: 0.0136\n"
     ]
    },
    {
     "name": "stderr",
     "output_type": "stream",
     "text": [
      "Epoch 308: 100%|███████████████████████████████| 50/50 [00:00<00:00, 312.70it/s]\n"
     ]
    },
    {
     "name": "stdout",
     "output_type": "stream",
     "text": [
      "Epoch 308: Loss: 0.0197\n"
     ]
    },
    {
     "name": "stderr",
     "output_type": "stream",
     "text": [
      "Epoch 309: 100%|███████████████████████████████| 50/50 [00:00<00:00, 299.86it/s]\n"
     ]
    },
    {
     "name": "stdout",
     "output_type": "stream",
     "text": [
      "Epoch 309: Loss: 0.0078\n"
     ]
    },
    {
     "name": "stderr",
     "output_type": "stream",
     "text": [
      "Epoch 310: 100%|███████████████████████████████| 50/50 [00:00<00:00, 262.60it/s]\n"
     ]
    },
    {
     "name": "stdout",
     "output_type": "stream",
     "text": [
      "Epoch 310: Loss: 0.0061\n"
     ]
    },
    {
     "name": "stderr",
     "output_type": "stream",
     "text": [
      "Epoch 311: 100%|███████████████████████████████| 50/50 [00:00<00:00, 265.35it/s]\n"
     ]
    },
    {
     "name": "stdout",
     "output_type": "stream",
     "text": [
      "Epoch 311: Loss: 0.0085\n"
     ]
    },
    {
     "name": "stderr",
     "output_type": "stream",
     "text": [
      "Epoch 312: 100%|███████████████████████████████| 50/50 [00:00<00:00, 305.76it/s]\n"
     ]
    },
    {
     "name": "stdout",
     "output_type": "stream",
     "text": [
      "Epoch 312: Loss: 0.0051\n"
     ]
    },
    {
     "name": "stderr",
     "output_type": "stream",
     "text": [
      "Epoch 313: 100%|███████████████████████████████| 50/50 [00:00<00:00, 283.79it/s]\n"
     ]
    },
    {
     "name": "stdout",
     "output_type": "stream",
     "text": [
      "Epoch 313: Loss: 0.0495\n"
     ]
    },
    {
     "name": "stderr",
     "output_type": "stream",
     "text": [
      "Epoch 314: 100%|███████████████████████████████| 50/50 [00:00<00:00, 268.65it/s]\n"
     ]
    },
    {
     "name": "stdout",
     "output_type": "stream",
     "text": [
      "Epoch 314: Loss: 0.0110\n"
     ]
    },
    {
     "name": "stderr",
     "output_type": "stream",
     "text": [
      "Epoch 315: 100%|███████████████████████████████| 50/50 [00:00<00:00, 255.41it/s]\n"
     ]
    },
    {
     "name": "stdout",
     "output_type": "stream",
     "text": [
      "Epoch 315: Loss: 0.0124\n"
     ]
    },
    {
     "name": "stderr",
     "output_type": "stream",
     "text": [
      "Epoch 316: 100%|███████████████████████████████| 50/50 [00:00<00:00, 288.85it/s]\n"
     ]
    },
    {
     "name": "stdout",
     "output_type": "stream",
     "text": [
      "Epoch 316: Loss: 0.0068\n"
     ]
    },
    {
     "name": "stderr",
     "output_type": "stream",
     "text": [
      "Epoch 317: 100%|███████████████████████████████| 50/50 [00:00<00:00, 308.72it/s]\n"
     ]
    },
    {
     "name": "stdout",
     "output_type": "stream",
     "text": [
      "Epoch 317: Loss: 0.0082\n"
     ]
    },
    {
     "name": "stderr",
     "output_type": "stream",
     "text": [
      "Epoch 318: 100%|███████████████████████████████| 50/50 [00:00<00:00, 329.27it/s]\n"
     ]
    },
    {
     "name": "stdout",
     "output_type": "stream",
     "text": [
      "Epoch 318: Loss: 0.0090\n"
     ]
    },
    {
     "name": "stderr",
     "output_type": "stream",
     "text": [
      "Epoch 319: 100%|███████████████████████████████| 50/50 [00:00<00:00, 333.87it/s]\n"
     ]
    },
    {
     "name": "stdout",
     "output_type": "stream",
     "text": [
      "Epoch 319: Loss: 0.0075\n"
     ]
    },
    {
     "name": "stderr",
     "output_type": "stream",
     "text": [
      "Epoch 320: 100%|███████████████████████████████| 50/50 [00:00<00:00, 303.12it/s]\n"
     ]
    },
    {
     "name": "stdout",
     "output_type": "stream",
     "text": [
      "Epoch 320: Loss: 0.0056\n"
     ]
    },
    {
     "name": "stderr",
     "output_type": "stream",
     "text": [
      "Epoch 321: 100%|███████████████████████████████| 50/50 [00:00<00:00, 313.03it/s]\n"
     ]
    },
    {
     "name": "stdout",
     "output_type": "stream",
     "text": [
      "Epoch 321: Loss: 0.0142\n"
     ]
    },
    {
     "name": "stderr",
     "output_type": "stream",
     "text": [
      "Epoch 322: 100%|███████████████████████████████| 50/50 [00:00<00:00, 319.03it/s]\n"
     ]
    },
    {
     "name": "stdout",
     "output_type": "stream",
     "text": [
      "Epoch 322: Loss: 0.0176\n"
     ]
    },
    {
     "name": "stderr",
     "output_type": "stream",
     "text": [
      "Epoch 323: 100%|███████████████████████████████| 50/50 [00:00<00:00, 294.70it/s]\n"
     ]
    },
    {
     "name": "stdout",
     "output_type": "stream",
     "text": [
      "Epoch 323: Loss: 0.0042\n"
     ]
    },
    {
     "name": "stderr",
     "output_type": "stream",
     "text": [
      "Epoch 324: 100%|███████████████████████████████| 50/50 [00:00<00:00, 317.06it/s]\n"
     ]
    },
    {
     "name": "stdout",
     "output_type": "stream",
     "text": [
      "Epoch 324: Loss: 0.0120\n"
     ]
    },
    {
     "name": "stderr",
     "output_type": "stream",
     "text": [
      "Epoch 325: 100%|███████████████████████████████| 50/50 [00:00<00:00, 267.73it/s]\n"
     ]
    },
    {
     "name": "stdout",
     "output_type": "stream",
     "text": [
      "Epoch 325: Loss: 0.0102\n"
     ]
    },
    {
     "name": "stderr",
     "output_type": "stream",
     "text": [
      "Epoch 326: 100%|███████████████████████████████| 50/50 [00:00<00:00, 315.47it/s]\n"
     ]
    },
    {
     "name": "stdout",
     "output_type": "stream",
     "text": [
      "Epoch 326: Loss: 0.0071\n"
     ]
    },
    {
     "name": "stderr",
     "output_type": "stream",
     "text": [
      "Epoch 327: 100%|███████████████████████████████| 50/50 [00:00<00:00, 320.35it/s]\n"
     ]
    },
    {
     "name": "stdout",
     "output_type": "stream",
     "text": [
      "Epoch 327: Loss: 0.0057\n"
     ]
    },
    {
     "name": "stderr",
     "output_type": "stream",
     "text": [
      "Epoch 328: 100%|███████████████████████████████| 50/50 [00:00<00:00, 320.06it/s]\n"
     ]
    },
    {
     "name": "stdout",
     "output_type": "stream",
     "text": [
      "Epoch 328: Loss: 0.0055\n"
     ]
    },
    {
     "name": "stderr",
     "output_type": "stream",
     "text": [
      "Epoch 329: 100%|███████████████████████████████| 50/50 [00:00<00:00, 309.01it/s]\n"
     ]
    },
    {
     "name": "stdout",
     "output_type": "stream",
     "text": [
      "Epoch 329: Loss: 0.0098\n"
     ]
    },
    {
     "name": "stderr",
     "output_type": "stream",
     "text": [
      "Epoch 330: 100%|███████████████████████████████| 50/50 [00:00<00:00, 293.86it/s]\n"
     ]
    },
    {
     "name": "stdout",
     "output_type": "stream",
     "text": [
      "Epoch 330: Loss: 0.0066\n"
     ]
    },
    {
     "name": "stderr",
     "output_type": "stream",
     "text": [
      "Epoch 331: 100%|███████████████████████████████| 50/50 [00:00<00:00, 319.39it/s]\n"
     ]
    },
    {
     "name": "stdout",
     "output_type": "stream",
     "text": [
      "Epoch 331: Loss: 0.0074\n"
     ]
    },
    {
     "name": "stderr",
     "output_type": "stream",
     "text": [
      "Epoch 332: 100%|███████████████████████████████| 50/50 [00:00<00:00, 278.18it/s]\n"
     ]
    },
    {
     "name": "stdout",
     "output_type": "stream",
     "text": [
      "Epoch 332: Loss: 0.0142\n"
     ]
    },
    {
     "name": "stderr",
     "output_type": "stream",
     "text": [
      "Epoch 333: 100%|███████████████████████████████| 50/50 [00:00<00:00, 307.61it/s]\n"
     ]
    },
    {
     "name": "stdout",
     "output_type": "stream",
     "text": [
      "Epoch 333: Loss: 0.0096\n"
     ]
    },
    {
     "name": "stderr",
     "output_type": "stream",
     "text": [
      "Epoch 334: 100%|███████████████████████████████| 50/50 [00:00<00:00, 301.06it/s]\n"
     ]
    },
    {
     "name": "stdout",
     "output_type": "stream",
     "text": [
      "Epoch 334: Loss: 0.0038\n"
     ]
    },
    {
     "name": "stderr",
     "output_type": "stream",
     "text": [
      "Epoch 335: 100%|███████████████████████████████| 50/50 [00:00<00:00, 307.64it/s]\n"
     ]
    },
    {
     "name": "stdout",
     "output_type": "stream",
     "text": [
      "Epoch 335: Loss: 0.0040\n"
     ]
    },
    {
     "name": "stderr",
     "output_type": "stream",
     "text": [
      "Epoch 336: 100%|███████████████████████████████| 50/50 [00:00<00:00, 312.22it/s]\n"
     ]
    },
    {
     "name": "stdout",
     "output_type": "stream",
     "text": [
      "Epoch 336: Loss: 0.0562\n"
     ]
    },
    {
     "name": "stderr",
     "output_type": "stream",
     "text": [
      "Epoch 337: 100%|███████████████████████████████| 50/50 [00:00<00:00, 284.37it/s]\n"
     ]
    },
    {
     "name": "stdout",
     "output_type": "stream",
     "text": [
      "Epoch 337: Loss: 0.0130\n"
     ]
    },
    {
     "name": "stderr",
     "output_type": "stream",
     "text": [
      "Epoch 338: 100%|███████████████████████████████| 50/50 [00:00<00:00, 229.99it/s]\n"
     ]
    },
    {
     "name": "stdout",
     "output_type": "stream",
     "text": [
      "Epoch 338: Loss: 0.0096\n"
     ]
    },
    {
     "name": "stderr",
     "output_type": "stream",
     "text": [
      "Epoch 339: 100%|███████████████████████████████| 50/50 [00:00<00:00, 213.75it/s]\n"
     ]
    },
    {
     "name": "stdout",
     "output_type": "stream",
     "text": [
      "Epoch 339: Loss: 0.0103\n"
     ]
    },
    {
     "name": "stderr",
     "output_type": "stream",
     "text": [
      "Epoch 340: 100%|███████████████████████████████| 50/50 [00:00<00:00, 223.48it/s]\n"
     ]
    },
    {
     "name": "stdout",
     "output_type": "stream",
     "text": [
      "Epoch 340: Loss: 0.0037\n"
     ]
    },
    {
     "name": "stderr",
     "output_type": "stream",
     "text": [
      "Epoch 341: 100%|███████████████████████████████| 50/50 [00:00<00:00, 212.85it/s]\n"
     ]
    },
    {
     "name": "stdout",
     "output_type": "stream",
     "text": [
      "Epoch 341: Loss: 0.0578\n"
     ]
    },
    {
     "name": "stderr",
     "output_type": "stream",
     "text": [
      "Epoch 342: 100%|███████████████████████████████| 50/50 [00:00<00:00, 220.28it/s]\n"
     ]
    },
    {
     "name": "stdout",
     "output_type": "stream",
     "text": [
      "Epoch 342: Loss: 0.0086\n"
     ]
    },
    {
     "name": "stderr",
     "output_type": "stream",
     "text": [
      "Epoch 343: 100%|███████████████████████████████| 50/50 [00:00<00:00, 217.47it/s]\n"
     ]
    },
    {
     "name": "stdout",
     "output_type": "stream",
     "text": [
      "Epoch 343: Loss: 0.0059\n"
     ]
    },
    {
     "name": "stderr",
     "output_type": "stream",
     "text": [
      "Epoch 344: 100%|███████████████████████████████| 50/50 [00:00<00:00, 216.34it/s]\n"
     ]
    },
    {
     "name": "stdout",
     "output_type": "stream",
     "text": [
      "Epoch 344: Loss: 0.0062\n"
     ]
    },
    {
     "name": "stderr",
     "output_type": "stream",
     "text": [
      "Epoch 345: 100%|███████████████████████████████| 50/50 [00:00<00:00, 342.29it/s]\n"
     ]
    },
    {
     "name": "stdout",
     "output_type": "stream",
     "text": [
      "Epoch 345: Loss: 0.0079\n"
     ]
    },
    {
     "name": "stderr",
     "output_type": "stream",
     "text": [
      "Epoch 346: 100%|███████████████████████████████| 50/50 [00:00<00:00, 321.52it/s]\n"
     ]
    },
    {
     "name": "stdout",
     "output_type": "stream",
     "text": [
      "Epoch 346: Loss: 0.0096\n"
     ]
    },
    {
     "name": "stderr",
     "output_type": "stream",
     "text": [
      "Epoch 347: 100%|███████████████████████████████| 50/50 [00:00<00:00, 298.53it/s]\n"
     ]
    },
    {
     "name": "stdout",
     "output_type": "stream",
     "text": [
      "Epoch 347: Loss: 0.0076\n"
     ]
    },
    {
     "name": "stderr",
     "output_type": "stream",
     "text": [
      "Epoch 348: 100%|███████████████████████████████| 50/50 [00:00<00:00, 313.84it/s]\n"
     ]
    },
    {
     "name": "stdout",
     "output_type": "stream",
     "text": [
      "Epoch 348: Loss: 0.0102\n"
     ]
    },
    {
     "name": "stderr",
     "output_type": "stream",
     "text": [
      "Epoch 349: 100%|███████████████████████████████| 50/50 [00:00<00:00, 315.62it/s]\n"
     ]
    },
    {
     "name": "stdout",
     "output_type": "stream",
     "text": [
      "Epoch 349: Loss: 0.0085\n"
     ]
    },
    {
     "name": "stderr",
     "output_type": "stream",
     "text": [
      "Epoch 350: 100%|███████████████████████████████| 50/50 [00:00<00:00, 306.22it/s]\n"
     ]
    },
    {
     "name": "stdout",
     "output_type": "stream",
     "text": [
      "Epoch 350: Loss: 0.0090\n"
     ]
    },
    {
     "name": "stderr",
     "output_type": "stream",
     "text": [
      "Epoch 351: 100%|███████████████████████████████| 50/50 [00:00<00:00, 286.13it/s]\n"
     ]
    },
    {
     "name": "stdout",
     "output_type": "stream",
     "text": [
      "Epoch 351: Loss: 0.0175\n"
     ]
    },
    {
     "name": "stderr",
     "output_type": "stream",
     "text": [
      "Epoch 352: 100%|███████████████████████████████| 50/50 [00:00<00:00, 199.45it/s]\n"
     ]
    },
    {
     "name": "stdout",
     "output_type": "stream",
     "text": [
      "Epoch 352: Loss: 0.0097\n"
     ]
    },
    {
     "name": "stderr",
     "output_type": "stream",
     "text": [
      "Epoch 353: 100%|███████████████████████████████| 50/50 [00:00<00:00, 214.30it/s]\n"
     ]
    },
    {
     "name": "stdout",
     "output_type": "stream",
     "text": [
      "Epoch 353: Loss: 0.0065\n"
     ]
    },
    {
     "name": "stderr",
     "output_type": "stream",
     "text": [
      "Epoch 354: 100%|███████████████████████████████| 50/50 [00:00<00:00, 215.10it/s]\n"
     ]
    },
    {
     "name": "stdout",
     "output_type": "stream",
     "text": [
      "Epoch 354: Loss: 0.0055\n"
     ]
    },
    {
     "name": "stderr",
     "output_type": "stream",
     "text": [
      "Epoch 355: 100%|███████████████████████████████| 50/50 [00:00<00:00, 222.58it/s]\n"
     ]
    },
    {
     "name": "stdout",
     "output_type": "stream",
     "text": [
      "Epoch 355: Loss: 0.0412\n"
     ]
    },
    {
     "name": "stderr",
     "output_type": "stream",
     "text": [
      "Epoch 356: 100%|███████████████████████████████| 50/50 [00:00<00:00, 236.14it/s]\n"
     ]
    },
    {
     "name": "stdout",
     "output_type": "stream",
     "text": [
      "Epoch 356: Loss: 0.0059\n"
     ]
    },
    {
     "name": "stderr",
     "output_type": "stream",
     "text": [
      "Epoch 357: 100%|███████████████████████████████| 50/50 [00:00<00:00, 290.81it/s]\n"
     ]
    },
    {
     "name": "stdout",
     "output_type": "stream",
     "text": [
      "Epoch 357: Loss: 0.0137\n"
     ]
    },
    {
     "name": "stderr",
     "output_type": "stream",
     "text": [
      "Epoch 358: 100%|███████████████████████████████| 50/50 [00:00<00:00, 300.16it/s]\n"
     ]
    },
    {
     "name": "stdout",
     "output_type": "stream",
     "text": [
      "Epoch 358: Loss: 0.0083\n"
     ]
    },
    {
     "name": "stderr",
     "output_type": "stream",
     "text": [
      "Epoch 359: 100%|███████████████████████████████| 50/50 [00:00<00:00, 293.93it/s]\n"
     ]
    },
    {
     "name": "stdout",
     "output_type": "stream",
     "text": [
      "Epoch 359: Loss: 0.0053\n"
     ]
    },
    {
     "name": "stderr",
     "output_type": "stream",
     "text": [
      "Epoch 360: 100%|███████████████████████████████| 50/50 [00:00<00:00, 261.18it/s]\n"
     ]
    },
    {
     "name": "stdout",
     "output_type": "stream",
     "text": [
      "Epoch 360: Loss: 0.0096\n"
     ]
    },
    {
     "name": "stderr",
     "output_type": "stream",
     "text": [
      "Epoch 361: 100%|███████████████████████████████| 50/50 [00:00<00:00, 214.48it/s]\n"
     ]
    },
    {
     "name": "stdout",
     "output_type": "stream",
     "text": [
      "Epoch 361: Loss: 0.0077\n"
     ]
    },
    {
     "name": "stderr",
     "output_type": "stream",
     "text": [
      "Epoch 362: 100%|███████████████████████████████| 50/50 [00:00<00:00, 232.05it/s]\n"
     ]
    },
    {
     "name": "stdout",
     "output_type": "stream",
     "text": [
      "Epoch 362: Loss: 0.0053\n"
     ]
    },
    {
     "name": "stderr",
     "output_type": "stream",
     "text": [
      "Epoch 363: 100%|███████████████████████████████| 50/50 [00:00<00:00, 252.33it/s]\n"
     ]
    },
    {
     "name": "stdout",
     "output_type": "stream",
     "text": [
      "Epoch 363: Loss: 0.0063\n"
     ]
    },
    {
     "name": "stderr",
     "output_type": "stream",
     "text": [
      "Epoch 364: 100%|███████████████████████████████| 50/50 [00:00<00:00, 262.47it/s]\n"
     ]
    },
    {
     "name": "stdout",
     "output_type": "stream",
     "text": [
      "Epoch 364: Loss: 0.0060\n"
     ]
    },
    {
     "name": "stderr",
     "output_type": "stream",
     "text": [
      "Epoch 365: 100%|███████████████████████████████| 50/50 [00:00<00:00, 337.58it/s]\n"
     ]
    },
    {
     "name": "stdout",
     "output_type": "stream",
     "text": [
      "Epoch 365: Loss: 0.0049\n"
     ]
    },
    {
     "name": "stderr",
     "output_type": "stream",
     "text": [
      "Epoch 366: 100%|███████████████████████████████| 50/50 [00:00<00:00, 280.27it/s]\n"
     ]
    },
    {
     "name": "stdout",
     "output_type": "stream",
     "text": [
      "Epoch 366: Loss: 0.0047\n"
     ]
    },
    {
     "name": "stderr",
     "output_type": "stream",
     "text": [
      "Epoch 367: 100%|███████████████████████████████| 50/50 [00:00<00:00, 286.43it/s]\n"
     ]
    },
    {
     "name": "stdout",
     "output_type": "stream",
     "text": [
      "Epoch 367: Loss: 0.0076\n"
     ]
    },
    {
     "name": "stderr",
     "output_type": "stream",
     "text": [
      "Epoch 368: 100%|███████████████████████████████| 50/50 [00:00<00:00, 204.52it/s]\n"
     ]
    },
    {
     "name": "stdout",
     "output_type": "stream",
     "text": [
      "Epoch 368: Loss: 0.0071\n"
     ]
    },
    {
     "name": "stderr",
     "output_type": "stream",
     "text": [
      "Epoch 369: 100%|███████████████████████████████| 50/50 [00:00<00:00, 297.15it/s]\n"
     ]
    },
    {
     "name": "stdout",
     "output_type": "stream",
     "text": [
      "Epoch 369: Loss: 0.0071\n"
     ]
    },
    {
     "name": "stderr",
     "output_type": "stream",
     "text": [
      "Epoch 370: 100%|███████████████████████████████| 50/50 [00:00<00:00, 334.82it/s]\n"
     ]
    },
    {
     "name": "stdout",
     "output_type": "stream",
     "text": [
      "Epoch 370: Loss: 0.0085\n"
     ]
    },
    {
     "name": "stderr",
     "output_type": "stream",
     "text": [
      "Epoch 371: 100%|███████████████████████████████| 50/50 [00:00<00:00, 309.34it/s]\n"
     ]
    },
    {
     "name": "stdout",
     "output_type": "stream",
     "text": [
      "Epoch 371: Loss: 0.0238\n"
     ]
    },
    {
     "name": "stderr",
     "output_type": "stream",
     "text": [
      "Epoch 372: 100%|███████████████████████████████| 50/50 [00:00<00:00, 248.93it/s]\n"
     ]
    },
    {
     "name": "stdout",
     "output_type": "stream",
     "text": [
      "Epoch 372: Loss: 0.0152\n"
     ]
    },
    {
     "name": "stderr",
     "output_type": "stream",
     "text": [
      "Epoch 373: 100%|███████████████████████████████| 50/50 [00:00<00:00, 205.11it/s]\n"
     ]
    },
    {
     "name": "stdout",
     "output_type": "stream",
     "text": [
      "Epoch 373: Loss: 0.0209\n"
     ]
    },
    {
     "name": "stderr",
     "output_type": "stream",
     "text": [
      "Epoch 374: 100%|███████████████████████████████| 50/50 [00:00<00:00, 252.32it/s]\n"
     ]
    },
    {
     "name": "stdout",
     "output_type": "stream",
     "text": [
      "Epoch 374: Loss: 0.0129\n"
     ]
    },
    {
     "name": "stderr",
     "output_type": "stream",
     "text": [
      "Epoch 375: 100%|███████████████████████████████| 50/50 [00:00<00:00, 225.92it/s]\n"
     ]
    },
    {
     "name": "stdout",
     "output_type": "stream",
     "text": [
      "Epoch 375: Loss: 0.0072\n"
     ]
    },
    {
     "name": "stderr",
     "output_type": "stream",
     "text": [
      "Epoch 376: 100%|███████████████████████████████| 50/50 [00:00<00:00, 220.19it/s]\n"
     ]
    },
    {
     "name": "stdout",
     "output_type": "stream",
     "text": [
      "Epoch 376: Loss: 0.0094\n"
     ]
    },
    {
     "name": "stderr",
     "output_type": "stream",
     "text": [
      "Epoch 377: 100%|███████████████████████████████| 50/50 [00:00<00:00, 203.51it/s]\n"
     ]
    },
    {
     "name": "stdout",
     "output_type": "stream",
     "text": [
      "Epoch 377: Loss: 0.0057\n"
     ]
    },
    {
     "name": "stderr",
     "output_type": "stream",
     "text": [
      "Epoch 378: 100%|███████████████████████████████| 50/50 [00:00<00:00, 267.51it/s]\n"
     ]
    },
    {
     "name": "stdout",
     "output_type": "stream",
     "text": [
      "Epoch 378: Loss: 0.0135\n"
     ]
    },
    {
     "name": "stderr",
     "output_type": "stream",
     "text": [
      "Epoch 379: 100%|███████████████████████████████| 50/50 [00:00<00:00, 253.35it/s]\n"
     ]
    },
    {
     "name": "stdout",
     "output_type": "stream",
     "text": [
      "Epoch 379: Loss: 0.0060\n"
     ]
    },
    {
     "name": "stderr",
     "output_type": "stream",
     "text": [
      "Epoch 380: 100%|███████████████████████████████| 50/50 [00:00<00:00, 290.43it/s]\n"
     ]
    },
    {
     "name": "stdout",
     "output_type": "stream",
     "text": [
      "Epoch 380: Loss: 0.0060\n"
     ]
    },
    {
     "name": "stderr",
     "output_type": "stream",
     "text": [
      "Epoch 381: 100%|███████████████████████████████| 50/50 [00:00<00:00, 273.61it/s]\n"
     ]
    },
    {
     "name": "stdout",
     "output_type": "stream",
     "text": [
      "Epoch 381: Loss: 0.0076\n"
     ]
    },
    {
     "name": "stderr",
     "output_type": "stream",
     "text": [
      "Epoch 382: 100%|███████████████████████████████| 50/50 [00:00<00:00, 292.41it/s]\n"
     ]
    },
    {
     "name": "stdout",
     "output_type": "stream",
     "text": [
      "Epoch 382: Loss: 0.0087\n"
     ]
    },
    {
     "name": "stderr",
     "output_type": "stream",
     "text": [
      "Epoch 383: 100%|███████████████████████████████| 50/50 [00:00<00:00, 307.86it/s]\n"
     ]
    },
    {
     "name": "stdout",
     "output_type": "stream",
     "text": [
      "Epoch 383: Loss: 0.0059\n"
     ]
    },
    {
     "name": "stderr",
     "output_type": "stream",
     "text": [
      "Epoch 384: 100%|███████████████████████████████| 50/50 [00:00<00:00, 283.86it/s]\n"
     ]
    },
    {
     "name": "stdout",
     "output_type": "stream",
     "text": [
      "Epoch 384: Loss: 0.0070\n"
     ]
    },
    {
     "name": "stderr",
     "output_type": "stream",
     "text": [
      "Epoch 385: 100%|███████████████████████████████| 50/50 [00:00<00:00, 292.32it/s]\n"
     ]
    },
    {
     "name": "stdout",
     "output_type": "stream",
     "text": [
      "Epoch 385: Loss: 0.0120\n"
     ]
    },
    {
     "name": "stderr",
     "output_type": "stream",
     "text": [
      "Epoch 386: 100%|███████████████████████████████| 50/50 [00:00<00:00, 243.98it/s]\n"
     ]
    },
    {
     "name": "stdout",
     "output_type": "stream",
     "text": [
      "Epoch 386: Loss: 0.0141\n"
     ]
    },
    {
     "name": "stderr",
     "output_type": "stream",
     "text": [
      "Epoch 387: 100%|███████████████████████████████| 50/50 [00:00<00:00, 288.86it/s]\n"
     ]
    },
    {
     "name": "stdout",
     "output_type": "stream",
     "text": [
      "Epoch 387: Loss: 0.0072\n"
     ]
    },
    {
     "name": "stderr",
     "output_type": "stream",
     "text": [
      "Epoch 388: 100%|███████████████████████████████| 50/50 [00:00<00:00, 284.64it/s]\n"
     ]
    },
    {
     "name": "stdout",
     "output_type": "stream",
     "text": [
      "Epoch 388: Loss: 0.0183\n"
     ]
    },
    {
     "name": "stderr",
     "output_type": "stream",
     "text": [
      "Epoch 389: 100%|███████████████████████████████| 50/50 [00:00<00:00, 303.63it/s]\n"
     ]
    },
    {
     "name": "stdout",
     "output_type": "stream",
     "text": [
      "Epoch 389: Loss: 0.0046\n"
     ]
    },
    {
     "name": "stderr",
     "output_type": "stream",
     "text": [
      "Epoch 390: 100%|███████████████████████████████| 50/50 [00:00<00:00, 299.10it/s]\n"
     ]
    },
    {
     "name": "stdout",
     "output_type": "stream",
     "text": [
      "Epoch 390: Loss: 0.0072\n"
     ]
    },
    {
     "name": "stderr",
     "output_type": "stream",
     "text": [
      "Epoch 391: 100%|███████████████████████████████| 50/50 [00:00<00:00, 303.22it/s]\n"
     ]
    },
    {
     "name": "stdout",
     "output_type": "stream",
     "text": [
      "Epoch 391: Loss: 0.0054\n"
     ]
    },
    {
     "name": "stderr",
     "output_type": "stream",
     "text": [
      "Epoch 392: 100%|███████████████████████████████| 50/50 [00:00<00:00, 281.83it/s]\n"
     ]
    },
    {
     "name": "stdout",
     "output_type": "stream",
     "text": [
      "Epoch 392: Loss: 0.0069\n"
     ]
    },
    {
     "name": "stderr",
     "output_type": "stream",
     "text": [
      "Epoch 393: 100%|███████████████████████████████| 50/50 [00:00<00:00, 272.19it/s]\n"
     ]
    },
    {
     "name": "stdout",
     "output_type": "stream",
     "text": [
      "Epoch 393: Loss: 0.0052\n"
     ]
    },
    {
     "name": "stderr",
     "output_type": "stream",
     "text": [
      "Epoch 394: 100%|███████████████████████████████| 50/50 [00:00<00:00, 263.14it/s]\n"
     ]
    },
    {
     "name": "stdout",
     "output_type": "stream",
     "text": [
      "Epoch 394: Loss: 0.0065\n"
     ]
    },
    {
     "name": "stderr",
     "output_type": "stream",
     "text": [
      "Epoch 395: 100%|███████████████████████████████| 50/50 [00:00<00:00, 272.39it/s]\n"
     ]
    },
    {
     "name": "stdout",
     "output_type": "stream",
     "text": [
      "Epoch 395: Loss: 0.0062\n"
     ]
    },
    {
     "name": "stderr",
     "output_type": "stream",
     "text": [
      "Epoch 396: 100%|███████████████████████████████| 50/50 [00:00<00:00, 300.05it/s]\n"
     ]
    },
    {
     "name": "stdout",
     "output_type": "stream",
     "text": [
      "Epoch 396: Loss: 0.0158\n"
     ]
    },
    {
     "name": "stderr",
     "output_type": "stream",
     "text": [
      "Epoch 397: 100%|███████████████████████████████| 50/50 [00:00<00:00, 310.80it/s]\n"
     ]
    },
    {
     "name": "stdout",
     "output_type": "stream",
     "text": [
      "Epoch 397: Loss: 0.0079\n"
     ]
    },
    {
     "name": "stderr",
     "output_type": "stream",
     "text": [
      "Epoch 398: 100%|███████████████████████████████| 50/50 [00:00<00:00, 279.01it/s]\n"
     ]
    },
    {
     "name": "stdout",
     "output_type": "stream",
     "text": [
      "Epoch 398: Loss: 0.0166\n"
     ]
    },
    {
     "name": "stderr",
     "output_type": "stream",
     "text": [
      "Epoch 399: 100%|███████████████████████████████| 50/50 [00:00<00:00, 271.60it/s]\n"
     ]
    },
    {
     "name": "stdout",
     "output_type": "stream",
     "text": [
      "Epoch 399: Loss: 0.0077\n"
     ]
    },
    {
     "name": "stderr",
     "output_type": "stream",
     "text": [
      "Epoch 400: 100%|███████████████████████████████| 50/50 [00:00<00:00, 269.83it/s]\n"
     ]
    },
    {
     "name": "stdout",
     "output_type": "stream",
     "text": [
      "Epoch 400: Loss: 0.0081\n"
     ]
    },
    {
     "name": "stderr",
     "output_type": "stream",
     "text": [
      "Epoch 401: 100%|███████████████████████████████| 50/50 [00:00<00:00, 342.94it/s]\n"
     ]
    },
    {
     "name": "stdout",
     "output_type": "stream",
     "text": [
      "Epoch 401: Loss: 0.0051\n"
     ]
    },
    {
     "name": "stderr",
     "output_type": "stream",
     "text": [
      "Epoch 402: 100%|███████████████████████████████| 50/50 [00:00<00:00, 336.61it/s]\n"
     ]
    },
    {
     "name": "stdout",
     "output_type": "stream",
     "text": [
      "Epoch 402: Loss: 0.0048\n"
     ]
    },
    {
     "name": "stderr",
     "output_type": "stream",
     "text": [
      "Epoch 403: 100%|███████████████████████████████| 50/50 [00:00<00:00, 304.14it/s]\n"
     ]
    },
    {
     "name": "stdout",
     "output_type": "stream",
     "text": [
      "Epoch 403: Loss: 0.0053\n"
     ]
    },
    {
     "name": "stderr",
     "output_type": "stream",
     "text": [
      "Epoch 404: 100%|███████████████████████████████| 50/50 [00:00<00:00, 300.05it/s]\n"
     ]
    },
    {
     "name": "stdout",
     "output_type": "stream",
     "text": [
      "Epoch 404: Loss: 0.0077\n"
     ]
    },
    {
     "name": "stderr",
     "output_type": "stream",
     "text": [
      "Epoch 405: 100%|███████████████████████████████| 50/50 [00:00<00:00, 296.32it/s]\n"
     ]
    },
    {
     "name": "stdout",
     "output_type": "stream",
     "text": [
      "Epoch 405: Loss: 0.0052\n"
     ]
    },
    {
     "name": "stderr",
     "output_type": "stream",
     "text": [
      "Epoch 406: 100%|███████████████████████████████| 50/50 [00:00<00:00, 219.72it/s]\n"
     ]
    },
    {
     "name": "stdout",
     "output_type": "stream",
     "text": [
      "Epoch 406: Loss: 0.0082\n"
     ]
    },
    {
     "name": "stderr",
     "output_type": "stream",
     "text": [
      "Epoch 407: 100%|███████████████████████████████| 50/50 [00:00<00:00, 257.56it/s]\n"
     ]
    },
    {
     "name": "stdout",
     "output_type": "stream",
     "text": [
      "Epoch 407: Loss: 0.0048\n"
     ]
    },
    {
     "name": "stderr",
     "output_type": "stream",
     "text": [
      "Epoch 408: 100%|███████████████████████████████| 50/50 [00:00<00:00, 269.90it/s]\n"
     ]
    },
    {
     "name": "stdout",
     "output_type": "stream",
     "text": [
      "Epoch 408: Loss: 0.0080\n"
     ]
    },
    {
     "name": "stderr",
     "output_type": "stream",
     "text": [
      "Epoch 409: 100%|███████████████████████████████| 50/50 [00:00<00:00, 317.37it/s]\n"
     ]
    },
    {
     "name": "stdout",
     "output_type": "stream",
     "text": [
      "Epoch 409: Loss: 0.0056\n"
     ]
    },
    {
     "name": "stderr",
     "output_type": "stream",
     "text": [
      "Epoch 410: 100%|███████████████████████████████| 50/50 [00:00<00:00, 305.15it/s]\n"
     ]
    },
    {
     "name": "stdout",
     "output_type": "stream",
     "text": [
      "Epoch 410: Loss: 0.0073\n"
     ]
    },
    {
     "name": "stderr",
     "output_type": "stream",
     "text": [
      "Epoch 411: 100%|███████████████████████████████| 50/50 [00:00<00:00, 301.83it/s]\n"
     ]
    },
    {
     "name": "stdout",
     "output_type": "stream",
     "text": [
      "Epoch 411: Loss: 0.0073\n"
     ]
    },
    {
     "name": "stderr",
     "output_type": "stream",
     "text": [
      "Epoch 412: 100%|███████████████████████████████| 50/50 [00:00<00:00, 331.90it/s]\n"
     ]
    },
    {
     "name": "stdout",
     "output_type": "stream",
     "text": [
      "Epoch 412: Loss: 0.0065\n"
     ]
    },
    {
     "name": "stderr",
     "output_type": "stream",
     "text": [
      "Epoch 413: 100%|███████████████████████████████| 50/50 [00:00<00:00, 335.05it/s]\n"
     ]
    },
    {
     "name": "stdout",
     "output_type": "stream",
     "text": [
      "Epoch 413: Loss: 0.0040\n"
     ]
    },
    {
     "name": "stderr",
     "output_type": "stream",
     "text": [
      "Epoch 414: 100%|███████████████████████████████| 50/50 [00:00<00:00, 310.29it/s]\n"
     ]
    },
    {
     "name": "stdout",
     "output_type": "stream",
     "text": [
      "Epoch 414: Loss: 0.0049\n"
     ]
    },
    {
     "name": "stderr",
     "output_type": "stream",
     "text": [
      "Epoch 415: 100%|███████████████████████████████| 50/50 [00:00<00:00, 313.02it/s]\n"
     ]
    },
    {
     "name": "stdout",
     "output_type": "stream",
     "text": [
      "Epoch 415: Loss: 0.0042\n"
     ]
    },
    {
     "name": "stderr",
     "output_type": "stream",
     "text": [
      "Epoch 416: 100%|███████████████████████████████| 50/50 [00:00<00:00, 327.28it/s]\n"
     ]
    },
    {
     "name": "stdout",
     "output_type": "stream",
     "text": [
      "Epoch 416: Loss: 0.0038\n"
     ]
    },
    {
     "name": "stderr",
     "output_type": "stream",
     "text": [
      "Epoch 417: 100%|███████████████████████████████| 50/50 [00:00<00:00, 303.75it/s]\n"
     ]
    },
    {
     "name": "stdout",
     "output_type": "stream",
     "text": [
      "Epoch 417: Loss: 0.0041\n"
     ]
    },
    {
     "name": "stderr",
     "output_type": "stream",
     "text": [
      "Epoch 418: 100%|███████████████████████████████| 50/50 [00:00<00:00, 311.41it/s]\n"
     ]
    },
    {
     "name": "stdout",
     "output_type": "stream",
     "text": [
      "Epoch 418: Loss: 0.0055\n"
     ]
    },
    {
     "name": "stderr",
     "output_type": "stream",
     "text": [
      "Epoch 419: 100%|███████████████████████████████| 50/50 [00:00<00:00, 307.21it/s]\n"
     ]
    },
    {
     "name": "stdout",
     "output_type": "stream",
     "text": [
      "Epoch 419: Loss: 0.0023\n"
     ]
    },
    {
     "name": "stderr",
     "output_type": "stream",
     "text": [
      "Epoch 420: 100%|███████████████████████████████| 50/50 [00:00<00:00, 304.36it/s]\n"
     ]
    },
    {
     "name": "stdout",
     "output_type": "stream",
     "text": [
      "Epoch 420: Loss: 0.0041\n"
     ]
    },
    {
     "name": "stderr",
     "output_type": "stream",
     "text": [
      "Epoch 421: 100%|███████████████████████████████| 50/50 [00:00<00:00, 305.50it/s]\n"
     ]
    },
    {
     "name": "stdout",
     "output_type": "stream",
     "text": [
      "Epoch 421: Loss: 0.0056\n"
     ]
    },
    {
     "name": "stderr",
     "output_type": "stream",
     "text": [
      "Epoch 422: 100%|███████████████████████████████| 50/50 [00:00<00:00, 302.54it/s]\n"
     ]
    },
    {
     "name": "stdout",
     "output_type": "stream",
     "text": [
      "Epoch 422: Loss: 0.0031\n"
     ]
    },
    {
     "name": "stderr",
     "output_type": "stream",
     "text": [
      "Epoch 423: 100%|███████████████████████████████| 50/50 [00:00<00:00, 303.27it/s]\n"
     ]
    },
    {
     "name": "stdout",
     "output_type": "stream",
     "text": [
      "Epoch 423: Loss: 0.0039\n"
     ]
    },
    {
     "name": "stderr",
     "output_type": "stream",
     "text": [
      "Epoch 424: 100%|███████████████████████████████| 50/50 [00:00<00:00, 294.62it/s]\n"
     ]
    },
    {
     "name": "stdout",
     "output_type": "stream",
     "text": [
      "Epoch 424: Loss: 0.0026\n"
     ]
    },
    {
     "name": "stderr",
     "output_type": "stream",
     "text": [
      "Epoch 425: 100%|███████████████████████████████| 50/50 [00:00<00:00, 333.73it/s]\n"
     ]
    },
    {
     "name": "stdout",
     "output_type": "stream",
     "text": [
      "Epoch 425: Loss: 0.0040\n"
     ]
    },
    {
     "name": "stderr",
     "output_type": "stream",
     "text": [
      "Epoch 426: 100%|███████████████████████████████| 50/50 [00:00<00:00, 344.29it/s]\n"
     ]
    },
    {
     "name": "stdout",
     "output_type": "stream",
     "text": [
      "Epoch 426: Loss: 0.0033\n"
     ]
    },
    {
     "name": "stderr",
     "output_type": "stream",
     "text": [
      "Epoch 427: 100%|███████████████████████████████| 50/50 [00:00<00:00, 346.38it/s]\n"
     ]
    },
    {
     "name": "stdout",
     "output_type": "stream",
     "text": [
      "Epoch 427: Loss: 0.0037\n"
     ]
    },
    {
     "name": "stderr",
     "output_type": "stream",
     "text": [
      "Epoch 428: 100%|███████████████████████████████| 50/50 [00:00<00:00, 347.81it/s]\n"
     ]
    },
    {
     "name": "stdout",
     "output_type": "stream",
     "text": [
      "Epoch 428: Loss: 0.0049\n"
     ]
    },
    {
     "name": "stderr",
     "output_type": "stream",
     "text": [
      "Epoch 429: 100%|███████████████████████████████| 50/50 [00:00<00:00, 354.35it/s]\n"
     ]
    },
    {
     "name": "stdout",
     "output_type": "stream",
     "text": [
      "Epoch 429: Loss: 0.0051\n"
     ]
    },
    {
     "name": "stderr",
     "output_type": "stream",
     "text": [
      "Epoch 430: 100%|███████████████████████████████| 50/50 [00:00<00:00, 345.55it/s]\n"
     ]
    },
    {
     "name": "stdout",
     "output_type": "stream",
     "text": [
      "Epoch 430: Loss: 0.0038\n"
     ]
    },
    {
     "name": "stderr",
     "output_type": "stream",
     "text": [
      "Epoch 431: 100%|███████████████████████████████| 50/50 [00:00<00:00, 347.89it/s]\n"
     ]
    },
    {
     "name": "stdout",
     "output_type": "stream",
     "text": [
      "Epoch 431: Loss: 0.0044\n"
     ]
    },
    {
     "name": "stderr",
     "output_type": "stream",
     "text": [
      "Epoch 432: 100%|███████████████████████████████| 50/50 [00:00<00:00, 333.70it/s]\n"
     ]
    },
    {
     "name": "stdout",
     "output_type": "stream",
     "text": [
      "Epoch 432: Loss: 0.0040\n"
     ]
    },
    {
     "name": "stderr",
     "output_type": "stream",
     "text": [
      "Epoch 433: 100%|███████████████████████████████| 50/50 [00:00<00:00, 244.97it/s]\n"
     ]
    },
    {
     "name": "stdout",
     "output_type": "stream",
     "text": [
      "Epoch 433: Loss: 0.0048\n"
     ]
    },
    {
     "name": "stderr",
     "output_type": "stream",
     "text": [
      "Epoch 434: 100%|███████████████████████████████| 50/50 [00:00<00:00, 201.66it/s]\n"
     ]
    },
    {
     "name": "stdout",
     "output_type": "stream",
     "text": [
      "Epoch 434: Loss: 0.0063\n"
     ]
    },
    {
     "name": "stderr",
     "output_type": "stream",
     "text": [
      "Epoch 435: 100%|███████████████████████████████| 50/50 [00:00<00:00, 261.69it/s]\n"
     ]
    },
    {
     "name": "stdout",
     "output_type": "stream",
     "text": [
      "Epoch 435: Loss: 0.0110\n"
     ]
    },
    {
     "name": "stderr",
     "output_type": "stream",
     "text": [
      "Epoch 436: 100%|███████████████████████████████| 50/50 [00:00<00:00, 277.07it/s]\n"
     ]
    },
    {
     "name": "stdout",
     "output_type": "stream",
     "text": [
      "Epoch 436: Loss: 0.0060\n"
     ]
    },
    {
     "name": "stderr",
     "output_type": "stream",
     "text": [
      "Epoch 437: 100%|███████████████████████████████| 50/50 [00:00<00:00, 273.29it/s]\n"
     ]
    },
    {
     "name": "stdout",
     "output_type": "stream",
     "text": [
      "Epoch 437: Loss: 0.0020\n"
     ]
    },
    {
     "name": "stderr",
     "output_type": "stream",
     "text": [
      "Epoch 438: 100%|███████████████████████████████| 50/50 [00:00<00:00, 262.71it/s]\n"
     ]
    },
    {
     "name": "stdout",
     "output_type": "stream",
     "text": [
      "Epoch 438: Loss: 0.0139\n"
     ]
    },
    {
     "name": "stderr",
     "output_type": "stream",
     "text": [
      "Epoch 439: 100%|███████████████████████████████| 50/50 [00:00<00:00, 193.84it/s]\n"
     ]
    },
    {
     "name": "stdout",
     "output_type": "stream",
     "text": [
      "Epoch 439: Loss: 0.0081\n"
     ]
    },
    {
     "name": "stderr",
     "output_type": "stream",
     "text": [
      "Epoch 440: 100%|███████████████████████████████| 50/50 [00:00<00:00, 215.37it/s]\n"
     ]
    },
    {
     "name": "stdout",
     "output_type": "stream",
     "text": [
      "Epoch 440: Loss: 0.0017\n"
     ]
    },
    {
     "name": "stderr",
     "output_type": "stream",
     "text": [
      "Epoch 441: 100%|███████████████████████████████| 50/50 [00:00<00:00, 204.80it/s]\n"
     ]
    },
    {
     "name": "stdout",
     "output_type": "stream",
     "text": [
      "Epoch 441: Loss: 0.0040\n"
     ]
    },
    {
     "name": "stderr",
     "output_type": "stream",
     "text": [
      "Epoch 442: 100%|███████████████████████████████| 50/50 [00:00<00:00, 234.53it/s]\n"
     ]
    },
    {
     "name": "stdout",
     "output_type": "stream",
     "text": [
      "Epoch 442: Loss: 0.0023\n"
     ]
    },
    {
     "name": "stderr",
     "output_type": "stream",
     "text": [
      "Epoch 443: 100%|███████████████████████████████| 50/50 [00:00<00:00, 261.72it/s]\n"
     ]
    },
    {
     "name": "stdout",
     "output_type": "stream",
     "text": [
      "Epoch 443: Loss: 0.0068\n"
     ]
    },
    {
     "name": "stderr",
     "output_type": "stream",
     "text": [
      "Epoch 444: 100%|███████████████████████████████| 50/50 [00:00<00:00, 204.23it/s]\n"
     ]
    },
    {
     "name": "stdout",
     "output_type": "stream",
     "text": [
      "Epoch 444: Loss: 0.0054\n"
     ]
    },
    {
     "name": "stderr",
     "output_type": "stream",
     "text": [
      "Epoch 445: 100%|███████████████████████████████| 50/50 [00:00<00:00, 293.63it/s]\n"
     ]
    },
    {
     "name": "stdout",
     "output_type": "stream",
     "text": [
      "Epoch 445: Loss: 0.0090\n"
     ]
    },
    {
     "name": "stderr",
     "output_type": "stream",
     "text": [
      "Epoch 446: 100%|███████████████████████████████| 50/50 [00:00<00:00, 277.28it/s]\n"
     ]
    },
    {
     "name": "stdout",
     "output_type": "stream",
     "text": [
      "Epoch 446: Loss: 0.0061\n"
     ]
    },
    {
     "name": "stderr",
     "output_type": "stream",
     "text": [
      "Epoch 447: 100%|███████████████████████████████| 50/50 [00:00<00:00, 289.67it/s]\n"
     ]
    },
    {
     "name": "stdout",
     "output_type": "stream",
     "text": [
      "Epoch 447: Loss: 0.0063\n"
     ]
    },
    {
     "name": "stderr",
     "output_type": "stream",
     "text": [
      "Epoch 448: 100%|███████████████████████████████| 50/50 [00:00<00:00, 290.57it/s]\n"
     ]
    },
    {
     "name": "stdout",
     "output_type": "stream",
     "text": [
      "Epoch 448: Loss: 0.0026\n"
     ]
    },
    {
     "name": "stderr",
     "output_type": "stream",
     "text": [
      "Epoch 449: 100%|███████████████████████████████| 50/50 [00:00<00:00, 303.51it/s]\n"
     ]
    },
    {
     "name": "stdout",
     "output_type": "stream",
     "text": [
      "Epoch 449: Loss: 0.0385\n"
     ]
    },
    {
     "name": "stderr",
     "output_type": "stream",
     "text": [
      "Epoch 450: 100%|███████████████████████████████| 50/50 [00:00<00:00, 267.60it/s]\n"
     ]
    },
    {
     "name": "stdout",
     "output_type": "stream",
     "text": [
      "Epoch 450: Loss: 0.0091\n"
     ]
    },
    {
     "name": "stderr",
     "output_type": "stream",
     "text": [
      "Epoch 451: 100%|███████████████████████████████| 50/50 [00:00<00:00, 276.77it/s]\n"
     ]
    },
    {
     "name": "stdout",
     "output_type": "stream",
     "text": [
      "Epoch 451: Loss: 0.0019\n"
     ]
    },
    {
     "name": "stderr",
     "output_type": "stream",
     "text": [
      "Epoch 452: 100%|███████████████████████████████| 50/50 [00:00<00:00, 247.28it/s]\n"
     ]
    },
    {
     "name": "stdout",
     "output_type": "stream",
     "text": [
      "Epoch 452: Loss: 0.0065\n"
     ]
    },
    {
     "name": "stderr",
     "output_type": "stream",
     "text": [
      "Epoch 453: 100%|███████████████████████████████| 50/50 [00:00<00:00, 271.85it/s]\n"
     ]
    },
    {
     "name": "stdout",
     "output_type": "stream",
     "text": [
      "Epoch 453: Loss: 0.0045\n"
     ]
    },
    {
     "name": "stderr",
     "output_type": "stream",
     "text": [
      "Epoch 454: 100%|███████████████████████████████| 50/50 [00:00<00:00, 278.85it/s]\n"
     ]
    },
    {
     "name": "stdout",
     "output_type": "stream",
     "text": [
      "Epoch 454: Loss: 0.0069\n"
     ]
    },
    {
     "name": "stderr",
     "output_type": "stream",
     "text": [
      "Epoch 455: 100%|███████████████████████████████| 50/50 [00:00<00:00, 233.03it/s]\n"
     ]
    },
    {
     "name": "stdout",
     "output_type": "stream",
     "text": [
      "Epoch 455: Loss: 0.0045\n"
     ]
    },
    {
     "name": "stderr",
     "output_type": "stream",
     "text": [
      "Epoch 456: 100%|███████████████████████████████| 50/50 [00:00<00:00, 278.64it/s]\n"
     ]
    },
    {
     "name": "stdout",
     "output_type": "stream",
     "text": [
      "Epoch 456: Loss: 0.0082\n"
     ]
    },
    {
     "name": "stderr",
     "output_type": "stream",
     "text": [
      "Epoch 457: 100%|███████████████████████████████| 50/50 [00:00<00:00, 318.09it/s]\n"
     ]
    },
    {
     "name": "stdout",
     "output_type": "stream",
     "text": [
      "Epoch 457: Loss: 0.0049\n"
     ]
    },
    {
     "name": "stderr",
     "output_type": "stream",
     "text": [
      "Epoch 458: 100%|███████████████████████████████| 50/50 [00:00<00:00, 315.25it/s]\n"
     ]
    },
    {
     "name": "stdout",
     "output_type": "stream",
     "text": [
      "Epoch 458: Loss: 0.0147\n"
     ]
    },
    {
     "name": "stderr",
     "output_type": "stream",
     "text": [
      "Epoch 459: 100%|███████████████████████████████| 50/50 [00:00<00:00, 317.34it/s]\n"
     ]
    },
    {
     "name": "stdout",
     "output_type": "stream",
     "text": [
      "Epoch 459: Loss: 0.0028\n"
     ]
    },
    {
     "name": "stderr",
     "output_type": "stream",
     "text": [
      "Epoch 460: 100%|███████████████████████████████| 50/50 [00:00<00:00, 266.95it/s]\n"
     ]
    },
    {
     "name": "stdout",
     "output_type": "stream",
     "text": [
      "Epoch 460: Loss: 0.0061\n"
     ]
    },
    {
     "name": "stderr",
     "output_type": "stream",
     "text": [
      "Epoch 461: 100%|███████████████████████████████| 50/50 [00:00<00:00, 300.68it/s]\n"
     ]
    },
    {
     "name": "stdout",
     "output_type": "stream",
     "text": [
      "Epoch 461: Loss: 0.0033\n"
     ]
    },
    {
     "name": "stderr",
     "output_type": "stream",
     "text": [
      "Epoch 462: 100%|███████████████████████████████| 50/50 [00:00<00:00, 287.38it/s]\n"
     ]
    },
    {
     "name": "stdout",
     "output_type": "stream",
     "text": [
      "Epoch 462: Loss: 0.0026\n"
     ]
    },
    {
     "name": "stderr",
     "output_type": "stream",
     "text": [
      "Epoch 463: 100%|███████████████████████████████| 50/50 [00:00<00:00, 251.92it/s]\n"
     ]
    },
    {
     "name": "stdout",
     "output_type": "stream",
     "text": [
      "Epoch 463: Loss: 0.0055\n"
     ]
    },
    {
     "name": "stderr",
     "output_type": "stream",
     "text": [
      "Epoch 464: 100%|███████████████████████████████| 50/50 [00:00<00:00, 252.68it/s]\n"
     ]
    },
    {
     "name": "stdout",
     "output_type": "stream",
     "text": [
      "Epoch 464: Loss: 0.0042\n"
     ]
    },
    {
     "name": "stderr",
     "output_type": "stream",
     "text": [
      "Epoch 465: 100%|███████████████████████████████| 50/50 [00:00<00:00, 277.03it/s]\n"
     ]
    },
    {
     "name": "stdout",
     "output_type": "stream",
     "text": [
      "Epoch 465: Loss: 0.0046\n"
     ]
    },
    {
     "name": "stderr",
     "output_type": "stream",
     "text": [
      "Epoch 466: 100%|███████████████████████████████| 50/50 [00:00<00:00, 273.49it/s]\n"
     ]
    },
    {
     "name": "stdout",
     "output_type": "stream",
     "text": [
      "Epoch 466: Loss: 0.0048\n"
     ]
    },
    {
     "name": "stderr",
     "output_type": "stream",
     "text": [
      "Epoch 467: 100%|███████████████████████████████| 50/50 [00:00<00:00, 303.96it/s]\n"
     ]
    },
    {
     "name": "stdout",
     "output_type": "stream",
     "text": [
      "Epoch 467: Loss: 0.0030\n"
     ]
    },
    {
     "name": "stderr",
     "output_type": "stream",
     "text": [
      "Epoch 468: 100%|███████████████████████████████| 50/50 [00:00<00:00, 297.78it/s]\n"
     ]
    },
    {
     "name": "stdout",
     "output_type": "stream",
     "text": [
      "Epoch 468: Loss: 0.0039\n"
     ]
    },
    {
     "name": "stderr",
     "output_type": "stream",
     "text": [
      "Epoch 469: 100%|███████████████████████████████| 50/50 [00:00<00:00, 305.91it/s]\n"
     ]
    },
    {
     "name": "stdout",
     "output_type": "stream",
     "text": [
      "Epoch 469: Loss: 0.0032\n"
     ]
    },
    {
     "name": "stderr",
     "output_type": "stream",
     "text": [
      "Epoch 470: 100%|███████████████████████████████| 50/50 [00:00<00:00, 312.91it/s]\n"
     ]
    },
    {
     "name": "stdout",
     "output_type": "stream",
     "text": [
      "Epoch 470: Loss: 0.0064\n"
     ]
    },
    {
     "name": "stderr",
     "output_type": "stream",
     "text": [
      "Epoch 471: 100%|███████████████████████████████| 50/50 [00:00<00:00, 312.13it/s]\n"
     ]
    },
    {
     "name": "stdout",
     "output_type": "stream",
     "text": [
      "Epoch 471: Loss: 0.0042\n"
     ]
    },
    {
     "name": "stderr",
     "output_type": "stream",
     "text": [
      "Epoch 472: 100%|███████████████████████████████| 50/50 [00:00<00:00, 310.30it/s]\n"
     ]
    },
    {
     "name": "stdout",
     "output_type": "stream",
     "text": [
      "Epoch 472: Loss: 0.0052\n"
     ]
    },
    {
     "name": "stderr",
     "output_type": "stream",
     "text": [
      "Epoch 473: 100%|███████████████████████████████| 50/50 [00:00<00:00, 321.36it/s]\n"
     ]
    },
    {
     "name": "stdout",
     "output_type": "stream",
     "text": [
      "Epoch 473: Loss: 0.0036\n"
     ]
    },
    {
     "name": "stderr",
     "output_type": "stream",
     "text": [
      "Epoch 474: 100%|███████████████████████████████| 50/50 [00:00<00:00, 312.36it/s]\n"
     ]
    },
    {
     "name": "stdout",
     "output_type": "stream",
     "text": [
      "Epoch 474: Loss: 0.0050\n"
     ]
    },
    {
     "name": "stderr",
     "output_type": "stream",
     "text": [
      "Epoch 475: 100%|███████████████████████████████| 50/50 [00:00<00:00, 315.13it/s]\n"
     ]
    },
    {
     "name": "stdout",
     "output_type": "stream",
     "text": [
      "Epoch 475: Loss: 0.0024\n"
     ]
    },
    {
     "name": "stderr",
     "output_type": "stream",
     "text": [
      "Epoch 476: 100%|███████████████████████████████| 50/50 [00:00<00:00, 313.27it/s]\n"
     ]
    },
    {
     "name": "stdout",
     "output_type": "stream",
     "text": [
      "Epoch 476: Loss: 0.0026\n"
     ]
    },
    {
     "name": "stderr",
     "output_type": "stream",
     "text": [
      "Epoch 477: 100%|███████████████████████████████| 50/50 [00:00<00:00, 306.69it/s]\n"
     ]
    },
    {
     "name": "stdout",
     "output_type": "stream",
     "text": [
      "Epoch 477: Loss: 0.0040\n"
     ]
    },
    {
     "name": "stderr",
     "output_type": "stream",
     "text": [
      "Epoch 478: 100%|███████████████████████████████| 50/50 [00:00<00:00, 285.21it/s]\n"
     ]
    },
    {
     "name": "stdout",
     "output_type": "stream",
     "text": [
      "Epoch 478: Loss: 0.0015\n"
     ]
    },
    {
     "name": "stderr",
     "output_type": "stream",
     "text": [
      "Epoch 479: 100%|███████████████████████████████| 50/50 [00:00<00:00, 272.02it/s]\n"
     ]
    },
    {
     "name": "stdout",
     "output_type": "stream",
     "text": [
      "Epoch 479: Loss: 0.0026\n"
     ]
    },
    {
     "name": "stderr",
     "output_type": "stream",
     "text": [
      "Epoch 480: 100%|███████████████████████████████| 50/50 [00:00<00:00, 298.70it/s]\n"
     ]
    },
    {
     "name": "stdout",
     "output_type": "stream",
     "text": [
      "Epoch 480: Loss: 0.0023\n"
     ]
    },
    {
     "name": "stderr",
     "output_type": "stream",
     "text": [
      "Epoch 481: 100%|███████████████████████████████| 50/50 [00:00<00:00, 320.29it/s]\n"
     ]
    },
    {
     "name": "stdout",
     "output_type": "stream",
     "text": [
      "Epoch 481: Loss: 0.0039\n"
     ]
    },
    {
     "name": "stderr",
     "output_type": "stream",
     "text": [
      "Epoch 482: 100%|███████████████████████████████| 50/50 [00:00<00:00, 316.23it/s]\n"
     ]
    },
    {
     "name": "stdout",
     "output_type": "stream",
     "text": [
      "Epoch 482: Loss: 0.0033\n"
     ]
    },
    {
     "name": "stderr",
     "output_type": "stream",
     "text": [
      "Epoch 483: 100%|███████████████████████████████| 50/50 [00:00<00:00, 315.98it/s]\n"
     ]
    },
    {
     "name": "stdout",
     "output_type": "stream",
     "text": [
      "Epoch 483: Loss: 0.0036\n"
     ]
    },
    {
     "name": "stderr",
     "output_type": "stream",
     "text": [
      "Epoch 484: 100%|███████████████████████████████| 50/50 [00:00<00:00, 311.02it/s]\n"
     ]
    },
    {
     "name": "stdout",
     "output_type": "stream",
     "text": [
      "Epoch 484: Loss: 0.0366\n"
     ]
    },
    {
     "name": "stderr",
     "output_type": "stream",
     "text": [
      "Epoch 485: 100%|███████████████████████████████| 50/50 [00:00<00:00, 312.43it/s]\n"
     ]
    },
    {
     "name": "stdout",
     "output_type": "stream",
     "text": [
      "Epoch 485: Loss: 0.0124\n"
     ]
    },
    {
     "name": "stderr",
     "output_type": "stream",
     "text": [
      "Epoch 486: 100%|███████████████████████████████| 50/50 [00:00<00:00, 321.35it/s]\n"
     ]
    },
    {
     "name": "stdout",
     "output_type": "stream",
     "text": [
      "Epoch 486: Loss: 0.0077\n"
     ]
    },
    {
     "name": "stderr",
     "output_type": "stream",
     "text": [
      "Epoch 487: 100%|███████████████████████████████| 50/50 [00:00<00:00, 308.51it/s]\n"
     ]
    },
    {
     "name": "stdout",
     "output_type": "stream",
     "text": [
      "Epoch 487: Loss: 0.0059\n"
     ]
    },
    {
     "name": "stderr",
     "output_type": "stream",
     "text": [
      "Epoch 488: 100%|███████████████████████████████| 50/50 [00:00<00:00, 311.44it/s]\n"
     ]
    },
    {
     "name": "stdout",
     "output_type": "stream",
     "text": [
      "Epoch 488: Loss: 0.0036\n"
     ]
    },
    {
     "name": "stderr",
     "output_type": "stream",
     "text": [
      "Epoch 489: 100%|███████████████████████████████| 50/50 [00:00<00:00, 339.79it/s]\n"
     ]
    },
    {
     "name": "stdout",
     "output_type": "stream",
     "text": [
      "Epoch 489: Loss: 0.0075\n"
     ]
    },
    {
     "name": "stderr",
     "output_type": "stream",
     "text": [
      "Epoch 490: 100%|███████████████████████████████| 50/50 [00:00<00:00, 350.44it/s]\n"
     ]
    },
    {
     "name": "stdout",
     "output_type": "stream",
     "text": [
      "Epoch 490: Loss: 0.0037\n"
     ]
    },
    {
     "name": "stderr",
     "output_type": "stream",
     "text": [
      "Epoch 491: 100%|███████████████████████████████| 50/50 [00:00<00:00, 328.23it/s]\n"
     ]
    },
    {
     "name": "stdout",
     "output_type": "stream",
     "text": [
      "Epoch 491: Loss: 0.0197\n"
     ]
    },
    {
     "name": "stderr",
     "output_type": "stream",
     "text": [
      "Epoch 492: 100%|███████████████████████████████| 50/50 [00:00<00:00, 347.79it/s]\n"
     ]
    },
    {
     "name": "stdout",
     "output_type": "stream",
     "text": [
      "Epoch 492: Loss: 0.0033\n"
     ]
    },
    {
     "name": "stderr",
     "output_type": "stream",
     "text": [
      "Epoch 493: 100%|███████████████████████████████| 50/50 [00:00<00:00, 340.27it/s]\n"
     ]
    },
    {
     "name": "stdout",
     "output_type": "stream",
     "text": [
      "Epoch 493: Loss: 0.0081\n"
     ]
    },
    {
     "name": "stderr",
     "output_type": "stream",
     "text": [
      "Epoch 494: 100%|███████████████████████████████| 50/50 [00:00<00:00, 355.87it/s]\n"
     ]
    },
    {
     "name": "stdout",
     "output_type": "stream",
     "text": [
      "Epoch 494: Loss: 0.0047\n"
     ]
    },
    {
     "name": "stderr",
     "output_type": "stream",
     "text": [
      "Epoch 495: 100%|███████████████████████████████| 50/50 [00:00<00:00, 354.69it/s]\n"
     ]
    },
    {
     "name": "stdout",
     "output_type": "stream",
     "text": [
      "Epoch 495: Loss: 0.0067\n"
     ]
    },
    {
     "name": "stderr",
     "output_type": "stream",
     "text": [
      "Epoch 496: 100%|███████████████████████████████| 50/50 [00:00<00:00, 354.97it/s]\n"
     ]
    },
    {
     "name": "stdout",
     "output_type": "stream",
     "text": [
      "Epoch 496: Loss: 0.0019\n"
     ]
    },
    {
     "name": "stderr",
     "output_type": "stream",
     "text": [
      "Epoch 497: 100%|███████████████████████████████| 50/50 [00:00<00:00, 352.66it/s]\n"
     ]
    },
    {
     "name": "stdout",
     "output_type": "stream",
     "text": [
      "Epoch 497: Loss: 0.0049\n"
     ]
    },
    {
     "name": "stderr",
     "output_type": "stream",
     "text": [
      "Epoch 498: 100%|███████████████████████████████| 50/50 [00:00<00:00, 352.96it/s]\n"
     ]
    },
    {
     "name": "stdout",
     "output_type": "stream",
     "text": [
      "Epoch 498: Loss: 0.0039\n"
     ]
    },
    {
     "name": "stderr",
     "output_type": "stream",
     "text": [
      "Epoch 499: 100%|███████████████████████████████| 50/50 [00:00<00:00, 338.86it/s]\n"
     ]
    },
    {
     "name": "stdout",
     "output_type": "stream",
     "text": [
      "Epoch 499: Loss: 0.0033\n"
     ]
    },
    {
     "name": "stderr",
     "output_type": "stream",
     "text": [
      "Epoch 500: 100%|███████████████████████████████| 50/50 [00:00<00:00, 301.65it/s]\n"
     ]
    },
    {
     "name": "stdout",
     "output_type": "stream",
     "text": [
      "Epoch 500: Loss: 0.0035\n"
     ]
    },
    {
     "name": "stderr",
     "output_type": "stream",
     "text": [
      "Epoch 501: 100%|███████████████████████████████| 50/50 [00:00<00:00, 219.08it/s]\n"
     ]
    },
    {
     "name": "stdout",
     "output_type": "stream",
     "text": [
      "Epoch 501: Loss: 0.0022\n"
     ]
    },
    {
     "name": "stderr",
     "output_type": "stream",
     "text": [
      "Epoch 502: 100%|███████████████████████████████| 50/50 [00:00<00:00, 247.90it/s]\n"
     ]
    },
    {
     "name": "stdout",
     "output_type": "stream",
     "text": [
      "Epoch 502: Loss: 0.0533\n"
     ]
    },
    {
     "name": "stderr",
     "output_type": "stream",
     "text": [
      "Epoch 503: 100%|███████████████████████████████| 50/50 [00:00<00:00, 223.59it/s]\n"
     ]
    },
    {
     "name": "stdout",
     "output_type": "stream",
     "text": [
      "Epoch 503: Loss: 0.0068\n"
     ]
    },
    {
     "name": "stderr",
     "output_type": "stream",
     "text": [
      "Epoch 504: 100%|███████████████████████████████| 50/50 [00:00<00:00, 222.34it/s]\n"
     ]
    },
    {
     "name": "stdout",
     "output_type": "stream",
     "text": [
      "Epoch 504: Loss: 0.0027\n"
     ]
    },
    {
     "name": "stderr",
     "output_type": "stream",
     "text": [
      "Epoch 505: 100%|███████████████████████████████| 50/50 [00:00<00:00, 294.29it/s]\n"
     ]
    },
    {
     "name": "stdout",
     "output_type": "stream",
     "text": [
      "Epoch 505: Loss: 0.0045\n"
     ]
    },
    {
     "name": "stderr",
     "output_type": "stream",
     "text": [
      "Epoch 506: 100%|███████████████████████████████| 50/50 [00:00<00:00, 307.78it/s]\n"
     ]
    },
    {
     "name": "stdout",
     "output_type": "stream",
     "text": [
      "Epoch 506: Loss: 0.0027\n"
     ]
    },
    {
     "name": "stderr",
     "output_type": "stream",
     "text": [
      "Epoch 507: 100%|███████████████████████████████| 50/50 [00:00<00:00, 331.10it/s]\n"
     ]
    },
    {
     "name": "stdout",
     "output_type": "stream",
     "text": [
      "Epoch 507: Loss: 0.0023\n"
     ]
    },
    {
     "name": "stderr",
     "output_type": "stream",
     "text": [
      "Epoch 508: 100%|███████████████████████████████| 50/50 [00:00<00:00, 351.68it/s]\n"
     ]
    },
    {
     "name": "stdout",
     "output_type": "stream",
     "text": [
      "Epoch 508: Loss: 0.0052\n"
     ]
    },
    {
     "name": "stderr",
     "output_type": "stream",
     "text": [
      "Epoch 509: 100%|███████████████████████████████| 50/50 [00:00<00:00, 306.89it/s]\n"
     ]
    },
    {
     "name": "stdout",
     "output_type": "stream",
     "text": [
      "Epoch 509: Loss: 0.0039\n"
     ]
    },
    {
     "name": "stderr",
     "output_type": "stream",
     "text": [
      "Epoch 510: 100%|███████████████████████████████| 50/50 [00:00<00:00, 305.82it/s]\n"
     ]
    },
    {
     "name": "stdout",
     "output_type": "stream",
     "text": [
      "Epoch 510: Loss: 0.0037\n"
     ]
    },
    {
     "name": "stderr",
     "output_type": "stream",
     "text": [
      "Epoch 511: 100%|███████████████████████████████| 50/50 [00:00<00:00, 308.99it/s]\n"
     ]
    },
    {
     "name": "stdout",
     "output_type": "stream",
     "text": [
      "Epoch 511: Loss: 0.0025\n"
     ]
    },
    {
     "name": "stderr",
     "output_type": "stream",
     "text": [
      "Epoch 512: 100%|███████████████████████████████| 50/50 [00:00<00:00, 269.92it/s]\n"
     ]
    },
    {
     "name": "stdout",
     "output_type": "stream",
     "text": [
      "Epoch 512: Loss: 0.0054\n"
     ]
    },
    {
     "name": "stderr",
     "output_type": "stream",
     "text": [
      "Epoch 513: 100%|███████████████████████████████| 50/50 [00:00<00:00, 261.87it/s]\n"
     ]
    },
    {
     "name": "stdout",
     "output_type": "stream",
     "text": [
      "Epoch 513: Loss: 0.0055\n"
     ]
    },
    {
     "name": "stderr",
     "output_type": "stream",
     "text": [
      "Epoch 514: 100%|███████████████████████████████| 50/50 [00:00<00:00, 289.60it/s]\n"
     ]
    },
    {
     "name": "stdout",
     "output_type": "stream",
     "text": [
      "Epoch 514: Loss: 0.0043\n"
     ]
    },
    {
     "name": "stderr",
     "output_type": "stream",
     "text": [
      "Epoch 515: 100%|███████████████████████████████| 50/50 [00:00<00:00, 283.56it/s]\n"
     ]
    },
    {
     "name": "stdout",
     "output_type": "stream",
     "text": [
      "Epoch 515: Loss: 0.0053\n"
     ]
    },
    {
     "name": "stderr",
     "output_type": "stream",
     "text": [
      "Epoch 516: 100%|███████████████████████████████| 50/50 [00:00<00:00, 300.16it/s]\n"
     ]
    },
    {
     "name": "stdout",
     "output_type": "stream",
     "text": [
      "Epoch 516: Loss: 0.0022\n"
     ]
    },
    {
     "name": "stderr",
     "output_type": "stream",
     "text": [
      "Epoch 517: 100%|███████████████████████████████| 50/50 [00:00<00:00, 359.43it/s]\n"
     ]
    },
    {
     "name": "stdout",
     "output_type": "stream",
     "text": [
      "Epoch 517: Loss: 0.0023\n"
     ]
    },
    {
     "name": "stderr",
     "output_type": "stream",
     "text": [
      "Epoch 518: 100%|███████████████████████████████| 50/50 [00:00<00:00, 348.01it/s]\n"
     ]
    },
    {
     "name": "stdout",
     "output_type": "stream",
     "text": [
      "Epoch 518: Loss: 0.0029\n"
     ]
    },
    {
     "name": "stderr",
     "output_type": "stream",
     "text": [
      "Epoch 519: 100%|███████████████████████████████| 50/50 [00:00<00:00, 345.68it/s]\n"
     ]
    },
    {
     "name": "stdout",
     "output_type": "stream",
     "text": [
      "Epoch 519: Loss: 0.0069\n"
     ]
    },
    {
     "name": "stderr",
     "output_type": "stream",
     "text": [
      "Epoch 520: 100%|███████████████████████████████| 50/50 [00:00<00:00, 282.16it/s]\n"
     ]
    },
    {
     "name": "stdout",
     "output_type": "stream",
     "text": [
      "Epoch 520: Loss: 0.0053\n"
     ]
    },
    {
     "name": "stderr",
     "output_type": "stream",
     "text": [
      "Epoch 521: 100%|███████████████████████████████| 50/50 [00:00<00:00, 277.14it/s]\n"
     ]
    },
    {
     "name": "stdout",
     "output_type": "stream",
     "text": [
      "Epoch 521: Loss: 0.0056\n"
     ]
    },
    {
     "name": "stderr",
     "output_type": "stream",
     "text": [
      "Epoch 522: 100%|███████████████████████████████| 50/50 [00:00<00:00, 310.99it/s]\n"
     ]
    },
    {
     "name": "stdout",
     "output_type": "stream",
     "text": [
      "Epoch 522: Loss: 0.0049\n"
     ]
    },
    {
     "name": "stderr",
     "output_type": "stream",
     "text": [
      "Epoch 523: 100%|███████████████████████████████| 50/50 [00:00<00:00, 295.04it/s]\n"
     ]
    },
    {
     "name": "stdout",
     "output_type": "stream",
     "text": [
      "Epoch 523: Loss: 0.0060\n"
     ]
    },
    {
     "name": "stderr",
     "output_type": "stream",
     "text": [
      "Epoch 524: 100%|███████████████████████████████| 50/50 [00:00<00:00, 284.59it/s]\n"
     ]
    },
    {
     "name": "stdout",
     "output_type": "stream",
     "text": [
      "Epoch 524: Loss: 0.0062\n"
     ]
    },
    {
     "name": "stderr",
     "output_type": "stream",
     "text": [
      "Epoch 525: 100%|███████████████████████████████| 50/50 [00:00<00:00, 258.47it/s]\n"
     ]
    },
    {
     "name": "stdout",
     "output_type": "stream",
     "text": [
      "Epoch 525: Loss: 0.0028\n"
     ]
    },
    {
     "name": "stderr",
     "output_type": "stream",
     "text": [
      "Epoch 526: 100%|███████████████████████████████| 50/50 [00:00<00:00, 284.96it/s]\n"
     ]
    },
    {
     "name": "stdout",
     "output_type": "stream",
     "text": [
      "Epoch 526: Loss: 0.0032\n"
     ]
    },
    {
     "name": "stderr",
     "output_type": "stream",
     "text": [
      "Epoch 527: 100%|███████████████████████████████| 50/50 [00:00<00:00, 285.04it/s]\n"
     ]
    },
    {
     "name": "stdout",
     "output_type": "stream",
     "text": [
      "Epoch 527: Loss: 0.0042\n"
     ]
    },
    {
     "name": "stderr",
     "output_type": "stream",
     "text": [
      "Epoch 528: 100%|███████████████████████████████| 50/50 [00:00<00:00, 302.67it/s]\n"
     ]
    },
    {
     "name": "stdout",
     "output_type": "stream",
     "text": [
      "Epoch 528: Loss: 0.0076\n"
     ]
    },
    {
     "name": "stderr",
     "output_type": "stream",
     "text": [
      "Epoch 529: 100%|███████████████████████████████| 50/50 [00:00<00:00, 340.37it/s]\n"
     ]
    },
    {
     "name": "stdout",
     "output_type": "stream",
     "text": [
      "Epoch 529: Loss: 0.0053\n"
     ]
    },
    {
     "name": "stderr",
     "output_type": "stream",
     "text": [
      "Epoch 530: 100%|███████████████████████████████| 50/50 [00:00<00:00, 334.23it/s]\n"
     ]
    },
    {
     "name": "stdout",
     "output_type": "stream",
     "text": [
      "Epoch 530: Loss: 0.0030\n"
     ]
    },
    {
     "name": "stderr",
     "output_type": "stream",
     "text": [
      "Epoch 531: 100%|███████████████████████████████| 50/50 [00:00<00:00, 353.07it/s]\n"
     ]
    },
    {
     "name": "stdout",
     "output_type": "stream",
     "text": [
      "Epoch 531: Loss: 0.0022\n"
     ]
    },
    {
     "name": "stderr",
     "output_type": "stream",
     "text": [
      "Epoch 532: 100%|███████████████████████████████| 50/50 [00:00<00:00, 354.16it/s]\n"
     ]
    },
    {
     "name": "stdout",
     "output_type": "stream",
     "text": [
      "Epoch 532: Loss: 0.0028\n"
     ]
    },
    {
     "name": "stderr",
     "output_type": "stream",
     "text": [
      "Epoch 533: 100%|███████████████████████████████| 50/50 [00:00<00:00, 346.79it/s]\n"
     ]
    },
    {
     "name": "stdout",
     "output_type": "stream",
     "text": [
      "Epoch 533: Loss: 0.0019\n"
     ]
    },
    {
     "name": "stderr",
     "output_type": "stream",
     "text": [
      "Epoch 534: 100%|███████████████████████████████| 50/50 [00:00<00:00, 354.82it/s]\n"
     ]
    },
    {
     "name": "stdout",
     "output_type": "stream",
     "text": [
      "Epoch 534: Loss: 0.0071\n"
     ]
    },
    {
     "name": "stderr",
     "output_type": "stream",
     "text": [
      "Epoch 535: 100%|███████████████████████████████| 50/50 [00:00<00:00, 351.46it/s]\n"
     ]
    },
    {
     "name": "stdout",
     "output_type": "stream",
     "text": [
      "Epoch 535: Loss: 0.0036\n"
     ]
    },
    {
     "name": "stderr",
     "output_type": "stream",
     "text": [
      "Epoch 536: 100%|███████████████████████████████| 50/50 [00:00<00:00, 352.81it/s]\n"
     ]
    },
    {
     "name": "stdout",
     "output_type": "stream",
     "text": [
      "Epoch 536: Loss: 0.0035\n"
     ]
    },
    {
     "name": "stderr",
     "output_type": "stream",
     "text": [
      "Epoch 537: 100%|███████████████████████████████| 50/50 [00:00<00:00, 352.45it/s]\n"
     ]
    },
    {
     "name": "stdout",
     "output_type": "stream",
     "text": [
      "Epoch 537: Loss: 0.0039\n"
     ]
    },
    {
     "name": "stderr",
     "output_type": "stream",
     "text": [
      "Epoch 538: 100%|███████████████████████████████| 50/50 [00:00<00:00, 353.42it/s]\n"
     ]
    },
    {
     "name": "stdout",
     "output_type": "stream",
     "text": [
      "Epoch 538: Loss: 0.0050\n"
     ]
    },
    {
     "name": "stderr",
     "output_type": "stream",
     "text": [
      "Epoch 539: 100%|███████████████████████████████| 50/50 [00:00<00:00, 352.87it/s]\n"
     ]
    },
    {
     "name": "stdout",
     "output_type": "stream",
     "text": [
      "Epoch 539: Loss: 0.0769\n"
     ]
    },
    {
     "name": "stderr",
     "output_type": "stream",
     "text": [
      "Epoch 540: 100%|███████████████████████████████| 50/50 [00:00<00:00, 274.35it/s]\n"
     ]
    },
    {
     "name": "stdout",
     "output_type": "stream",
     "text": [
      "Epoch 540: Loss: 0.0015\n"
     ]
    },
    {
     "name": "stderr",
     "output_type": "stream",
     "text": [
      "Epoch 541: 100%|███████████████████████████████| 50/50 [00:00<00:00, 242.09it/s]\n"
     ]
    },
    {
     "name": "stdout",
     "output_type": "stream",
     "text": [
      "Epoch 541: Loss: 0.0041\n"
     ]
    },
    {
     "name": "stderr",
     "output_type": "stream",
     "text": [
      "Epoch 542: 100%|███████████████████████████████| 50/50 [00:00<00:00, 292.50it/s]\n"
     ]
    },
    {
     "name": "stdout",
     "output_type": "stream",
     "text": [
      "Epoch 542: Loss: 0.0030\n"
     ]
    },
    {
     "name": "stderr",
     "output_type": "stream",
     "text": [
      "Epoch 543: 100%|███████████████████████████████| 50/50 [00:00<00:00, 298.91it/s]\n"
     ]
    },
    {
     "name": "stdout",
     "output_type": "stream",
     "text": [
      "Epoch 543: Loss: 0.0034\n"
     ]
    },
    {
     "name": "stderr",
     "output_type": "stream",
     "text": [
      "Epoch 544: 100%|███████████████████████████████| 50/50 [00:00<00:00, 272.33it/s]\n"
     ]
    },
    {
     "name": "stdout",
     "output_type": "stream",
     "text": [
      "Epoch 544: Loss: 0.0028\n"
     ]
    },
    {
     "name": "stderr",
     "output_type": "stream",
     "text": [
      "Epoch 545: 100%|███████████████████████████████| 50/50 [00:00<00:00, 259.12it/s]\n"
     ]
    },
    {
     "name": "stdout",
     "output_type": "stream",
     "text": [
      "Epoch 545: Loss: 0.0065\n"
     ]
    },
    {
     "name": "stderr",
     "output_type": "stream",
     "text": [
      "Epoch 546: 100%|███████████████████████████████| 50/50 [00:00<00:00, 277.98it/s]\n"
     ]
    },
    {
     "name": "stdout",
     "output_type": "stream",
     "text": [
      "Epoch 546: Loss: 0.0032\n"
     ]
    },
    {
     "name": "stderr",
     "output_type": "stream",
     "text": [
      "Epoch 547: 100%|███████████████████████████████| 50/50 [00:00<00:00, 272.71it/s]\n"
     ]
    },
    {
     "name": "stdout",
     "output_type": "stream",
     "text": [
      "Epoch 547: Loss: 0.0025\n"
     ]
    },
    {
     "name": "stderr",
     "output_type": "stream",
     "text": [
      "Epoch 548: 100%|███████████████████████████████| 50/50 [00:00<00:00, 313.15it/s]\n"
     ]
    },
    {
     "name": "stdout",
     "output_type": "stream",
     "text": [
      "Epoch 548: Loss: 0.0051\n"
     ]
    },
    {
     "name": "stderr",
     "output_type": "stream",
     "text": [
      "Epoch 549: 100%|███████████████████████████████| 50/50 [00:00<00:00, 296.09it/s]\n"
     ]
    },
    {
     "name": "stdout",
     "output_type": "stream",
     "text": [
      "Epoch 549: Loss: 0.0034\n"
     ]
    },
    {
     "name": "stderr",
     "output_type": "stream",
     "text": [
      "Epoch 550: 100%|███████████████████████████████| 50/50 [00:00<00:00, 295.45it/s]"
     ]
    },
    {
     "name": "stdout",
     "output_type": "stream",
     "text": [
      "Epoch 550: Loss: 0.0060\n"
     ]
    },
    {
     "name": "stderr",
     "output_type": "stream",
     "text": [
      "\n"
     ]
    },
    {
     "data": {
      "text/plain": [
       "'\\nimport matplotlib.pyplot as plt\\nfrom IPython.display import clear_output\\nimport time\\n\\n# Setup for ultra-fast live plotting\\nplt.ioff()  # Turn off interactive mode\\nepochs_list = []\\nlosses_list = []\\n\\n# Training setup\\nbatch_size = 8\\ntrain_dataset = TensorDataset(x_train_tensor, y_train_tensor)\\ntrain_loader = DataLoader(train_dataset, batch_size=batch_size, shuffle=True, drop_last=True)\\n\\nprint(\"Starting training with live loss visualization...\")\\nprint(\"Updates every single epoch\")\\n\\nfor epoch in range(1000):\\n    model.train()\\n    epoch_loss = 0.0\\n    \\n    # loop (removed tqdm)\\n    for seqs, anns in train_loader:\\n        seqs = seqs.to(device)\\n        anns = anns.to(device)\\n        output = model(seqs)\\n        output_loss = loss(output, anns)\\n        adam.zero_grad()\\n        output_loss.backward()\\n        adam.step()\\n        epoch_loss += output_loss.item() * seqs.size(0)\\n    \\n    # average loss\\n    avg_loss = epoch_loss / len(train_dataset)\\n    epochs_list.append(epoch + 1)\\n    losses_list.append(avg_loss)\\n    \\n    # UPDATE EVERY SINGLE EPOCH\\n    clear_output(wait=True)\\n    \\n    #  zoomed out plot\\n    fig, ax = plt.subplots(figsize=(14, 8))\\n    ax.plot(epochs_list, losses_list, \\'b-\\', linewidth=1.5, alpha=0.9)\\n    \\n    # ZOOMED OUT VIEW\\n    ax.set_xlim(0, 1000)  # Full epoch range\\n    if len(losses_list) > 1:\\n        loss_min = min(losses_list)\\n        loss_max = max(losses_list)\\n        loss_range = loss_max - loss_min\\n        ax.set_ylim(max(0, loss_min - 0.1 * loss_range), loss_max + 0.1 * loss_range)\\n    \\n    ax.set_xlabel(\\'Epoch\\', fontsize=12)\\n    ax.set_ylabel(\\'Average Loss\\', fontsize=12)\\n    ax.set_title(f\\'LIVE Training Loss - Epoch {epoch+1}/1000 | Loss: {avg_loss:.4f}\\', fontsize=14, fontweight=\\'bold\\')\\n    ax.grid(True, alpha=0.3)\\n    \\n    # current position marker\\n    ax.plot(epochs_list[-1], losses_list[-1], \\'ro\\', markersize=6, alpha=0.8)\\n    \\n    # statistics\\n    if len(losses_list) > 1:\\n        initial_loss = losses_list[0]\\n        improvement = ((initial_loss - avg_loss) / initial_loss) * 100\\n        ax.text(0.02, 0.98, f\\'Initial: {initial_loss:.4f}\\nCurrent: {avg_loss:.4f}\\nImprovement: {improvement:.1f}%\\', \\n                transform=ax.transAxes, fontsize=10, verticalalignment=\\'top\\',\\n                bbox=dict(boxstyle=\\'round\\', facecolor=\\'wheat\\', alpha=0.8))\\n    \\n    # Add progress bar effect\\n    progress = (epoch + 1) / 1000\\n    ax.axvline(x=epoch + 1, color=\\'red\\', alpha=0.3, linewidth=2)\\n    ax.text(epoch + 1, ax.get_ylim()[1] * 0.95, f\\'{progress:.1%}\\', \\n            ha=\\'center\\', fontsize=10, color=\\'red\\', fontweight=\\'bold\\')\\n    \\n    plt.tight_layout()\\n    plt.show()\\n    \\n    # Ultra-minimal text output\\n    print(f\"Epoch {epoch+1:4d}/1000 | Loss: {avg_loss:.6f} | {\\'-\\' if len(losses_list) > 1 and avg_loss < losses_list[-2] else \\'+\\'}\")\\n\\nprint(f\"\\nTraining complete.\")\\nprint(f\"Final loss: {losses_list[-1]:.6f}\")\\nprint(f\"Total improvement: {((losses_list[0] - losses_list[-1]) / losses_list[0] * 100):.1f}%\")\\n\\n'"
      ]
     },
     "execution_count": 261,
     "metadata": {},
     "output_type": "execute_result"
    }
   ],
   "source": [
    "\n",
    "#use TensorDatset, DataLoader from torch utils\n",
    "\n",
    "#worked well on gamma 0.5, epoch 550, batch 8\n",
    "\n",
    "#batch_size = 32\n",
    "batch_size = 16\n",
    "train_dataset = TensorDataset(x_train_tensor, y_train_tensor)\n",
    "train_loader = DataLoader(train_dataset, batch_size=batch_size, shuffle=True, drop_last=True)\n",
    "#dropping last bc we are using batchnorm, so it needs >1 batch size \n",
    "\n",
    "#1500 optimal\n",
    "for epoch in range(550):\n",
    "    model.train()\n",
    "    epoch_loss = 0.0\n",
    "\n",
    "    for seqs, anns in tqdm(train_loader, desc=f\"Epoch {epoch+1}\"):\n",
    "        seqs = seqs.to(device)\n",
    "        anns = anns.to(device)\n",
    "        output = model(seqs)\n",
    "        output_loss = loss(output, anns)\n",
    "        adam.zero_grad()\n",
    "        output_loss.backward()\n",
    "        adam.step()\n",
    "        epoch_loss += output_loss.item() * seqs.size(0) #batch size scaling\n",
    "    scheduler.step()\n",
    "    avg_loss = epoch_loss / len(train_dataset)\n",
    "    print(f\"Epoch {epoch+1}: Loss: {avg_loss:.4f}\")\n"
   ]
  },
  {
   "cell_type": "code",
   "execution_count": 262,
   "id": "a7407531-763b-4936-b491-d851ddf6a0df",
   "metadata": {},
   "outputs": [
    {
     "data": {
      "text/plain": [
       "76.4367816091954"
      ]
     },
     "execution_count": 262,
     "metadata": {},
     "output_type": "execute_result"
    }
   ],
   "source": [
    "test_dataset = TensorDataset(x_test_tensor, y_test_tensor)\n",
    "test_loader = DataLoader(test_dataset, batch_size=batch_size, shuffle=False)\n",
    "#dropping last bc we are using batchnorm, so it needs >1 batch size \n",
    "\n",
    "all_predictions = []\n",
    "all_targets = []\n",
    "def accuracy():\n",
    "    model.eval()\n",
    "    correct = 0\n",
    "    total = 0\n",
    "\n",
    "\n",
    "    with torch.no_grad():\n",
    "        for inputs, targets in test_loader:\n",
    "            inputs, targets = inputs.to(device), targets.to(device)\n",
    "            outputs = model(inputs) #model predictions [batch_size, 9]\n",
    "            values, predicted = torch.max(outputs.data, 1)\n",
    "            #values has highest score for each sample in batch\n",
    "            #the predicted part has the classes w/ highest score for each sample\n",
    "            total += targets.size(0) #add batch size\n",
    "            correct += (predicted == targets).sum().item()\n",
    "\n",
    "            #for classification report\n",
    "            all_predictions.extend(predicted.cpu().numpy())\n",
    "            all_targets.extend(targets.cpu().numpy())\n",
    "    return 100 * correct/total\n",
    "\n",
    "accuracy()"
   ]
  },
  {
   "cell_type": "code",
   "execution_count": null,
   "id": "abfcc452-cc7c-4892-916e-db6b11a6d763",
   "metadata": {},
   "outputs": [],
   "source": []
  },
  {
   "cell_type": "code",
   "execution_count": 210,
   "id": "ec8fff42-d92b-4933-835c-19c87f8de428",
   "metadata": {},
   "outputs": [
    {
     "name": "stdout",
     "output_type": "stream",
     "text": [
      "              precision    recall  f1-score   support\n",
      "\n",
      "           A       0.72      0.72      0.72        36\n",
      "          A1       0.62      0.65      0.64        23\n",
      "          A2       0.80      0.73      0.76        11\n",
      "           B       0.79      0.81      0.80       131\n",
      "          B1       0.68      0.63      0.65        78\n",
      "          B2       0.50      1.00      0.67         6\n",
      "           C       0.73      0.65      0.69        17\n",
      "          C1       0.44      0.44      0.44         9\n",
      "          C2       0.80      0.67      0.73         6\n",
      "\n",
      "    accuracy                           0.72       317\n",
      "   macro avg       0.68      0.70      0.68       317\n",
      "weighted avg       0.73      0.72      0.72       317\n",
      "\n"
     ]
    }
   ],
   "source": [
    "\n",
    "from sklearn.metrics import classification_report\n",
    "import numpy as np\n",
    "\n",
    "\n",
    "class_names = annotation_enumerated.keys()\n",
    "\n",
    "print(classification_report(all_targets, all_predictions, target_names=class_names))"
   ]
  },
  {
   "cell_type": "code",
   "execution_count": null,
   "id": "01a53edd-9a9f-4fce-b0a2-7022e50ead1f",
   "metadata": {},
   "outputs": [],
   "source": []
  },
  {
   "cell_type": "code",
   "execution_count": null,
   "id": "c9a496ce-5e42-4e51-af60-7a0a2113e5e3",
   "metadata": {},
   "outputs": [],
   "source": []
  }
 ],
 "metadata": {
  "kernelspec": {
   "display_name": "radwatch",
   "language": "python",
   "name": "radwatch"
  },
  "language_info": {
   "codemirror_mode": {
    "name": "ipython",
    "version": 3
   },
   "file_extension": ".py",
   "mimetype": "text/x-python",
   "name": "python",
   "nbconvert_exporter": "python",
   "pygments_lexer": "ipython3",
   "version": "3.12.7"
  }
 },
 "nbformat": 4,
 "nbformat_minor": 5
}
