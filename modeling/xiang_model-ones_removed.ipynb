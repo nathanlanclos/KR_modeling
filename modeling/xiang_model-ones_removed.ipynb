{
 "cells": [
  {
   "cell_type": "code",
   "execution_count": 3,
   "id": "034f7b7e-3ca9-4f41-adba-3a0d79b0dd18",
   "metadata": {},
   "outputs": [],
   "source": [
    "import pandas as pd\n",
    "import numpy as np \n",
    "from torch.utils.data import TensorDataset, DataLoader\n",
    "from tqdm import tqdm\n",
    "import torch\n",
    "import torch.nn as nn\n",
    "import torch.optim as optim\n",
    "import torch.nn.functional as F"
   ]
  },
  {
   "cell_type": "code",
   "execution_count": 4,
   "id": "7aba8da3-bddd-4acd-a1d8-bc1f3bc170dd",
   "metadata": {},
   "outputs": [],
   "source": [
    "#add torch reproducibility "
   ]
  },
  {
   "cell_type": "code",
   "execution_count": 5,
   "id": "60a1a7f2-e87e-4984-bf8d-582be304e206",
   "metadata": {},
   "outputs": [],
   "source": [
    "xiang_filtered = pd.read_csv(\"xiang_filtered.csv\")\n",
    "xiang_filtered_embeddings = torch.load(\"filtered_embeddings.pt\")\n",
    "#xiang_filtered_embeddings = xiang_filtered_embeddings[\"embeddings\"]\n",
    "\n",
    "#test1 xiang, test2 smash"
   ]
  },
  {
   "cell_type": "code",
   "execution_count": 6,
   "id": "78ce032e-deab-4110-9763-58b733607ab9",
   "metadata": {},
   "outputs": [
    {
     "data": {
      "text/html": [
       "<div>\n",
       "<style scoped>\n",
       "    .dataframe tbody tr th:only-of-type {\n",
       "        vertical-align: middle;\n",
       "    }\n",
       "\n",
       "    .dataframe tbody tr th {\n",
       "        vertical-align: top;\n",
       "    }\n",
       "\n",
       "    .dataframe thead th {\n",
       "        text-align: right;\n",
       "    }\n",
       "</style>\n",
       "<table border=\"1\" class=\"dataframe\">\n",
       "  <thead>\n",
       "    <tr style=\"text-align: right;\">\n",
       "      <th></th>\n",
       "      <th>BGC code in MIBiG or name of product</th>\n",
       "      <th>Name of protein</th>\n",
       "      <th>Order of module</th>\n",
       "      <th>Annotation</th>\n",
       "      <th>Extender</th>\n",
       "      <th>Organism</th>\n",
       "      <th>Taxonomy</th>\n",
       "      <th>Sequence</th>\n",
       "    </tr>\n",
       "  </thead>\n",
       "  <tbody>\n",
       "    <tr>\n",
       "      <th>0</th>\n",
       "      <td>actinopyrone</td>\n",
       "      <td>atpn1</td>\n",
       "      <td>M2</td>\n",
       "      <td>B1</td>\n",
       "      <td>MM</td>\n",
       "      <td>Streptomyces sp. SCSIO ZS0520</td>\n",
       "      <td>Actinomycetes</td>\n",
       "      <td>HTTLVTGGTGALGPHIARWLAEAGAERLVVTSRRGPLAEGMPELVA...</td>\n",
       "    </tr>\n",
       "    <tr>\n",
       "      <th>1</th>\n",
       "      <td>aetokthonostatin</td>\n",
       "      <td>aesJ</td>\n",
       "      <td>M4</td>\n",
       "      <td>A</td>\n",
       "      <td>M</td>\n",
       "      <td>Aetokthonos hydrillicola Thurmond2011</td>\n",
       "      <td>Cyanobacteriota</td>\n",
       "      <td>GVYLITGGLGNMGMVLSEFLASNYQAKLLIVSSRAFPKSSQWQEWL...</td>\n",
       "    </tr>\n",
       "    <tr>\n",
       "      <th>2</th>\n",
       "      <td>aetokthonostatin</td>\n",
       "      <td>aesB</td>\n",
       "      <td>M6</td>\n",
       "      <td>A1</td>\n",
       "      <td>M</td>\n",
       "      <td>Aetokthonos hydrillicola Thurmond2011</td>\n",
       "      <td>Cyanobacteriota</td>\n",
       "      <td>GVYLIFGGLGRVGLLLALDLAQRVKAKLVLVSRSELPPRSEWESWF...</td>\n",
       "    </tr>\n",
       "    <tr>\n",
       "      <th>3</th>\n",
       "      <td>aminoansamycin</td>\n",
       "      <td>aasA</td>\n",
       "      <td>M1</td>\n",
       "      <td>A</td>\n",
       "      <td>M</td>\n",
       "      <td>Streptomyces sp.</td>\n",
       "      <td>Actinomycetes</td>\n",
       "      <td>GTVLITGGSGGVGARIARRLARAGAGHLLLSSRRGPAAEGAAELVA...</td>\n",
       "    </tr>\n",
       "    <tr>\n",
       "      <th>4</th>\n",
       "      <td>Amphotericin</td>\n",
       "      <td>AF357202_AmphB1</td>\n",
       "      <td>M1</td>\n",
       "      <td>A2</td>\n",
       "      <td>MM</td>\n",
       "      <td>Streptomyces nodosus</td>\n",
       "      <td>Actinomycetes</td>\n",
       "      <td>GTTLVTGGSGTLAPGLARHLAAQGAEHLVLLSRRGADAPGAAELAA...</td>\n",
       "    </tr>\n",
       "    <tr>\n",
       "      <th>...</th>\n",
       "      <td>...</td>\n",
       "      <td>...</td>\n",
       "      <td>...</td>\n",
       "      <td>...</td>\n",
       "      <td>...</td>\n",
       "      <td>...</td>\n",
       "      <td>...</td>\n",
       "      <td>...</td>\n",
       "    </tr>\n",
       "    <tr>\n",
       "      <th>757</th>\n",
       "      <td>vancoresmycin</td>\n",
       "      <td>PKS4</td>\n",
       "      <td>M8</td>\n",
       "      <td>B</td>\n",
       "      <td>M</td>\n",
       "      <td>Amycolatopsis sp.</td>\n",
       "      <td>Actinomycetes</td>\n",
       "      <td>GGGLVPDAAAGARHRRGARARMLTSRRGTDAPGAAELVAELTAAGT...</td>\n",
       "    </tr>\n",
       "    <tr>\n",
       "      <th>758</th>\n",
       "      <td>vancoresmycin</td>\n",
       "      <td>PKS5</td>\n",
       "      <td>M9</td>\n",
       "      <td>A</td>\n",
       "      <td>M</td>\n",
       "      <td>Amycolatopsis sp.</td>\n",
       "      <td>Actinomycetes</td>\n",
       "      <td>GTVLVTGGTGALGSAVARWAAQAGAAHVILLSRSGPEAPGAAALLE...</td>\n",
       "    </tr>\n",
       "    <tr>\n",
       "      <th>759</th>\n",
       "      <td>venediol</td>\n",
       "      <td>vedC</td>\n",
       "      <td>M5</td>\n",
       "      <td>B1</td>\n",
       "      <td>MM</td>\n",
       "      <td>Streptomyces venezuelae</td>\n",
       "      <td>Actinomycetes</td>\n",
       "      <td>GTVLITGGTGSLGALFARHLVTRHGVRDLLLTSRRGDKADGARELG...</td>\n",
       "    </tr>\n",
       "    <tr>\n",
       "      <th>760</th>\n",
       "      <td>verticilactam</td>\n",
       "      <td>vtlP4</td>\n",
       "      <td>M6</td>\n",
       "      <td>B</td>\n",
       "      <td>M</td>\n",
       "      <td>Streptomyces spiroverticillatus</td>\n",
       "      <td>Actinomycetes</td>\n",
       "      <td>GTTLITGGTGALGAHLARSLARHGAAHLVLTSRRGSDAPGAAELAA...</td>\n",
       "    </tr>\n",
       "    <tr>\n",
       "      <th>761</th>\n",
       "      <td>verticilactam</td>\n",
       "      <td>vtlP5</td>\n",
       "      <td>M7</td>\n",
       "      <td>B</td>\n",
       "      <td>M</td>\n",
       "      <td>Streptomyces spiroverticillatus</td>\n",
       "      <td>Actinomycetes</td>\n",
       "      <td>GVVLVTGGTGGLGALLARHLVGVVGVRRLVLTSRRGLGAPGAGELV...</td>\n",
       "    </tr>\n",
       "  </tbody>\n",
       "</table>\n",
       "<p>762 rows × 8 columns</p>\n",
       "</div>"
      ],
      "text/plain": [
       "    BGC code in MIBiG or name of product  Name of protein Order of module  \\\n",
       "0                           actinopyrone            atpn1              M2   \n",
       "1                       aetokthonostatin             aesJ              M4   \n",
       "2                       aetokthonostatin             aesB              M6   \n",
       "3                         aminoansamycin             aasA              M1   \n",
       "4                           Amphotericin  AF357202_AmphB1              M1   \n",
       "..                                   ...              ...             ...   \n",
       "757                        vancoresmycin             PKS4              M8   \n",
       "758                        vancoresmycin             PKS5              M9   \n",
       "759                             venediol             vedC              M5   \n",
       "760                        verticilactam            vtlP4              M6   \n",
       "761                        verticilactam            vtlP5              M7   \n",
       "\n",
       "    Annotation Extender                               Organism  \\\n",
       "0           B1       MM          Streptomyces sp. SCSIO ZS0520   \n",
       "1            A        M  Aetokthonos hydrillicola Thurmond2011   \n",
       "2           A1        M  Aetokthonos hydrillicola Thurmond2011   \n",
       "3            A        M                       Streptomyces sp.   \n",
       "4           A2       MM                   Streptomyces nodosus   \n",
       "..         ...      ...                                    ...   \n",
       "757          B        M                      Amycolatopsis sp.   \n",
       "758          A        M                      Amycolatopsis sp.   \n",
       "759         B1       MM                Streptomyces venezuelae   \n",
       "760          B        M        Streptomyces spiroverticillatus   \n",
       "761          B        M        Streptomyces spiroverticillatus   \n",
       "\n",
       "            Taxonomy                                           Sequence  \n",
       "0      Actinomycetes  HTTLVTGGTGALGPHIARWLAEAGAERLVVTSRRGPLAEGMPELVA...  \n",
       "1    Cyanobacteriota  GVYLITGGLGNMGMVLSEFLASNYQAKLLIVSSRAFPKSSQWQEWL...  \n",
       "2    Cyanobacteriota  GVYLIFGGLGRVGLLLALDLAQRVKAKLVLVSRSELPPRSEWESWF...  \n",
       "3      Actinomycetes  GTVLITGGSGGVGARIARRLARAGAGHLLLSSRRGPAAEGAAELVA...  \n",
       "4      Actinomycetes  GTTLVTGGSGTLAPGLARHLAAQGAEHLVLLSRRGADAPGAAELAA...  \n",
       "..               ...                                                ...  \n",
       "757    Actinomycetes  GGGLVPDAAAGARHRRGARARMLTSRRGTDAPGAAELVAELTAAGT...  \n",
       "758    Actinomycetes  GTVLVTGGTGALGSAVARWAAQAGAAHVILLSRSGPEAPGAAALLE...  \n",
       "759    Actinomycetes  GTVLITGGTGSLGALFARHLVTRHGVRDLLLTSRRGDKADGARELG...  \n",
       "760   Actinomycetes   GTTLITGGTGALGAHLARSLARHGAAHLVLTSRRGSDAPGAAELAA...  \n",
       "761   Actinomycetes   GVVLVTGGTGGLGALLARHLVGVVGVRRLVLTSRRGLGAPGAGELV...  \n",
       "\n",
       "[762 rows x 8 columns]"
      ]
     },
     "execution_count": 6,
     "metadata": {},
     "output_type": "execute_result"
    }
   ],
   "source": [
    "xiang_filtered"
   ]
  },
  {
   "cell_type": "code",
   "execution_count": 7,
   "id": "41cb228f-5e66-431b-8915-13fbbf8c4d4e",
   "metadata": {},
   "outputs": [],
   "source": [
    "import pandas as pd\n",
    "\n",
    "kr_class_map = {\n",
    "    'A':'A',\n",
    "    'A1': 'A',\n",
    "    'A2': 'A2',\n",
    "    'B':'B',\n",
    "    'B1': 'B',\n",
    "    'B2': 'B2',\n",
    "    'C':'C',\n",
    "    'C1': 'C',\n",
    "    'C2': 'C2'\n",
    "}\n",
    "xiang_filtered['Annotation'] = xiang_filtered['Annotation'].replace(kr_class_map)\n"
   ]
  },
  {
   "cell_type": "code",
   "execution_count": 8,
   "id": "59ca78df-9268-4c9e-992d-312247246e40",
   "metadata": {},
   "outputs": [],
   "source": [
    "#average pooling. [len_of_seq, 1, 1536]\n",
    "\n",
    "\n",
    "xiang_filtered_embeddings = [x.mean(dim=1).squeeze(0) for x in xiang_filtered_embeddings]"
   ]
  },
  {
   "cell_type": "code",
   "execution_count": 9,
   "id": "bdc98b9c-00dd-4d5d-b0a0-03f3fe6b736b",
   "metadata": {},
   "outputs": [
    {
     "name": "stdout",
     "output_type": "stream",
     "text": [
      "torch.Size([1536])\n"
     ]
    }
   ],
   "source": [
    "print(xiang_filtered_embeddings[0].shape)"
   ]
  },
  {
   "cell_type": "code",
   "execution_count": 10,
   "id": "fb0431ac-47af-4879-9ac0-a6238ce79d4c",
   "metadata": {},
   "outputs": [
    {
     "data": {
      "text/plain": [
       "torch.Size([1536])"
      ]
     },
     "execution_count": 10,
     "metadata": {},
     "output_type": "execute_result"
    }
   ],
   "source": [
    "xiang_filtered_embeddings[1].shape"
   ]
  },
  {
   "cell_type": "code",
   "execution_count": 11,
   "id": "2d405336-287e-405f-8f83-6dc3324f202a",
   "metadata": {},
   "outputs": [],
   "source": [
    "#adding onehot encoding\n",
    "#xiang_filtered_embeddings = [torch.cat((xiang_filtered_embeddings[i],xiang_extenders_onehot[i]), dim=0) for i in range(len(xiang_filtered_embeddings))]\n",
    "#xiang_filtered_embeddings = [torch.cat((xiang_filtered_embeddings[i],xiang_orders_onehot[i]), dim=0) for i in range(len(xiang_filtered_embeddings))]"
   ]
  },
  {
   "cell_type": "code",
   "execution_count": 12,
   "id": "187e8a7d-0fcf-4b9c-849b-5830ff11e356",
   "metadata": {},
   "outputs": [
    {
     "data": {
      "text/plain": [
       "tensor([ 18.4311,  95.8367,   9.3923,  ..., -42.4762, -42.7177, -35.4733])"
      ]
     },
     "execution_count": 12,
     "metadata": {},
     "output_type": "execute_result"
    }
   ],
   "source": [
    "xiang_filtered_embeddings[0]"
   ]
  },
  {
   "cell_type": "code",
   "execution_count": 13,
   "id": "548cd0f9-2550-4cd6-8602-2592fe506d3f",
   "metadata": {},
   "outputs": [],
   "source": [
    "#stacking\n",
    "xiang_embeddings = torch.stack(xiang_filtered_embeddings)"
   ]
  },
  {
   "cell_type": "code",
   "execution_count": 14,
   "id": "8cffae8e-da65-4e5d-8db7-dedd5d15249b",
   "metadata": {},
   "outputs": [
    {
     "data": {
      "text/plain": [
       "'\\n# After stacking embeddings\\nprint(f\"Before normalization - mean: {xiang_embeddings.mean():.3f}, std: {xiang_embeddings.std():.3f}\")\\n\\n# Standardize features\\nmu = xiang_embeddings.mean(0)\\nsigma = xiang_embeddings.std(0) + 1e-9\\nxiang_embeddings = (xiang_embeddings - mu) / sigma\\n\\nprint(f\"After normalization - mean: {xiang_embeddings.mean():.3f}, std: {xiang_embeddings.std():.3f}\")\\n'"
      ]
     },
     "execution_count": 14,
     "metadata": {},
     "output_type": "execute_result"
    }
   ],
   "source": [
    "\n",
    "#this is standarization but we should do it AFTER -- on training only. \n",
    "'''\n",
    "# After stacking embeddings\n",
    "print(f\"Before normalization - mean: {xiang_embeddings.mean():.3f}, std: {xiang_embeddings.std():.3f}\")\n",
    "\n",
    "# Standardize features\n",
    "mu = xiang_embeddings.mean(0)\n",
    "sigma = xiang_embeddings.std(0) + 1e-9\n",
    "xiang_embeddings = (xiang_embeddings - mu) / sigma\n",
    "\n",
    "print(f\"After normalization - mean: {xiang_embeddings.mean():.3f}, std: {xiang_embeddings.std():.3f}\")\n",
    "'''"
   ]
  },
  {
   "cell_type": "code",
   "execution_count": 15,
   "id": "af3913ec-fe52-4bd8-9895-c21a364f0c99",
   "metadata": {
    "scrolled": true
   },
   "outputs": [
    {
     "name": "stdout",
     "output_type": "stream",
     "text": [
      "{'A': 0, 'A2': 1, 'B': 2, 'B2': 3, 'C': 4, 'C2': 5}\n"
     ]
    }
   ],
   "source": [
    "#outputs need to be converted to numerical values.\n",
    "\n",
    "annotations_unique = xiang_filtered[\"Annotation\"].unique()\n",
    "annotations_unique.sort() #sort alphabetically \n",
    "\n",
    "annotation_enumerated = {x: i for i, x in enumerate(annotations_unique)}\n",
    "print(annotation_enumerated)"
   ]
  },
  {
   "cell_type": "code",
   "execution_count": 16,
   "id": "4df0a9e8-0f64-4ffc-8231-6de6f859f355",
   "metadata": {},
   "outputs": [],
   "source": [
    "xiang_filtered[\"AnnotationEnumerated\"] = xiang_filtered[\"Annotation\"].map(annotation_enumerated)"
   ]
  },
  {
   "cell_type": "code",
   "execution_count": 17,
   "id": "f1143ba3-7fcf-4328-b30b-7c154711191b",
   "metadata": {},
   "outputs": [
    {
     "name": "stdout",
     "output_type": "stream",
     "text": [
      "0      2\n",
      "1      0\n",
      "2      0\n",
      "3      0\n",
      "4      1\n",
      "      ..\n",
      "757    2\n",
      "758    0\n",
      "759    2\n",
      "760    2\n",
      "761    2\n",
      "Name: AnnotationEnumerated, Length: 762, dtype: int64\n"
     ]
    }
   ],
   "source": [
    "print(xiang_filtered[\"AnnotationEnumerated\"])"
   ]
  },
  {
   "cell_type": "code",
   "execution_count": 18,
   "id": "f22e208d-155e-4318-a5b0-b2509e2c45a8",
   "metadata": {},
   "outputs": [],
   "source": [
    "xiang_filtered_np = xiang_filtered[\"AnnotationEnumerated\"].to_list()"
   ]
  },
  {
   "cell_type": "code",
   "execution_count": 19,
   "id": "d3840192-5618-4f6b-b0a7-a2896080db76",
   "metadata": {},
   "outputs": [],
   "source": [
    "#xiang_filtered_tensor = torch.tensor(xiang_filtered_np)\n",
    "#xiang_filtered_tensor = [torch.tensor(x, dtype=torch.long) for x in xiang_filtered_np]\n",
    "\n",
    "xiang_filtered_tensor = torch.tensor(xiang_filtered_np, dtype=torch.long)"
   ]
  },
  {
   "cell_type": "code",
   "execution_count": 20,
   "id": "3381c3ea-cfff-45fb-a76b-750e6a03c41f",
   "metadata": {},
   "outputs": [
    {
     "name": "stdout",
     "output_type": "stream",
     "text": [
      "x train len\n",
      "609\n",
      "y train len\n",
      "609\n"
     ]
    }
   ],
   "source": [
    "from sklearn.model_selection import train_test_split\n",
    "\n",
    "x_train_tensor, x_test_tensor, y_train_tensor, y_test_tensor = train_test_split(\n",
    "    xiang_embeddings,\n",
    "    xiang_filtered_tensor,\n",
    "    test_size = 0.2,\n",
    "    random_state=1,\n",
    "    stratify=xiang_filtered_tensor\n",
    ")\n",
    "\n",
    "mu, sigma = x_train_tensor.mean(0), x_train_tensor.std(0) + 1e-9\n",
    "x_train_tensor = (x_train_tensor - mu) / sigma\n",
    "x_test_tensor = (x_test_tensor - mu) / sigma\n",
    "\n",
    "print(\"x train len\")\n",
    "print(len(x_train_tensor))\n",
    "print(\"y train len\")\n",
    "print(len(y_train_tensor))"
   ]
  },
  {
   "cell_type": "code",
   "execution_count": 21,
   "id": "7816dd75-6751-4157-b18e-1ae878b0b67e",
   "metadata": {},
   "outputs": [
    {
     "data": {
      "text/plain": [
       "'\\n            nn.BatchNorm1d(1024),\\n            nn.ReLU(),\\n            nn.Dropout(0.20),\\n            nn.Linear(1024, 512),\\n            nn.BatchNorm1d(512),\\n            nn.ReLU(),\\n            nn.Dropout(0.20),\\n            nn.Linear(512, 256),\\n            nn.BatchNorm1d(256),\\n            nn.ReLU(),\\n            nn.Dropout(0.20),\\n            nn.Linear(256,128),\\n            nn.BatchNorm1d(128),\\n            nn.ReLU(),\\n            nn.Dropout(0.20),\\n'"
      ]
     },
     "execution_count": 21,
     "metadata": {},
     "output_type": "execute_result"
    }
   ],
   "source": [
    "'''\n",
    "            nn.BatchNorm1d(1024),\n",
    "            nn.ReLU(),\n",
    "            nn.Dropout(0.20),\n",
    "            nn.Linear(1024, 512),\n",
    "            nn.BatchNorm1d(512),\n",
    "            nn.ReLU(),\n",
    "            nn.Dropout(0.20),\n",
    "            nn.Linear(512, 256),\n",
    "            nn.BatchNorm1d(256),\n",
    "            nn.ReLU(),\n",
    "            nn.Dropout(0.20),\n",
    "            nn.Linear(256,128),\n",
    "            nn.BatchNorm1d(128),\n",
    "            nn.ReLU(),\n",
    "            nn.Dropout(0.20),\n",
    "'''"
   ]
  },
  {
   "cell_type": "code",
   "execution_count": 22,
   "id": "83e0f7cb-0087-4662-b77f-df9aba92a86f",
   "metadata": {},
   "outputs": [
    {
     "data": {
      "text/plain": [
       "1536"
      ]
     },
     "execution_count": 22,
     "metadata": {},
     "output_type": "execute_result"
    }
   ],
   "source": [
    "xiang_embeddings[0].shape[0]"
   ]
  },
  {
   "cell_type": "code",
   "execution_count": 23,
   "id": "b328f76c-0a94-4c6d-a64f-83ccc7e1cef3",
   "metadata": {},
   "outputs": [
    {
     "data": {
      "text/plain": [
       "\"\\nclass kr_predict(nn.Module):\\n    def __init__(self):\\n        super(kr_predict, self).__init__()\\n        self.hidden = nn.Sequential(\\n            nn.Linear(1536, 512),     # Slightly wider first layer\\n            nn.ReLU(),\\n            nn.Dropout(0.3),\\n            nn.Linear(512, 256),\\n            nn.ReLU(), \\n            nn.Dropout(0.3),\\n            nn.Linear(256, 128),\\n            nn.ReLU(),\\n            nn.Dropout(0.3),\\n        )\\n        self.out = nn.Linear(128, 9)\\n    def forward(self, x):\\n        #x = x.view(x.size(0), -1) # flatten so we're removing - modified so its done w/ squeeze\\n        x = self.hidden(x)\\n        x = self.out(x)\\n        return x \\n\""
      ]
     },
     "execution_count": 23,
     "metadata": {},
     "output_type": "execute_result"
    }
   ],
   "source": [
    "\n",
    "#add dropout_rate. ==\n",
    "class kr_predict(nn.Module):\n",
    "    def __init__(self):\n",
    "        super(kr_predict, self).__init__()\n",
    "        self.hidden = nn.Sequential(\n",
    "            nn.Linear(xiang_embeddings[0].shape[0], 512),\n",
    "            nn.ReLU(),\n",
    "            nn.Dropout(0.25),\n",
    "            nn.Linear(512,256),\n",
    "            nn.ReLU(),\n",
    "            nn.Dropout(0.25),\n",
    "        )\n",
    "        self.out = nn.Linear(256, 6)\n",
    "    def forward(self, x):\n",
    "        #x = x.view(x.size(0), -1) # flatten so we're removing \n",
    "        x = self.hidden(x)\n",
    "        x = self.out(x)\n",
    "        return x      \n",
    "\n",
    "\n",
    "\n",
    "'''\n",
    "class kr_predict(nn.Module):\n",
    "    def __init__(self):\n",
    "        super(kr_predict, self).__init__()\n",
    "        self.hidden = nn.Sequential(\n",
    "            nn.Linear(1536, 512),     # Slightly wider first layer\n",
    "            nn.ReLU(),\n",
    "            nn.Dropout(0.3),\n",
    "            nn.Linear(512, 256),\n",
    "            nn.ReLU(), \n",
    "            nn.Dropout(0.3),\n",
    "            nn.Linear(256, 128),\n",
    "            nn.ReLU(),\n",
    "            nn.Dropout(0.3),\n",
    "        )\n",
    "        self.out = nn.Linear(128, 9)\n",
    "    def forward(self, x):\n",
    "        #x = x.view(x.size(0), -1) # flatten so we're removing - modified so its done w/ squeeze\n",
    "        x = self.hidden(x)\n",
    "        x = self.out(x)\n",
    "        return x \n",
    "'''"
   ]
  },
  {
   "cell_type": "code",
   "execution_count": 24,
   "id": "5a00eb36-0622-48c1-8dbb-b56e7af922ae",
   "metadata": {},
   "outputs": [],
   "source": [
    "#xiang_embeddings[0].shape[1]"
   ]
  },
  {
   "cell_type": "code",
   "execution_count": 25,
   "id": "f739fd18-85c3-4fbf-9c4b-5c9f2c9ea679",
   "metadata": {},
   "outputs": [],
   "source": [
    "model = kr_predict()"
   ]
  },
  {
   "cell_type": "code",
   "execution_count": 26,
   "id": "8445ce44-1803-4d4d-9532-688a86bb9be3",
   "metadata": {},
   "outputs": [
    {
     "name": "stdout",
     "output_type": "stream",
     "text": [
      "MPS is available! Using Apple Silicon GPU.\n"
     ]
    }
   ],
   "source": [
    "#apple silicon\n",
    "\n",
    "device = torch.device(\"mps\" if torch.backends.mps.is_available() else \"cpu\")\n",
    "model.to(device)\n",
    "\n",
    "if torch.backends.mps.is_available():\n",
    "    print(\"MPS is available! Using Apple Silicon GPU.\")\n",
    "else:\n",
    "    print(\"MPS is not available. CPU Fallback.\")"
   ]
  },
  {
   "cell_type": "code",
   "execution_count": 27,
   "id": "a66cf423-d732-42ac-9313-f96d6a559536",
   "metadata": {},
   "outputs": [
    {
     "name": "stdout",
     "output_type": "stream",
     "text": [
      "{'A': 0, 'A2': 1, 'B': 2, 'B2': 3, 'C': 4, 'C2': 5}\n",
      "Class distribution: Counter({2: 220, 0: 209, 4: 60, 1: 48, 3: 47, 5: 25})\n"
     ]
    }
   ],
   "source": [
    "adam = optim.Adam(model.parameters(), lr = .00001)\n",
    "from collections import Counter\n",
    "class_counts = Counter(y_train_tensor.numpy())\n",
    "print(annotation_enumerated)\n",
    "print(\"Class distribution:\", class_counts)\n",
    "\n",
    "total_samples = sum(class_counts.values())\n",
    "class_weights = []\n",
    "num_classes = 6\n",
    "\n",
    "class_weights = torch.tensor([\n",
    "    total_samples / (num_classes * class_counts.get(i, 1)) for i in range(num_classes)\n",
    "], dtype=torch.float32).to(device)\n",
    "\n",
    "loss = nn.CrossEntropyLoss(weight=class_weights.to(device))\n",
    "\n",
    "#scheduler = optim.lr_scheduler.CosineAnnealingLR(adam, T_max=50)\n",
    "scheduler = optim.lr_scheduler.StepLR(adam, step_size=800, gamma=0.01)\n"
   ]
  },
  {
   "cell_type": "code",
   "execution_count": 28,
   "id": "7e51b714-86c7-4626-8024-b73e81da520f",
   "metadata": {},
   "outputs": [
    {
     "data": {
      "text/plain": [
       "tensor([[-1.5227,  0.9893,  0.2192,  ...,  0.4820, -1.9236, -1.0971],\n",
       "        [-1.3116, -0.2845,  0.2853,  ..., -0.0022, -0.5067, -1.3764],\n",
       "        [ 0.0956,  0.5331, -0.4776,  ...,  0.0907, -0.6712, -0.6231],\n",
       "        ...,\n",
       "        [-0.6686, -1.7276,  1.0562,  ...,  0.5973,  0.0724,  0.1752],\n",
       "        [-0.5390, -0.9106, -0.3598,  ...,  0.2842,  1.0649,  0.1721],\n",
       "        [ 0.3013,  1.0376, -0.4498,  ...,  0.5709,  0.6860,  0.2495]])"
      ]
     },
     "execution_count": 28,
     "metadata": {},
     "output_type": "execute_result"
    }
   ],
   "source": [
    "x_train_tensor"
   ]
  },
  {
   "cell_type": "code",
   "execution_count": 29,
   "id": "7b757d8f-1ad6-4375-9b9c-776b4e1e4351",
   "metadata": {},
   "outputs": [],
   "source": [
    "x_train_tensor = x_train_tensor\n",
    "y_train_tensor = (y_train_tensor).long()"
   ]
  },
  {
   "cell_type": "code",
   "execution_count": 30,
   "id": "439a3de1-c37b-4c48-8ae6-e990c862bbb4",
   "metadata": {},
   "outputs": [
    {
     "name": "stdout",
     "output_type": "stream",
     "text": [
      "tensor([2, 3, 0, 2, 0, 2, 2, 0, 4, 5, 0, 4, 0, 2, 2, 2, 3, 5, 0, 2, 2, 1, 0, 2,\n",
      "        2, 1, 2, 1, 4, 0, 3, 2, 0, 0, 0, 0, 0, 5, 5, 0, 0, 3, 4, 1, 1, 2, 2, 4,\n",
      "        2, 0, 3, 2, 0, 0, 2, 2, 2, 2, 5, 0, 0, 0, 0, 2, 4, 2, 4, 2, 2, 0, 0, 0,\n",
      "        2, 2, 1, 3, 2, 0, 1, 2, 3, 2, 2, 2, 0, 2, 2, 0, 0, 0, 5, 0, 0, 0, 0, 0,\n",
      "        2, 2, 5, 0, 3, 2, 0, 1, 0, 2, 2, 0, 2, 0, 0, 0, 3, 2, 2, 0, 2, 3, 2, 2,\n",
      "        0, 2, 0, 2, 0, 0, 2, 0, 2, 0, 3, 0, 0, 0, 0, 1, 2, 0, 0, 0, 4, 0, 2, 2,\n",
      "        1, 2, 2, 0, 2, 2, 0, 2, 2, 5, 2, 0, 1, 2, 2, 3, 3, 2, 0, 2, 2, 2, 1, 2,\n",
      "        0, 2, 4, 2, 2, 3, 0, 0, 3, 0, 2, 0, 4, 3, 4, 0, 0, 0, 2, 0, 0, 4, 2, 2,\n",
      "        2, 0, 0, 0, 1, 1, 0, 2, 0, 2, 3, 2, 0, 5, 0, 2, 1, 0, 0, 2, 5, 0, 2, 2,\n",
      "        0, 3, 2, 0, 2, 0, 2, 0, 0, 2, 3, 0, 0, 5, 1, 0, 0, 0, 0, 1, 0, 2, 2, 2,\n",
      "        4, 0, 0, 2, 0, 1, 1, 2, 2, 1, 4, 0, 2, 4, 0, 2, 0, 3, 2, 2, 2, 0, 2, 1,\n",
      "        2, 4, 2, 3, 2, 0, 3, 1, 1, 2, 4, 0, 3, 5, 0, 0, 0, 2, 0, 2, 5, 0, 0, 0,\n",
      "        3, 0, 2, 0, 2, 0, 0, 2, 1, 0, 1, 2, 2, 0, 0, 0, 2, 5, 2, 2, 4, 3, 4, 0,\n",
      "        1, 4, 0, 2, 2, 3, 0, 2, 4, 1, 2, 1, 0, 2, 0, 2, 2, 3, 1, 2, 0, 0, 1, 0,\n",
      "        5, 2, 2, 3, 2, 4, 3, 2, 0, 0, 0, 0, 0, 4, 2, 5, 4, 2, 2, 3, 1, 2, 0, 4,\n",
      "        0, 0, 2, 0, 0, 0, 0, 2, 2, 0, 4, 4, 2, 2, 2, 3, 0, 4, 4, 4, 3, 0, 2, 2,\n",
      "        2, 2, 4, 0, 2, 0, 4, 2, 5, 2, 0, 0, 3, 2, 0, 2, 1, 0, 0, 0, 2, 2, 2, 1,\n",
      "        0, 0, 2, 2, 0, 2, 2, 2, 2, 0, 1, 0, 2, 2, 0, 2, 1, 2, 0, 1, 2, 2, 2, 0,\n",
      "        2, 0, 5, 4, 2, 0, 0, 2, 2, 2, 2, 4, 5, 1, 4, 3, 2, 4, 3, 2, 5, 2, 4, 4,\n",
      "        3, 1, 2, 2, 0, 0, 0, 5, 2, 3, 0, 2, 0, 2, 0, 2, 2, 4, 2, 2, 4, 5, 2, 0,\n",
      "        2, 3, 0, 4, 4, 1, 0, 2, 4, 1, 2, 4, 2, 0, 2, 1, 0, 2, 4, 2, 1, 0, 3, 2,\n",
      "        2, 2, 0, 2, 0, 2, 3, 0, 3, 0, 0, 1, 2, 1, 2, 4, 2, 0, 0, 0, 2, 2, 4, 0,\n",
      "        0, 0, 1, 0, 2, 0, 0, 0, 0, 3, 5, 2, 0, 0, 4, 2, 2, 2, 4, 0, 2, 4, 0, 0,\n",
      "        0, 0, 0, 1, 4, 2, 0, 3, 2, 2, 0, 2, 2, 2, 5, 2, 0, 0, 4, 0, 0, 0, 0, 2,\n",
      "        4, 2, 2, 1, 0, 2, 2, 2, 2, 2, 5, 4, 3, 2, 2, 4, 3, 2, 2, 3, 4, 0, 0, 4,\n",
      "        4, 4, 0, 2, 1, 0, 4, 3, 0])\n"
     ]
    }
   ],
   "source": [
    "print(y_train_tensor)"
   ]
  },
  {
   "cell_type": "code",
   "execution_count": null,
   "id": "ee771f30-5dc8-4821-b246-96615405be54",
   "metadata": {},
   "outputs": [],
   "source": []
  },
  {
   "cell_type": "code",
   "execution_count": 31,
   "id": "77d12c22-8333-41b5-8084-3d35cf1f9ea5",
   "metadata": {},
   "outputs": [
    {
     "name": "stderr",
     "output_type": "stream",
     "text": [
      "Epoch 1: 100%|█████████████████████████████████████████████████████████████████████████████████████████████████████████████████| 76/76 [00:02<00:00, 26.43it/s]\n"
     ]
    },
    {
     "name": "stdout",
     "output_type": "stream",
     "text": [
      "Epoch 1: Loss: 1.7656\n"
     ]
    },
    {
     "name": "stderr",
     "output_type": "stream",
     "text": [
      "Epoch 2: 100%|████████████████████████████████████████████████████████████████████████████████████████████████████████████████| 76/76 [00:00<00:00, 271.38it/s]\n"
     ]
    },
    {
     "name": "stdout",
     "output_type": "stream",
     "text": [
      "Epoch 2: Loss: 1.6913\n"
     ]
    },
    {
     "name": "stderr",
     "output_type": "stream",
     "text": [
      "Epoch 3: 100%|████████████████████████████████████████████████████████████████████████████████████████████████████████████████| 76/76 [00:00<00:00, 283.81it/s]\n"
     ]
    },
    {
     "name": "stdout",
     "output_type": "stream",
     "text": [
      "Epoch 3: Loss: 1.6215\n"
     ]
    },
    {
     "name": "stderr",
     "output_type": "stream",
     "text": [
      "Epoch 4: 100%|████████████████████████████████████████████████████████████████████████████████████████████████████████████████| 76/76 [00:00<00:00, 302.06it/s]\n"
     ]
    },
    {
     "name": "stdout",
     "output_type": "stream",
     "text": [
      "Epoch 4: Loss: 1.5439\n"
     ]
    },
    {
     "name": "stderr",
     "output_type": "stream",
     "text": [
      "Epoch 5: 100%|████████████████████████████████████████████████████████████████████████████████████████████████████████████████| 76/76 [00:00<00:00, 250.45it/s]\n"
     ]
    },
    {
     "name": "stdout",
     "output_type": "stream",
     "text": [
      "Epoch 5: Loss: 1.4975\n"
     ]
    },
    {
     "name": "stderr",
     "output_type": "stream",
     "text": [
      "Epoch 6: 100%|████████████████████████████████████████████████████████████████████████████████████████████████████████████████| 76/76 [00:00<00:00, 274.55it/s]\n"
     ]
    },
    {
     "name": "stdout",
     "output_type": "stream",
     "text": [
      "Epoch 6: Loss: 1.4454\n"
     ]
    },
    {
     "name": "stderr",
     "output_type": "stream",
     "text": [
      "Epoch 7: 100%|████████████████████████████████████████████████████████████████████████████████████████████████████████████████| 76/76 [00:00<00:00, 306.26it/s]\n"
     ]
    },
    {
     "name": "stdout",
     "output_type": "stream",
     "text": [
      "Epoch 7: Loss: 1.3818\n"
     ]
    },
    {
     "name": "stderr",
     "output_type": "stream",
     "text": [
      "Epoch 8: 100%|████████████████████████████████████████████████████████████████████████████████████████████████████████████████| 76/76 [00:00<00:00, 247.41it/s]\n"
     ]
    },
    {
     "name": "stdout",
     "output_type": "stream",
     "text": [
      "Epoch 8: Loss: 1.3506\n"
     ]
    },
    {
     "name": "stderr",
     "output_type": "stream",
     "text": [
      "Epoch 9: 100%|████████████████████████████████████████████████████████████████████████████████████████████████████████████████| 76/76 [00:00<00:00, 224.46it/s]\n"
     ]
    },
    {
     "name": "stdout",
     "output_type": "stream",
     "text": [
      "Epoch 9: Loss: 1.2803\n"
     ]
    },
    {
     "name": "stderr",
     "output_type": "stream",
     "text": [
      "Epoch 10: 100%|███████████████████████████████████████████████████████████████████████████████████████████████████████████████| 76/76 [00:00<00:00, 240.25it/s]\n"
     ]
    },
    {
     "name": "stdout",
     "output_type": "stream",
     "text": [
      "Epoch 10: Loss: 1.2259\n"
     ]
    },
    {
     "name": "stderr",
     "output_type": "stream",
     "text": [
      "Epoch 11: 100%|███████████████████████████████████████████████████████████████████████████████████████████████████████████████| 76/76 [00:00<00:00, 276.55it/s]\n"
     ]
    },
    {
     "name": "stdout",
     "output_type": "stream",
     "text": [
      "Epoch 11: Loss: 1.1865\n"
     ]
    },
    {
     "name": "stderr",
     "output_type": "stream",
     "text": [
      "Epoch 12: 100%|███████████████████████████████████████████████████████████████████████████████████████████████████████████████| 76/76 [00:00<00:00, 295.65it/s]\n"
     ]
    },
    {
     "name": "stdout",
     "output_type": "stream",
     "text": [
      "Epoch 12: Loss: 1.1471\n"
     ]
    },
    {
     "name": "stderr",
     "output_type": "stream",
     "text": [
      "Epoch 13: 100%|███████████████████████████████████████████████████████████████████████████████████████████████████████████████| 76/76 [00:00<00:00, 281.19it/s]\n"
     ]
    },
    {
     "name": "stdout",
     "output_type": "stream",
     "text": [
      "Epoch 13: Loss: 1.0970\n"
     ]
    },
    {
     "name": "stderr",
     "output_type": "stream",
     "text": [
      "Epoch 14: 100%|███████████████████████████████████████████████████████████████████████████████████████████████████████████████| 76/76 [00:00<00:00, 290.36it/s]\n"
     ]
    },
    {
     "name": "stdout",
     "output_type": "stream",
     "text": [
      "Epoch 14: Loss: 1.0692\n"
     ]
    },
    {
     "name": "stderr",
     "output_type": "stream",
     "text": [
      "Epoch 15: 100%|███████████████████████████████████████████████████████████████████████████████████████████████████████████████| 76/76 [00:00<00:00, 294.91it/s]\n"
     ]
    },
    {
     "name": "stdout",
     "output_type": "stream",
     "text": [
      "Epoch 15: Loss: 1.0254\n"
     ]
    },
    {
     "name": "stderr",
     "output_type": "stream",
     "text": [
      "Epoch 16: 100%|███████████████████████████████████████████████████████████████████████████████████████████████████████████████| 76/76 [00:00<00:00, 296.73it/s]\n"
     ]
    },
    {
     "name": "stdout",
     "output_type": "stream",
     "text": [
      "Epoch 16: Loss: 0.9910\n"
     ]
    },
    {
     "name": "stderr",
     "output_type": "stream",
     "text": [
      "Epoch 17: 100%|███████████████████████████████████████████████████████████████████████████████████████████████████████████████| 76/76 [00:00<00:00, 284.32it/s]\n"
     ]
    },
    {
     "name": "stdout",
     "output_type": "stream",
     "text": [
      "Epoch 17: Loss: 0.9514\n"
     ]
    },
    {
     "name": "stderr",
     "output_type": "stream",
     "text": [
      "Epoch 18: 100%|███████████████████████████████████████████████████████████████████████████████████████████████████████████████| 76/76 [00:00<00:00, 258.32it/s]\n"
     ]
    },
    {
     "name": "stdout",
     "output_type": "stream",
     "text": [
      "Epoch 18: Loss: 0.9106\n"
     ]
    },
    {
     "name": "stderr",
     "output_type": "stream",
     "text": [
      "Epoch 19: 100%|███████████████████████████████████████████████████████████████████████████████████████████████████████████████| 76/76 [00:00<00:00, 203.51it/s]\n"
     ]
    },
    {
     "name": "stdout",
     "output_type": "stream",
     "text": [
      "Epoch 19: Loss: 0.8955\n"
     ]
    },
    {
     "name": "stderr",
     "output_type": "stream",
     "text": [
      "Epoch 20: 100%|███████████████████████████████████████████████████████████████████████████████████████████████████████████████| 76/76 [00:00<00:00, 221.96it/s]\n"
     ]
    },
    {
     "name": "stdout",
     "output_type": "stream",
     "text": [
      "Epoch 20: Loss: 0.8675\n"
     ]
    },
    {
     "name": "stderr",
     "output_type": "stream",
     "text": [
      "Epoch 21: 100%|███████████████████████████████████████████████████████████████████████████████████████████████████████████████| 76/76 [00:00<00:00, 251.79it/s]\n"
     ]
    },
    {
     "name": "stdout",
     "output_type": "stream",
     "text": [
      "Epoch 21: Loss: 0.8355\n"
     ]
    },
    {
     "name": "stderr",
     "output_type": "stream",
     "text": [
      "Epoch 22: 100%|███████████████████████████████████████████████████████████████████████████████████████████████████████████████| 76/76 [00:00<00:00, 229.87it/s]\n"
     ]
    },
    {
     "name": "stdout",
     "output_type": "stream",
     "text": [
      "Epoch 22: Loss: 0.8089\n"
     ]
    },
    {
     "name": "stderr",
     "output_type": "stream",
     "text": [
      "Epoch 23: 100%|███████████████████████████████████████████████████████████████████████████████████████████████████████████████| 76/76 [00:00<00:00, 182.41it/s]\n"
     ]
    },
    {
     "name": "stdout",
     "output_type": "stream",
     "text": [
      "Epoch 23: Loss: 0.7746\n"
     ]
    },
    {
     "name": "stderr",
     "output_type": "stream",
     "text": [
      "Epoch 24: 100%|███████████████████████████████████████████████████████████████████████████████████████████████████████████████| 76/76 [00:00<00:00, 261.24it/s]\n"
     ]
    },
    {
     "name": "stdout",
     "output_type": "stream",
     "text": [
      "Epoch 24: Loss: 0.7590\n"
     ]
    },
    {
     "name": "stderr",
     "output_type": "stream",
     "text": [
      "Epoch 25: 100%|███████████████████████████████████████████████████████████████████████████████████████████████████████████████| 76/76 [00:00<00:00, 259.62it/s]\n"
     ]
    },
    {
     "name": "stdout",
     "output_type": "stream",
     "text": [
      "Epoch 25: Loss: 0.7335\n"
     ]
    },
    {
     "name": "stderr",
     "output_type": "stream",
     "text": [
      "Epoch 26: 100%|███████████████████████████████████████████████████████████████████████████████████████████████████████████████| 76/76 [00:00<00:00, 220.14it/s]\n"
     ]
    },
    {
     "name": "stdout",
     "output_type": "stream",
     "text": [
      "Epoch 26: Loss: 0.7115\n"
     ]
    },
    {
     "name": "stderr",
     "output_type": "stream",
     "text": [
      "Epoch 27: 100%|███████████████████████████████████████████████████████████████████████████████████████████████████████████████| 76/76 [00:00<00:00, 246.67it/s]\n"
     ]
    },
    {
     "name": "stdout",
     "output_type": "stream",
     "text": [
      "Epoch 27: Loss: 0.6785\n"
     ]
    },
    {
     "name": "stderr",
     "output_type": "stream",
     "text": [
      "Epoch 28: 100%|███████████████████████████████████████████████████████████████████████████████████████████████████████████████| 76/76 [00:00<00:00, 253.98it/s]\n"
     ]
    },
    {
     "name": "stdout",
     "output_type": "stream",
     "text": [
      "Epoch 28: Loss: 0.6817\n"
     ]
    },
    {
     "name": "stderr",
     "output_type": "stream",
     "text": [
      "Epoch 29: 100%|███████████████████████████████████████████████████████████████████████████████████████████████████████████████| 76/76 [00:00<00:00, 277.55it/s]\n"
     ]
    },
    {
     "name": "stdout",
     "output_type": "stream",
     "text": [
      "Epoch 29: Loss: 0.6493\n"
     ]
    },
    {
     "name": "stderr",
     "output_type": "stream",
     "text": [
      "Epoch 30: 100%|███████████████████████████████████████████████████████████████████████████████████████████████████████████████| 76/76 [00:00<00:00, 282.57it/s]\n"
     ]
    },
    {
     "name": "stdout",
     "output_type": "stream",
     "text": [
      "Epoch 30: Loss: 0.6372\n"
     ]
    },
    {
     "name": "stderr",
     "output_type": "stream",
     "text": [
      "Epoch 31: 100%|███████████████████████████████████████████████████████████████████████████████████████████████████████████████| 76/76 [00:00<00:00, 254.00it/s]\n"
     ]
    },
    {
     "name": "stdout",
     "output_type": "stream",
     "text": [
      "Epoch 31: Loss: 0.6056\n"
     ]
    },
    {
     "name": "stderr",
     "output_type": "stream",
     "text": [
      "Epoch 32: 100%|███████████████████████████████████████████████████████████████████████████████████████████████████████████████| 76/76 [00:00<00:00, 266.60it/s]\n"
     ]
    },
    {
     "name": "stdout",
     "output_type": "stream",
     "text": [
      "Epoch 32: Loss: 0.6022\n"
     ]
    },
    {
     "name": "stderr",
     "output_type": "stream",
     "text": [
      "Epoch 33: 100%|███████████████████████████████████████████████████████████████████████████████████████████████████████████████| 76/76 [00:00<00:00, 293.08it/s]\n"
     ]
    },
    {
     "name": "stdout",
     "output_type": "stream",
     "text": [
      "Epoch 33: Loss: 0.5712\n"
     ]
    },
    {
     "name": "stderr",
     "output_type": "stream",
     "text": [
      "Epoch 34: 100%|███████████████████████████████████████████████████████████████████████████████████████████████████████████████| 76/76 [00:00<00:00, 308.79it/s]\n"
     ]
    },
    {
     "name": "stdout",
     "output_type": "stream",
     "text": [
      "Epoch 34: Loss: 0.5719\n"
     ]
    },
    {
     "name": "stderr",
     "output_type": "stream",
     "text": [
      "Epoch 35: 100%|███████████████████████████████████████████████████████████████████████████████████████████████████████████████| 76/76 [00:00<00:00, 298.85it/s]\n"
     ]
    },
    {
     "name": "stdout",
     "output_type": "stream",
     "text": [
      "Epoch 35: Loss: 0.5662\n"
     ]
    },
    {
     "name": "stderr",
     "output_type": "stream",
     "text": [
      "Epoch 36: 100%|███████████████████████████████████████████████████████████████████████████████████████████████████████████████| 76/76 [00:00<00:00, 274.63it/s]\n"
     ]
    },
    {
     "name": "stdout",
     "output_type": "stream",
     "text": [
      "Epoch 36: Loss: 0.5579\n"
     ]
    },
    {
     "name": "stderr",
     "output_type": "stream",
     "text": [
      "Epoch 37: 100%|███████████████████████████████████████████████████████████████████████████████████████████████████████████████| 76/76 [00:00<00:00, 300.26it/s]\n"
     ]
    },
    {
     "name": "stdout",
     "output_type": "stream",
     "text": [
      "Epoch 37: Loss: 0.5315\n"
     ]
    },
    {
     "name": "stderr",
     "output_type": "stream",
     "text": [
      "Epoch 38: 100%|███████████████████████████████████████████████████████████████████████████████████████████████████████████████| 76/76 [00:00<00:00, 302.26it/s]\n"
     ]
    },
    {
     "name": "stdout",
     "output_type": "stream",
     "text": [
      "Epoch 38: Loss: 0.5059\n"
     ]
    },
    {
     "name": "stderr",
     "output_type": "stream",
     "text": [
      "Epoch 39: 100%|███████████████████████████████████████████████████████████████████████████████████████████████████████████████| 76/76 [00:00<00:00, 303.87it/s]\n"
     ]
    },
    {
     "name": "stdout",
     "output_type": "stream",
     "text": [
      "Epoch 39: Loss: 0.5038\n"
     ]
    },
    {
     "name": "stderr",
     "output_type": "stream",
     "text": [
      "Epoch 40: 100%|███████████████████████████████████████████████████████████████████████████████████████████████████████████████| 76/76 [00:00<00:00, 313.11it/s]\n"
     ]
    },
    {
     "name": "stdout",
     "output_type": "stream",
     "text": [
      "Epoch 40: Loss: 0.5017\n"
     ]
    },
    {
     "name": "stderr",
     "output_type": "stream",
     "text": [
      "Epoch 41: 100%|███████████████████████████████████████████████████████████████████████████████████████████████████████████████| 76/76 [00:00<00:00, 274.34it/s]\n"
     ]
    },
    {
     "name": "stdout",
     "output_type": "stream",
     "text": [
      "Epoch 41: Loss: 0.4845\n"
     ]
    },
    {
     "name": "stderr",
     "output_type": "stream",
     "text": [
      "Epoch 42: 100%|███████████████████████████████████████████████████████████████████████████████████████████████████████████████| 76/76 [00:00<00:00, 283.97it/s]\n"
     ]
    },
    {
     "name": "stdout",
     "output_type": "stream",
     "text": [
      "Epoch 42: Loss: 0.4595\n"
     ]
    },
    {
     "name": "stderr",
     "output_type": "stream",
     "text": [
      "Epoch 43: 100%|███████████████████████████████████████████████████████████████████████████████████████████████████████████████| 76/76 [00:00<00:00, 293.45it/s]\n"
     ]
    },
    {
     "name": "stdout",
     "output_type": "stream",
     "text": [
      "Epoch 43: Loss: 0.4498\n"
     ]
    },
    {
     "name": "stderr",
     "output_type": "stream",
     "text": [
      "Epoch 44: 100%|███████████████████████████████████████████████████████████████████████████████████████████████████████████████| 76/76 [00:00<00:00, 305.28it/s]\n"
     ]
    },
    {
     "name": "stdout",
     "output_type": "stream",
     "text": [
      "Epoch 44: Loss: 0.4514\n"
     ]
    },
    {
     "name": "stderr",
     "output_type": "stream",
     "text": [
      "Epoch 45: 100%|███████████████████████████████████████████████████████████████████████████████████████████████████████████████| 76/76 [00:00<00:00, 309.60it/s]\n"
     ]
    },
    {
     "name": "stdout",
     "output_type": "stream",
     "text": [
      "Epoch 45: Loss: 0.4330\n"
     ]
    },
    {
     "name": "stderr",
     "output_type": "stream",
     "text": [
      "Epoch 46: 100%|███████████████████████████████████████████████████████████████████████████████████████████████████████████████| 76/76 [00:00<00:00, 288.52it/s]\n"
     ]
    },
    {
     "name": "stdout",
     "output_type": "stream",
     "text": [
      "Epoch 46: Loss: 0.4363\n"
     ]
    },
    {
     "name": "stderr",
     "output_type": "stream",
     "text": [
      "Epoch 47: 100%|███████████████████████████████████████████████████████████████████████████████████████████████████████████████| 76/76 [00:00<00:00, 301.16it/s]\n"
     ]
    },
    {
     "name": "stdout",
     "output_type": "stream",
     "text": [
      "Epoch 47: Loss: 0.4256\n"
     ]
    },
    {
     "name": "stderr",
     "output_type": "stream",
     "text": [
      "Epoch 48: 100%|███████████████████████████████████████████████████████████████████████████████████████████████████████████████| 76/76 [00:00<00:00, 304.87it/s]\n"
     ]
    },
    {
     "name": "stdout",
     "output_type": "stream",
     "text": [
      "Epoch 48: Loss: 0.4020\n"
     ]
    },
    {
     "name": "stderr",
     "output_type": "stream",
     "text": [
      "Epoch 49: 100%|███████████████████████████████████████████████████████████████████████████████████████████████████████████████| 76/76 [00:00<00:00, 291.12it/s]\n"
     ]
    },
    {
     "name": "stdout",
     "output_type": "stream",
     "text": [
      "Epoch 49: Loss: 0.3929\n"
     ]
    },
    {
     "name": "stderr",
     "output_type": "stream",
     "text": [
      "Epoch 50: 100%|███████████████████████████████████████████████████████████████████████████████████████████████████████████████| 76/76 [00:00<00:00, 293.89it/s]\n"
     ]
    },
    {
     "name": "stdout",
     "output_type": "stream",
     "text": [
      "Epoch 50: Loss: 0.3889\n"
     ]
    },
    {
     "name": "stderr",
     "output_type": "stream",
     "text": [
      "Epoch 51: 100%|███████████████████████████████████████████████████████████████████████████████████████████████████████████████| 76/76 [00:00<00:00, 280.44it/s]\n"
     ]
    },
    {
     "name": "stdout",
     "output_type": "stream",
     "text": [
      "Epoch 51: Loss: 0.3730\n"
     ]
    },
    {
     "name": "stderr",
     "output_type": "stream",
     "text": [
      "Epoch 52: 100%|███████████████████████████████████████████████████████████████████████████████████████████████████████████████| 76/76 [00:00<00:00, 299.95it/s]\n"
     ]
    },
    {
     "name": "stdout",
     "output_type": "stream",
     "text": [
      "Epoch 52: Loss: 0.3650\n"
     ]
    },
    {
     "name": "stderr",
     "output_type": "stream",
     "text": [
      "Epoch 53: 100%|███████████████████████████████████████████████████████████████████████████████████████████████████████████████| 76/76 [00:00<00:00, 301.60it/s]\n"
     ]
    },
    {
     "name": "stdout",
     "output_type": "stream",
     "text": [
      "Epoch 53: Loss: 0.3598\n"
     ]
    },
    {
     "name": "stderr",
     "output_type": "stream",
     "text": [
      "Epoch 54: 100%|███████████████████████████████████████████████████████████████████████████████████████████████████████████████| 76/76 [00:00<00:00, 301.07it/s]\n"
     ]
    },
    {
     "name": "stdout",
     "output_type": "stream",
     "text": [
      "Epoch 54: Loss: 0.3726\n"
     ]
    },
    {
     "name": "stderr",
     "output_type": "stream",
     "text": [
      "Epoch 55: 100%|███████████████████████████████████████████████████████████████████████████████████████████████████████████████| 76/76 [00:00<00:00, 300.80it/s]\n"
     ]
    },
    {
     "name": "stdout",
     "output_type": "stream",
     "text": [
      "Epoch 55: Loss: 0.3387\n"
     ]
    },
    {
     "name": "stderr",
     "output_type": "stream",
     "text": [
      "Epoch 56: 100%|███████████████████████████████████████████████████████████████████████████████████████████████████████████████| 76/76 [00:00<00:00, 305.91it/s]\n"
     ]
    },
    {
     "name": "stdout",
     "output_type": "stream",
     "text": [
      "Epoch 56: Loss: 0.3356\n"
     ]
    },
    {
     "name": "stderr",
     "output_type": "stream",
     "text": [
      "Epoch 57: 100%|███████████████████████████████████████████████████████████████████████████████████████████████████████████████| 76/76 [00:00<00:00, 301.15it/s]\n"
     ]
    },
    {
     "name": "stdout",
     "output_type": "stream",
     "text": [
      "Epoch 57: Loss: 0.3306\n"
     ]
    },
    {
     "name": "stderr",
     "output_type": "stream",
     "text": [
      "Epoch 58: 100%|███████████████████████████████████████████████████████████████████████████████████████████████████████████████| 76/76 [00:00<00:00, 300.18it/s]\n"
     ]
    },
    {
     "name": "stdout",
     "output_type": "stream",
     "text": [
      "Epoch 58: Loss: 0.3204\n"
     ]
    },
    {
     "name": "stderr",
     "output_type": "stream",
     "text": [
      "Epoch 59: 100%|███████████████████████████████████████████████████████████████████████████████████████████████████████████████| 76/76 [00:00<00:00, 283.63it/s]\n"
     ]
    },
    {
     "name": "stdout",
     "output_type": "stream",
     "text": [
      "Epoch 59: Loss: 0.3171\n"
     ]
    },
    {
     "name": "stderr",
     "output_type": "stream",
     "text": [
      "Epoch 60: 100%|███████████████████████████████████████████████████████████████████████████████████████████████████████████████| 76/76 [00:00<00:00, 298.01it/s]\n"
     ]
    },
    {
     "name": "stdout",
     "output_type": "stream",
     "text": [
      "Epoch 60: Loss: 0.3123\n"
     ]
    },
    {
     "name": "stderr",
     "output_type": "stream",
     "text": [
      "Epoch 61: 100%|███████████████████████████████████████████████████████████████████████████████████████████████████████████████| 76/76 [00:00<00:00, 303.62it/s]\n"
     ]
    },
    {
     "name": "stdout",
     "output_type": "stream",
     "text": [
      "Epoch 61: Loss: 0.2974\n"
     ]
    },
    {
     "name": "stderr",
     "output_type": "stream",
     "text": [
      "Epoch 62: 100%|███████████████████████████████████████████████████████████████████████████████████████████████████████████████| 76/76 [00:00<00:00, 300.37it/s]\n"
     ]
    },
    {
     "name": "stdout",
     "output_type": "stream",
     "text": [
      "Epoch 62: Loss: 0.2974\n"
     ]
    },
    {
     "name": "stderr",
     "output_type": "stream",
     "text": [
      "Epoch 63: 100%|███████████████████████████████████████████████████████████████████████████████████████████████████████████████| 76/76 [00:00<00:00, 290.31it/s]\n"
     ]
    },
    {
     "name": "stdout",
     "output_type": "stream",
     "text": [
      "Epoch 63: Loss: 0.2997\n"
     ]
    },
    {
     "name": "stderr",
     "output_type": "stream",
     "text": [
      "Epoch 64: 100%|███████████████████████████████████████████████████████████████████████████████████████████████████████████████| 76/76 [00:00<00:00, 308.95it/s]\n"
     ]
    },
    {
     "name": "stdout",
     "output_type": "stream",
     "text": [
      "Epoch 64: Loss: 0.2800\n"
     ]
    },
    {
     "name": "stderr",
     "output_type": "stream",
     "text": [
      "Epoch 65: 100%|███████████████████████████████████████████████████████████████████████████████████████████████████████████████| 76/76 [00:00<00:00, 270.82it/s]\n"
     ]
    },
    {
     "name": "stdout",
     "output_type": "stream",
     "text": [
      "Epoch 65: Loss: 0.2784\n"
     ]
    },
    {
     "name": "stderr",
     "output_type": "stream",
     "text": [
      "Epoch 66: 100%|███████████████████████████████████████████████████████████████████████████████████████████████████████████████| 76/76 [00:00<00:00, 236.91it/s]\n"
     ]
    },
    {
     "name": "stdout",
     "output_type": "stream",
     "text": [
      "Epoch 66: Loss: 0.2795\n"
     ]
    },
    {
     "name": "stderr",
     "output_type": "stream",
     "text": [
      "Epoch 67: 100%|███████████████████████████████████████████████████████████████████████████████████████████████████████████████| 76/76 [00:00<00:00, 286.86it/s]\n"
     ]
    },
    {
     "name": "stdout",
     "output_type": "stream",
     "text": [
      "Epoch 67: Loss: 0.2527\n"
     ]
    },
    {
     "name": "stderr",
     "output_type": "stream",
     "text": [
      "Epoch 68: 100%|███████████████████████████████████████████████████████████████████████████████████████████████████████████████| 76/76 [00:00<00:00, 294.18it/s]\n"
     ]
    },
    {
     "name": "stdout",
     "output_type": "stream",
     "text": [
      "Epoch 68: Loss: 0.2623\n"
     ]
    },
    {
     "name": "stderr",
     "output_type": "stream",
     "text": [
      "Epoch 69: 100%|███████████████████████████████████████████████████████████████████████████████████████████████████████████████| 76/76 [00:00<00:00, 283.66it/s]\n"
     ]
    },
    {
     "name": "stdout",
     "output_type": "stream",
     "text": [
      "Epoch 69: Loss: 0.2609\n"
     ]
    },
    {
     "name": "stderr",
     "output_type": "stream",
     "text": [
      "Epoch 70: 100%|███████████████████████████████████████████████████████████████████████████████████████████████████████████████| 76/76 [00:00<00:00, 277.33it/s]\n"
     ]
    },
    {
     "name": "stdout",
     "output_type": "stream",
     "text": [
      "Epoch 70: Loss: 0.2415\n"
     ]
    },
    {
     "name": "stderr",
     "output_type": "stream",
     "text": [
      "Epoch 71: 100%|███████████████████████████████████████████████████████████████████████████████████████████████████████████████| 76/76 [00:00<00:00, 283.49it/s]\n"
     ]
    },
    {
     "name": "stdout",
     "output_type": "stream",
     "text": [
      "Epoch 71: Loss: 0.2366\n"
     ]
    },
    {
     "name": "stderr",
     "output_type": "stream",
     "text": [
      "Epoch 72: 100%|███████████████████████████████████████████████████████████████████████████████████████████████████████████████| 76/76 [00:00<00:00, 272.03it/s]\n"
     ]
    },
    {
     "name": "stdout",
     "output_type": "stream",
     "text": [
      "Epoch 72: Loss: 0.2263\n"
     ]
    },
    {
     "name": "stderr",
     "output_type": "stream",
     "text": [
      "Epoch 73: 100%|███████████████████████████████████████████████████████████████████████████████████████████████████████████████| 76/76 [00:00<00:00, 280.46it/s]\n"
     ]
    },
    {
     "name": "stdout",
     "output_type": "stream",
     "text": [
      "Epoch 73: Loss: 0.2233\n"
     ]
    },
    {
     "name": "stderr",
     "output_type": "stream",
     "text": [
      "Epoch 74: 100%|███████████████████████████████████████████████████████████████████████████████████████████████████████████████| 76/76 [00:00<00:00, 263.41it/s]\n"
     ]
    },
    {
     "name": "stdout",
     "output_type": "stream",
     "text": [
      "Epoch 74: Loss: 0.2060\n"
     ]
    },
    {
     "name": "stderr",
     "output_type": "stream",
     "text": [
      "Epoch 75: 100%|███████████████████████████████████████████████████████████████████████████████████████████████████████████████| 76/76 [00:00<00:00, 288.66it/s]\n"
     ]
    },
    {
     "name": "stdout",
     "output_type": "stream",
     "text": [
      "Epoch 75: Loss: 0.2038\n"
     ]
    },
    {
     "name": "stderr",
     "output_type": "stream",
     "text": [
      "Epoch 76: 100%|███████████████████████████████████████████████████████████████████████████████████████████████████████████████| 76/76 [00:00<00:00, 283.76it/s]\n"
     ]
    },
    {
     "name": "stdout",
     "output_type": "stream",
     "text": [
      "Epoch 76: Loss: 0.2114\n"
     ]
    },
    {
     "name": "stderr",
     "output_type": "stream",
     "text": [
      "Epoch 77: 100%|███████████████████████████████████████████████████████████████████████████████████████████████████████████████| 76/76 [00:00<00:00, 281.66it/s]\n"
     ]
    },
    {
     "name": "stdout",
     "output_type": "stream",
     "text": [
      "Epoch 77: Loss: 0.2056\n"
     ]
    },
    {
     "name": "stderr",
     "output_type": "stream",
     "text": [
      "Epoch 78: 100%|███████████████████████████████████████████████████████████████████████████████████████████████████████████████| 76/76 [00:00<00:00, 273.79it/s]\n"
     ]
    },
    {
     "name": "stdout",
     "output_type": "stream",
     "text": [
      "Epoch 78: Loss: 0.2083\n"
     ]
    },
    {
     "name": "stderr",
     "output_type": "stream",
     "text": [
      "Epoch 79: 100%|███████████████████████████████████████████████████████████████████████████████████████████████████████████████| 76/76 [00:00<00:00, 280.62it/s]\n"
     ]
    },
    {
     "name": "stdout",
     "output_type": "stream",
     "text": [
      "Epoch 79: Loss: 0.1902\n"
     ]
    },
    {
     "name": "stderr",
     "output_type": "stream",
     "text": [
      "Epoch 80: 100%|███████████████████████████████████████████████████████████████████████████████████████████████████████████████| 76/76 [00:00<00:00, 286.79it/s]\n"
     ]
    },
    {
     "name": "stdout",
     "output_type": "stream",
     "text": [
      "Epoch 80: Loss: 0.1957\n"
     ]
    },
    {
     "name": "stderr",
     "output_type": "stream",
     "text": [
      "Epoch 81: 100%|███████████████████████████████████████████████████████████████████████████████████████████████████████████████| 76/76 [00:00<00:00, 276.34it/s]\n"
     ]
    },
    {
     "name": "stdout",
     "output_type": "stream",
     "text": [
      "Epoch 81: Loss: 0.1855\n"
     ]
    },
    {
     "name": "stderr",
     "output_type": "stream",
     "text": [
      "Epoch 82: 100%|███████████████████████████████████████████████████████████████████████████████████████████████████████████████| 76/76 [00:00<00:00, 283.46it/s]\n"
     ]
    },
    {
     "name": "stdout",
     "output_type": "stream",
     "text": [
      "Epoch 82: Loss: 0.1807\n"
     ]
    },
    {
     "name": "stderr",
     "output_type": "stream",
     "text": [
      "Epoch 83: 100%|███████████████████████████████████████████████████████████████████████████████████████████████████████████████| 76/76 [00:00<00:00, 295.91it/s]\n"
     ]
    },
    {
     "name": "stdout",
     "output_type": "stream",
     "text": [
      "Epoch 83: Loss: 0.1729\n"
     ]
    },
    {
     "name": "stderr",
     "output_type": "stream",
     "text": [
      "Epoch 84: 100%|███████████████████████████████████████████████████████████████████████████████████████████████████████████████| 76/76 [00:00<00:00, 253.43it/s]\n"
     ]
    },
    {
     "name": "stdout",
     "output_type": "stream",
     "text": [
      "Epoch 84: Loss: 0.1770\n"
     ]
    },
    {
     "name": "stderr",
     "output_type": "stream",
     "text": [
      "Epoch 85: 100%|███████████████████████████████████████████████████████████████████████████████████████████████████████████████| 76/76 [00:00<00:00, 277.23it/s]\n"
     ]
    },
    {
     "name": "stdout",
     "output_type": "stream",
     "text": [
      "Epoch 85: Loss: 0.1642\n"
     ]
    },
    {
     "name": "stderr",
     "output_type": "stream",
     "text": [
      "Epoch 86: 100%|███████████████████████████████████████████████████████████████████████████████████████████████████████████████| 76/76 [00:00<00:00, 281.78it/s]\n"
     ]
    },
    {
     "name": "stdout",
     "output_type": "stream",
     "text": [
      "Epoch 86: Loss: 0.1705\n"
     ]
    },
    {
     "name": "stderr",
     "output_type": "stream",
     "text": [
      "Epoch 87: 100%|███████████████████████████████████████████████████████████████████████████████████████████████████████████████| 76/76 [00:00<00:00, 276.34it/s]\n"
     ]
    },
    {
     "name": "stdout",
     "output_type": "stream",
     "text": [
      "Epoch 87: Loss: 0.1607\n"
     ]
    },
    {
     "name": "stderr",
     "output_type": "stream",
     "text": [
      "Epoch 88: 100%|███████████████████████████████████████████████████████████████████████████████████████████████████████████████| 76/76 [00:00<00:00, 283.65it/s]\n"
     ]
    },
    {
     "name": "stdout",
     "output_type": "stream",
     "text": [
      "Epoch 88: Loss: 0.1769\n"
     ]
    },
    {
     "name": "stderr",
     "output_type": "stream",
     "text": [
      "Epoch 89: 100%|███████████████████████████████████████████████████████████████████████████████████████████████████████████████| 76/76 [00:00<00:00, 283.78it/s]\n"
     ]
    },
    {
     "name": "stdout",
     "output_type": "stream",
     "text": [
      "Epoch 89: Loss: 0.1510\n"
     ]
    },
    {
     "name": "stderr",
     "output_type": "stream",
     "text": [
      "Epoch 90: 100%|███████████████████████████████████████████████████████████████████████████████████████████████████████████████| 76/76 [00:00<00:00, 277.32it/s]\n"
     ]
    },
    {
     "name": "stdout",
     "output_type": "stream",
     "text": [
      "Epoch 90: Loss: 0.1407\n"
     ]
    },
    {
     "name": "stderr",
     "output_type": "stream",
     "text": [
      "Epoch 91: 100%|███████████████████████████████████████████████████████████████████████████████████████████████████████████████| 76/76 [00:00<00:00, 282.59it/s]\n"
     ]
    },
    {
     "name": "stdout",
     "output_type": "stream",
     "text": [
      "Epoch 91: Loss: 0.1554\n"
     ]
    },
    {
     "name": "stderr",
     "output_type": "stream",
     "text": [
      "Epoch 92: 100%|███████████████████████████████████████████████████████████████████████████████████████████████████████████████| 76/76 [00:00<00:00, 283.19it/s]\n"
     ]
    },
    {
     "name": "stdout",
     "output_type": "stream",
     "text": [
      "Epoch 92: Loss: 0.1439\n"
     ]
    },
    {
     "name": "stderr",
     "output_type": "stream",
     "text": [
      "Epoch 93: 100%|███████████████████████████████████████████████████████████████████████████████████████████████████████████████| 76/76 [00:00<00:00, 267.47it/s]\n"
     ]
    },
    {
     "name": "stdout",
     "output_type": "stream",
     "text": [
      "Epoch 93: Loss: 0.1542\n"
     ]
    },
    {
     "name": "stderr",
     "output_type": "stream",
     "text": [
      "Epoch 94: 100%|███████████████████████████████████████████████████████████████████████████████████████████████████████████████| 76/76 [00:00<00:00, 274.95it/s]\n"
     ]
    },
    {
     "name": "stdout",
     "output_type": "stream",
     "text": [
      "Epoch 94: Loss: 0.1525\n"
     ]
    },
    {
     "name": "stderr",
     "output_type": "stream",
     "text": [
      "Epoch 95: 100%|███████████████████████████████████████████████████████████████████████████████████████████████████████████████| 76/76 [00:00<00:00, 273.46it/s]\n"
     ]
    },
    {
     "name": "stdout",
     "output_type": "stream",
     "text": [
      "Epoch 95: Loss: 0.1459\n"
     ]
    },
    {
     "name": "stderr",
     "output_type": "stream",
     "text": [
      "Epoch 96: 100%|███████████████████████████████████████████████████████████████████████████████████████████████████████████████| 76/76 [00:00<00:00, 268.58it/s]\n"
     ]
    },
    {
     "name": "stdout",
     "output_type": "stream",
     "text": [
      "Epoch 96: Loss: 0.1359\n"
     ]
    },
    {
     "name": "stderr",
     "output_type": "stream",
     "text": [
      "Epoch 97: 100%|███████████████████████████████████████████████████████████████████████████████████████████████████████████████| 76/76 [00:00<00:00, 203.85it/s]\n"
     ]
    },
    {
     "name": "stdout",
     "output_type": "stream",
     "text": [
      "Epoch 97: Loss: 0.1355\n"
     ]
    },
    {
     "name": "stderr",
     "output_type": "stream",
     "text": [
      "Epoch 98: 100%|███████████████████████████████████████████████████████████████████████████████████████████████████████████████| 76/76 [00:00<00:00, 235.15it/s]\n"
     ]
    },
    {
     "name": "stdout",
     "output_type": "stream",
     "text": [
      "Epoch 98: Loss: 0.1220\n"
     ]
    },
    {
     "name": "stderr",
     "output_type": "stream",
     "text": [
      "Epoch 99: 100%|███████████████████████████████████████████████████████████████████████████████████████████████████████████████| 76/76 [00:00<00:00, 269.54it/s]\n"
     ]
    },
    {
     "name": "stdout",
     "output_type": "stream",
     "text": [
      "Epoch 99: Loss: 0.1259\n"
     ]
    },
    {
     "name": "stderr",
     "output_type": "stream",
     "text": [
      "Epoch 100: 100%|██████████████████████████████████████████████████████████████████████████████████████████████████████████████| 76/76 [00:00<00:00, 199.18it/s]\n"
     ]
    },
    {
     "name": "stdout",
     "output_type": "stream",
     "text": [
      "Epoch 100: Loss: 0.1295\n"
     ]
    },
    {
     "name": "stderr",
     "output_type": "stream",
     "text": [
      "Epoch 101: 100%|██████████████████████████████████████████████████████████████████████████████████████████████████████████████| 76/76 [00:00<00:00, 210.46it/s]\n"
     ]
    },
    {
     "name": "stdout",
     "output_type": "stream",
     "text": [
      "Epoch 101: Loss: 0.1221\n"
     ]
    },
    {
     "name": "stderr",
     "output_type": "stream",
     "text": [
      "Epoch 102: 100%|██████████████████████████████████████████████████████████████████████████████████████████████████████████████| 76/76 [00:00<00:00, 214.14it/s]\n"
     ]
    },
    {
     "name": "stdout",
     "output_type": "stream",
     "text": [
      "Epoch 102: Loss: 0.1191\n"
     ]
    },
    {
     "name": "stderr",
     "output_type": "stream",
     "text": [
      "Epoch 103: 100%|██████████████████████████████████████████████████████████████████████████████████████████████████████████████| 76/76 [00:00<00:00, 231.37it/s]\n"
     ]
    },
    {
     "name": "stdout",
     "output_type": "stream",
     "text": [
      "Epoch 103: Loss: 0.1077\n"
     ]
    },
    {
     "name": "stderr",
     "output_type": "stream",
     "text": [
      "Epoch 104: 100%|██████████████████████████████████████████████████████████████████████████████████████████████████████████████| 76/76 [00:00<00:00, 176.36it/s]\n"
     ]
    },
    {
     "name": "stdout",
     "output_type": "stream",
     "text": [
      "Epoch 104: Loss: 0.1099\n"
     ]
    },
    {
     "name": "stderr",
     "output_type": "stream",
     "text": [
      "Epoch 105: 100%|██████████████████████████████████████████████████████████████████████████████████████████████████████████████| 76/76 [00:00<00:00, 164.60it/s]\n"
     ]
    },
    {
     "name": "stdout",
     "output_type": "stream",
     "text": [
      "Epoch 105: Loss: 0.1118\n"
     ]
    },
    {
     "name": "stderr",
     "output_type": "stream",
     "text": [
      "Epoch 106: 100%|██████████████████████████████████████████████████████████████████████████████████████████████████████████████| 76/76 [00:00<00:00, 189.11it/s]\n"
     ]
    },
    {
     "name": "stdout",
     "output_type": "stream",
     "text": [
      "Epoch 106: Loss: 0.1096\n"
     ]
    },
    {
     "name": "stderr",
     "output_type": "stream",
     "text": [
      "Epoch 107: 100%|██████████████████████████████████████████████████████████████████████████████████████████████████████████████| 76/76 [00:00<00:00, 196.47it/s]\n"
     ]
    },
    {
     "name": "stdout",
     "output_type": "stream",
     "text": [
      "Epoch 107: Loss: 0.1058\n"
     ]
    },
    {
     "name": "stderr",
     "output_type": "stream",
     "text": [
      "Epoch 108: 100%|██████████████████████████████████████████████████████████████████████████████████████████████████████████████| 76/76 [00:00<00:00, 180.99it/s]\n"
     ]
    },
    {
     "name": "stdout",
     "output_type": "stream",
     "text": [
      "Epoch 108: Loss: 0.1024\n"
     ]
    },
    {
     "name": "stderr",
     "output_type": "stream",
     "text": [
      "Epoch 109: 100%|██████████████████████████████████████████████████████████████████████████████████████████████████████████████| 76/76 [00:00<00:00, 221.95it/s]\n"
     ]
    },
    {
     "name": "stdout",
     "output_type": "stream",
     "text": [
      "Epoch 109: Loss: 0.0982\n"
     ]
    },
    {
     "name": "stderr",
     "output_type": "stream",
     "text": [
      "Epoch 110: 100%|██████████████████████████████████████████████████████████████████████████████████████████████████████████████| 76/76 [00:00<00:00, 277.41it/s]\n"
     ]
    },
    {
     "name": "stdout",
     "output_type": "stream",
     "text": [
      "Epoch 110: Loss: 0.1006\n"
     ]
    },
    {
     "name": "stderr",
     "output_type": "stream",
     "text": [
      "Epoch 111: 100%|██████████████████████████████████████████████████████████████████████████████████████████████████████████████| 76/76 [00:00<00:00, 199.63it/s]\n"
     ]
    },
    {
     "name": "stdout",
     "output_type": "stream",
     "text": [
      "Epoch 111: Loss: 0.0934\n"
     ]
    },
    {
     "name": "stderr",
     "output_type": "stream",
     "text": [
      "Epoch 112: 100%|██████████████████████████████████████████████████████████████████████████████████████████████████████████████| 76/76 [00:00<00:00, 216.72it/s]\n"
     ]
    },
    {
     "name": "stdout",
     "output_type": "stream",
     "text": [
      "Epoch 112: Loss: 0.0898\n"
     ]
    },
    {
     "name": "stderr",
     "output_type": "stream",
     "text": [
      "Epoch 113: 100%|██████████████████████████████████████████████████████████████████████████████████████████████████████████████| 76/76 [00:00<00:00, 273.05it/s]\n"
     ]
    },
    {
     "name": "stdout",
     "output_type": "stream",
     "text": [
      "Epoch 113: Loss: 0.0909\n"
     ]
    },
    {
     "name": "stderr",
     "output_type": "stream",
     "text": [
      "Epoch 114: 100%|██████████████████████████████████████████████████████████████████████████████████████████████████████████████| 76/76 [00:00<00:00, 248.33it/s]\n"
     ]
    },
    {
     "name": "stdout",
     "output_type": "stream",
     "text": [
      "Epoch 114: Loss: 0.0885\n"
     ]
    },
    {
     "name": "stderr",
     "output_type": "stream",
     "text": [
      "Epoch 115: 100%|██████████████████████████████████████████████████████████████████████████████████████████████████████████████| 76/76 [00:00<00:00, 229.92it/s]\n"
     ]
    },
    {
     "name": "stdout",
     "output_type": "stream",
     "text": [
      "Epoch 115: Loss: 0.0811\n"
     ]
    },
    {
     "name": "stderr",
     "output_type": "stream",
     "text": [
      "Epoch 116: 100%|██████████████████████████████████████████████████████████████████████████████████████████████████████████████| 76/76 [00:00<00:00, 270.71it/s]\n"
     ]
    },
    {
     "name": "stdout",
     "output_type": "stream",
     "text": [
      "Epoch 116: Loss: 0.0828\n"
     ]
    },
    {
     "name": "stderr",
     "output_type": "stream",
     "text": [
      "Epoch 117: 100%|██████████████████████████████████████████████████████████████████████████████████████████████████████████████| 76/76 [00:00<00:00, 297.75it/s]\n"
     ]
    },
    {
     "name": "stdout",
     "output_type": "stream",
     "text": [
      "Epoch 117: Loss: 0.0778\n"
     ]
    },
    {
     "name": "stderr",
     "output_type": "stream",
     "text": [
      "Epoch 118: 100%|██████████████████████████████████████████████████████████████████████████████████████████████████████████████| 76/76 [00:00<00:00, 293.60it/s]\n"
     ]
    },
    {
     "name": "stdout",
     "output_type": "stream",
     "text": [
      "Epoch 118: Loss: 0.0827\n"
     ]
    },
    {
     "name": "stderr",
     "output_type": "stream",
     "text": [
      "Epoch 119: 100%|██████████████████████████████████████████████████████████████████████████████████████████████████████████████| 76/76 [00:00<00:00, 301.32it/s]\n"
     ]
    },
    {
     "name": "stdout",
     "output_type": "stream",
     "text": [
      "Epoch 119: Loss: 0.0786\n"
     ]
    },
    {
     "name": "stderr",
     "output_type": "stream",
     "text": [
      "Epoch 120: 100%|██████████████████████████████████████████████████████████████████████████████████████████████████████████████| 76/76 [00:00<00:00, 267.53it/s]\n"
     ]
    },
    {
     "name": "stdout",
     "output_type": "stream",
     "text": [
      "Epoch 120: Loss: 0.0780\n"
     ]
    },
    {
     "name": "stderr",
     "output_type": "stream",
     "text": [
      "Epoch 121: 100%|██████████████████████████████████████████████████████████████████████████████████████████████████████████████| 76/76 [00:00<00:00, 295.16it/s]\n"
     ]
    },
    {
     "name": "stdout",
     "output_type": "stream",
     "text": [
      "Epoch 121: Loss: 0.0726\n"
     ]
    },
    {
     "name": "stderr",
     "output_type": "stream",
     "text": [
      "Epoch 122: 100%|██████████████████████████████████████████████████████████████████████████████████████████████████████████████| 76/76 [00:00<00:00, 297.36it/s]\n"
     ]
    },
    {
     "name": "stdout",
     "output_type": "stream",
     "text": [
      "Epoch 122: Loss: 0.0773\n"
     ]
    },
    {
     "name": "stderr",
     "output_type": "stream",
     "text": [
      "Epoch 123: 100%|██████████████████████████████████████████████████████████████████████████████████████████████████████████████| 76/76 [00:00<00:00, 286.39it/s]\n"
     ]
    },
    {
     "name": "stdout",
     "output_type": "stream",
     "text": [
      "Epoch 123: Loss: 0.0747\n"
     ]
    },
    {
     "name": "stderr",
     "output_type": "stream",
     "text": [
      "Epoch 124: 100%|██████████████████████████████████████████████████████████████████████████████████████████████████████████████| 76/76 [00:00<00:00, 302.15it/s]\n"
     ]
    },
    {
     "name": "stdout",
     "output_type": "stream",
     "text": [
      "Epoch 124: Loss: 0.0701\n"
     ]
    },
    {
     "name": "stderr",
     "output_type": "stream",
     "text": [
      "Epoch 125: 100%|██████████████████████████████████████████████████████████████████████████████████████████████████████████████| 76/76 [00:00<00:00, 185.79it/s]\n"
     ]
    },
    {
     "name": "stdout",
     "output_type": "stream",
     "text": [
      "Epoch 125: Loss: 0.0586\n"
     ]
    },
    {
     "name": "stderr",
     "output_type": "stream",
     "text": [
      "Epoch 126: 100%|██████████████████████████████████████████████████████████████████████████████████████████████████████████████| 76/76 [00:00<00:00, 221.08it/s]\n"
     ]
    },
    {
     "name": "stdout",
     "output_type": "stream",
     "text": [
      "Epoch 126: Loss: 0.0604\n"
     ]
    },
    {
     "name": "stderr",
     "output_type": "stream",
     "text": [
      "Epoch 127: 100%|██████████████████████████████████████████████████████████████████████████████████████████████████████████████| 76/76 [00:00<00:00, 253.07it/s]\n"
     ]
    },
    {
     "name": "stdout",
     "output_type": "stream",
     "text": [
      "Epoch 127: Loss: 0.0639\n"
     ]
    },
    {
     "name": "stderr",
     "output_type": "stream",
     "text": [
      "Epoch 128: 100%|██████████████████████████████████████████████████████████████████████████████████████████████████████████████| 76/76 [00:00<00:00, 217.96it/s]\n"
     ]
    },
    {
     "name": "stdout",
     "output_type": "stream",
     "text": [
      "Epoch 128: Loss: 0.0629\n"
     ]
    },
    {
     "name": "stderr",
     "output_type": "stream",
     "text": [
      "Epoch 129: 100%|██████████████████████████████████████████████████████████████████████████████████████████████████████████████| 76/76 [00:00<00:00, 235.85it/s]\n"
     ]
    },
    {
     "name": "stdout",
     "output_type": "stream",
     "text": [
      "Epoch 129: Loss: 0.0586\n"
     ]
    },
    {
     "name": "stderr",
     "output_type": "stream",
     "text": [
      "Epoch 130: 100%|██████████████████████████████████████████████████████████████████████████████████████████████████████████████| 76/76 [00:00<00:00, 271.86it/s]\n"
     ]
    },
    {
     "name": "stdout",
     "output_type": "stream",
     "text": [
      "Epoch 130: Loss: 0.0582\n"
     ]
    },
    {
     "name": "stderr",
     "output_type": "stream",
     "text": [
      "Epoch 131: 100%|██████████████████████████████████████████████████████████████████████████████████████████████████████████████| 76/76 [00:00<00:00, 246.36it/s]\n"
     ]
    },
    {
     "name": "stdout",
     "output_type": "stream",
     "text": [
      "Epoch 131: Loss: 0.0630\n"
     ]
    },
    {
     "name": "stderr",
     "output_type": "stream",
     "text": [
      "Epoch 132: 100%|██████████████████████████████████████████████████████████████████████████████████████████████████████████████| 76/76 [00:00<00:00, 225.46it/s]\n"
     ]
    },
    {
     "name": "stdout",
     "output_type": "stream",
     "text": [
      "Epoch 132: Loss: 0.0559\n"
     ]
    },
    {
     "name": "stderr",
     "output_type": "stream",
     "text": [
      "Epoch 133: 100%|██████████████████████████████████████████████████████████████████████████████████████████████████████████████| 76/76 [00:00<00:00, 274.75it/s]\n"
     ]
    },
    {
     "name": "stdout",
     "output_type": "stream",
     "text": [
      "Epoch 133: Loss: 0.0582\n"
     ]
    },
    {
     "name": "stderr",
     "output_type": "stream",
     "text": [
      "Epoch 134: 100%|██████████████████████████████████████████████████████████████████████████████████████████████████████████████| 76/76 [00:00<00:00, 281.26it/s]\n"
     ]
    },
    {
     "name": "stdout",
     "output_type": "stream",
     "text": [
      "Epoch 134: Loss: 0.0714\n"
     ]
    },
    {
     "name": "stderr",
     "output_type": "stream",
     "text": [
      "Epoch 135: 100%|██████████████████████████████████████████████████████████████████████████████████████████████████████████████| 76/76 [00:00<00:00, 290.41it/s]\n"
     ]
    },
    {
     "name": "stdout",
     "output_type": "stream",
     "text": [
      "Epoch 135: Loss: 0.0495\n"
     ]
    },
    {
     "name": "stderr",
     "output_type": "stream",
     "text": [
      "Epoch 136: 100%|██████████████████████████████████████████████████████████████████████████████████████████████████████████████| 76/76 [00:00<00:00, 300.57it/s]\n"
     ]
    },
    {
     "name": "stdout",
     "output_type": "stream",
     "text": [
      "Epoch 136: Loss: 0.0582\n"
     ]
    },
    {
     "name": "stderr",
     "output_type": "stream",
     "text": [
      "Epoch 137: 100%|██████████████████████████████████████████████████████████████████████████████████████████████████████████████| 76/76 [00:00<00:00, 248.75it/s]\n"
     ]
    },
    {
     "name": "stdout",
     "output_type": "stream",
     "text": [
      "Epoch 137: Loss: 0.0517\n"
     ]
    },
    {
     "name": "stderr",
     "output_type": "stream",
     "text": [
      "Epoch 138: 100%|██████████████████████████████████████████████████████████████████████████████████████████████████████████████| 76/76 [00:00<00:00, 265.32it/s]\n"
     ]
    },
    {
     "name": "stdout",
     "output_type": "stream",
     "text": [
      "Epoch 138: Loss: 0.0532\n"
     ]
    },
    {
     "name": "stderr",
     "output_type": "stream",
     "text": [
      "Epoch 139: 100%|██████████████████████████████████████████████████████████████████████████████████████████████████████████████| 76/76 [00:00<00:00, 221.91it/s]\n"
     ]
    },
    {
     "name": "stdout",
     "output_type": "stream",
     "text": [
      "Epoch 139: Loss: 0.0498\n"
     ]
    },
    {
     "name": "stderr",
     "output_type": "stream",
     "text": [
      "Epoch 140: 100%|██████████████████████████████████████████████████████████████████████████████████████████████████████████████| 76/76 [00:00<00:00, 262.79it/s]\n"
     ]
    },
    {
     "name": "stdout",
     "output_type": "stream",
     "text": [
      "Epoch 140: Loss: 0.0474\n"
     ]
    },
    {
     "name": "stderr",
     "output_type": "stream",
     "text": [
      "Epoch 141: 100%|██████████████████████████████████████████████████████████████████████████████████████████████████████████████| 76/76 [00:00<00:00, 279.77it/s]\n"
     ]
    },
    {
     "name": "stdout",
     "output_type": "stream",
     "text": [
      "Epoch 141: Loss: 0.0444\n"
     ]
    },
    {
     "name": "stderr",
     "output_type": "stream",
     "text": [
      "Epoch 142: 100%|██████████████████████████████████████████████████████████████████████████████████████████████████████████████| 76/76 [00:00<00:00, 260.12it/s]\n"
     ]
    },
    {
     "name": "stdout",
     "output_type": "stream",
     "text": [
      "Epoch 142: Loss: 0.0418\n"
     ]
    },
    {
     "name": "stderr",
     "output_type": "stream",
     "text": [
      "Epoch 143: 100%|██████████████████████████████████████████████████████████████████████████████████████████████████████████████| 76/76 [00:00<00:00, 202.02it/s]\n"
     ]
    },
    {
     "name": "stdout",
     "output_type": "stream",
     "text": [
      "Epoch 143: Loss: 0.0436\n"
     ]
    },
    {
     "name": "stderr",
     "output_type": "stream",
     "text": [
      "Epoch 144: 100%|██████████████████████████████████████████████████████████████████████████████████████████████████████████████| 76/76 [00:00<00:00, 265.61it/s]\n"
     ]
    },
    {
     "name": "stdout",
     "output_type": "stream",
     "text": [
      "Epoch 144: Loss: 0.0466\n"
     ]
    },
    {
     "name": "stderr",
     "output_type": "stream",
     "text": [
      "Epoch 145: 100%|██████████████████████████████████████████████████████████████████████████████████████████████████████████████| 76/76 [00:00<00:00, 264.62it/s]\n"
     ]
    },
    {
     "name": "stdout",
     "output_type": "stream",
     "text": [
      "Epoch 145: Loss: 0.0384\n"
     ]
    },
    {
     "name": "stderr",
     "output_type": "stream",
     "text": [
      "Epoch 146: 100%|██████████████████████████████████████████████████████████████████████████████████████████████████████████████| 76/76 [00:00<00:00, 264.78it/s]\n"
     ]
    },
    {
     "name": "stdout",
     "output_type": "stream",
     "text": [
      "Epoch 146: Loss: 0.0386\n"
     ]
    },
    {
     "name": "stderr",
     "output_type": "stream",
     "text": [
      "Epoch 147: 100%|██████████████████████████████████████████████████████████████████████████████████████████████████████████████| 76/76 [00:00<00:00, 280.79it/s]\n"
     ]
    },
    {
     "name": "stdout",
     "output_type": "stream",
     "text": [
      "Epoch 147: Loss: 0.0423\n"
     ]
    },
    {
     "name": "stderr",
     "output_type": "stream",
     "text": [
      "Epoch 148: 100%|██████████████████████████████████████████████████████████████████████████████████████████████████████████████| 76/76 [00:00<00:00, 271.34it/s]\n"
     ]
    },
    {
     "name": "stdout",
     "output_type": "stream",
     "text": [
      "Epoch 148: Loss: 0.0392\n"
     ]
    },
    {
     "name": "stderr",
     "output_type": "stream",
     "text": [
      "Epoch 149: 100%|██████████████████████████████████████████████████████████████████████████████████████████████████████████████| 76/76 [00:00<00:00, 253.98it/s]\n"
     ]
    },
    {
     "name": "stdout",
     "output_type": "stream",
     "text": [
      "Epoch 149: Loss: 0.0437\n"
     ]
    },
    {
     "name": "stderr",
     "output_type": "stream",
     "text": [
      "Epoch 150: 100%|██████████████████████████████████████████████████████████████████████████████████████████████████████████████| 76/76 [00:00<00:00, 223.29it/s]\n"
     ]
    },
    {
     "name": "stdout",
     "output_type": "stream",
     "text": [
      "Epoch 150: Loss: 0.0352\n"
     ]
    },
    {
     "name": "stderr",
     "output_type": "stream",
     "text": [
      "Epoch 151: 100%|██████████████████████████████████████████████████████████████████████████████████████████████████████████████| 76/76 [00:00<00:00, 193.57it/s]\n"
     ]
    },
    {
     "name": "stdout",
     "output_type": "stream",
     "text": [
      "Epoch 151: Loss: 0.0372\n"
     ]
    },
    {
     "name": "stderr",
     "output_type": "stream",
     "text": [
      "Epoch 152: 100%|██████████████████████████████████████████████████████████████████████████████████████████████████████████████| 76/76 [00:00<00:00, 183.43it/s]\n"
     ]
    },
    {
     "name": "stdout",
     "output_type": "stream",
     "text": [
      "Epoch 152: Loss: 0.0333\n"
     ]
    },
    {
     "name": "stderr",
     "output_type": "stream",
     "text": [
      "Epoch 153: 100%|██████████████████████████████████████████████████████████████████████████████████████████████████████████████| 76/76 [00:00<00:00, 164.02it/s]\n"
     ]
    },
    {
     "name": "stdout",
     "output_type": "stream",
     "text": [
      "Epoch 153: Loss: 0.0347\n"
     ]
    },
    {
     "name": "stderr",
     "output_type": "stream",
     "text": [
      "Epoch 154: 100%|██████████████████████████████████████████████████████████████████████████████████████████████████████████████| 76/76 [00:00<00:00, 222.85it/s]\n"
     ]
    },
    {
     "name": "stdout",
     "output_type": "stream",
     "text": [
      "Epoch 154: Loss: 0.0327\n"
     ]
    },
    {
     "name": "stderr",
     "output_type": "stream",
     "text": [
      "Epoch 155: 100%|██████████████████████████████████████████████████████████████████████████████████████████████████████████████| 76/76 [00:00<00:00, 265.97it/s]\n"
     ]
    },
    {
     "name": "stdout",
     "output_type": "stream",
     "text": [
      "Epoch 155: Loss: 0.0333\n"
     ]
    },
    {
     "name": "stderr",
     "output_type": "stream",
     "text": [
      "Epoch 156: 100%|██████████████████████████████████████████████████████████████████████████████████████████████████████████████| 76/76 [00:00<00:00, 225.78it/s]\n"
     ]
    },
    {
     "name": "stdout",
     "output_type": "stream",
     "text": [
      "Epoch 156: Loss: 0.0292\n"
     ]
    },
    {
     "name": "stderr",
     "output_type": "stream",
     "text": [
      "Epoch 157: 100%|██████████████████████████████████████████████████████████████████████████████████████████████████████████████| 76/76 [00:00<00:00, 192.15it/s]\n"
     ]
    },
    {
     "name": "stdout",
     "output_type": "stream",
     "text": [
      "Epoch 157: Loss: 0.0335\n"
     ]
    },
    {
     "name": "stderr",
     "output_type": "stream",
     "text": [
      "Epoch 158: 100%|██████████████████████████████████████████████████████████████████████████████████████████████████████████████| 76/76 [00:00<00:00, 195.99it/s]\n"
     ]
    },
    {
     "name": "stdout",
     "output_type": "stream",
     "text": [
      "Epoch 158: Loss: 0.0394\n"
     ]
    },
    {
     "name": "stderr",
     "output_type": "stream",
     "text": [
      "Epoch 159: 100%|██████████████████████████████████████████████████████████████████████████████████████████████████████████████| 76/76 [00:00<00:00, 200.11it/s]\n"
     ]
    },
    {
     "name": "stdout",
     "output_type": "stream",
     "text": [
      "Epoch 159: Loss: 0.0284\n"
     ]
    },
    {
     "name": "stderr",
     "output_type": "stream",
     "text": [
      "Epoch 160: 100%|██████████████████████████████████████████████████████████████████████████████████████████████████████████████| 76/76 [00:00<00:00, 193.62it/s]\n"
     ]
    },
    {
     "name": "stdout",
     "output_type": "stream",
     "text": [
      "Epoch 160: Loss: 0.0254\n"
     ]
    },
    {
     "name": "stderr",
     "output_type": "stream",
     "text": [
      "Epoch 161: 100%|██████████████████████████████████████████████████████████████████████████████████████████████████████████████| 76/76 [00:00<00:00, 241.17it/s]\n"
     ]
    },
    {
     "name": "stdout",
     "output_type": "stream",
     "text": [
      "Epoch 161: Loss: 0.0349\n"
     ]
    },
    {
     "name": "stderr",
     "output_type": "stream",
     "text": [
      "Epoch 162: 100%|██████████████████████████████████████████████████████████████████████████████████████████████████████████████| 76/76 [00:00<00:00, 284.76it/s]\n"
     ]
    },
    {
     "name": "stdout",
     "output_type": "stream",
     "text": [
      "Epoch 162: Loss: 0.0342\n"
     ]
    },
    {
     "name": "stderr",
     "output_type": "stream",
     "text": [
      "Epoch 163: 100%|██████████████████████████████████████████████████████████████████████████████████████████████████████████████| 76/76 [00:00<00:00, 194.60it/s]\n"
     ]
    },
    {
     "name": "stdout",
     "output_type": "stream",
     "text": [
      "Epoch 163: Loss: 0.0266\n"
     ]
    },
    {
     "name": "stderr",
     "output_type": "stream",
     "text": [
      "Epoch 164: 100%|██████████████████████████████████████████████████████████████████████████████████████████████████████████████| 76/76 [00:00<00:00, 176.09it/s]\n"
     ]
    },
    {
     "name": "stdout",
     "output_type": "stream",
     "text": [
      "Epoch 164: Loss: 0.0256\n"
     ]
    },
    {
     "name": "stderr",
     "output_type": "stream",
     "text": [
      "Epoch 165: 100%|██████████████████████████████████████████████████████████████████████████████████████████████████████████████| 76/76 [00:00<00:00, 213.83it/s]\n"
     ]
    },
    {
     "name": "stdout",
     "output_type": "stream",
     "text": [
      "Epoch 165: Loss: 0.0330\n"
     ]
    },
    {
     "name": "stderr",
     "output_type": "stream",
     "text": [
      "Epoch 166: 100%|██████████████████████████████████████████████████████████████████████████████████████████████████████████████| 76/76 [00:00<00:00, 262.97it/s]\n"
     ]
    },
    {
     "name": "stdout",
     "output_type": "stream",
     "text": [
      "Epoch 166: Loss: 0.0236\n"
     ]
    },
    {
     "name": "stderr",
     "output_type": "stream",
     "text": [
      "Epoch 167: 100%|██████████████████████████████████████████████████████████████████████████████████████████████████████████████| 76/76 [00:00<00:00, 279.85it/s]\n"
     ]
    },
    {
     "name": "stdout",
     "output_type": "stream",
     "text": [
      "Epoch 167: Loss: 0.0281\n"
     ]
    },
    {
     "name": "stderr",
     "output_type": "stream",
     "text": [
      "Epoch 168: 100%|██████████████████████████████████████████████████████████████████████████████████████████████████████████████| 76/76 [00:00<00:00, 256.87it/s]\n"
     ]
    },
    {
     "name": "stdout",
     "output_type": "stream",
     "text": [
      "Epoch 168: Loss: 0.0246\n"
     ]
    },
    {
     "name": "stderr",
     "output_type": "stream",
     "text": [
      "Epoch 169: 100%|██████████████████████████████████████████████████████████████████████████████████████████████████████████████| 76/76 [00:00<00:00, 283.47it/s]\n"
     ]
    },
    {
     "name": "stdout",
     "output_type": "stream",
     "text": [
      "Epoch 169: Loss: 0.0214\n"
     ]
    },
    {
     "name": "stderr",
     "output_type": "stream",
     "text": [
      "Epoch 170: 100%|██████████████████████████████████████████████████████████████████████████████████████████████████████████████| 76/76 [00:00<00:00, 246.05it/s]\n"
     ]
    },
    {
     "name": "stdout",
     "output_type": "stream",
     "text": [
      "Epoch 170: Loss: 0.0308\n"
     ]
    },
    {
     "name": "stderr",
     "output_type": "stream",
     "text": [
      "Epoch 171: 100%|██████████████████████████████████████████████████████████████████████████████████████████████████████████████| 76/76 [00:00<00:00, 216.36it/s]\n"
     ]
    },
    {
     "name": "stdout",
     "output_type": "stream",
     "text": [
      "Epoch 171: Loss: 0.0241\n"
     ]
    },
    {
     "name": "stderr",
     "output_type": "stream",
     "text": [
      "Epoch 172: 100%|██████████████████████████████████████████████████████████████████████████████████████████████████████████████| 76/76 [00:00<00:00, 253.32it/s]\n"
     ]
    },
    {
     "name": "stdout",
     "output_type": "stream",
     "text": [
      "Epoch 172: Loss: 0.0251\n"
     ]
    },
    {
     "name": "stderr",
     "output_type": "stream",
     "text": [
      "Epoch 173: 100%|██████████████████████████████████████████████████████████████████████████████████████████████████████████████| 76/76 [00:00<00:00, 262.30it/s]\n"
     ]
    },
    {
     "name": "stdout",
     "output_type": "stream",
     "text": [
      "Epoch 173: Loss: 0.0192\n"
     ]
    },
    {
     "name": "stderr",
     "output_type": "stream",
     "text": [
      "Epoch 174: 100%|██████████████████████████████████████████████████████████████████████████████████████████████████████████████| 76/76 [00:00<00:00, 246.25it/s]\n"
     ]
    },
    {
     "name": "stdout",
     "output_type": "stream",
     "text": [
      "Epoch 174: Loss: 0.0195\n"
     ]
    },
    {
     "name": "stderr",
     "output_type": "stream",
     "text": [
      "Epoch 175: 100%|██████████████████████████████████████████████████████████████████████████████████████████████████████████████| 76/76 [00:00<00:00, 224.94it/s]\n"
     ]
    },
    {
     "name": "stdout",
     "output_type": "stream",
     "text": [
      "Epoch 175: Loss: 0.0253\n"
     ]
    },
    {
     "name": "stderr",
     "output_type": "stream",
     "text": [
      "Epoch 176: 100%|██████████████████████████████████████████████████████████████████████████████████████████████████████████████| 76/76 [00:00<00:00, 259.56it/s]\n"
     ]
    },
    {
     "name": "stdout",
     "output_type": "stream",
     "text": [
      "Epoch 176: Loss: 0.0216\n"
     ]
    },
    {
     "name": "stderr",
     "output_type": "stream",
     "text": [
      "Epoch 177: 100%|██████████████████████████████████████████████████████████████████████████████████████████████████████████████| 76/76 [00:00<00:00, 268.40it/s]\n"
     ]
    },
    {
     "name": "stdout",
     "output_type": "stream",
     "text": [
      "Epoch 177: Loss: 0.0239\n"
     ]
    },
    {
     "name": "stderr",
     "output_type": "stream",
     "text": [
      "Epoch 178: 100%|██████████████████████████████████████████████████████████████████████████████████████████████████████████████| 76/76 [00:00<00:00, 219.18it/s]\n"
     ]
    },
    {
     "name": "stdout",
     "output_type": "stream",
     "text": [
      "Epoch 178: Loss: 0.0189\n"
     ]
    },
    {
     "name": "stderr",
     "output_type": "stream",
     "text": [
      "Epoch 179: 100%|██████████████████████████████████████████████████████████████████████████████████████████████████████████████| 76/76 [00:00<00:00, 225.16it/s]\n"
     ]
    },
    {
     "name": "stdout",
     "output_type": "stream",
     "text": [
      "Epoch 179: Loss: 0.0179\n"
     ]
    },
    {
     "name": "stderr",
     "output_type": "stream",
     "text": [
      "Epoch 180: 100%|██████████████████████████████████████████████████████████████████████████████████████████████████████████████| 76/76 [00:00<00:00, 286.55it/s]\n"
     ]
    },
    {
     "name": "stdout",
     "output_type": "stream",
     "text": [
      "Epoch 180: Loss: 0.0225\n"
     ]
    },
    {
     "name": "stderr",
     "output_type": "stream",
     "text": [
      "Epoch 181: 100%|██████████████████████████████████████████████████████████████████████████████████████████████████████████████| 76/76 [00:00<00:00, 265.33it/s]\n"
     ]
    },
    {
     "name": "stdout",
     "output_type": "stream",
     "text": [
      "Epoch 181: Loss: 0.0173\n"
     ]
    },
    {
     "name": "stderr",
     "output_type": "stream",
     "text": [
      "Epoch 182: 100%|██████████████████████████████████████████████████████████████████████████████████████████████████████████████| 76/76 [00:00<00:00, 230.34it/s]\n"
     ]
    },
    {
     "name": "stdout",
     "output_type": "stream",
     "text": [
      "Epoch 182: Loss: 0.0258\n"
     ]
    },
    {
     "name": "stderr",
     "output_type": "stream",
     "text": [
      "Epoch 183: 100%|██████████████████████████████████████████████████████████████████████████████████████████████████████████████| 76/76 [00:00<00:00, 263.32it/s]\n"
     ]
    },
    {
     "name": "stdout",
     "output_type": "stream",
     "text": [
      "Epoch 183: Loss: 0.0229\n"
     ]
    },
    {
     "name": "stderr",
     "output_type": "stream",
     "text": [
      "Epoch 184: 100%|██████████████████████████████████████████████████████████████████████████████████████████████████████████████| 76/76 [00:00<00:00, 218.00it/s]\n"
     ]
    },
    {
     "name": "stdout",
     "output_type": "stream",
     "text": [
      "Epoch 184: Loss: 0.0204\n"
     ]
    },
    {
     "name": "stderr",
     "output_type": "stream",
     "text": [
      "Epoch 185: 100%|██████████████████████████████████████████████████████████████████████████████████████████████████████████████| 76/76 [00:00<00:00, 221.15it/s]\n"
     ]
    },
    {
     "name": "stdout",
     "output_type": "stream",
     "text": [
      "Epoch 185: Loss: 0.0168\n"
     ]
    },
    {
     "name": "stderr",
     "output_type": "stream",
     "text": [
      "Epoch 186: 100%|██████████████████████████████████████████████████████████████████████████████████████████████████████████████| 76/76 [00:00<00:00, 213.72it/s]\n"
     ]
    },
    {
     "name": "stdout",
     "output_type": "stream",
     "text": [
      "Epoch 186: Loss: 0.0184\n"
     ]
    },
    {
     "name": "stderr",
     "output_type": "stream",
     "text": [
      "Epoch 187: 100%|██████████████████████████████████████████████████████████████████████████████████████████████████████████████| 76/76 [00:00<00:00, 238.98it/s]\n"
     ]
    },
    {
     "name": "stdout",
     "output_type": "stream",
     "text": [
      "Epoch 187: Loss: 0.0166\n"
     ]
    },
    {
     "name": "stderr",
     "output_type": "stream",
     "text": [
      "Epoch 188: 100%|██████████████████████████████████████████████████████████████████████████████████████████████████████████████| 76/76 [00:00<00:00, 240.10it/s]\n"
     ]
    },
    {
     "name": "stdout",
     "output_type": "stream",
     "text": [
      "Epoch 188: Loss: 0.0183\n"
     ]
    },
    {
     "name": "stderr",
     "output_type": "stream",
     "text": [
      "Epoch 189: 100%|██████████████████████████████████████████████████████████████████████████████████████████████████████████████| 76/76 [00:00<00:00, 242.69it/s]\n"
     ]
    },
    {
     "name": "stdout",
     "output_type": "stream",
     "text": [
      "Epoch 189: Loss: 0.0221\n"
     ]
    },
    {
     "name": "stderr",
     "output_type": "stream",
     "text": [
      "Epoch 190: 100%|██████████████████████████████████████████████████████████████████████████████████████████████████████████████| 76/76 [00:00<00:00, 238.63it/s]\n"
     ]
    },
    {
     "name": "stdout",
     "output_type": "stream",
     "text": [
      "Epoch 190: Loss: 0.0195\n"
     ]
    },
    {
     "name": "stderr",
     "output_type": "stream",
     "text": [
      "Epoch 191: 100%|██████████████████████████████████████████████████████████████████████████████████████████████████████████████| 76/76 [00:00<00:00, 267.64it/s]\n"
     ]
    },
    {
     "name": "stdout",
     "output_type": "stream",
     "text": [
      "Epoch 191: Loss: 0.0155\n"
     ]
    },
    {
     "name": "stderr",
     "output_type": "stream",
     "text": [
      "Epoch 192: 100%|██████████████████████████████████████████████████████████████████████████████████████████████████████████████| 76/76 [00:00<00:00, 273.46it/s]\n"
     ]
    },
    {
     "name": "stdout",
     "output_type": "stream",
     "text": [
      "Epoch 192: Loss: 0.0169\n"
     ]
    },
    {
     "name": "stderr",
     "output_type": "stream",
     "text": [
      "Epoch 193: 100%|██████████████████████████████████████████████████████████████████████████████████████████████████████████████| 76/76 [00:00<00:00, 274.64it/s]\n"
     ]
    },
    {
     "name": "stdout",
     "output_type": "stream",
     "text": [
      "Epoch 193: Loss: 0.0122\n"
     ]
    },
    {
     "name": "stderr",
     "output_type": "stream",
     "text": [
      "Epoch 194: 100%|██████████████████████████████████████████████████████████████████████████████████████████████████████████████| 76/76 [00:00<00:00, 274.20it/s]\n"
     ]
    },
    {
     "name": "stdout",
     "output_type": "stream",
     "text": [
      "Epoch 194: Loss: 0.0159\n"
     ]
    },
    {
     "name": "stderr",
     "output_type": "stream",
     "text": [
      "Epoch 195: 100%|██████████████████████████████████████████████████████████████████████████████████████████████████████████████| 76/76 [00:00<00:00, 268.73it/s]\n"
     ]
    },
    {
     "name": "stdout",
     "output_type": "stream",
     "text": [
      "Epoch 195: Loss: 0.0140\n"
     ]
    },
    {
     "name": "stderr",
     "output_type": "stream",
     "text": [
      "Epoch 196: 100%|██████████████████████████████████████████████████████████████████████████████████████████████████████████████| 76/76 [00:00<00:00, 197.72it/s]\n"
     ]
    },
    {
     "name": "stdout",
     "output_type": "stream",
     "text": [
      "Epoch 196: Loss: 0.0138\n"
     ]
    },
    {
     "name": "stderr",
     "output_type": "stream",
     "text": [
      "Epoch 197: 100%|██████████████████████████████████████████████████████████████████████████████████████████████████████████████| 76/76 [00:00<00:00, 234.87it/s]\n"
     ]
    },
    {
     "name": "stdout",
     "output_type": "stream",
     "text": [
      "Epoch 197: Loss: 0.0115\n"
     ]
    },
    {
     "name": "stderr",
     "output_type": "stream",
     "text": [
      "Epoch 198: 100%|██████████████████████████████████████████████████████████████████████████████████████████████████████████████| 76/76 [00:00<00:00, 202.97it/s]\n"
     ]
    },
    {
     "name": "stdout",
     "output_type": "stream",
     "text": [
      "Epoch 198: Loss: 0.0168\n"
     ]
    },
    {
     "name": "stderr",
     "output_type": "stream",
     "text": [
      "Epoch 199: 100%|██████████████████████████████████████████████████████████████████████████████████████████████████████████████| 76/76 [00:00<00:00, 227.72it/s]\n"
     ]
    },
    {
     "name": "stdout",
     "output_type": "stream",
     "text": [
      "Epoch 199: Loss: 0.0122\n"
     ]
    },
    {
     "name": "stderr",
     "output_type": "stream",
     "text": [
      "Epoch 200: 100%|██████████████████████████████████████████████████████████████████████████████████████████████████████████████| 76/76 [00:00<00:00, 232.19it/s]\n"
     ]
    },
    {
     "name": "stdout",
     "output_type": "stream",
     "text": [
      "Epoch 200: Loss: 0.0165\n"
     ]
    },
    {
     "name": "stderr",
     "output_type": "stream",
     "text": [
      "Epoch 201: 100%|██████████████████████████████████████████████████████████████████████████████████████████████████████████████| 76/76 [00:00<00:00, 275.86it/s]\n"
     ]
    },
    {
     "name": "stdout",
     "output_type": "stream",
     "text": [
      "Epoch 201: Loss: 0.0248\n"
     ]
    },
    {
     "name": "stderr",
     "output_type": "stream",
     "text": [
      "Epoch 202: 100%|██████████████████████████████████████████████████████████████████████████████████████████████████████████████| 76/76 [00:00<00:00, 279.42it/s]\n"
     ]
    },
    {
     "name": "stdout",
     "output_type": "stream",
     "text": [
      "Epoch 202: Loss: 0.0152\n"
     ]
    },
    {
     "name": "stderr",
     "output_type": "stream",
     "text": [
      "Epoch 203: 100%|██████████████████████████████████████████████████████████████████████████████████████████████████████████████| 76/76 [00:00<00:00, 249.10it/s]\n"
     ]
    },
    {
     "name": "stdout",
     "output_type": "stream",
     "text": [
      "Epoch 203: Loss: 0.0249\n"
     ]
    },
    {
     "name": "stderr",
     "output_type": "stream",
     "text": [
      "Epoch 204: 100%|██████████████████████████████████████████████████████████████████████████████████████████████████████████████| 76/76 [00:00<00:00, 281.17it/s]\n"
     ]
    },
    {
     "name": "stdout",
     "output_type": "stream",
     "text": [
      "Epoch 204: Loss: 0.0137\n"
     ]
    },
    {
     "name": "stderr",
     "output_type": "stream",
     "text": [
      "Epoch 205: 100%|██████████████████████████████████████████████████████████████████████████████████████████████████████████████| 76/76 [00:00<00:00, 276.37it/s]\n"
     ]
    },
    {
     "name": "stdout",
     "output_type": "stream",
     "text": [
      "Epoch 205: Loss: 0.0154\n"
     ]
    },
    {
     "name": "stderr",
     "output_type": "stream",
     "text": [
      "Epoch 206: 100%|██████████████████████████████████████████████████████████████████████████████████████████████████████████████| 76/76 [00:00<00:00, 264.94it/s]\n"
     ]
    },
    {
     "name": "stdout",
     "output_type": "stream",
     "text": [
      "Epoch 206: Loss: 0.0167\n"
     ]
    },
    {
     "name": "stderr",
     "output_type": "stream",
     "text": [
      "Epoch 207: 100%|██████████████████████████████████████████████████████████████████████████████████████████████████████████████| 76/76 [00:00<00:00, 271.26it/s]\n"
     ]
    },
    {
     "name": "stdout",
     "output_type": "stream",
     "text": [
      "Epoch 207: Loss: 0.0119\n"
     ]
    },
    {
     "name": "stderr",
     "output_type": "stream",
     "text": [
      "Epoch 208: 100%|██████████████████████████████████████████████████████████████████████████████████████████████████████████████| 76/76 [00:00<00:00, 274.04it/s]\n"
     ]
    },
    {
     "name": "stdout",
     "output_type": "stream",
     "text": [
      "Epoch 208: Loss: 0.0094\n"
     ]
    },
    {
     "name": "stderr",
     "output_type": "stream",
     "text": [
      "Epoch 209: 100%|██████████████████████████████████████████████████████████████████████████████████████████████████████████████| 76/76 [00:00<00:00, 257.77it/s]\n"
     ]
    },
    {
     "name": "stdout",
     "output_type": "stream",
     "text": [
      "Epoch 209: Loss: 0.0166\n"
     ]
    },
    {
     "name": "stderr",
     "output_type": "stream",
     "text": [
      "Epoch 210: 100%|██████████████████████████████████████████████████████████████████████████████████████████████████████████████| 76/76 [00:00<00:00, 244.03it/s]\n"
     ]
    },
    {
     "name": "stdout",
     "output_type": "stream",
     "text": [
      "Epoch 210: Loss: 0.0164\n"
     ]
    },
    {
     "name": "stderr",
     "output_type": "stream",
     "text": [
      "Epoch 211: 100%|██████████████████████████████████████████████████████████████████████████████████████████████████████████████| 76/76 [00:00<00:00, 253.47it/s]\n"
     ]
    },
    {
     "name": "stdout",
     "output_type": "stream",
     "text": [
      "Epoch 211: Loss: 0.0178\n"
     ]
    },
    {
     "name": "stderr",
     "output_type": "stream",
     "text": [
      "Epoch 212: 100%|██████████████████████████████████████████████████████████████████████████████████████████████████████████████| 76/76 [00:00<00:00, 271.88it/s]\n"
     ]
    },
    {
     "name": "stdout",
     "output_type": "stream",
     "text": [
      "Epoch 212: Loss: 0.0181\n"
     ]
    },
    {
     "name": "stderr",
     "output_type": "stream",
     "text": [
      "Epoch 213: 100%|██████████████████████████████████████████████████████████████████████████████████████████████████████████████| 76/76 [00:00<00:00, 259.27it/s]\n"
     ]
    },
    {
     "name": "stdout",
     "output_type": "stream",
     "text": [
      "Epoch 213: Loss: 0.0197\n"
     ]
    },
    {
     "name": "stderr",
     "output_type": "stream",
     "text": [
      "Epoch 214: 100%|██████████████████████████████████████████████████████████████████████████████████████████████████████████████| 76/76 [00:00<00:00, 259.23it/s]\n"
     ]
    },
    {
     "name": "stdout",
     "output_type": "stream",
     "text": [
      "Epoch 214: Loss: 0.0116\n"
     ]
    },
    {
     "name": "stderr",
     "output_type": "stream",
     "text": [
      "Epoch 215: 100%|██████████████████████████████████████████████████████████████████████████████████████████████████████████████| 76/76 [00:00<00:00, 267.91it/s]\n"
     ]
    },
    {
     "name": "stdout",
     "output_type": "stream",
     "text": [
      "Epoch 215: Loss: 0.0105\n"
     ]
    },
    {
     "name": "stderr",
     "output_type": "stream",
     "text": [
      "Epoch 216: 100%|██████████████████████████████████████████████████████████████████████████████████████████████████████████████| 76/76 [00:00<00:00, 262.76it/s]\n"
     ]
    },
    {
     "name": "stdout",
     "output_type": "stream",
     "text": [
      "Epoch 216: Loss: 0.0118\n"
     ]
    },
    {
     "name": "stderr",
     "output_type": "stream",
     "text": [
      "Epoch 217: 100%|██████████████████████████████████████████████████████████████████████████████████████████████████████████████| 76/76 [00:00<00:00, 261.61it/s]\n"
     ]
    },
    {
     "name": "stdout",
     "output_type": "stream",
     "text": [
      "Epoch 217: Loss: 0.0127\n"
     ]
    },
    {
     "name": "stderr",
     "output_type": "stream",
     "text": [
      "Epoch 218: 100%|██████████████████████████████████████████████████████████████████████████████████████████████████████████████| 76/76 [00:00<00:00, 272.08it/s]\n"
     ]
    },
    {
     "name": "stdout",
     "output_type": "stream",
     "text": [
      "Epoch 218: Loss: 0.0106\n"
     ]
    },
    {
     "name": "stderr",
     "output_type": "stream",
     "text": [
      "Epoch 219: 100%|██████████████████████████████████████████████████████████████████████████████████████████████████████████████| 76/76 [00:00<00:00, 297.41it/s]\n"
     ]
    },
    {
     "name": "stdout",
     "output_type": "stream",
     "text": [
      "Epoch 219: Loss: 0.0129\n"
     ]
    },
    {
     "name": "stderr",
     "output_type": "stream",
     "text": [
      "Epoch 220: 100%|██████████████████████████████████████████████████████████████████████████████████████████████████████████████| 76/76 [00:00<00:00, 290.24it/s]\n"
     ]
    },
    {
     "name": "stdout",
     "output_type": "stream",
     "text": [
      "Epoch 220: Loss: 0.0193\n"
     ]
    },
    {
     "name": "stderr",
     "output_type": "stream",
     "text": [
      "Epoch 221: 100%|██████████████████████████████████████████████████████████████████████████████████████████████████████████████| 76/76 [00:00<00:00, 193.84it/s]\n"
     ]
    },
    {
     "name": "stdout",
     "output_type": "stream",
     "text": [
      "Epoch 221: Loss: 0.0131\n"
     ]
    },
    {
     "name": "stderr",
     "output_type": "stream",
     "text": [
      "Epoch 222: 100%|██████████████████████████████████████████████████████████████████████████████████████████████████████████████| 76/76 [00:00<00:00, 219.87it/s]\n"
     ]
    },
    {
     "name": "stdout",
     "output_type": "stream",
     "text": [
      "Epoch 222: Loss: 0.0087\n"
     ]
    },
    {
     "name": "stderr",
     "output_type": "stream",
     "text": [
      "Epoch 223: 100%|██████████████████████████████████████████████████████████████████████████████████████████████████████████████| 76/76 [00:00<00:00, 250.74it/s]\n"
     ]
    },
    {
     "name": "stdout",
     "output_type": "stream",
     "text": [
      "Epoch 223: Loss: 0.0113\n"
     ]
    },
    {
     "name": "stderr",
     "output_type": "stream",
     "text": [
      "Epoch 224: 100%|██████████████████████████████████████████████████████████████████████████████████████████████████████████████| 76/76 [00:00<00:00, 270.84it/s]\n"
     ]
    },
    {
     "name": "stdout",
     "output_type": "stream",
     "text": [
      "Epoch 224: Loss: 0.0169\n"
     ]
    },
    {
     "name": "stderr",
     "output_type": "stream",
     "text": [
      "Epoch 225: 100%|██████████████████████████████████████████████████████████████████████████████████████████████████████████████| 76/76 [00:00<00:00, 259.57it/s]\n"
     ]
    },
    {
     "name": "stdout",
     "output_type": "stream",
     "text": [
      "Epoch 225: Loss: 0.0092\n"
     ]
    },
    {
     "name": "stderr",
     "output_type": "stream",
     "text": [
      "Epoch 226: 100%|██████████████████████████████████████████████████████████████████████████████████████████████████████████████| 76/76 [00:00<00:00, 271.43it/s]\n"
     ]
    },
    {
     "name": "stdout",
     "output_type": "stream",
     "text": [
      "Epoch 226: Loss: 0.0169\n"
     ]
    },
    {
     "name": "stderr",
     "output_type": "stream",
     "text": [
      "Epoch 227: 100%|██████████████████████████████████████████████████████████████████████████████████████████████████████████████| 76/76 [00:00<00:00, 265.02it/s]\n"
     ]
    },
    {
     "name": "stdout",
     "output_type": "stream",
     "text": [
      "Epoch 227: Loss: 0.0080\n"
     ]
    },
    {
     "name": "stderr",
     "output_type": "stream",
     "text": [
      "Epoch 228: 100%|██████████████████████████████████████████████████████████████████████████████████████████████████████████████| 76/76 [00:00<00:00, 265.52it/s]\n"
     ]
    },
    {
     "name": "stdout",
     "output_type": "stream",
     "text": [
      "Epoch 228: Loss: 0.0230\n"
     ]
    },
    {
     "name": "stderr",
     "output_type": "stream",
     "text": [
      "Epoch 229: 100%|██████████████████████████████████████████████████████████████████████████████████████████████████████████████| 76/76 [00:00<00:00, 206.00it/s]\n"
     ]
    },
    {
     "name": "stdout",
     "output_type": "stream",
     "text": [
      "Epoch 229: Loss: 0.0102\n"
     ]
    },
    {
     "name": "stderr",
     "output_type": "stream",
     "text": [
      "Epoch 230: 100%|██████████████████████████████████████████████████████████████████████████████████████████████████████████████| 76/76 [00:00<00:00, 251.98it/s]\n"
     ]
    },
    {
     "name": "stdout",
     "output_type": "stream",
     "text": [
      "Epoch 230: Loss: 0.0110\n"
     ]
    },
    {
     "name": "stderr",
     "output_type": "stream",
     "text": [
      "Epoch 231: 100%|██████████████████████████████████████████████████████████████████████████████████████████████████████████████| 76/76 [00:00<00:00, 277.85it/s]\n"
     ]
    },
    {
     "name": "stdout",
     "output_type": "stream",
     "text": [
      "Epoch 231: Loss: 0.0094\n"
     ]
    },
    {
     "name": "stderr",
     "output_type": "stream",
     "text": [
      "Epoch 232: 100%|██████████████████████████████████████████████████████████████████████████████████████████████████████████████| 76/76 [00:00<00:00, 293.89it/s]\n"
     ]
    },
    {
     "name": "stdout",
     "output_type": "stream",
     "text": [
      "Epoch 232: Loss: 0.0090\n"
     ]
    },
    {
     "name": "stderr",
     "output_type": "stream",
     "text": [
      "Epoch 233: 100%|██████████████████████████████████████████████████████████████████████████████████████████████████████████████| 76/76 [00:00<00:00, 246.46it/s]\n"
     ]
    },
    {
     "name": "stdout",
     "output_type": "stream",
     "text": [
      "Epoch 233: Loss: 0.0151\n"
     ]
    },
    {
     "name": "stderr",
     "output_type": "stream",
     "text": [
      "Epoch 234: 100%|██████████████████████████████████████████████████████████████████████████████████████████████████████████████| 76/76 [00:00<00:00, 294.63it/s]\n"
     ]
    },
    {
     "name": "stdout",
     "output_type": "stream",
     "text": [
      "Epoch 234: Loss: 0.0108\n"
     ]
    },
    {
     "name": "stderr",
     "output_type": "stream",
     "text": [
      "Epoch 235: 100%|██████████████████████████████████████████████████████████████████████████████████████████████████████████████| 76/76 [00:00<00:00, 280.65it/s]\n"
     ]
    },
    {
     "name": "stdout",
     "output_type": "stream",
     "text": [
      "Epoch 235: Loss: 0.0153\n"
     ]
    },
    {
     "name": "stderr",
     "output_type": "stream",
     "text": [
      "Epoch 236: 100%|██████████████████████████████████████████████████████████████████████████████████████████████████████████████| 76/76 [00:00<00:00, 235.18it/s]\n"
     ]
    },
    {
     "name": "stdout",
     "output_type": "stream",
     "text": [
      "Epoch 236: Loss: 0.0093\n"
     ]
    },
    {
     "name": "stderr",
     "output_type": "stream",
     "text": [
      "Epoch 237: 100%|██████████████████████████████████████████████████████████████████████████████████████████████████████████████| 76/76 [00:00<00:00, 278.49it/s]\n"
     ]
    },
    {
     "name": "stdout",
     "output_type": "stream",
     "text": [
      "Epoch 237: Loss: 0.0117\n"
     ]
    },
    {
     "name": "stderr",
     "output_type": "stream",
     "text": [
      "Epoch 238: 100%|██████████████████████████████████████████████████████████████████████████████████████████████████████████████| 76/76 [00:00<00:00, 274.59it/s]\n"
     ]
    },
    {
     "name": "stdout",
     "output_type": "stream",
     "text": [
      "Epoch 238: Loss: 0.0104\n"
     ]
    },
    {
     "name": "stderr",
     "output_type": "stream",
     "text": [
      "Epoch 239: 100%|██████████████████████████████████████████████████████████████████████████████████████████████████████████████| 76/76 [00:00<00:00, 242.26it/s]\n"
     ]
    },
    {
     "name": "stdout",
     "output_type": "stream",
     "text": [
      "Epoch 239: Loss: 0.0091\n"
     ]
    },
    {
     "name": "stderr",
     "output_type": "stream",
     "text": [
      "Epoch 240: 100%|██████████████████████████████████████████████████████████████████████████████████████████████████████████████| 76/76 [00:00<00:00, 270.44it/s]\n"
     ]
    },
    {
     "name": "stdout",
     "output_type": "stream",
     "text": [
      "Epoch 240: Loss: 0.0097\n"
     ]
    },
    {
     "name": "stderr",
     "output_type": "stream",
     "text": [
      "Epoch 241: 100%|██████████████████████████████████████████████████████████████████████████████████████████████████████████████| 76/76 [00:00<00:00, 302.02it/s]\n"
     ]
    },
    {
     "name": "stdout",
     "output_type": "stream",
     "text": [
      "Epoch 241: Loss: 0.0086\n"
     ]
    },
    {
     "name": "stderr",
     "output_type": "stream",
     "text": [
      "Epoch 242: 100%|██████████████████████████████████████████████████████████████████████████████████████████████████████████████| 76/76 [00:00<00:00, 266.85it/s]\n"
     ]
    },
    {
     "name": "stdout",
     "output_type": "stream",
     "text": [
      "Epoch 242: Loss: 0.0082\n"
     ]
    },
    {
     "name": "stderr",
     "output_type": "stream",
     "text": [
      "Epoch 243: 100%|██████████████████████████████████████████████████████████████████████████████████████████████████████████████| 76/76 [00:00<00:00, 265.93it/s]\n"
     ]
    },
    {
     "name": "stdout",
     "output_type": "stream",
     "text": [
      "Epoch 243: Loss: 0.0097\n"
     ]
    },
    {
     "name": "stderr",
     "output_type": "stream",
     "text": [
      "Epoch 244: 100%|██████████████████████████████████████████████████████████████████████████████████████████████████████████████| 76/76 [00:00<00:00, 271.17it/s]\n"
     ]
    },
    {
     "name": "stdout",
     "output_type": "stream",
     "text": [
      "Epoch 244: Loss: 0.0113\n"
     ]
    },
    {
     "name": "stderr",
     "output_type": "stream",
     "text": [
      "Epoch 245: 100%|██████████████████████████████████████████████████████████████████████████████████████████████████████████████| 76/76 [00:00<00:00, 262.50it/s]\n"
     ]
    },
    {
     "name": "stdout",
     "output_type": "stream",
     "text": [
      "Epoch 245: Loss: 0.0079\n"
     ]
    },
    {
     "name": "stderr",
     "output_type": "stream",
     "text": [
      "Epoch 246: 100%|██████████████████████████████████████████████████████████████████████████████████████████████████████████████| 76/76 [00:00<00:00, 280.79it/s]\n"
     ]
    },
    {
     "name": "stdout",
     "output_type": "stream",
     "text": [
      "Epoch 246: Loss: 0.0116\n"
     ]
    },
    {
     "name": "stderr",
     "output_type": "stream",
     "text": [
      "Epoch 247: 100%|██████████████████████████████████████████████████████████████████████████████████████████████████████████████| 76/76 [00:00<00:00, 283.11it/s]\n"
     ]
    },
    {
     "name": "stdout",
     "output_type": "stream",
     "text": [
      "Epoch 247: Loss: 0.0097\n"
     ]
    },
    {
     "name": "stderr",
     "output_type": "stream",
     "text": [
      "Epoch 248: 100%|██████████████████████████████████████████████████████████████████████████████████████████████████████████████| 76/76 [00:00<00:00, 265.84it/s]\n"
     ]
    },
    {
     "name": "stdout",
     "output_type": "stream",
     "text": [
      "Epoch 248: Loss: 0.0083\n"
     ]
    },
    {
     "name": "stderr",
     "output_type": "stream",
     "text": [
      "Epoch 249: 100%|██████████████████████████████████████████████████████████████████████████████████████████████████████████████| 76/76 [00:00<00:00, 269.18it/s]\n"
     ]
    },
    {
     "name": "stdout",
     "output_type": "stream",
     "text": [
      "Epoch 249: Loss: 0.0062\n"
     ]
    },
    {
     "name": "stderr",
     "output_type": "stream",
     "text": [
      "Epoch 250: 100%|██████████████████████████████████████████████████████████████████████████████████████████████████████████████| 76/76 [00:00<00:00, 280.44it/s]\n"
     ]
    },
    {
     "name": "stdout",
     "output_type": "stream",
     "text": [
      "Epoch 250: Loss: 0.0152\n"
     ]
    },
    {
     "name": "stderr",
     "output_type": "stream",
     "text": [
      "Epoch 251: 100%|██████████████████████████████████████████████████████████████████████████████████████████████████████████████| 76/76 [00:00<00:00, 284.08it/s]\n"
     ]
    },
    {
     "name": "stdout",
     "output_type": "stream",
     "text": [
      "Epoch 251: Loss: 0.0081\n"
     ]
    },
    {
     "name": "stderr",
     "output_type": "stream",
     "text": [
      "Epoch 252: 100%|██████████████████████████████████████████████████████████████████████████████████████████████████████████████| 76/76 [00:00<00:00, 270.78it/s]\n"
     ]
    },
    {
     "name": "stdout",
     "output_type": "stream",
     "text": [
      "Epoch 252: Loss: 0.0097\n"
     ]
    },
    {
     "name": "stderr",
     "output_type": "stream",
     "text": [
      "Epoch 253: 100%|██████████████████████████████████████████████████████████████████████████████████████████████████████████████| 76/76 [00:00<00:00, 280.59it/s]\n"
     ]
    },
    {
     "name": "stdout",
     "output_type": "stream",
     "text": [
      "Epoch 253: Loss: 0.0094\n"
     ]
    },
    {
     "name": "stderr",
     "output_type": "stream",
     "text": [
      "Epoch 254: 100%|██████████████████████████████████████████████████████████████████████████████████████████████████████████████| 76/76 [00:00<00:00, 294.46it/s]\n"
     ]
    },
    {
     "name": "stdout",
     "output_type": "stream",
     "text": [
      "Epoch 254: Loss: 0.0063\n"
     ]
    },
    {
     "name": "stderr",
     "output_type": "stream",
     "text": [
      "Epoch 255: 100%|██████████████████████████████████████████████████████████████████████████████████████████████████████████████| 76/76 [00:00<00:00, 280.61it/s]\n"
     ]
    },
    {
     "name": "stdout",
     "output_type": "stream",
     "text": [
      "Epoch 255: Loss: 0.0181\n"
     ]
    },
    {
     "name": "stderr",
     "output_type": "stream",
     "text": [
      "Epoch 256: 100%|██████████████████████████████████████████████████████████████████████████████████████████████████████████████| 76/76 [00:00<00:00, 312.83it/s]\n"
     ]
    },
    {
     "name": "stdout",
     "output_type": "stream",
     "text": [
      "Epoch 256: Loss: 0.0093\n"
     ]
    },
    {
     "name": "stderr",
     "output_type": "stream",
     "text": [
      "Epoch 257: 100%|██████████████████████████████████████████████████████████████████████████████████████████████████████████████| 76/76 [00:00<00:00, 274.01it/s]\n"
     ]
    },
    {
     "name": "stdout",
     "output_type": "stream",
     "text": [
      "Epoch 257: Loss: 0.0116\n"
     ]
    },
    {
     "name": "stderr",
     "output_type": "stream",
     "text": [
      "Epoch 258: 100%|██████████████████████████████████████████████████████████████████████████████████████████████████████████████| 76/76 [00:00<00:00, 294.88it/s]\n"
     ]
    },
    {
     "name": "stdout",
     "output_type": "stream",
     "text": [
      "Epoch 258: Loss: 0.0088\n"
     ]
    },
    {
     "name": "stderr",
     "output_type": "stream",
     "text": [
      "Epoch 259: 100%|██████████████████████████████████████████████████████████████████████████████████████████████████████████████| 76/76 [00:00<00:00, 305.42it/s]\n"
     ]
    },
    {
     "name": "stdout",
     "output_type": "stream",
     "text": [
      "Epoch 259: Loss: 0.0064\n"
     ]
    },
    {
     "name": "stderr",
     "output_type": "stream",
     "text": [
      "Epoch 260: 100%|██████████████████████████████████████████████████████████████████████████████████████████████████████████████| 76/76 [00:00<00:00, 304.62it/s]\n"
     ]
    },
    {
     "name": "stdout",
     "output_type": "stream",
     "text": [
      "Epoch 260: Loss: 0.0113\n"
     ]
    },
    {
     "name": "stderr",
     "output_type": "stream",
     "text": [
      "Epoch 261: 100%|██████████████████████████████████████████████████████████████████████████████████████████████████████████████| 76/76 [00:00<00:00, 308.68it/s]\n"
     ]
    },
    {
     "name": "stdout",
     "output_type": "stream",
     "text": [
      "Epoch 261: Loss: 0.0127\n"
     ]
    },
    {
     "name": "stderr",
     "output_type": "stream",
     "text": [
      "Epoch 262: 100%|██████████████████████████████████████████████████████████████████████████████████████████████████████████████| 76/76 [00:00<00:00, 301.78it/s]\n"
     ]
    },
    {
     "name": "stdout",
     "output_type": "stream",
     "text": [
      "Epoch 262: Loss: 0.0176\n"
     ]
    },
    {
     "name": "stderr",
     "output_type": "stream",
     "text": [
      "Epoch 263: 100%|██████████████████████████████████████████████████████████████████████████████████████████████████████████████| 76/76 [00:00<00:00, 308.21it/s]\n"
     ]
    },
    {
     "name": "stdout",
     "output_type": "stream",
     "text": [
      "Epoch 263: Loss: 0.0049\n"
     ]
    },
    {
     "name": "stderr",
     "output_type": "stream",
     "text": [
      "Epoch 264: 100%|██████████████████████████████████████████████████████████████████████████████████████████████████████████████| 76/76 [00:00<00:00, 301.91it/s]\n"
     ]
    },
    {
     "name": "stdout",
     "output_type": "stream",
     "text": [
      "Epoch 264: Loss: 0.0094\n"
     ]
    },
    {
     "name": "stderr",
     "output_type": "stream",
     "text": [
      "Epoch 265: 100%|██████████████████████████████████████████████████████████████████████████████████████████████████████████████| 76/76 [00:00<00:00, 308.51it/s]\n"
     ]
    },
    {
     "name": "stdout",
     "output_type": "stream",
     "text": [
      "Epoch 265: Loss: 0.0120\n"
     ]
    },
    {
     "name": "stderr",
     "output_type": "stream",
     "text": [
      "Epoch 266: 100%|██████████████████████████████████████████████████████████████████████████████████████████████████████████████| 76/76 [00:00<00:00, 280.67it/s]\n"
     ]
    },
    {
     "name": "stdout",
     "output_type": "stream",
     "text": [
      "Epoch 266: Loss: 0.0093\n"
     ]
    },
    {
     "name": "stderr",
     "output_type": "stream",
     "text": [
      "Epoch 267: 100%|██████████████████████████████████████████████████████████████████████████████████████████████████████████████| 76/76 [00:00<00:00, 300.03it/s]\n"
     ]
    },
    {
     "name": "stdout",
     "output_type": "stream",
     "text": [
      "Epoch 267: Loss: 0.0090\n"
     ]
    },
    {
     "name": "stderr",
     "output_type": "stream",
     "text": [
      "Epoch 268: 100%|██████████████████████████████████████████████████████████████████████████████████████████████████████████████| 76/76 [00:00<00:00, 313.88it/s]\n"
     ]
    },
    {
     "name": "stdout",
     "output_type": "stream",
     "text": [
      "Epoch 268: Loss: 0.0058\n"
     ]
    },
    {
     "name": "stderr",
     "output_type": "stream",
     "text": [
      "Epoch 269: 100%|██████████████████████████████████████████████████████████████████████████████████████████████████████████████| 76/76 [00:00<00:00, 281.21it/s]\n"
     ]
    },
    {
     "name": "stdout",
     "output_type": "stream",
     "text": [
      "Epoch 269: Loss: 0.0052\n"
     ]
    },
    {
     "name": "stderr",
     "output_type": "stream",
     "text": [
      "Epoch 270: 100%|██████████████████████████████████████████████████████████████████████████████████████████████████████████████| 76/76 [00:00<00:00, 300.34it/s]\n"
     ]
    },
    {
     "name": "stdout",
     "output_type": "stream",
     "text": [
      "Epoch 270: Loss: 0.0086\n"
     ]
    },
    {
     "name": "stderr",
     "output_type": "stream",
     "text": [
      "Epoch 271: 100%|██████████████████████████████████████████████████████████████████████████████████████████████████████████████| 76/76 [00:00<00:00, 267.76it/s]\n"
     ]
    },
    {
     "name": "stdout",
     "output_type": "stream",
     "text": [
      "Epoch 271: Loss: 0.0068\n"
     ]
    },
    {
     "name": "stderr",
     "output_type": "stream",
     "text": [
      "Epoch 272: 100%|██████████████████████████████████████████████████████████████████████████████████████████████████████████████| 76/76 [00:00<00:00, 260.28it/s]\n"
     ]
    },
    {
     "name": "stdout",
     "output_type": "stream",
     "text": [
      "Epoch 272: Loss: 0.0078\n"
     ]
    },
    {
     "name": "stderr",
     "output_type": "stream",
     "text": [
      "Epoch 273: 100%|██████████████████████████████████████████████████████████████████████████████████████████████████████████████| 76/76 [00:00<00:00, 272.28it/s]\n"
     ]
    },
    {
     "name": "stdout",
     "output_type": "stream",
     "text": [
      "Epoch 273: Loss: 0.0041\n"
     ]
    },
    {
     "name": "stderr",
     "output_type": "stream",
     "text": [
      "Epoch 274: 100%|██████████████████████████████████████████████████████████████████████████████████████████████████████████████| 76/76 [00:00<00:00, 268.83it/s]\n"
     ]
    },
    {
     "name": "stdout",
     "output_type": "stream",
     "text": [
      "Epoch 274: Loss: 0.0067\n"
     ]
    },
    {
     "name": "stderr",
     "output_type": "stream",
     "text": [
      "Epoch 275: 100%|██████████████████████████████████████████████████████████████████████████████████████████████████████████████| 76/76 [00:00<00:00, 241.40it/s]\n"
     ]
    },
    {
     "name": "stdout",
     "output_type": "stream",
     "text": [
      "Epoch 275: Loss: 0.0102\n"
     ]
    },
    {
     "name": "stderr",
     "output_type": "stream",
     "text": [
      "Epoch 276: 100%|██████████████████████████████████████████████████████████████████████████████████████████████████████████████| 76/76 [00:00<00:00, 251.12it/s]\n"
     ]
    },
    {
     "name": "stdout",
     "output_type": "stream",
     "text": [
      "Epoch 276: Loss: 0.0088\n"
     ]
    },
    {
     "name": "stderr",
     "output_type": "stream",
     "text": [
      "Epoch 277: 100%|██████████████████████████████████████████████████████████████████████████████████████████████████████████████| 76/76 [00:00<00:00, 298.14it/s]\n"
     ]
    },
    {
     "name": "stdout",
     "output_type": "stream",
     "text": [
      "Epoch 277: Loss: 0.0087\n"
     ]
    },
    {
     "name": "stderr",
     "output_type": "stream",
     "text": [
      "Epoch 278: 100%|██████████████████████████████████████████████████████████████████████████████████████████████████████████████| 76/76 [00:00<00:00, 294.02it/s]\n"
     ]
    },
    {
     "name": "stdout",
     "output_type": "stream",
     "text": [
      "Epoch 278: Loss: 0.0184\n"
     ]
    },
    {
     "name": "stderr",
     "output_type": "stream",
     "text": [
      "Epoch 279: 100%|██████████████████████████████████████████████████████████████████████████████████████████████████████████████| 76/76 [00:00<00:00, 270.58it/s]\n"
     ]
    },
    {
     "name": "stdout",
     "output_type": "stream",
     "text": [
      "Epoch 279: Loss: 0.0062\n"
     ]
    },
    {
     "name": "stderr",
     "output_type": "stream",
     "text": [
      "Epoch 280: 100%|██████████████████████████████████████████████████████████████████████████████████████████████████████████████| 76/76 [00:00<00:00, 271.77it/s]\n"
     ]
    },
    {
     "name": "stdout",
     "output_type": "stream",
     "text": [
      "Epoch 280: Loss: 0.0089\n"
     ]
    },
    {
     "name": "stderr",
     "output_type": "stream",
     "text": [
      "Epoch 281: 100%|██████████████████████████████████████████████████████████████████████████████████████████████████████████████| 76/76 [00:00<00:00, 259.71it/s]\n"
     ]
    },
    {
     "name": "stdout",
     "output_type": "stream",
     "text": [
      "Epoch 281: Loss: 0.0083\n"
     ]
    },
    {
     "name": "stderr",
     "output_type": "stream",
     "text": [
      "Epoch 282: 100%|██████████████████████████████████████████████████████████████████████████████████████████████████████████████| 76/76 [00:00<00:00, 250.73it/s]\n"
     ]
    },
    {
     "name": "stdout",
     "output_type": "stream",
     "text": [
      "Epoch 282: Loss: 0.0048\n"
     ]
    },
    {
     "name": "stderr",
     "output_type": "stream",
     "text": [
      "Epoch 283: 100%|██████████████████████████████████████████████████████████████████████████████████████████████████████████████| 76/76 [00:00<00:00, 277.65it/s]\n"
     ]
    },
    {
     "name": "stdout",
     "output_type": "stream",
     "text": [
      "Epoch 283: Loss: 0.0082\n"
     ]
    },
    {
     "name": "stderr",
     "output_type": "stream",
     "text": [
      "Epoch 284: 100%|██████████████████████████████████████████████████████████████████████████████████████████████████████████████| 76/76 [00:00<00:00, 262.37it/s]\n"
     ]
    },
    {
     "name": "stdout",
     "output_type": "stream",
     "text": [
      "Epoch 284: Loss: 0.0138\n"
     ]
    },
    {
     "name": "stderr",
     "output_type": "stream",
     "text": [
      "Epoch 285: 100%|██████████████████████████████████████████████████████████████████████████████████████████████████████████████| 76/76 [00:00<00:00, 222.14it/s]\n"
     ]
    },
    {
     "name": "stdout",
     "output_type": "stream",
     "text": [
      "Epoch 285: Loss: 0.0110\n"
     ]
    },
    {
     "name": "stderr",
     "output_type": "stream",
     "text": [
      "Epoch 286: 100%|██████████████████████████████████████████████████████████████████████████████████████████████████████████████| 76/76 [00:00<00:00, 286.78it/s]\n"
     ]
    },
    {
     "name": "stdout",
     "output_type": "stream",
     "text": [
      "Epoch 286: Loss: 0.0074\n"
     ]
    },
    {
     "name": "stderr",
     "output_type": "stream",
     "text": [
      "Epoch 287: 100%|██████████████████████████████████████████████████████████████████████████████████████████████████████████████| 76/76 [00:00<00:00, 300.68it/s]\n"
     ]
    },
    {
     "name": "stdout",
     "output_type": "stream",
     "text": [
      "Epoch 287: Loss: 0.0091\n"
     ]
    },
    {
     "name": "stderr",
     "output_type": "stream",
     "text": [
      "Epoch 288: 100%|██████████████████████████████████████████████████████████████████████████████████████████████████████████████| 76/76 [00:00<00:00, 214.40it/s]\n"
     ]
    },
    {
     "name": "stdout",
     "output_type": "stream",
     "text": [
      "Epoch 288: Loss: 0.0147\n"
     ]
    },
    {
     "name": "stderr",
     "output_type": "stream",
     "text": [
      "Epoch 289: 100%|██████████████████████████████████████████████████████████████████████████████████████████████████████████████| 76/76 [00:00<00:00, 308.89it/s]\n"
     ]
    },
    {
     "name": "stdout",
     "output_type": "stream",
     "text": [
      "Epoch 289: Loss: 0.0070\n"
     ]
    },
    {
     "name": "stderr",
     "output_type": "stream",
     "text": [
      "Epoch 290: 100%|██████████████████████████████████████████████████████████████████████████████████████████████████████████████| 76/76 [00:00<00:00, 318.10it/s]\n"
     ]
    },
    {
     "name": "stdout",
     "output_type": "stream",
     "text": [
      "Epoch 290: Loss: 0.0060\n"
     ]
    },
    {
     "name": "stderr",
     "output_type": "stream",
     "text": [
      "Epoch 291: 100%|██████████████████████████████████████████████████████████████████████████████████████████████████████████████| 76/76 [00:00<00:00, 312.78it/s]\n"
     ]
    },
    {
     "name": "stdout",
     "output_type": "stream",
     "text": [
      "Epoch 291: Loss: 0.0049\n"
     ]
    },
    {
     "name": "stderr",
     "output_type": "stream",
     "text": [
      "Epoch 292: 100%|██████████████████████████████████████████████████████████████████████████████████████████████████████████████| 76/76 [00:00<00:00, 312.99it/s]\n"
     ]
    },
    {
     "name": "stdout",
     "output_type": "stream",
     "text": [
      "Epoch 292: Loss: 0.0057\n"
     ]
    },
    {
     "name": "stderr",
     "output_type": "stream",
     "text": [
      "Epoch 293: 100%|██████████████████████████████████████████████████████████████████████████████████████████████████████████████| 76/76 [00:00<00:00, 308.38it/s]\n"
     ]
    },
    {
     "name": "stdout",
     "output_type": "stream",
     "text": [
      "Epoch 293: Loss: 0.0088\n"
     ]
    },
    {
     "name": "stderr",
     "output_type": "stream",
     "text": [
      "Epoch 294: 100%|██████████████████████████████████████████████████████████████████████████████████████████████████████████████| 76/76 [00:00<00:00, 309.64it/s]\n"
     ]
    },
    {
     "name": "stdout",
     "output_type": "stream",
     "text": [
      "Epoch 294: Loss: 0.0056\n"
     ]
    },
    {
     "name": "stderr",
     "output_type": "stream",
     "text": [
      "Epoch 295: 100%|██████████████████████████████████████████████████████████████████████████████████████████████████████████████| 76/76 [00:00<00:00, 300.06it/s]\n"
     ]
    },
    {
     "name": "stdout",
     "output_type": "stream",
     "text": [
      "Epoch 295: Loss: 0.0083\n"
     ]
    },
    {
     "name": "stderr",
     "output_type": "stream",
     "text": [
      "Epoch 296: 100%|██████████████████████████████████████████████████████████████████████████████████████████████████████████████| 76/76 [00:00<00:00, 302.13it/s]\n"
     ]
    },
    {
     "name": "stdout",
     "output_type": "stream",
     "text": [
      "Epoch 296: Loss: 0.0113\n"
     ]
    },
    {
     "name": "stderr",
     "output_type": "stream",
     "text": [
      "Epoch 297: 100%|██████████████████████████████████████████████████████████████████████████████████████████████████████████████| 76/76 [00:00<00:00, 316.25it/s]\n"
     ]
    },
    {
     "name": "stdout",
     "output_type": "stream",
     "text": [
      "Epoch 297: Loss: 0.0160\n"
     ]
    },
    {
     "name": "stderr",
     "output_type": "stream",
     "text": [
      "Epoch 298: 100%|██████████████████████████████████████████████████████████████████████████████████████████████████████████████| 76/76 [00:00<00:00, 307.72it/s]\n"
     ]
    },
    {
     "name": "stdout",
     "output_type": "stream",
     "text": [
      "Epoch 298: Loss: 0.0097\n"
     ]
    },
    {
     "name": "stderr",
     "output_type": "stream",
     "text": [
      "Epoch 299: 100%|██████████████████████████████████████████████████████████████████████████████████████████████████████████████| 76/76 [00:00<00:00, 299.43it/s]\n"
     ]
    },
    {
     "name": "stdout",
     "output_type": "stream",
     "text": [
      "Epoch 299: Loss: 0.0061\n"
     ]
    },
    {
     "name": "stderr",
     "output_type": "stream",
     "text": [
      "Epoch 300: 100%|██████████████████████████████████████████████████████████████████████████████████████████████████████████████| 76/76 [00:00<00:00, 293.28it/s]\n"
     ]
    },
    {
     "name": "stdout",
     "output_type": "stream",
     "text": [
      "Epoch 300: Loss: 0.0048\n"
     ]
    },
    {
     "name": "stderr",
     "output_type": "stream",
     "text": [
      "Epoch 301: 100%|██████████████████████████████████████████████████████████████████████████████████████████████████████████████| 76/76 [00:00<00:00, 298.07it/s]\n"
     ]
    },
    {
     "name": "stdout",
     "output_type": "stream",
     "text": [
      "Epoch 301: Loss: 0.0052\n"
     ]
    },
    {
     "name": "stderr",
     "output_type": "stream",
     "text": [
      "Epoch 302: 100%|██████████████████████████████████████████████████████████████████████████████████████████████████████████████| 76/76 [00:00<00:00, 307.98it/s]\n"
     ]
    },
    {
     "name": "stdout",
     "output_type": "stream",
     "text": [
      "Epoch 302: Loss: 0.0047\n"
     ]
    },
    {
     "name": "stderr",
     "output_type": "stream",
     "text": [
      "Epoch 303: 100%|██████████████████████████████████████████████████████████████████████████████████████████████████████████████| 76/76 [00:00<00:00, 294.96it/s]\n"
     ]
    },
    {
     "name": "stdout",
     "output_type": "stream",
     "text": [
      "Epoch 303: Loss: 0.0093\n"
     ]
    },
    {
     "name": "stderr",
     "output_type": "stream",
     "text": [
      "Epoch 304: 100%|██████████████████████████████████████████████████████████████████████████████████████████████████████████████| 76/76 [00:00<00:00, 283.74it/s]\n"
     ]
    },
    {
     "name": "stdout",
     "output_type": "stream",
     "text": [
      "Epoch 304: Loss: 0.0115\n"
     ]
    },
    {
     "name": "stderr",
     "output_type": "stream",
     "text": [
      "Epoch 305: 100%|██████████████████████████████████████████████████████████████████████████████████████████████████████████████| 76/76 [00:00<00:00, 297.16it/s]\n"
     ]
    },
    {
     "name": "stdout",
     "output_type": "stream",
     "text": [
      "Epoch 305: Loss: 0.0096\n"
     ]
    },
    {
     "name": "stderr",
     "output_type": "stream",
     "text": [
      "Epoch 306: 100%|██████████████████████████████████████████████████████████████████████████████████████████████████████████████| 76/76 [00:00<00:00, 302.23it/s]\n"
     ]
    },
    {
     "name": "stdout",
     "output_type": "stream",
     "text": [
      "Epoch 306: Loss: 0.0094\n"
     ]
    },
    {
     "name": "stderr",
     "output_type": "stream",
     "text": [
      "Epoch 307: 100%|██████████████████████████████████████████████████████████████████████████████████████████████████████████████| 76/76 [00:00<00:00, 305.95it/s]\n"
     ]
    },
    {
     "name": "stdout",
     "output_type": "stream",
     "text": [
      "Epoch 307: Loss: 0.0112\n"
     ]
    },
    {
     "name": "stderr",
     "output_type": "stream",
     "text": [
      "Epoch 308: 100%|██████████████████████████████████████████████████████████████████████████████████████████████████████████████| 76/76 [00:00<00:00, 299.83it/s]\n"
     ]
    },
    {
     "name": "stdout",
     "output_type": "stream",
     "text": [
      "Epoch 308: Loss: 0.0089\n"
     ]
    },
    {
     "name": "stderr",
     "output_type": "stream",
     "text": [
      "Epoch 309: 100%|██████████████████████████████████████████████████████████████████████████████████████████████████████████████| 76/76 [00:00<00:00, 310.04it/s]\n"
     ]
    },
    {
     "name": "stdout",
     "output_type": "stream",
     "text": [
      "Epoch 309: Loss: 0.0111\n"
     ]
    },
    {
     "name": "stderr",
     "output_type": "stream",
     "text": [
      "Epoch 310: 100%|██████████████████████████████████████████████████████████████████████████████████████████████████████████████| 76/76 [00:00<00:00, 305.71it/s]\n"
     ]
    },
    {
     "name": "stdout",
     "output_type": "stream",
     "text": [
      "Epoch 310: Loss: 0.0119\n"
     ]
    },
    {
     "name": "stderr",
     "output_type": "stream",
     "text": [
      "Epoch 311: 100%|██████████████████████████████████████████████████████████████████████████████████████████████████████████████| 76/76 [00:00<00:00, 297.26it/s]\n"
     ]
    },
    {
     "name": "stdout",
     "output_type": "stream",
     "text": [
      "Epoch 311: Loss: 0.0055\n"
     ]
    },
    {
     "name": "stderr",
     "output_type": "stream",
     "text": [
      "Epoch 312: 100%|██████████████████████████████████████████████████████████████████████████████████████████████████████████████| 76/76 [00:00<00:00, 308.06it/s]\n"
     ]
    },
    {
     "name": "stdout",
     "output_type": "stream",
     "text": [
      "Epoch 312: Loss: 0.0050\n"
     ]
    },
    {
     "name": "stderr",
     "output_type": "stream",
     "text": [
      "Epoch 313: 100%|██████████████████████████████████████████████████████████████████████████████████████████████████████████████| 76/76 [00:00<00:00, 305.25it/s]\n"
     ]
    },
    {
     "name": "stdout",
     "output_type": "stream",
     "text": [
      "Epoch 313: Loss: 0.0064\n"
     ]
    },
    {
     "name": "stderr",
     "output_type": "stream",
     "text": [
      "Epoch 314: 100%|██████████████████████████████████████████████████████████████████████████████████████████████████████████████| 76/76 [00:00<00:00, 309.48it/s]\n"
     ]
    },
    {
     "name": "stdout",
     "output_type": "stream",
     "text": [
      "Epoch 314: Loss: 0.0066\n"
     ]
    },
    {
     "name": "stderr",
     "output_type": "stream",
     "text": [
      "Epoch 315: 100%|██████████████████████████████████████████████████████████████████████████████████████████████████████████████| 76/76 [00:00<00:00, 300.76it/s]\n"
     ]
    },
    {
     "name": "stdout",
     "output_type": "stream",
     "text": [
      "Epoch 315: Loss: 0.0070\n"
     ]
    },
    {
     "name": "stderr",
     "output_type": "stream",
     "text": [
      "Epoch 316: 100%|██████████████████████████████████████████████████████████████████████████████████████████████████████████████| 76/76 [00:00<00:00, 297.62it/s]\n"
     ]
    },
    {
     "name": "stdout",
     "output_type": "stream",
     "text": [
      "Epoch 316: Loss: 0.0152\n"
     ]
    },
    {
     "name": "stderr",
     "output_type": "stream",
     "text": [
      "Epoch 317: 100%|██████████████████████████████████████████████████████████████████████████████████████████████████████████████| 76/76 [00:00<00:00, 312.89it/s]\n"
     ]
    },
    {
     "name": "stdout",
     "output_type": "stream",
     "text": [
      "Epoch 317: Loss: 0.0083\n"
     ]
    },
    {
     "name": "stderr",
     "output_type": "stream",
     "text": [
      "Epoch 318: 100%|██████████████████████████████████████████████████████████████████████████████████████████████████████████████| 76/76 [00:00<00:00, 309.46it/s]\n"
     ]
    },
    {
     "name": "stdout",
     "output_type": "stream",
     "text": [
      "Epoch 318: Loss: 0.0065\n"
     ]
    },
    {
     "name": "stderr",
     "output_type": "stream",
     "text": [
      "Epoch 319: 100%|██████████████████████████████████████████████████████████████████████████████████████████████████████████████| 76/76 [00:00<00:00, 297.70it/s]\n"
     ]
    },
    {
     "name": "stdout",
     "output_type": "stream",
     "text": [
      "Epoch 319: Loss: 0.0058\n"
     ]
    },
    {
     "name": "stderr",
     "output_type": "stream",
     "text": [
      "Epoch 320: 100%|██████████████████████████████████████████████████████████████████████████████████████████████████████████████| 76/76 [00:00<00:00, 290.47it/s]\n"
     ]
    },
    {
     "name": "stdout",
     "output_type": "stream",
     "text": [
      "Epoch 320: Loss: 0.0042\n"
     ]
    },
    {
     "name": "stderr",
     "output_type": "stream",
     "text": [
      "Epoch 321: 100%|██████████████████████████████████████████████████████████████████████████████████████████████████████████████| 76/76 [00:00<00:00, 301.13it/s]\n"
     ]
    },
    {
     "name": "stdout",
     "output_type": "stream",
     "text": [
      "Epoch 321: Loss: 0.0108\n"
     ]
    },
    {
     "name": "stderr",
     "output_type": "stream",
     "text": [
      "Epoch 322: 100%|██████████████████████████████████████████████████████████████████████████████████████████████████████████████| 76/76 [00:00<00:00, 270.82it/s]\n"
     ]
    },
    {
     "name": "stdout",
     "output_type": "stream",
     "text": [
      "Epoch 322: Loss: 0.0046\n"
     ]
    },
    {
     "name": "stderr",
     "output_type": "stream",
     "text": [
      "Epoch 323: 100%|██████████████████████████████████████████████████████████████████████████████████████████████████████████████| 76/76 [00:00<00:00, 309.85it/s]\n"
     ]
    },
    {
     "name": "stdout",
     "output_type": "stream",
     "text": [
      "Epoch 323: Loss: 0.0115\n"
     ]
    },
    {
     "name": "stderr",
     "output_type": "stream",
     "text": [
      "Epoch 324: 100%|██████████████████████████████████████████████████████████████████████████████████████████████████████████████| 76/76 [00:00<00:00, 293.41it/s]\n"
     ]
    },
    {
     "name": "stdout",
     "output_type": "stream",
     "text": [
      "Epoch 324: Loss: 0.0077\n"
     ]
    },
    {
     "name": "stderr",
     "output_type": "stream",
     "text": [
      "Epoch 325: 100%|██████████████████████████████████████████████████████████████████████████████████████████████████████████████| 76/76 [00:00<00:00, 305.33it/s]\n"
     ]
    },
    {
     "name": "stdout",
     "output_type": "stream",
     "text": [
      "Epoch 325: Loss: 0.0105\n"
     ]
    },
    {
     "name": "stderr",
     "output_type": "stream",
     "text": [
      "Epoch 326: 100%|██████████████████████████████████████████████████████████████████████████████████████████████████████████████| 76/76 [00:00<00:00, 294.69it/s]\n"
     ]
    },
    {
     "name": "stdout",
     "output_type": "stream",
     "text": [
      "Epoch 326: Loss: 0.0035\n"
     ]
    },
    {
     "name": "stderr",
     "output_type": "stream",
     "text": [
      "Epoch 327: 100%|██████████████████████████████████████████████████████████████████████████████████████████████████████████████| 76/76 [00:00<00:00, 312.26it/s]\n"
     ]
    },
    {
     "name": "stdout",
     "output_type": "stream",
     "text": [
      "Epoch 327: Loss: 0.0073\n"
     ]
    },
    {
     "name": "stderr",
     "output_type": "stream",
     "text": [
      "Epoch 328: 100%|██████████████████████████████████████████████████████████████████████████████████████████████████████████████| 76/76 [00:00<00:00, 313.33it/s]\n"
     ]
    },
    {
     "name": "stdout",
     "output_type": "stream",
     "text": [
      "Epoch 328: Loss: 0.0116\n"
     ]
    },
    {
     "name": "stderr",
     "output_type": "stream",
     "text": [
      "Epoch 329: 100%|██████████████████████████████████████████████████████████████████████████████████████████████████████████████| 76/76 [00:00<00:00, 312.95it/s]\n"
     ]
    },
    {
     "name": "stdout",
     "output_type": "stream",
     "text": [
      "Epoch 329: Loss: 0.0049\n"
     ]
    },
    {
     "name": "stderr",
     "output_type": "stream",
     "text": [
      "Epoch 330: 100%|██████████████████████████████████████████████████████████████████████████████████████████████████████████████| 76/76 [00:00<00:00, 313.35it/s]\n"
     ]
    },
    {
     "name": "stdout",
     "output_type": "stream",
     "text": [
      "Epoch 330: Loss: 0.0057\n"
     ]
    },
    {
     "name": "stderr",
     "output_type": "stream",
     "text": [
      "Epoch 331: 100%|██████████████████████████████████████████████████████████████████████████████████████████████████████████████| 76/76 [00:00<00:00, 312.71it/s]\n"
     ]
    },
    {
     "name": "stdout",
     "output_type": "stream",
     "text": [
      "Epoch 331: Loss: 0.0057\n"
     ]
    },
    {
     "name": "stderr",
     "output_type": "stream",
     "text": [
      "Epoch 332: 100%|██████████████████████████████████████████████████████████████████████████████████████████████████████████████| 76/76 [00:00<00:00, 280.61it/s]\n"
     ]
    },
    {
     "name": "stdout",
     "output_type": "stream",
     "text": [
      "Epoch 332: Loss: 0.0070\n"
     ]
    },
    {
     "name": "stderr",
     "output_type": "stream",
     "text": [
      "Epoch 333: 100%|██████████████████████████████████████████████████████████████████████████████████████████████████████████████| 76/76 [00:00<00:00, 293.83it/s]\n"
     ]
    },
    {
     "name": "stdout",
     "output_type": "stream",
     "text": [
      "Epoch 333: Loss: 0.0067\n"
     ]
    },
    {
     "name": "stderr",
     "output_type": "stream",
     "text": [
      "Epoch 334: 100%|██████████████████████████████████████████████████████████████████████████████████████████████████████████████| 76/76 [00:00<00:00, 267.11it/s]\n"
     ]
    },
    {
     "name": "stdout",
     "output_type": "stream",
     "text": [
      "Epoch 334: Loss: 0.0036\n"
     ]
    },
    {
     "name": "stderr",
     "output_type": "stream",
     "text": [
      "Epoch 335: 100%|██████████████████████████████████████████████████████████████████████████████████████████████████████████████| 76/76 [00:00<00:00, 284.14it/s]\n"
     ]
    },
    {
     "name": "stdout",
     "output_type": "stream",
     "text": [
      "Epoch 335: Loss: 0.0061\n"
     ]
    },
    {
     "name": "stderr",
     "output_type": "stream",
     "text": [
      "Epoch 336: 100%|██████████████████████████████████████████████████████████████████████████████████████████████████████████████| 76/76 [00:00<00:00, 294.60it/s]\n"
     ]
    },
    {
     "name": "stdout",
     "output_type": "stream",
     "text": [
      "Epoch 336: Loss: 0.0123\n"
     ]
    },
    {
     "name": "stderr",
     "output_type": "stream",
     "text": [
      "Epoch 337: 100%|██████████████████████████████████████████████████████████████████████████████████████████████████████████████| 76/76 [00:00<00:00, 213.53it/s]\n"
     ]
    },
    {
     "name": "stdout",
     "output_type": "stream",
     "text": [
      "Epoch 337: Loss: 0.0074\n"
     ]
    },
    {
     "name": "stderr",
     "output_type": "stream",
     "text": [
      "Epoch 338: 100%|██████████████████████████████████████████████████████████████████████████████████████████████████████████████| 76/76 [00:00<00:00, 313.92it/s]\n"
     ]
    },
    {
     "name": "stdout",
     "output_type": "stream",
     "text": [
      "Epoch 338: Loss: 0.0063\n"
     ]
    },
    {
     "name": "stderr",
     "output_type": "stream",
     "text": [
      "Epoch 339: 100%|██████████████████████████████████████████████████████████████████████████████████████████████████████████████| 76/76 [00:00<00:00, 273.20it/s]\n"
     ]
    },
    {
     "name": "stdout",
     "output_type": "stream",
     "text": [
      "Epoch 339: Loss: 0.0102\n"
     ]
    },
    {
     "name": "stderr",
     "output_type": "stream",
     "text": [
      "Epoch 340: 100%|██████████████████████████████████████████████████████████████████████████████████████████████████████████████| 76/76 [00:00<00:00, 228.79it/s]\n"
     ]
    },
    {
     "name": "stdout",
     "output_type": "stream",
     "text": [
      "Epoch 340: Loss: 0.0044\n"
     ]
    },
    {
     "name": "stderr",
     "output_type": "stream",
     "text": [
      "Epoch 341: 100%|██████████████████████████████████████████████████████████████████████████████████████████████████████████████| 76/76 [00:00<00:00, 248.84it/s]\n"
     ]
    },
    {
     "name": "stdout",
     "output_type": "stream",
     "text": [
      "Epoch 341: Loss: 0.0046\n"
     ]
    },
    {
     "name": "stderr",
     "output_type": "stream",
     "text": [
      "Epoch 342: 100%|██████████████████████████████████████████████████████████████████████████████████████████████████████████████| 76/76 [00:00<00:00, 221.03it/s]\n"
     ]
    },
    {
     "name": "stdout",
     "output_type": "stream",
     "text": [
      "Epoch 342: Loss: 0.0055\n"
     ]
    },
    {
     "name": "stderr",
     "output_type": "stream",
     "text": [
      "Epoch 343: 100%|██████████████████████████████████████████████████████████████████████████████████████████████████████████████| 76/76 [00:00<00:00, 220.48it/s]\n"
     ]
    },
    {
     "name": "stdout",
     "output_type": "stream",
     "text": [
      "Epoch 343: Loss: 0.0040\n"
     ]
    },
    {
     "name": "stderr",
     "output_type": "stream",
     "text": [
      "Epoch 344: 100%|██████████████████████████████████████████████████████████████████████████████████████████████████████████████| 76/76 [00:00<00:00, 228.12it/s]\n"
     ]
    },
    {
     "name": "stdout",
     "output_type": "stream",
     "text": [
      "Epoch 344: Loss: 0.0064\n"
     ]
    },
    {
     "name": "stderr",
     "output_type": "stream",
     "text": [
      "Epoch 345: 100%|██████████████████████████████████████████████████████████████████████████████████████████████████████████████| 76/76 [00:00<00:00, 233.71it/s]\n"
     ]
    },
    {
     "name": "stdout",
     "output_type": "stream",
     "text": [
      "Epoch 345: Loss: 0.0031\n"
     ]
    },
    {
     "name": "stderr",
     "output_type": "stream",
     "text": [
      "Epoch 346: 100%|██████████████████████████████████████████████████████████████████████████████████████████████████████████████| 76/76 [00:00<00:00, 215.33it/s]\n"
     ]
    },
    {
     "name": "stdout",
     "output_type": "stream",
     "text": [
      "Epoch 346: Loss: 0.0069\n"
     ]
    },
    {
     "name": "stderr",
     "output_type": "stream",
     "text": [
      "Epoch 347: 100%|██████████████████████████████████████████████████████████████████████████████████████████████████████████████| 76/76 [00:00<00:00, 217.10it/s]\n"
     ]
    },
    {
     "name": "stdout",
     "output_type": "stream",
     "text": [
      "Epoch 347: Loss: 0.0076\n"
     ]
    },
    {
     "name": "stderr",
     "output_type": "stream",
     "text": [
      "Epoch 348: 100%|██████████████████████████████████████████████████████████████████████████████████████████████████████████████| 76/76 [00:00<00:00, 253.25it/s]\n"
     ]
    },
    {
     "name": "stdout",
     "output_type": "stream",
     "text": [
      "Epoch 348: Loss: 0.0094\n"
     ]
    },
    {
     "name": "stderr",
     "output_type": "stream",
     "text": [
      "Epoch 349: 100%|██████████████████████████████████████████████████████████████████████████████████████████████████████████████| 76/76 [00:00<00:00, 267.70it/s]\n"
     ]
    },
    {
     "name": "stdout",
     "output_type": "stream",
     "text": [
      "Epoch 349: Loss: 0.0070\n"
     ]
    },
    {
     "name": "stderr",
     "output_type": "stream",
     "text": [
      "Epoch 350: 100%|██████████████████████████████████████████████████████████████████████████████████████████████████████████████| 76/76 [00:00<00:00, 247.14it/s]\n"
     ]
    },
    {
     "name": "stdout",
     "output_type": "stream",
     "text": [
      "Epoch 350: Loss: 0.0057\n"
     ]
    },
    {
     "name": "stderr",
     "output_type": "stream",
     "text": [
      "Epoch 351: 100%|██████████████████████████████████████████████████████████████████████████████████████████████████████████████| 76/76 [00:00<00:00, 215.05it/s]\n"
     ]
    },
    {
     "name": "stdout",
     "output_type": "stream",
     "text": [
      "Epoch 351: Loss: 0.0069\n"
     ]
    },
    {
     "name": "stderr",
     "output_type": "stream",
     "text": [
      "Epoch 352: 100%|██████████████████████████████████████████████████████████████████████████████████████████████████████████████| 76/76 [00:00<00:00, 255.58it/s]\n"
     ]
    },
    {
     "name": "stdout",
     "output_type": "stream",
     "text": [
      "Epoch 352: Loss: 0.0038\n"
     ]
    },
    {
     "name": "stderr",
     "output_type": "stream",
     "text": [
      "Epoch 353: 100%|██████████████████████████████████████████████████████████████████████████████████████████████████████████████| 76/76 [00:00<00:00, 256.61it/s]\n"
     ]
    },
    {
     "name": "stdout",
     "output_type": "stream",
     "text": [
      "Epoch 353: Loss: 0.0038\n"
     ]
    },
    {
     "name": "stderr",
     "output_type": "stream",
     "text": [
      "Epoch 354: 100%|██████████████████████████████████████████████████████████████████████████████████████████████████████████████| 76/76 [00:00<00:00, 207.68it/s]\n"
     ]
    },
    {
     "name": "stdout",
     "output_type": "stream",
     "text": [
      "Epoch 354: Loss: 0.0044\n"
     ]
    },
    {
     "name": "stderr",
     "output_type": "stream",
     "text": [
      "Epoch 355: 100%|██████████████████████████████████████████████████████████████████████████████████████████████████████████████| 76/76 [00:00<00:00, 260.55it/s]\n"
     ]
    },
    {
     "name": "stdout",
     "output_type": "stream",
     "text": [
      "Epoch 355: Loss: 0.0112\n"
     ]
    },
    {
     "name": "stderr",
     "output_type": "stream",
     "text": [
      "Epoch 356: 100%|██████████████████████████████████████████████████████████████████████████████████████████████████████████████| 76/76 [00:00<00:00, 254.49it/s]\n"
     ]
    },
    {
     "name": "stdout",
     "output_type": "stream",
     "text": [
      "Epoch 356: Loss: 0.0107\n"
     ]
    },
    {
     "name": "stderr",
     "output_type": "stream",
     "text": [
      "Epoch 357: 100%|██████████████████████████████████████████████████████████████████████████████████████████████████████████████| 76/76 [00:00<00:00, 268.41it/s]\n"
     ]
    },
    {
     "name": "stdout",
     "output_type": "stream",
     "text": [
      "Epoch 357: Loss: 0.0049\n"
     ]
    },
    {
     "name": "stderr",
     "output_type": "stream",
     "text": [
      "Epoch 358:  79%|██████████████████████████████████████████████████████████████████████████████████████▊                       | 60/76 [00:00<00:00, 259.30it/s]\n"
     ]
    },
    {
     "ename": "KeyboardInterrupt",
     "evalue": "",
     "output_type": "error",
     "traceback": [
      "\u001b[0;31m---------------------------------------------------------------------------\u001b[0m",
      "\u001b[0;31mKeyboardInterrupt\u001b[0m                         Traceback (most recent call last)",
      "Cell \u001b[0;32mIn[31], line 18\u001b[0m\n\u001b[1;32m     16\u001b[0m output_loss \u001b[38;5;241m=\u001b[39m loss(output, anns)\n\u001b[1;32m     17\u001b[0m adam\u001b[38;5;241m.\u001b[39mzero_grad()\n\u001b[0;32m---> 18\u001b[0m output_loss\u001b[38;5;241m.\u001b[39mbackward()\n\u001b[1;32m     19\u001b[0m adam\u001b[38;5;241m.\u001b[39mstep()\n\u001b[1;32m     20\u001b[0m epoch_loss \u001b[38;5;241m+\u001b[39m\u001b[38;5;241m=\u001b[39m output_loss\u001b[38;5;241m.\u001b[39mitem() \u001b[38;5;241m*\u001b[39m seqs\u001b[38;5;241m.\u001b[39msize(\u001b[38;5;241m0\u001b[39m) \u001b[38;5;66;03m#batch size scaling\u001b[39;00m\n",
      "File \u001b[0;32m/opt/homebrew/Caskroom/miniconda/base/envs/radwatch/lib/python3.12/site-packages/torch/_tensor.py:648\u001b[0m, in \u001b[0;36mTensor.backward\u001b[0;34m(self, gradient, retain_graph, create_graph, inputs)\u001b[0m\n\u001b[1;32m    638\u001b[0m \u001b[38;5;28;01mif\u001b[39;00m has_torch_function_unary(\u001b[38;5;28mself\u001b[39m):\n\u001b[1;32m    639\u001b[0m     \u001b[38;5;28;01mreturn\u001b[39;00m handle_torch_function(\n\u001b[1;32m    640\u001b[0m         Tensor\u001b[38;5;241m.\u001b[39mbackward,\n\u001b[1;32m    641\u001b[0m         (\u001b[38;5;28mself\u001b[39m,),\n\u001b[0;32m   (...)\u001b[0m\n\u001b[1;32m    646\u001b[0m         inputs\u001b[38;5;241m=\u001b[39minputs,\n\u001b[1;32m    647\u001b[0m     )\n\u001b[0;32m--> 648\u001b[0m torch\u001b[38;5;241m.\u001b[39mautograd\u001b[38;5;241m.\u001b[39mbackward(\n\u001b[1;32m    649\u001b[0m     \u001b[38;5;28mself\u001b[39m, gradient, retain_graph, create_graph, inputs\u001b[38;5;241m=\u001b[39minputs\n\u001b[1;32m    650\u001b[0m )\n",
      "File \u001b[0;32m/opt/homebrew/Caskroom/miniconda/base/envs/radwatch/lib/python3.12/site-packages/torch/autograd/__init__.py:353\u001b[0m, in \u001b[0;36mbackward\u001b[0;34m(tensors, grad_tensors, retain_graph, create_graph, grad_variables, inputs)\u001b[0m\n\u001b[1;32m    348\u001b[0m     retain_graph \u001b[38;5;241m=\u001b[39m create_graph\n\u001b[1;32m    350\u001b[0m \u001b[38;5;66;03m# The reason we repeat the same comment below is that\u001b[39;00m\n\u001b[1;32m    351\u001b[0m \u001b[38;5;66;03m# some Python versions print out the first line of a multi-line function\u001b[39;00m\n\u001b[1;32m    352\u001b[0m \u001b[38;5;66;03m# calls in the traceback and some print out the last line\u001b[39;00m\n\u001b[0;32m--> 353\u001b[0m _engine_run_backward(\n\u001b[1;32m    354\u001b[0m     tensors,\n\u001b[1;32m    355\u001b[0m     grad_tensors_,\n\u001b[1;32m    356\u001b[0m     retain_graph,\n\u001b[1;32m    357\u001b[0m     create_graph,\n\u001b[1;32m    358\u001b[0m     inputs,\n\u001b[1;32m    359\u001b[0m     allow_unreachable\u001b[38;5;241m=\u001b[39m\u001b[38;5;28;01mTrue\u001b[39;00m,\n\u001b[1;32m    360\u001b[0m     accumulate_grad\u001b[38;5;241m=\u001b[39m\u001b[38;5;28;01mTrue\u001b[39;00m,\n\u001b[1;32m    361\u001b[0m )\n",
      "File \u001b[0;32m/opt/homebrew/Caskroom/miniconda/base/envs/radwatch/lib/python3.12/site-packages/torch/autograd/graph.py:824\u001b[0m, in \u001b[0;36m_engine_run_backward\u001b[0;34m(t_outputs, *args, **kwargs)\u001b[0m\n\u001b[1;32m    822\u001b[0m     unregister_hooks \u001b[38;5;241m=\u001b[39m _register_logging_hooks_on_whole_graph(t_outputs)\n\u001b[1;32m    823\u001b[0m \u001b[38;5;28;01mtry\u001b[39;00m:\n\u001b[0;32m--> 824\u001b[0m     \u001b[38;5;28;01mreturn\u001b[39;00m Variable\u001b[38;5;241m.\u001b[39m_execution_engine\u001b[38;5;241m.\u001b[39mrun_backward(  \u001b[38;5;66;03m# Calls into the C++ engine to run the backward pass\u001b[39;00m\n\u001b[1;32m    825\u001b[0m         t_outputs, \u001b[38;5;241m*\u001b[39margs, \u001b[38;5;241m*\u001b[39m\u001b[38;5;241m*\u001b[39mkwargs\n\u001b[1;32m    826\u001b[0m     )  \u001b[38;5;66;03m# Calls into the C++ engine to run the backward pass\u001b[39;00m\n\u001b[1;32m    827\u001b[0m \u001b[38;5;28;01mfinally\u001b[39;00m:\n\u001b[1;32m    828\u001b[0m     \u001b[38;5;28;01mif\u001b[39;00m attach_logging_hooks:\n",
      "\u001b[0;31mKeyboardInterrupt\u001b[0m: "
     ]
    }
   ],
   "source": [
    "\n",
    "#use TensorDatset, DataLoader from torch utils\n",
    "\n",
    "batch_size = 8\n",
    "train_dataset = TensorDataset(x_train_tensor, y_train_tensor)\n",
    "train_loader = DataLoader(train_dataset, batch_size=batch_size, shuffle=True, drop_last=True)\n",
    "#dropping last bc we are using batchnorm, so it needs >1 batch size \n",
    "\n",
    "for epoch in range(500):\n",
    "    model.train()\n",
    "    epoch_loss = 0.0\n",
    "\n",
    "    for seqs, anns in tqdm(train_loader, desc=f\"Epoch {epoch+1}\"):\n",
    "        seqs = seqs.to(device)\n",
    "        anns = anns.to(device)\n",
    "        output = model(seqs)\n",
    "        output_loss = loss(output, anns)\n",
    "        adam.zero_grad()\n",
    "        output_loss.backward()\n",
    "        adam.step()\n",
    "        epoch_loss += output_loss.item() * seqs.size(0) #batch size scaling\n",
    "    avg_loss = epoch_loss / len(train_dataset)\n",
    "    #scheduler.step()\n",
    "    print(f\"Epoch {epoch+1}: Loss: {avg_loss:.4f}\")\n",
    "\n",
    "\n",
    "\n"
   ]
  },
  {
   "cell_type": "code",
   "execution_count": 32,
   "id": "a7407531-763b-4936-b491-d851ddf6a0df",
   "metadata": {},
   "outputs": [
    {
     "data": {
      "text/plain": [
       "84.31372549019608"
      ]
     },
     "execution_count": 32,
     "metadata": {},
     "output_type": "execute_result"
    }
   ],
   "source": [
    "test_dataset = TensorDataset(x_test_tensor, y_test_tensor)\n",
    "test_loader = DataLoader(test_dataset, batch_size=batch_size, shuffle=False)\n",
    "#dropping last bc we are using batchnorm, so it needs >1 batch size \n",
    "\n",
    "all_predictions = []\n",
    "all_targets = []\n",
    "def accuracy():\n",
    "    model.eval()\n",
    "    correct = 0\n",
    "    total = 0\n",
    "\n",
    "\n",
    "    with torch.no_grad():\n",
    "        for inputs, targets in test_loader:\n",
    "            inputs, targets = inputs.to(device), targets.to(device)\n",
    "            outputs = model(inputs) #model predictions [batch_size, 9]\n",
    "            values, predicted = torch.max(outputs.data, 1)\n",
    "            #values has highest score for each sample in batch\n",
    "            #the predicted part has the classes w/ highest score for each sample\n",
    "            total += targets.size(0) #add batch size\n",
    "            correct += (predicted == targets).sum().item()\n",
    "\n",
    "            #for classification report\n",
    "            all_predictions.extend(predicted.cpu().numpy())\n",
    "            all_targets.extend(targets.cpu().numpy())\n",
    "    return 100 * correct/total\n",
    "\n",
    "accuracy()"
   ]
  },
  {
   "cell_type": "code",
   "execution_count": null,
   "id": "abfcc452-cc7c-4892-916e-db6b11a6d763",
   "metadata": {},
   "outputs": [],
   "source": []
  },
  {
   "cell_type": "code",
   "execution_count": 33,
   "id": "ec8fff42-d92b-4933-835c-19c87f8de428",
   "metadata": {},
   "outputs": [
    {
     "name": "stdout",
     "output_type": "stream",
     "text": [
      "              precision    recall  f1-score   support\n",
      "\n",
      "           A       0.86      0.94      0.90        53\n",
      "          A2       0.77      0.83      0.80        12\n",
      "           B       0.92      0.84      0.88        55\n",
      "          B2       0.56      0.83      0.67        12\n",
      "           C       0.91      0.67      0.77        15\n",
      "          C2       1.00      0.50      0.67         6\n",
      "\n",
      "    accuracy                           0.84       153\n",
      "   macro avg       0.84      0.77      0.78       153\n",
      "weighted avg       0.86      0.84      0.84       153\n",
      "\n"
     ]
    }
   ],
   "source": [
    "\n",
    "from sklearn.metrics import classification_report\n",
    "import numpy as np\n",
    "\n",
    "\n",
    "class_names = ['A', 'A2', 'B','B2', 'C','C2']\n",
    "print(classification_report(all_targets, all_predictions, target_names=class_names))"
   ]
  },
  {
   "cell_type": "code",
   "execution_count": null,
   "id": "5337d3d3-307b-471b-821f-5c9d65f4d3c5",
   "metadata": {},
   "outputs": [],
   "source": []
  },
  {
   "cell_type": "code",
   "execution_count": 34,
   "id": "c486818f-cea6-4ab6-acc6-d3274ad38a1d",
   "metadata": {},
   "outputs": [
    {
     "data": {
      "text/plain": [
       "'\\nvalid_keys = set(annotation_enumerated.keys())\\nis_valid = ccad_filtered[\"kr_type_annotation\"].isin(valid_keys)\\n\\n\\nremoved_indices = ccad_filtered.index[~is_valid].tolist()\\n\\n\\nccad_filtered = ccad_filtered[is_valid].reset_index(drop=True)\\nccad_filtered_embeddings = [\\n    emb for i, emb in enumerate(ccad_filtered_embeddings) if i not in removed_indices\\n]\\n\\n\\nccad_embeddings = torch.stack(ccad_filtered_embeddings)\\n\\n\\nccad_filtered[\"AnnotationEnumerated\"] = ccad_filtered[\"kr_type_annotation\"].map(annotation_enumerated)\\n\\n\\nccad_filtered_np = ccad_filtered[\"AnnotationEnumerated\"].to_list()\\nccad_filtered_tensor = torch.tensor(ccad_filtered_np, dtype=torch.long)\\n\\n\\nprint(\"Removed row indices:\", removed_indices)\\n'"
      ]
     },
     "execution_count": 34,
     "metadata": {},
     "output_type": "execute_result"
    }
   ],
   "source": [
    "import pandas as pd\n",
    "import torch\n",
    "\n",
    "\n",
    "ccad_filtered = pd.read_csv(\"clustercad_filtered.csv\")\n",
    "ccad_filtered_embeddings = torch.load(\"filtered_ccad_embeddings.pt\")\n",
    "ccad_filtered_embeddings = [x.mean(dim=1).squeeze(0) for x in ccad_filtered_embeddings]\n",
    "\n",
    "'''\n",
    "valid_keys = set(annotation_enumerated.keys())\n",
    "is_valid = ccad_filtered[\"kr_type_annotation\"].isin(valid_keys)\n",
    "\n",
    "\n",
    "removed_indices = ccad_filtered.index[~is_valid].tolist()\n",
    "\n",
    "\n",
    "ccad_filtered = ccad_filtered[is_valid].reset_index(drop=True)\n",
    "ccad_filtered_embeddings = [\n",
    "    emb for i, emb in enumerate(ccad_filtered_embeddings) if i not in removed_indices\n",
    "]\n",
    "\n",
    "\n",
    "ccad_embeddings = torch.stack(ccad_filtered_embeddings)\n",
    "\n",
    "\n",
    "ccad_filtered[\"AnnotationEnumerated\"] = ccad_filtered[\"kr_type_annotation\"].map(annotation_enumerated)\n",
    "\n",
    "\n",
    "ccad_filtered_np = ccad_filtered[\"AnnotationEnumerated\"].to_list()\n",
    "ccad_filtered_tensor = torch.tensor(ccad_filtered_np, dtype=torch.long)\n",
    "\n",
    "\n",
    "print(\"Removed row indices:\", removed_indices)\n",
    "'''\n"
   ]
  },
  {
   "cell_type": "code",
   "execution_count": null,
   "id": "1945cd75-824c-47a1-98b8-ba4719215d19",
   "metadata": {},
   "outputs": [],
   "source": []
  },
  {
   "cell_type": "code",
   "execution_count": null,
   "id": "a5d841f4-4f20-48c0-a49b-4d38ea6c7a92",
   "metadata": {},
   "outputs": [],
   "source": []
  },
  {
   "cell_type": "code",
   "execution_count": null,
   "id": "0c24891e-8353-4136-a790-18ee72a44287",
   "metadata": {},
   "outputs": [],
   "source": []
  }
 ],
 "metadata": {
  "kernelspec": {
   "display_name": "radwatch",
   "language": "python",
   "name": "radwatch"
  },
  "language_info": {
   "codemirror_mode": {
    "name": "ipython",
    "version": 3
   },
   "file_extension": ".py",
   "mimetype": "text/x-python",
   "name": "python",
   "nbconvert_exporter": "python",
   "pygments_lexer": "ipython3",
   "version": "3.12.7"
  }
 },
 "nbformat": 4,
 "nbformat_minor": 5
}
